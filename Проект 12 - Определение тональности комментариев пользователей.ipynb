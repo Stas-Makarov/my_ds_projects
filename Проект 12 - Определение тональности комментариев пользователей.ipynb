{
 "cells": [
  {
   "cell_type": "markdown",
   "metadata": {},
   "source": [
    "# Прототип модели поиска токсичных комментариев для интернет-магазина \"Викишоп\"."
   ]
  },
  {
   "cell_type": "markdown",
   "metadata": {},
   "source": [
    "Задача - построить модель со значением метрики качества F1 не меньше 0,75."
   ]
  },
  {
   "cell_type": "markdown",
   "metadata": {},
   "source": [
    "______\n",
    "\n",
    "#### Данное исследование разделим на несколько частей.\n",
    "______________________\n",
    "### Часть 1: Подготовка данных\n",
    "* [1. Загрузка библиотек, загрузка данных и получение общей информации.](#1-bullet)\n",
    "* [2. Предобработка данных: лемматизация и очистка текста.](#2-bullet)\n",
    "* [3. Разделение данных на обучающую, валидационную и тестовую выборки, выделение целевого признака.](#3-bullet)\n",
    "* [4. Векторизация текста, удаление стоп-слов.](#4-bullet)\n",
    "\n",
    "### Часть 2: Обучение моделей\n",
    "* [1. Поиск и обучение лучшей модели с различными гиперпараметрами на на валидационной выборке на основании метрики F1.](#5-bullet)\n",
    "* [2. Проверка моделей на тестовой выборке.](#6-bullet)\n",
    "\n",
    "### Часть 3: Выводы\n",
    "* [1. Выводы о работе моделей.](#7-bullet)"
   ]
  },
  {
   "cell_type": "markdown",
   "metadata": {},
   "source": [
    "#### Описание данных\n",
    "\n",
    "- text - текст комментария\n",
    "- toxic - целевой признак."
   ]
  },
  {
   "cell_type": "markdown",
   "metadata": {},
   "source": [
    "#### 1-bullet \n",
    "#### Часть 1: Подготовка данных\n",
    "1. Загрузка библиотек, загрузка данных и получение общей информации."
   ]
  },
  {
   "cell_type": "code",
   "execution_count": 2,
   "metadata": {},
   "outputs": [],
   "source": [
    "# загрузим необходимые библиотеки\n",
    "import pandas as pd\n",
    "import numpy as np\n",
    "from sklearn.model_selection import train_test_split\n",
    "import nltk\n",
    "from nltk.corpus import PlaintextCorpusReader\n",
    "from nltk import sent_tokenize, word_tokenize, pos_tag\n",
    "from nltk.stem import WordNetLemmatizer\n",
    "import re\n",
    "from sklearn.feature_extraction.text import CountVectorizer\n",
    "from sklearn.feature_extraction.text import TfidfVectorizer\n",
    "from nltk.corpus import stopwords as nltk_stopwords\n",
    "from sklearn.tree import DecisionTreeClassifier\n",
    "from catboost import CatBoostClassifier\n",
    "from sklearn.linear_model import LogisticRegression\n",
    "from sklearn.metrics import f1_score\n",
    "from matplotlib import pyplot as plt"
   ]
  },
  {
   "cell_type": "code",
   "execution_count": 3,
   "metadata": {},
   "outputs": [
    {
     "name": "stdout",
     "output_type": "stream",
     "text": [
      "<class 'pandas.core.frame.DataFrame'>\n",
      "RangeIndex: 159571 entries, 0 to 159570\n",
      "Data columns (total 2 columns):\n",
      "text     159571 non-null object\n",
      "toxic    159571 non-null int64\n",
      "dtypes: int64(1), object(1)\n",
      "memory usage: 2.4+ MB\n"
     ]
    },
    {
     "data": {
      "text/plain": [
       "None"
      ]
     },
     "metadata": {},
     "output_type": "display_data"
    },
    {
     "data": {
      "text/html": [
       "<div>\n",
       "<style scoped>\n",
       "    .dataframe tbody tr th:only-of-type {\n",
       "        vertical-align: middle;\n",
       "    }\n",
       "\n",
       "    .dataframe tbody tr th {\n",
       "        vertical-align: top;\n",
       "    }\n",
       "\n",
       "    .dataframe thead th {\n",
       "        text-align: right;\n",
       "    }\n",
       "</style>\n",
       "<table border=\"1\" class=\"dataframe\">\n",
       "  <thead>\n",
       "    <tr style=\"text-align: right;\">\n",
       "      <th></th>\n",
       "      <th>text</th>\n",
       "      <th>toxic</th>\n",
       "    </tr>\n",
       "  </thead>\n",
       "  <tbody>\n",
       "    <tr>\n",
       "      <td>0</td>\n",
       "      <td>Explanation\\nWhy the edits made under my usern...</td>\n",
       "      <td>0</td>\n",
       "    </tr>\n",
       "    <tr>\n",
       "      <td>1</td>\n",
       "      <td>D'aww! He matches this background colour I'm s...</td>\n",
       "      <td>0</td>\n",
       "    </tr>\n",
       "    <tr>\n",
       "      <td>2</td>\n",
       "      <td>Hey man, I'm really not trying to edit war. It...</td>\n",
       "      <td>0</td>\n",
       "    </tr>\n",
       "    <tr>\n",
       "      <td>3</td>\n",
       "      <td>\"\\nMore\\nI can't make any real suggestions on ...</td>\n",
       "      <td>0</td>\n",
       "    </tr>\n",
       "    <tr>\n",
       "      <td>4</td>\n",
       "      <td>You, sir, are my hero. Any chance you remember...</td>\n",
       "      <td>0</td>\n",
       "    </tr>\n",
       "  </tbody>\n",
       "</table>\n",
       "</div>"
      ],
      "text/plain": [
       "                                                text  toxic\n",
       "0  Explanation\\nWhy the edits made under my usern...      0\n",
       "1  D'aww! He matches this background colour I'm s...      0\n",
       "2  Hey man, I'm really not trying to edit war. It...      0\n",
       "3  \"\\nMore\\nI can't make any real suggestions on ...      0\n",
       "4  You, sir, are my hero. Any chance you remember...      0"
      ]
     },
     "metadata": {},
     "output_type": "display_data"
    }
   ],
   "source": [
    "# прочитаем файл с данными и получим обущую информацию\n",
    "df = pd.read_csv('/datasets/toxic_comments.csv')\n",
    "display(df.info())\n",
    "display(df.head())"
   ]
  },
  {
   "cell_type": "markdown",
   "metadata": {},
   "source": [
    "- загрузили необходимые бибилотеки, прочитали файл с данными и получили общую информацию: датасет состоит из 2 столбцов: текста и классификации токсичности текста и 159591 наблюдений. пропусков не имеется."
   ]
  },
  {
   "cell_type": "markdown",
   "metadata": {},
   "source": [
    "#### 2-bullet \n",
    "#### Часть 1: Подготовка данных\n",
    "2. Предобработка данных: лемматизация и очистка текста."
   ]
  },
  {
   "cell_type": "markdown",
   "metadata": {},
   "source": [
    "- начнем с очистки текста от лишних символов."
   ]
  },
  {
   "cell_type": "code",
   "execution_count": 4,
   "metadata": {},
   "outputs": [],
   "source": [
    "# объявим функцию, которая на вход принимает текст, \n",
    "# а возвращает очищенный текст\n",
    "def clear_text(text):\n",
    "    text = re.sub(r'[^a-zA-Z]', ' ', text)\n",
    "    return \" \".join(text.split())"
   ]
  },
  {
   "cell_type": "code",
   "execution_count": 5,
   "metadata": {},
   "outputs": [],
   "source": [
    "# применим функцию к столбцу с текстом\n",
    "df['text'] = df['text'].apply(clear_text)"
   ]
  },
  {
   "cell_type": "markdown",
   "metadata": {},
   "source": [
    "- далее лемматизируем текст: поскольку текст на английском языке, то используем лемматизатор из NLTK."
   ]
  },
  {
   "cell_type": "code",
   "execution_count": 6,
   "metadata": {},
   "outputs": [],
   "source": [
    "# объявим функцию лемматизации, которая на вход будет получать\n",
    "# текст, а возвращать лемматзированный текст.\n",
    "def lemmatize(text):\n",
    "    wordnet_lemmatizer = WordNetLemmatizer()\n",
    "    return ''.join(wordnet_lemmatizer.lemmatize(text))"
   ]
  },
  {
   "cell_type": "code",
   "execution_count": 7,
   "metadata": {},
   "outputs": [],
   "source": [
    "# применим функцию к столбцу с текстом\n",
    "df['text'] = df['text'].apply(lemmatize)"
   ]
  },
  {
   "cell_type": "markdown",
   "metadata": {},
   "source": [
    "#### 3-bullet \n",
    "#### Часть 1: Подготовка данных\n",
    "3. Разделение данных на обучающую, валидационную и тестовую выборки, выделение целевого признака."
   ]
  },
  {
   "cell_type": "code",
   "execution_count": 9,
   "metadata": {},
   "outputs": [],
   "source": [
    "# выделим целевой признак и признаки\n",
    "target = df['toxic']\n",
    "features = df['text']\n",
    "\n",
    "# сохраним значение параметра random_state в переменной \n",
    "my_random_state = 123\n",
    "\n",
    "# разделим на две выборки: на тестовую и для обучения с валидацией\n",
    "features_train_valid, features_test, target_train_valid, target_test = (\n",
    "                train_test_split(features, target, test_size=0.20, \n",
    "                                 random_state=my_random_state))\n",
    "\n",
    "# разделим на две выборки обучающую с валидационной выборку\n",
    "features_train, features_valid, target_train, target_valid = (\n",
    "          train_test_split(features_train_valid, target_train_valid, \n",
    "                           test_size=0.25, random_state=my_random_state))"
   ]
  },
  {
   "cell_type": "markdown",
   "metadata": {},
   "source": [
    "- провели разбиение выборок на обучающую, валидационную и тестовую в соотношении 3:1:1."
   ]
  },
  {
   "cell_type": "markdown",
   "metadata": {},
   "source": [
    "#### 4-bullet \n",
    "#### Часть 1: Подготовка данных\n",
    "4. Векторизация текста, удаление стоп-слов."
   ]
  },
  {
   "cell_type": "markdown",
   "metadata": {},
   "source": [
    "- преборазуем текст в векторы и очистим от стоп-слов, т.е. слов без смысловой нагрузки."
   ]
  },
  {
   "cell_type": "code",
   "execution_count": 10,
   "metadata": {},
   "outputs": [],
   "source": [
    "# объявим функцию, которая на вход будет принимать обучающую выборку\n",
    "# и тестовую выборку, а возвращать будет обученную обучающую выборку \n",
    "# и просто векторизированную тестовую выборку\n",
    "def vectorize_features(features_train, features_test):\n",
    "    # создадим корпус текстов\n",
    "    features_train = features_train.astype('U').values\n",
    "    features_test = features_test.astype('U').values\n",
    "    \n",
    "    # загрузим список стоп-слов на английском языке\n",
    "    # и передадим его в список векторов\n",
    "    nltk.download('stopwords')\n",
    "    stopwords = set(nltk_stopwords.words('english'))\n",
    "    count_tf_idf = TfidfVectorizer(stop_words=stopwords)\n",
    "\n",
    "    # рассчитаем tf_idf текста\n",
    "    tf_idf_train = count_tf_idf.fit_transform(features_train)\n",
    "    tf_idf_test = count_tf_idf.transform(features_test)\n",
    "    return tf_idf_train, tf_idf_test"
   ]
  },
  {
   "cell_type": "code",
   "execution_count": 11,
   "metadata": {},
   "outputs": [
    {
     "name": "stderr",
     "output_type": "stream",
     "text": [
      "[nltk_data] Downloading package stopwords to /home/jovyan/nltk_data...\n",
      "[nltk_data]   Package stopwords is already up-to-date!\n"
     ]
    }
   ],
   "source": [
    "# применим функцию к обучающей и валидационной выборкам\n",
    "(features_train, \n",
    " features_valid) = vectorize_features(features_train, \n",
    "                                      features_valid)"
   ]
  },
  {
   "cell_type": "code",
   "execution_count": 12,
   "metadata": {},
   "outputs": [
    {
     "name": "stderr",
     "output_type": "stream",
     "text": [
      "[nltk_data] Downloading package stopwords to /home/jovyan/nltk_data...\n",
      "[nltk_data]   Package stopwords is already up-to-date!\n"
     ]
    }
   ],
   "source": [
    "# применим функцию к обучающей с валидационной и тестовой выборкам\n",
    "(features_train_valid, \n",
    " features_test) = vectorize_features(features_train_valid, \n",
    "                                     features_test)"
   ]
  },
  {
   "cell_type": "markdown",
   "metadata": {},
   "source": [
    "#### 5-bullet \n",
    "Часть 2: Обучение моделей\n",
    "1. Поиск и обучение лучшей модели с различными гиперпараметрами на на валидационной выборке на основании метрики F1."
   ]
  },
  {
   "cell_type": "markdown",
   "metadata": {},
   "source": [
    "- попробуем найти в цикле гиперпараметр для модели решающего дерева."
   ]
  },
  {
   "cell_type": "code",
   "execution_count": 12,
   "metadata": {},
   "outputs": [
    {
     "name": "stdout",
     "output_type": "stream",
     "text": [
      "F1-мера наилучшей модели на валидационной выборке: 0.6399484950909383 Максимальная глубина: 40\n"
     ]
    }
   ],
   "source": [
    "# создадим цикл, который будет перебирать гиперпараметр \n",
    "# максимальной глубины дерева, возьмем от 5 до 60 \n",
    "\n",
    "best_model = None\n",
    "best_result = 0\n",
    "for depth in range(5, 61, 5):\n",
    "    # сохраним модель решающего дерева    \n",
    "    model = DecisionTreeClassifier(random_state=my_random_state, \n",
    "                                   max_depth=depth, class_weight='balanced') \n",
    "    model.fit(features_train, target_train) # обучим модель\n",
    "    # получим предсказания модели по валидационной выборке\n",
    "    predicted = model.predict(features_valid) \n",
    "    result = f1_score(target_valid, predicted) # получим качество модели\n",
    "    \n",
    "    # найдем наилучшую модель\n",
    "    if result > best_result:\n",
    "        best_model = model\n",
    "        best_result = result\n",
    "        best_depth = depth\n",
    "        \n",
    "# выведем на экран наилучшее качество модели и глубину\n",
    "print('F1-мера наилучшей модели на валидационной выборке:', best_result, \n",
    "      \"Максимальная глубина:\", best_depth)"
   ]
  },
  {
   "cell_type": "markdown",
   "metadata": {},
   "source": [
    "- получили F1-мера наилучшей модели на валидационной выборке: 0.6514813634915578 при максимальной глубине: 40.\n",
    "- далее найдем в цикле один гиперпараметр (количество итераций) для модели CatBoost (один гиперпараметр, чтобы съэкономить время)."
   ]
  },
  {
   "cell_type": "code",
   "execution_count": null,
   "metadata": {},
   "outputs": [
    {
     "name": "stdout",
     "output_type": "stream",
     "text": [
      "Learning rate set to 0.473998\n"
     ]
    }
   ],
   "source": [
    "# создадим цикл, где будем перебирать гиперпараметры \n",
    "# количества итераций от 100 до 400 с шагом в 100\n",
    "\n",
    "best_model = None\n",
    "best_result = 0\n",
    "for iteration in range(100, 401, 100):\n",
    "    # сохраним модель случайный лес с искомыми гиперпараметрами\n",
    "    model = CatBoostClassifier(loss_function=\"Logloss\", \n",
    "                               iterations=iteration)\n",
    "    model.fit(features_train, target_train) # обучим модель\n",
    "    # получим предсказания по валидационной и обуч-й выборкам \n",
    "    predicted_valid = model.predict(features_valid) \n",
    "    # найдем значения метрики         \n",
    "    result_1 = f1_score(target_valid, predicted_valid)\n",
    "                \n",
    "    # найдем лучшую модель\n",
    "    if result_1 > best_result:\n",
    "        best_model = model\n",
    "        best_result = result_1\n",
    "        best_iteration = iteration     \n",
    "            \n",
    "# выведем на экран качество лучшей модели, количество деревьев и глубина\n",
    "print(\"F1-мера наилучшей модели на валидационной выборке:\", best_result, \n",
    "      \"Количество итераций:\", best_iteration)"
   ]
  },
  {
   "cell_type": "markdown",
   "metadata": {},
   "source": [
    "- получили F1-мера наилучшей модели на валидационной выборке: 0.7311598075895244 Количество итераций: 300.\n",
    "- далее найдем значение метрики на валидационной выборке для логистической регрессии, при этом зададим дополнительный агрумент: придадим меньшему классу больший вес найдем лучший параметр регуляризации."
   ]
  },
  {
   "cell_type": "code",
   "execution_count": null,
   "metadata": {},
   "outputs": [],
   "source": [
    "# создадим цикл, который будет перебирать гиперпараметр C,\n",
    "# который контролирует регуляризацию, возьмем от 1 до 10\n",
    "\n",
    "best_model = None\n",
    "best_result = 0\n",
    "for regularization in range(1, 11):\n",
    "    # сохраним модель решающего дерева    \n",
    "    model = LogisticRegression(random_state=my_random_state, \n",
    "                               class_weight='balanced', \n",
    "                               solver = 'liblinear', \n",
    "                               C = regularization)  \n",
    "    model.fit(features_train, target_train) # обучим модель\n",
    "    # получим предсказания модели по валидационной выборке\n",
    "    predicted = model.predict(features_valid) \n",
    "    result = f1_score(target_valid, predicted) # получим качество модели\n",
    "    \n",
    "    # найдем наилучшую модель\n",
    "    if result > best_result:\n",
    "        best_model = model\n",
    "        best_result = result\n",
    "        best_regularization = regularization\n",
    "        \n",
    "# выведем на экран наилучшее качество модели и глубину\n",
    "print('F1-мера наилучшей модели на валидационной выборке:', best_result, \n",
    "      \"С:\", best_regularization)"
   ]
  },
  {
   "cell_type": "markdown",
   "metadata": {},
   "source": [
    "- получили F1-мера наилучшей модели на валидационной выборке: 0.7788937614938464, С: 8"
   ]
  },
  {
   "cell_type": "markdown",
   "metadata": {},
   "source": [
    "#### 6-bullet \n",
    "#### Часть 2: Обучение моделей\n",
    "2. Проверка моделей на тестовой выборке."
   ]
  },
  {
   "cell_type": "markdown",
   "metadata": {},
   "source": [
    "- обучим модель решающего дерева с полученным гиперпараметров и протестируем на тестовой выборке."
   ]
  },
  {
   "cell_type": "code",
   "execution_count": 13,
   "metadata": {},
   "outputs": [
    {
     "name": "stdout",
     "output_type": "stream",
     "text": [
      "F1-мера модели на тестовой выборке: 0.652297410192147\n"
     ]
    }
   ],
   "source": [
    "# постороим модель решающего дерева, придав классам\n",
    "# равное значение                        \n",
    "model = DecisionTreeClassifier(random_state=my_random_state, \n",
    "                               max_depth=40, class_weight='balanced')\n",
    "# обучим моедль и получим предсказания\n",
    "model.fit(features_train_valid, target_train_valid)\n",
    "predicted_test = model.predict(features_test)\n",
    "result_1 = f1_score(target_test, predicted_test)\n",
    "\n",
    "# выведем на экран значение метрики\n",
    "print(\"F1-мера модели на тестовой выборке:\", result_1)"
   ]
  },
  {
   "cell_type": "markdown",
   "metadata": {},
   "source": [
    "- получили метрику F1 на тестовой выборке: 0.652297410192147, что не соответствует поставленной задаче.\n",
    "- далее аналогично протестируем CatBoost."
   ]
  },
  {
   "cell_type": "code",
   "execution_count": 14,
   "metadata": {},
   "outputs": [
    {
     "name": "stdout",
     "output_type": "stream",
     "text": [
      "Learning rate set to 0.193205\n",
      "0:\tlearn: 0.5134983\ttotal: 6.52s\tremaining: 32m 29s\n",
      "1:\tlearn: 0.4058196\ttotal: 11.8s\tremaining: 29m 20s\n",
      "2:\tlearn: 0.3435047\ttotal: 17.1s\tremaining: 28m 14s\n",
      "3:\tlearn: 0.3034896\ttotal: 22.3s\tremaining: 27m 31s\n",
      "4:\tlearn: 0.2774395\ttotal: 27.5s\tremaining: 27m 3s\n",
      "5:\tlearn: 0.2612806\ttotal: 32.8s\tremaining: 26m 47s\n",
      "6:\tlearn: 0.2497573\ttotal: 38s\tremaining: 26m 30s\n",
      "7:\tlearn: 0.2402403\ttotal: 43.3s\tremaining: 26m 20s\n",
      "8:\tlearn: 0.2342623\ttotal: 48.6s\tremaining: 26m 11s\n",
      "9:\tlearn: 0.2295285\ttotal: 53.8s\tremaining: 26m\n",
      "10:\tlearn: 0.2246691\ttotal: 59.1s\tremaining: 25m 52s\n",
      "11:\tlearn: 0.2214257\ttotal: 1m 4s\tremaining: 25m 45s\n",
      "12:\tlearn: 0.2180768\ttotal: 1m 9s\tremaining: 25m 36s\n",
      "13:\tlearn: 0.2157396\ttotal: 1m 14s\tremaining: 25m 29s\n",
      "14:\tlearn: 0.2137742\ttotal: 1m 20s\tremaining: 25m 22s\n",
      "15:\tlearn: 0.2118208\ttotal: 1m 25s\tremaining: 25m 15s\n",
      "16:\tlearn: 0.2093336\ttotal: 1m 30s\tremaining: 25m 13s\n",
      "17:\tlearn: 0.2075891\ttotal: 1m 36s\tremaining: 25m 8s\n",
      "18:\tlearn: 0.2051591\ttotal: 1m 41s\tremaining: 25m 2s\n",
      "19:\tlearn: 0.2036514\ttotal: 1m 46s\tremaining: 24m 55s\n",
      "20:\tlearn: 0.2019401\ttotal: 1m 52s\tremaining: 24m 49s\n",
      "21:\tlearn: 0.2003906\ttotal: 1m 57s\tremaining: 24m 43s\n",
      "22:\tlearn: 0.1989561\ttotal: 2m 2s\tremaining: 24m 38s\n",
      "23:\tlearn: 0.1978659\ttotal: 2m 8s\tremaining: 24m 32s\n",
      "24:\tlearn: 0.1954694\ttotal: 2m 13s\tremaining: 24m 31s\n",
      "25:\tlearn: 0.1941761\ttotal: 2m 19s\tremaining: 24m 25s\n",
      "26:\tlearn: 0.1929971\ttotal: 2m 24s\tremaining: 24m 18s\n",
      "27:\tlearn: 0.1919479\ttotal: 2m 29s\tremaining: 24m 12s\n",
      "28:\tlearn: 0.1904864\ttotal: 2m 34s\tremaining: 24m 7s\n",
      "29:\tlearn: 0.1893767\ttotal: 2m 40s\tremaining: 24m 1s\n",
      "30:\tlearn: 0.1880659\ttotal: 2m 45s\tremaining: 23m 57s\n",
      "31:\tlearn: 0.1870967\ttotal: 2m 51s\tremaining: 23m 54s\n",
      "32:\tlearn: 0.1860485\ttotal: 2m 56s\tremaining: 23m 49s\n",
      "33:\tlearn: 0.1851367\ttotal: 3m 2s\tremaining: 23m 45s\n",
      "34:\tlearn: 0.1842901\ttotal: 3m 7s\tremaining: 23m 39s\n",
      "35:\tlearn: 0.1833738\ttotal: 3m 12s\tremaining: 23m 34s\n",
      "36:\tlearn: 0.1823121\ttotal: 3m 18s\tremaining: 23m 29s\n",
      "37:\tlearn: 0.1816323\ttotal: 3m 23s\tremaining: 23m 24s\n",
      "38:\tlearn: 0.1807681\ttotal: 3m 29s\tremaining: 23m 20s\n",
      "39:\tlearn: 0.1801398\ttotal: 3m 34s\tremaining: 23m 14s\n",
      "40:\tlearn: 0.1792299\ttotal: 3m 39s\tremaining: 23m 9s\n",
      "41:\tlearn: 0.1784050\ttotal: 3m 45s\tremaining: 23m 3s\n",
      "42:\tlearn: 0.1775689\ttotal: 3m 50s\tremaining: 22m 57s\n",
      "43:\tlearn: 0.1768743\ttotal: 3m 55s\tremaining: 22m 52s\n",
      "44:\tlearn: 0.1762506\ttotal: 4m 1s\tremaining: 22m 47s\n",
      "45:\tlearn: 0.1753983\ttotal: 4m 6s\tremaining: 22m 42s\n",
      "46:\tlearn: 0.1747797\ttotal: 4m 11s\tremaining: 22m 35s\n",
      "47:\tlearn: 0.1741320\ttotal: 4m 17s\tremaining: 22m 30s\n",
      "48:\tlearn: 0.1733974\ttotal: 4m 22s\tremaining: 22m 24s\n",
      "49:\tlearn: 0.1725607\ttotal: 4m 27s\tremaining: 22m 19s\n",
      "50:\tlearn: 0.1719967\ttotal: 4m 33s\tremaining: 22m 14s\n",
      "51:\tlearn: 0.1714969\ttotal: 4m 38s\tremaining: 22m 9s\n",
      "52:\tlearn: 0.1708718\ttotal: 4m 44s\tremaining: 22m 3s\n",
      "53:\tlearn: 0.1703583\ttotal: 4m 49s\tremaining: 21m 58s\n",
      "54:\tlearn: 0.1698555\ttotal: 4m 54s\tremaining: 21m 53s\n",
      "55:\tlearn: 0.1693587\ttotal: 5m\tremaining: 21m 47s\n",
      "56:\tlearn: 0.1685555\ttotal: 5m 5s\tremaining: 21m 42s\n",
      "57:\tlearn: 0.1679233\ttotal: 5m 10s\tremaining: 21m 37s\n",
      "58:\tlearn: 0.1674202\ttotal: 5m 16s\tremaining: 21m 31s\n",
      "59:\tlearn: 0.1668747\ttotal: 5m 21s\tremaining: 21m 25s\n",
      "60:\tlearn: 0.1662208\ttotal: 5m 26s\tremaining: 21m 21s\n",
      "61:\tlearn: 0.1657103\ttotal: 5m 32s\tremaining: 21m 16s\n",
      "62:\tlearn: 0.1649489\ttotal: 5m 37s\tremaining: 21m 11s\n",
      "63:\tlearn: 0.1643095\ttotal: 5m 43s\tremaining: 21m 6s\n",
      "64:\tlearn: 0.1639074\ttotal: 5m 48s\tremaining: 21m\n",
      "65:\tlearn: 0.1631290\ttotal: 5m 54s\tremaining: 20m 55s\n",
      "66:\tlearn: 0.1626764\ttotal: 5m 59s\tremaining: 20m 50s\n",
      "67:\tlearn: 0.1622563\ttotal: 6m 4s\tremaining: 20m 44s\n",
      "68:\tlearn: 0.1618665\ttotal: 6m 10s\tremaining: 20m 38s\n",
      "69:\tlearn: 0.1612938\ttotal: 6m 15s\tremaining: 20m 33s\n",
      "70:\tlearn: 0.1608708\ttotal: 6m 20s\tremaining: 20m 28s\n",
      "71:\tlearn: 0.1604028\ttotal: 6m 26s\tremaining: 20m 23s\n",
      "72:\tlearn: 0.1599611\ttotal: 6m 31s\tremaining: 20m 17s\n",
      "73:\tlearn: 0.1595756\ttotal: 6m 36s\tremaining: 20m 12s\n",
      "74:\tlearn: 0.1589170\ttotal: 6m 42s\tremaining: 20m 7s\n",
      "75:\tlearn: 0.1583937\ttotal: 6m 47s\tremaining: 20m 1s\n",
      "76:\tlearn: 0.1580108\ttotal: 6m 53s\tremaining: 19m 56s\n",
      "77:\tlearn: 0.1575585\ttotal: 6m 58s\tremaining: 19m 50s\n",
      "78:\tlearn: 0.1572182\ttotal: 7m 3s\tremaining: 19m 45s\n",
      "79:\tlearn: 0.1568653\ttotal: 7m 9s\tremaining: 19m 40s\n",
      "80:\tlearn: 0.1560804\ttotal: 7m 14s\tremaining: 19m 35s\n",
      "81:\tlearn: 0.1557586\ttotal: 7m 20s\tremaining: 19m 29s\n",
      "82:\tlearn: 0.1553687\ttotal: 7m 25s\tremaining: 19m 24s\n",
      "83:\tlearn: 0.1550822\ttotal: 7m 30s\tremaining: 19m 19s\n",
      "84:\tlearn: 0.1547622\ttotal: 7m 36s\tremaining: 19m 13s\n",
      "85:\tlearn: 0.1542960\ttotal: 7m 41s\tremaining: 19m 8s\n",
      "86:\tlearn: 0.1539135\ttotal: 7m 46s\tremaining: 19m 3s\n",
      "87:\tlearn: 0.1535159\ttotal: 7m 52s\tremaining: 18m 57s\n",
      "88:\tlearn: 0.1531953\ttotal: 7m 57s\tremaining: 18m 52s\n",
      "89:\tlearn: 0.1528660\ttotal: 8m 3s\tremaining: 18m 47s\n",
      "90:\tlearn: 0.1525580\ttotal: 8m 8s\tremaining: 18m 41s\n",
      "91:\tlearn: 0.1522198\ttotal: 8m 13s\tremaining: 18m 36s\n",
      "92:\tlearn: 0.1518393\ttotal: 8m 19s\tremaining: 18m 31s\n",
      "93:\tlearn: 0.1515320\ttotal: 8m 24s\tremaining: 18m 25s\n",
      "94:\tlearn: 0.1512503\ttotal: 8m 29s\tremaining: 18m 20s\n",
      "95:\tlearn: 0.1508470\ttotal: 8m 35s\tremaining: 18m 15s\n",
      "96:\tlearn: 0.1505642\ttotal: 8m 40s\tremaining: 18m 9s\n",
      "97:\tlearn: 0.1502731\ttotal: 8m 46s\tremaining: 18m 4s\n",
      "98:\tlearn: 0.1499355\ttotal: 8m 51s\tremaining: 17m 58s\n",
      "99:\tlearn: 0.1497330\ttotal: 8m 56s\tremaining: 17m 53s\n",
      "100:\tlearn: 0.1494286\ttotal: 9m 2s\tremaining: 17m 48s\n",
      "101:\tlearn: 0.1491209\ttotal: 9m 7s\tremaining: 17m 42s\n",
      "102:\tlearn: 0.1488277\ttotal: 9m 12s\tremaining: 17m 37s\n",
      "103:\tlearn: 0.1483981\ttotal: 9m 18s\tremaining: 17m 32s\n",
      "104:\tlearn: 0.1480932\ttotal: 9m 24s\tremaining: 17m 27s\n",
      "105:\tlearn: 0.1479041\ttotal: 9m 29s\tremaining: 17m 22s\n",
      "106:\tlearn: 0.1476439\ttotal: 9m 35s\tremaining: 17m 17s\n",
      "107:\tlearn: 0.1472906\ttotal: 9m 40s\tremaining: 17m 12s\n",
      "108:\tlearn: 0.1469851\ttotal: 9m 45s\tremaining: 17m 6s\n",
      "109:\tlearn: 0.1467436\ttotal: 9m 51s\tremaining: 17m 1s\n",
      "110:\tlearn: 0.1464986\ttotal: 9m 56s\tremaining: 16m 55s\n",
      "111:\tlearn: 0.1461309\ttotal: 10m 2s\tremaining: 16m 50s\n",
      "112:\tlearn: 0.1458860\ttotal: 10m 7s\tremaining: 16m 45s\n",
      "113:\tlearn: 0.1456412\ttotal: 10m 12s\tremaining: 16m 39s\n",
      "114:\tlearn: 0.1453036\ttotal: 10m 18s\tremaining: 16m 34s\n",
      "115:\tlearn: 0.1449461\ttotal: 10m 23s\tremaining: 16m 29s\n",
      "116:\tlearn: 0.1446053\ttotal: 10m 28s\tremaining: 16m 23s\n",
      "117:\tlearn: 0.1443773\ttotal: 10m 34s\tremaining: 16m 18s\n",
      "118:\tlearn: 0.1440583\ttotal: 10m 39s\tremaining: 16m 12s\n",
      "119:\tlearn: 0.1438269\ttotal: 10m 45s\tremaining: 16m 7s\n",
      "120:\tlearn: 0.1436639\ttotal: 10m 50s\tremaining: 16m 2s\n",
      "121:\tlearn: 0.1434643\ttotal: 10m 55s\tremaining: 15m 56s\n",
      "122:\tlearn: 0.1431966\ttotal: 11m 1s\tremaining: 15m 51s\n",
      "123:\tlearn: 0.1429488\ttotal: 11m 6s\tremaining: 15m 46s\n",
      "124:\tlearn: 0.1426740\ttotal: 11m 12s\tremaining: 15m 41s\n",
      "125:\tlearn: 0.1424477\ttotal: 11m 17s\tremaining: 15m 35s\n",
      "126:\tlearn: 0.1422589\ttotal: 11m 22s\tremaining: 15m 30s\n",
      "127:\tlearn: 0.1418272\ttotal: 11m 28s\tremaining: 15m 24s\n",
      "128:\tlearn: 0.1416713\ttotal: 11m 33s\tremaining: 15m 19s\n",
      "129:\tlearn: 0.1415250\ttotal: 11m 38s\tremaining: 15m 14s\n",
      "130:\tlearn: 0.1412327\ttotal: 11m 44s\tremaining: 15m 8s\n",
      "131:\tlearn: 0.1410896\ttotal: 11m 49s\tremaining: 15m 2s\n",
      "132:\tlearn: 0.1407509\ttotal: 11m 54s\tremaining: 14m 57s\n",
      "133:\tlearn: 0.1406020\ttotal: 12m\tremaining: 14m 52s\n",
      "134:\tlearn: 0.1403905\ttotal: 12m 5s\tremaining: 14m 47s\n",
      "135:\tlearn: 0.1401648\ttotal: 12m 10s\tremaining: 14m 41s\n",
      "136:\tlearn: 0.1399340\ttotal: 12m 16s\tremaining: 14m 35s\n",
      "137:\tlearn: 0.1396810\ttotal: 12m 21s\tremaining: 14m 30s\n",
      "138:\tlearn: 0.1394391\ttotal: 12m 26s\tremaining: 14m 25s\n",
      "139:\tlearn: 0.1392849\ttotal: 12m 32s\tremaining: 14m 19s\n",
      "140:\tlearn: 0.1391554\ttotal: 12m 37s\tremaining: 14m 14s\n",
      "141:\tlearn: 0.1390268\ttotal: 12m 42s\tremaining: 14m 8s\n",
      "142:\tlearn: 0.1388333\ttotal: 12m 48s\tremaining: 14m 3s\n",
      "143:\tlearn: 0.1385940\ttotal: 12m 53s\tremaining: 13m 58s\n",
      "144:\tlearn: 0.1383861\ttotal: 12m 59s\tremaining: 13m 52s\n",
      "145:\tlearn: 0.1382230\ttotal: 13m 4s\tremaining: 13m 47s\n",
      "146:\tlearn: 0.1380344\ttotal: 13m 9s\tremaining: 13m 42s\n",
      "147:\tlearn: 0.1378319\ttotal: 13m 15s\tremaining: 13m 36s\n",
      "148:\tlearn: 0.1375986\ttotal: 13m 20s\tremaining: 13m 31s\n",
      "149:\tlearn: 0.1374499\ttotal: 13m 26s\tremaining: 13m 26s\n",
      "150:\tlearn: 0.1372555\ttotal: 13m 31s\tremaining: 13m 20s\n",
      "151:\tlearn: 0.1371357\ttotal: 13m 36s\tremaining: 13m 15s\n",
      "152:\tlearn: 0.1368542\ttotal: 13m 42s\tremaining: 13m 9s\n",
      "153:\tlearn: 0.1367261\ttotal: 13m 47s\tremaining: 13m 4s\n",
      "154:\tlearn: 0.1364834\ttotal: 13m 53s\tremaining: 12m 59s\n",
      "155:\tlearn: 0.1361849\ttotal: 13m 58s\tremaining: 12m 54s\n",
      "156:\tlearn: 0.1360071\ttotal: 14m 3s\tremaining: 12m 48s\n",
      "157:\tlearn: 0.1358795\ttotal: 14m 9s\tremaining: 12m 43s\n",
      "158:\tlearn: 0.1356896\ttotal: 14m 14s\tremaining: 12m 37s\n",
      "159:\tlearn: 0.1355571\ttotal: 14m 19s\tremaining: 12m 32s\n",
      "160:\tlearn: 0.1353432\ttotal: 14m 25s\tremaining: 12m 26s\n",
      "161:\tlearn: 0.1350653\ttotal: 14m 30s\tremaining: 12m 21s\n",
      "162:\tlearn: 0.1348904\ttotal: 14m 35s\tremaining: 12m 16s\n",
      "163:\tlearn: 0.1347811\ttotal: 14m 41s\tremaining: 12m 10s\n",
      "164:\tlearn: 0.1344169\ttotal: 14m 46s\tremaining: 12m 5s\n",
      "165:\tlearn: 0.1341857\ttotal: 14m 52s\tremaining: 12m\n",
      "166:\tlearn: 0.1340048\ttotal: 14m 57s\tremaining: 11m 54s\n",
      "167:\tlearn: 0.1338902\ttotal: 15m 3s\tremaining: 11m 49s\n",
      "168:\tlearn: 0.1337733\ttotal: 15m 8s\tremaining: 11m 44s\n",
      "169:\tlearn: 0.1335470\ttotal: 15m 13s\tremaining: 11m 38s\n",
      "170:\tlearn: 0.1333521\ttotal: 15m 19s\tremaining: 11m 33s\n",
      "171:\tlearn: 0.1332036\ttotal: 15m 24s\tremaining: 11m 28s\n",
      "172:\tlearn: 0.1330880\ttotal: 15m 29s\tremaining: 11m 22s\n",
      "173:\tlearn: 0.1329523\ttotal: 15m 35s\tremaining: 11m 17s\n",
      "174:\tlearn: 0.1328148\ttotal: 15m 41s\tremaining: 11m 12s\n",
      "175:\tlearn: 0.1326406\ttotal: 15m 46s\tremaining: 11m 6s\n",
      "176:\tlearn: 0.1323158\ttotal: 15m 51s\tremaining: 11m 1s\n",
      "177:\tlearn: 0.1322152\ttotal: 15m 57s\tremaining: 10m 56s\n",
      "178:\tlearn: 0.1319467\ttotal: 16m 2s\tremaining: 10m 50s\n",
      "179:\tlearn: 0.1318029\ttotal: 16m 7s\tremaining: 10m 45s\n",
      "180:\tlearn: 0.1317137\ttotal: 16m 13s\tremaining: 10m 39s\n",
      "181:\tlearn: 0.1316171\ttotal: 16m 18s\tremaining: 10m 34s\n",
      "182:\tlearn: 0.1314300\ttotal: 16m 23s\tremaining: 10m 29s\n",
      "183:\tlearn: 0.1311652\ttotal: 16m 29s\tremaining: 10m 23s\n",
      "184:\tlearn: 0.1310516\ttotal: 16m 34s\tremaining: 10m 18s\n",
      "185:\tlearn: 0.1308827\ttotal: 16m 40s\tremaining: 10m 13s\n",
      "186:\tlearn: 0.1307897\ttotal: 16m 45s\tremaining: 10m 7s\n",
      "187:\tlearn: 0.1305009\ttotal: 16m 50s\tremaining: 10m 2s\n",
      "188:\tlearn: 0.1304131\ttotal: 16m 56s\tremaining: 9m 56s\n",
      "189:\tlearn: 0.1302675\ttotal: 17m 1s\tremaining: 9m 51s\n",
      "190:\tlearn: 0.1300690\ttotal: 17m 7s\tremaining: 9m 46s\n",
      "191:\tlearn: 0.1299635\ttotal: 17m 12s\tremaining: 9m 40s\n",
      "192:\tlearn: 0.1297797\ttotal: 17m 17s\tremaining: 9m 35s\n",
      "193:\tlearn: 0.1294594\ttotal: 17m 23s\tremaining: 9m 30s\n",
      "194:\tlearn: 0.1293763\ttotal: 17m 28s\tremaining: 9m 24s\n",
      "195:\tlearn: 0.1292880\ttotal: 17m 33s\tremaining: 9m 19s\n",
      "196:\tlearn: 0.1291160\ttotal: 17m 39s\tremaining: 9m 13s\n",
      "197:\tlearn: 0.1290140\ttotal: 17m 44s\tremaining: 9m 8s\n",
      "198:\tlearn: 0.1289099\ttotal: 17m 50s\tremaining: 9m 3s\n",
      "199:\tlearn: 0.1288350\ttotal: 17m 55s\tremaining: 8m 57s\n",
      "200:\tlearn: 0.1287398\ttotal: 18m\tremaining: 8m 52s\n",
      "201:\tlearn: 0.1285593\ttotal: 18m 6s\tremaining: 8m 46s\n",
      "202:\tlearn: 0.1284007\ttotal: 18m 11s\tremaining: 8m 41s\n",
      "203:\tlearn: 0.1282125\ttotal: 18m 16s\tremaining: 8m 36s\n",
      "204:\tlearn: 0.1280478\ttotal: 18m 22s\tremaining: 8m 30s\n",
      "205:\tlearn: 0.1279233\ttotal: 18m 27s\tremaining: 8m 25s\n",
      "206:\tlearn: 0.1277576\ttotal: 18m 32s\tremaining: 8m 19s\n",
      "207:\tlearn: 0.1276808\ttotal: 18m 38s\tremaining: 8m 14s\n",
      "208:\tlearn: 0.1274581\ttotal: 18m 43s\tremaining: 8m 9s\n",
      "209:\tlearn: 0.1273184\ttotal: 18m 49s\tremaining: 8m 3s\n",
      "210:\tlearn: 0.1272235\ttotal: 18m 54s\tremaining: 7m 58s\n",
      "211:\tlearn: 0.1271461\ttotal: 19m\tremaining: 7m 53s\n",
      "212:\tlearn: 0.1269995\ttotal: 19m 5s\tremaining: 7m 47s\n",
      "213:\tlearn: 0.1269283\ttotal: 19m 10s\tremaining: 7m 42s\n",
      "214:\tlearn: 0.1266454\ttotal: 19m 16s\tremaining: 7m 37s\n",
      "215:\tlearn: 0.1265039\ttotal: 19m 21s\tremaining: 7m 31s\n",
      "216:\tlearn: 0.1263802\ttotal: 19m 26s\tremaining: 7m 26s\n",
      "217:\tlearn: 0.1262988\ttotal: 19m 32s\tremaining: 7m 20s\n",
      "218:\tlearn: 0.1261969\ttotal: 19m 37s\tremaining: 7m 15s\n",
      "219:\tlearn: 0.1259015\ttotal: 19m 43s\tremaining: 7m 10s\n",
      "220:\tlearn: 0.1258101\ttotal: 19m 48s\tremaining: 7m 4s\n",
      "221:\tlearn: 0.1257436\ttotal: 19m 53s\tremaining: 6m 59s\n",
      "222:\tlearn: 0.1255310\ttotal: 19m 59s\tremaining: 6m 54s\n",
      "223:\tlearn: 0.1253128\ttotal: 20m 4s\tremaining: 6m 48s\n",
      "224:\tlearn: 0.1251787\ttotal: 20m 9s\tremaining: 6m 43s\n",
      "225:\tlearn: 0.1250555\ttotal: 20m 15s\tremaining: 6m 37s\n",
      "226:\tlearn: 0.1249480\ttotal: 20m 20s\tremaining: 6m 32s\n",
      "227:\tlearn: 0.1248131\ttotal: 20m 25s\tremaining: 6m 27s\n",
      "228:\tlearn: 0.1246874\ttotal: 20m 31s\tremaining: 6m 21s\n",
      "229:\tlearn: 0.1245245\ttotal: 20m 36s\tremaining: 6m 16s\n",
      "230:\tlearn: 0.1243487\ttotal: 20m 41s\tremaining: 6m 10s\n",
      "231:\tlearn: 0.1242758\ttotal: 20m 47s\tremaining: 6m 5s\n",
      "232:\tlearn: 0.1242059\ttotal: 20m 52s\tremaining: 6m\n",
      "233:\tlearn: 0.1241271\ttotal: 20m 57s\tremaining: 5m 54s\n",
      "234:\tlearn: 0.1240004\ttotal: 21m 3s\tremaining: 5m 49s\n",
      "235:\tlearn: 0.1238937\ttotal: 21m 8s\tremaining: 5m 44s\n",
      "236:\tlearn: 0.1238239\ttotal: 21m 13s\tremaining: 5m 38s\n",
      "237:\tlearn: 0.1236372\ttotal: 21m 19s\tremaining: 5m 33s\n",
      "238:\tlearn: 0.1234729\ttotal: 21m 24s\tremaining: 5m 27s\n",
      "239:\tlearn: 0.1234052\ttotal: 21m 30s\tremaining: 5m 22s\n",
      "240:\tlearn: 0.1233112\ttotal: 21m 35s\tremaining: 5m 17s\n",
      "241:\tlearn: 0.1232444\ttotal: 21m 40s\tremaining: 5m 11s\n",
      "242:\tlearn: 0.1230054\ttotal: 21m 46s\tremaining: 5m 6s\n",
      "243:\tlearn: 0.1229357\ttotal: 21m 51s\tremaining: 5m 1s\n",
      "244:\tlearn: 0.1227851\ttotal: 21m 57s\tremaining: 4m 55s\n",
      "245:\tlearn: 0.1226206\ttotal: 22m 2s\tremaining: 4m 50s\n",
      "246:\tlearn: 0.1225489\ttotal: 22m 8s\tremaining: 4m 44s\n",
      "247:\tlearn: 0.1223819\ttotal: 22m 13s\tremaining: 4m 39s\n",
      "248:\tlearn: 0.1223137\ttotal: 22m 18s\tremaining: 4m 34s\n",
      "249:\tlearn: 0.1222455\ttotal: 22m 24s\tremaining: 4m 28s\n",
      "250:\tlearn: 0.1221766\ttotal: 22m 29s\tremaining: 4m 23s\n",
      "251:\tlearn: 0.1220195\ttotal: 22m 34s\tremaining: 4m 18s\n",
      "252:\tlearn: 0.1219010\ttotal: 22m 40s\tremaining: 4m 12s\n",
      "253:\tlearn: 0.1218266\ttotal: 22m 45s\tremaining: 4m 7s\n",
      "254:\tlearn: 0.1217628\ttotal: 22m 50s\tremaining: 4m 1s\n",
      "255:\tlearn: 0.1217002\ttotal: 22m 56s\tremaining: 3m 56s\n",
      "256:\tlearn: 0.1215096\ttotal: 23m 1s\tremaining: 3m 51s\n",
      "257:\tlearn: 0.1214413\ttotal: 23m 7s\tremaining: 3m 45s\n",
      "258:\tlearn: 0.1213827\ttotal: 23m 12s\tremaining: 3m 40s\n",
      "259:\tlearn: 0.1213147\ttotal: 23m 17s\tremaining: 3m 35s\n",
      "260:\tlearn: 0.1212543\ttotal: 23m 23s\tremaining: 3m 29s\n",
      "261:\tlearn: 0.1210814\ttotal: 23m 28s\tremaining: 3m 24s\n",
      "262:\tlearn: 0.1209494\ttotal: 23m 34s\tremaining: 3m 18s\n",
      "263:\tlearn: 0.1208361\ttotal: 23m 39s\tremaining: 3m 13s\n",
      "264:\tlearn: 0.1206807\ttotal: 23m 45s\tremaining: 3m 8s\n",
      "265:\tlearn: 0.1204808\ttotal: 23m 50s\tremaining: 3m 2s\n",
      "266:\tlearn: 0.1203406\ttotal: 23m 56s\tremaining: 2m 57s\n",
      "267:\tlearn: 0.1202808\ttotal: 24m 1s\tremaining: 2m 52s\n",
      "268:\tlearn: 0.1202217\ttotal: 24m 7s\tremaining: 2m 46s\n",
      "269:\tlearn: 0.1200381\ttotal: 24m 12s\tremaining: 2m 41s\n",
      "270:\tlearn: 0.1199829\ttotal: 24m 17s\tremaining: 2m 36s\n",
      "271:\tlearn: 0.1198636\ttotal: 24m 23s\tremaining: 2m 30s\n",
      "272:\tlearn: 0.1196303\ttotal: 24m 28s\tremaining: 2m 25s\n",
      "273:\tlearn: 0.1195577\ttotal: 24m 34s\tremaining: 2m 19s\n",
      "274:\tlearn: 0.1194195\ttotal: 24m 39s\tremaining: 2m 14s\n",
      "275:\tlearn: 0.1193585\ttotal: 24m 45s\tremaining: 2m 9s\n",
      "276:\tlearn: 0.1192249\ttotal: 24m 50s\tremaining: 2m 3s\n",
      "277:\tlearn: 0.1191679\ttotal: 24m 55s\tremaining: 1m 58s\n",
      "278:\tlearn: 0.1190540\ttotal: 25m 1s\tremaining: 1m 52s\n",
      "279:\tlearn: 0.1189742\ttotal: 25m 6s\tremaining: 1m 47s\n",
      "280:\tlearn: 0.1189184\ttotal: 25m 11s\tremaining: 1m 42s\n",
      "281:\tlearn: 0.1188628\ttotal: 25m 17s\tremaining: 1m 36s\n",
      "282:\tlearn: 0.1188116\ttotal: 25m 22s\tremaining: 1m 31s\n",
      "283:\tlearn: 0.1186643\ttotal: 25m 28s\tremaining: 1m 26s\n",
      "284:\tlearn: 0.1185798\ttotal: 25m 33s\tremaining: 1m 20s\n",
      "285:\tlearn: 0.1184231\ttotal: 25m 38s\tremaining: 1m 15s\n",
      "286:\tlearn: 0.1183700\ttotal: 25m 44s\tremaining: 1m 9s\n",
      "287:\tlearn: 0.1183159\ttotal: 25m 49s\tremaining: 1m 4s\n",
      "288:\tlearn: 0.1182218\ttotal: 25m 54s\tremaining: 59.2s\n",
      "289:\tlearn: 0.1181687\ttotal: 26m\tremaining: 53.8s\n",
      "290:\tlearn: 0.1180987\ttotal: 26m 5s\tremaining: 48.4s\n",
      "291:\tlearn: 0.1180451\ttotal: 26m 10s\tremaining: 43s\n",
      "292:\tlearn: 0.1179940\ttotal: 26m 16s\tremaining: 37.7s\n",
      "293:\tlearn: 0.1179352\ttotal: 26m 21s\tremaining: 32.3s\n",
      "294:\tlearn: 0.1178024\ttotal: 26m 26s\tremaining: 26.9s\n",
      "295:\tlearn: 0.1177520\ttotal: 26m 32s\tremaining: 21.5s\n",
      "296:\tlearn: 0.1176921\ttotal: 26m 37s\tremaining: 16.1s\n",
      "297:\tlearn: 0.1174999\ttotal: 26m 42s\tremaining: 10.8s\n",
      "298:\tlearn: 0.1174223\ttotal: 26m 48s\tremaining: 5.38s\n",
      "299:\tlearn: 0.1173581\ttotal: 26m 53s\tremaining: 0us\n",
      "F1-мера обучающей и валидационной выборки: 0.7740977409774097\n",
      "F1-мера тестовой выборки: 0.7518628912071535\n"
     ]
    }
   ],
   "source": [
    "# сохраним модель случайный лес и зададим лучшие гиперпараметры\n",
    "model_cb = CatBoostClassifier(loss_function=\"Logloss\", \n",
    "                              iterations=300)\n",
    "\n",
    "model_cb.fit(features_train_valid, target_train_valid) # обучим модель\n",
    "test_predictions = model_cb.predict(features_test) # получим предсказания \n",
    "train_valid_predictions = model_cb.predict(features_train_valid) # получим предсказания\n",
    "\n",
    "result_2 = f1_score(target_train_valid, train_valid_predictions) \n",
    "result_3 = f1_score(target_test, test_predictions)\n",
    "\n",
    "# выведем на экран качество \n",
    "print('F1-мера обучающей и валидационной выборки:', result_2) \n",
    "print('F1-мера тестовой выборки:', result_3) "
   ]
  },
  {
   "cell_type": "markdown",
   "metadata": {},
   "source": [
    "- получили метрику F1 на тестовой выборке: 0.7518628912071535, что соответствует поставленной задаче.\n",
    "\n",
    "- далее протестируем логистическую регрессию."
   ]
  },
  {
   "cell_type": "code",
   "execution_count": 15,
   "metadata": {},
   "outputs": [
    {
     "name": "stdout",
     "output_type": "stream",
     "text": [
      "F1-мера на обучающей выборке: 0.9151958371422543\n",
      "F1-мера на тестовой выборке: 0.7708547133851341\n"
     ]
    }
   ],
   "source": [
    "model_lr = LogisticRegression(random_state=my_random_state, C = 8,\n",
    "                              class_weight='balanced', solver = 'liblinear') \n",
    "model_lr.fit(features_train_valid, target_train_valid)\n",
    "predictions_train_valid = model_lr.predict(features_train_valid)\n",
    "predictions_test = model_lr.predict(features_test)\n",
    "# получим качество по обучающей и тестовой выборках\n",
    "result_4 = f1_score(target_train_valid, predictions_train_valid) \n",
    "result_5 = f1_score(target_test, predictions_test)\n",
    "\n",
    "#выведем на экран значение качества модели\n",
    "print(\"F1-мера на обучающей выборке:\", result_4)\n",
    "print(\"F1-мера на тестовой выборке:\", result_5)"
   ]
  },
  {
   "cell_type": "markdown",
   "metadata": {},
   "source": [
    "- получили метрику F1 на тестовой выборке: 0.7708547133851341, что соответствует поставленной задаче."
   ]
  },
  {
   "cell_type": "markdown",
   "metadata": {},
   "source": [
    "#### 7-bullet \n",
    "#### Часть 3: Выводы\n",
    "1. Выводы о работе моделей."
   ]
  },
  {
   "cell_type": "code",
   "execution_count": 18,
   "metadata": {},
   "outputs": [
    {
     "data": {
      "image/png": "[encoded data removed]",
      "text/plain": [
       "<Figure size 432x288 with 1 Axes>"
      ]
     },
     "metadata": {
      "needs_background": "light"
     },
     "output_type": "display_data"
    },
    {
     "data": {
      "image/png": "[encoded data removed]",
      "text/plain": [
       "<Figure size 432x288 with 1 Axes>"
      ]
     },
     "metadata": {
      "needs_background": "light"
     },
     "output_type": "display_data"
    }
   ],
   "source": [
    "# создадим словарь, в который запишем значения метрики F1\n",
    "# каждой модели\n",
    "models_f1 = {'DecisionTreeClassifier': [result_1],\n",
    "              'CatBoostClassifier': [result_3],\n",
    "              'LogisticRegression': [result_5]}\n",
    "\n",
    "# создадим датафрейм \n",
    "models_f1 = pd.DataFrame(models_f1, index=['F1-мера']).T\n",
    "\n",
    "# построим графики показателей качества \n",
    "models_f1['F1-мера'].plot(style='o-', xlim=(-0.2, 2.2), \n",
    "                          legend=True, grid=True)\n",
    "\n",
    "plt.axhline(y=0.75, color='r', linestyle='-')\n",
    "plt.title('значения метрики F1-мера')\n",
    "plt.show()"
   ]
  },
  {
   "cell_type": "markdown",
   "metadata": {},
   "source": [
    "- пришли к выводу, что без использования BERT поставленной задачи удалось добиться при помощи логистической регрессии и CatBoost, модель решающее дерево не достигла показателя метрики F1 больше 0,75.\n",
    "\n",
    "Таким образом для решения поставленной задачи лучше всего подходит логистическая регрессия, которая является наиболее стабильной (в плане значений целевой метрики) как на валидационной, так и на тестовой выборках, при этом значительно быстрее остальных моделей обучается. Также достигает целевых показателей модель CatBoost, но долго обучается."
   ]
  }
 ],
 "metadata": {
  "kernelspec": {
   "display_name": "Python 3",
   "language": "python",
   "name": "python3"
  },
  "language_info": {
   "codemirror_mode": {
    "name": "ipython",
    "version": 3
   },
   "file_extension": ".py",
   "mimetype": "text/x-python",
   "name": "python",
   "nbconvert_exporter": "python",
   "pygments_lexer": "ipython3",
   "version": "3.8.5"
  },
  "toc": {
   "base_numbering": 1,
   "nav_menu": {},
   "number_sections": true,
   "sideBar": true,
   "skip_h1_title": true,
   "title_cell": "Table of Contents",
   "title_sidebar": "Contents",
   "toc_cell": false,
   "toc_position": {},
   "toc_section_display": true,
   "toc_window_display": false
  }
 },
 "nbformat": 4,
 "nbformat_minor": 2
}
