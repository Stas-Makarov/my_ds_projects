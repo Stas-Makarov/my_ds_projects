{
 "cells": [
  {
   "cell_type": "markdown",
   "metadata": {},
   "source": [
    "# Прототип модели для определения рыночной стоимости автомобиля"
   ]
  },
  {
   "cell_type": "markdown",
   "metadata": {},
   "source": [
    "______________\n",
    "Задача:\n",
    "\n",
    "- построить модель для определения стоимости автомобиля для пользователей сервиса по продаже автомобилей с пробегом «Не бит, не крашен». \n",
    "_____________"
   ]
  },
  {
   "cell_type": "markdown",
   "metadata": {},
   "source": [
    "______\n",
    "\n",
    "#### Данное исследование разделим на несколько частей.\n",
    "______________________\n",
    "### Часть 1: Подготовка данных\n",
    "* [1. Изучение файла с данными, получение общей информации, загрузка библиотек.](#1-bullet)\n",
    "* [2. Предобработка данных.](#2-bullet)\n",
    "\n",
    "### Часть 2: Обучение моделей\n",
    "* [1. Обучение моделей и поиск лучших на основе метрики RMSE.](#3-bullet)\n",
    "\n",
    "### Часть 3: Анализ моделей\n",
    "* [1. Анализ времени работы моделей и их качества.](#4-bullet)\n",
    "____________________"
   ]
  },
  {
   "cell_type": "markdown",
   "metadata": {},
   "source": [
    "#### Описание данных:¶\n",
    "\n",
    "Признаки:\n",
    "\n",
    "- DateCrawled — дата скачивания анкеты из базы.\n",
    "- VehicleType — тип автомобильного кузова.\n",
    "- RegistrationYear — год регистрации автомобиля.\n",
    "- Gearbox — тип коробки передач.\n",
    "- Power — мощность (л. с.).\n",
    "- Model — модель автомобиля.\n",
    "- Kilometer — пробег (км).\n",
    "- RegistrationMonth — месяц регистрации автомобиля.\n",
    "- FuelType — тип топлива.\n",
    "- Brand — марка автомобиля.\n",
    "- NotRepaired — была машина в ремонте или нет.\n",
    "- DateCreated — дата создания анкеты.\n",
    "- NumberOfPictures — количество фотографий автомобиля.\n",
    "- PostalCode — почтовый индекс владельца анкеты (пользователя).\n",
    "- LastSeen — дата последней активности пользователя.\n",
    "\n",
    "Целевой признак:\n",
    "\n",
    "- Price — цена (евро)"
   ]
  },
  {
   "cell_type": "markdown",
   "metadata": {},
   "source": [
    "#### 1-bullet \n",
    "#### Часть 1: Подготовка данных\n",
    "1. Изучение файла с данными, получение общей информации, загрузка библиотек."
   ]
  },
  {
   "cell_type": "code",
   "execution_count": 1,
   "metadata": {},
   "outputs": [],
   "source": [
    "# загрузим необходимые библиотеки\n",
    "import pandas as pd\n",
    "import numpy as np\n",
    "from sklearn.linear_model import LinearRegression\n",
    "from sklearn.ensemble import RandomForestRegressor\n",
    "from lightgbm import LGBMRegressor\n",
    "from sklearn.metrics import mean_squared_error\n",
    "import time\n",
    "from datetime import timedelta\n",
    "from sklearn.preprocessing import StandardScaler\n",
    "from sklearn.model_selection import train_test_split\n",
    "from sklearn.model_selection import cross_val_score\n",
    "from sklearn.model_selection import RepeatedStratifiedKFold\n",
    "from matplotlib import pyplot as plt"
   ]
  },
  {
   "cell_type": "code",
   "execution_count": 2,
   "metadata": {},
   "outputs": [
    {
     "name": "stdout",
     "output_type": "stream",
     "text": [
      "<class 'pandas.core.frame.DataFrame'>\n",
      "RangeIndex: 354369 entries, 0 to 354368\n",
      "Data columns (total 16 columns):\n",
      "DateCrawled          354369 non-null object\n",
      "Price                354369 non-null int64\n",
      "VehicleType          316879 non-null object\n",
      "RegistrationYear     354369 non-null int64\n",
      "Gearbox              334536 non-null object\n",
      "Power                354369 non-null int64\n",
      "Model                334664 non-null object\n",
      "Kilometer            354369 non-null int64\n",
      "RegistrationMonth    354369 non-null int64\n",
      "FuelType             321474 non-null object\n",
      "Brand                354369 non-null object\n",
      "NotRepaired          283215 non-null object\n",
      "DateCreated          354369 non-null object\n",
      "NumberOfPictures     354369 non-null int64\n",
      "PostalCode           354369 non-null int64\n",
      "LastSeen             354369 non-null object\n",
      "dtypes: int64(7), object(9)\n",
      "memory usage: 43.3+ MB\n"
     ]
    },
    {
     "data": {
      "text/plain": [
       "None"
      ]
     },
     "metadata": {},
     "output_type": "display_data"
    },
    {
     "name": "stdout",
     "output_type": "stream",
     "text": [
      "Количество дубликатов: 4\n"
     ]
    },
    {
     "data": {
      "text/html": [
       "<div>\n",
       "<style scoped>\n",
       "    .dataframe tbody tr th:only-of-type {\n",
       "        vertical-align: middle;\n",
       "    }\n",
       "\n",
       "    .dataframe tbody tr th {\n",
       "        vertical-align: top;\n",
       "    }\n",
       "\n",
       "    .dataframe thead th {\n",
       "        text-align: right;\n",
       "    }\n",
       "</style>\n",
       "<table border=\"1\" class=\"dataframe\">\n",
       "  <thead>\n",
       "    <tr style=\"text-align: right;\">\n",
       "      <th></th>\n",
       "      <th>DateCrawled</th>\n",
       "      <th>Price</th>\n",
       "      <th>VehicleType</th>\n",
       "      <th>RegistrationYear</th>\n",
       "      <th>Gearbox</th>\n",
       "      <th>Power</th>\n",
       "      <th>Model</th>\n",
       "      <th>Kilometer</th>\n",
       "      <th>RegistrationMonth</th>\n",
       "      <th>FuelType</th>\n",
       "      <th>Brand</th>\n",
       "      <th>NotRepaired</th>\n",
       "      <th>DateCreated</th>\n",
       "      <th>NumberOfPictures</th>\n",
       "      <th>PostalCode</th>\n",
       "      <th>LastSeen</th>\n",
       "    </tr>\n",
       "  </thead>\n",
       "  <tbody>\n",
       "    <tr>\n",
       "      <td>0</td>\n",
       "      <td>2016-03-24 11:52:17</td>\n",
       "      <td>480</td>\n",
       "      <td>NaN</td>\n",
       "      <td>1993</td>\n",
       "      <td>manual</td>\n",
       "      <td>0</td>\n",
       "      <td>golf</td>\n",
       "      <td>150000</td>\n",
       "      <td>0</td>\n",
       "      <td>petrol</td>\n",
       "      <td>volkswagen</td>\n",
       "      <td>NaN</td>\n",
       "      <td>2016-03-24 00:00:00</td>\n",
       "      <td>0</td>\n",
       "      <td>70435</td>\n",
       "      <td>2016-04-07 03:16:57</td>\n",
       "    </tr>\n",
       "    <tr>\n",
       "      <td>1</td>\n",
       "      <td>2016-03-24 10:58:45</td>\n",
       "      <td>18300</td>\n",
       "      <td>coupe</td>\n",
       "      <td>2011</td>\n",
       "      <td>manual</td>\n",
       "      <td>190</td>\n",
       "      <td>NaN</td>\n",
       "      <td>125000</td>\n",
       "      <td>5</td>\n",
       "      <td>gasoline</td>\n",
       "      <td>audi</td>\n",
       "      <td>yes</td>\n",
       "      <td>2016-03-24 00:00:00</td>\n",
       "      <td>0</td>\n",
       "      <td>66954</td>\n",
       "      <td>2016-04-07 01:46:50</td>\n",
       "    </tr>\n",
       "    <tr>\n",
       "      <td>2</td>\n",
       "      <td>2016-03-14 12:52:21</td>\n",
       "      <td>9800</td>\n",
       "      <td>suv</td>\n",
       "      <td>2004</td>\n",
       "      <td>auto</td>\n",
       "      <td>163</td>\n",
       "      <td>grand</td>\n",
       "      <td>125000</td>\n",
       "      <td>8</td>\n",
       "      <td>gasoline</td>\n",
       "      <td>jeep</td>\n",
       "      <td>NaN</td>\n",
       "      <td>2016-03-14 00:00:00</td>\n",
       "      <td>0</td>\n",
       "      <td>90480</td>\n",
       "      <td>2016-04-05 12:47:46</td>\n",
       "    </tr>\n",
       "    <tr>\n",
       "      <td>3</td>\n",
       "      <td>2016-03-17 16:54:04</td>\n",
       "      <td>1500</td>\n",
       "      <td>small</td>\n",
       "      <td>2001</td>\n",
       "      <td>manual</td>\n",
       "      <td>75</td>\n",
       "      <td>golf</td>\n",
       "      <td>150000</td>\n",
       "      <td>6</td>\n",
       "      <td>petrol</td>\n",
       "      <td>volkswagen</td>\n",
       "      <td>no</td>\n",
       "      <td>2016-03-17 00:00:00</td>\n",
       "      <td>0</td>\n",
       "      <td>91074</td>\n",
       "      <td>2016-03-17 17:40:17</td>\n",
       "    </tr>\n",
       "    <tr>\n",
       "      <td>4</td>\n",
       "      <td>2016-03-31 17:25:20</td>\n",
       "      <td>3600</td>\n",
       "      <td>small</td>\n",
       "      <td>2008</td>\n",
       "      <td>manual</td>\n",
       "      <td>69</td>\n",
       "      <td>fabia</td>\n",
       "      <td>90000</td>\n",
       "      <td>7</td>\n",
       "      <td>gasoline</td>\n",
       "      <td>skoda</td>\n",
       "      <td>no</td>\n",
       "      <td>2016-03-31 00:00:00</td>\n",
       "      <td>0</td>\n",
       "      <td>60437</td>\n",
       "      <td>2016-04-06 10:17:21</td>\n",
       "    </tr>\n",
       "  </tbody>\n",
       "</table>\n",
       "</div>"
      ],
      "text/plain": [
       "           DateCrawled  Price VehicleType  RegistrationYear Gearbox  Power  \\\n",
       "0  2016-03-24 11:52:17    480         NaN              1993  manual      0   \n",
       "1  2016-03-24 10:58:45  18300       coupe              2011  manual    190   \n",
       "2  2016-03-14 12:52:21   9800         suv              2004    auto    163   \n",
       "3  2016-03-17 16:54:04   1500       small              2001  manual     75   \n",
       "4  2016-03-31 17:25:20   3600       small              2008  manual     69   \n",
       "\n",
       "   Model  Kilometer  RegistrationMonth  FuelType       Brand NotRepaired  \\\n",
       "0   golf     150000                  0    petrol  volkswagen         NaN   \n",
       "1    NaN     125000                  5  gasoline        audi         yes   \n",
       "2  grand     125000                  8  gasoline        jeep         NaN   \n",
       "3   golf     150000                  6    petrol  volkswagen          no   \n",
       "4  fabia      90000                  7  gasoline       skoda          no   \n",
       "\n",
       "           DateCreated  NumberOfPictures  PostalCode             LastSeen  \n",
       "0  2016-03-24 00:00:00                 0       70435  2016-04-07 03:16:57  \n",
       "1  2016-03-24 00:00:00                 0       66954  2016-04-07 01:46:50  \n",
       "2  2016-03-14 00:00:00                 0       90480  2016-04-05 12:47:46  \n",
       "3  2016-03-17 00:00:00                 0       91074  2016-03-17 17:40:17  \n",
       "4  2016-03-31 00:00:00                 0       60437  2016-04-06 10:17:21  "
      ]
     },
     "metadata": {},
     "output_type": "display_data"
    }
   ],
   "source": [
    "# прочитаем файл и получим общие данные,\n",
    "# количество дубликатов и первые пять строк\n",
    "df = pd.read_csv('/datasets/autos.csv')\n",
    "display(df.info())\n",
    "print('Количество дубликатов:', df.duplicated().sum())\n",
    "display(df.head())"
   ]
  },
  {
   "cell_type": "markdown",
   "metadata": {},
   "source": [
    "- получили датасет, состоящий из 16 столбцов и 354369 строк. \n",
    "- в таблице содежражтся разные типы данных.\n",
    "- в некоторых стоблцах имеются пропуски, а также имеется 4 дубликата."
   ]
  },
  {
   "cell_type": "markdown",
   "metadata": {},
   "source": [
    "#### 2-bullet\n",
    "#### Часть 1: Подготовка данных\n",
    "2. Предобработка данных."
   ]
  },
  {
   "cell_type": "code",
   "execution_count": 3,
   "metadata": {},
   "outputs": [
    {
     "name": "stdout",
     "output_type": "stream",
     "text": [
      "<class 'pandas.core.frame.DataFrame'>\n",
      "RangeIndex: 318958 entries, 0 to 318957\n",
      "Data columns (total 16 columns):\n",
      "DateCrawled          318958 non-null datetime64[ns]\n",
      "Price                318958 non-null int64\n",
      "VehicleType          318958 non-null object\n",
      "RegistrationYear     318958 non-null int64\n",
      "Gearbox              318958 non-null object\n",
      "Power                318958 non-null int64\n",
      "Model                318958 non-null object\n",
      "Kilometer            318958 non-null int64\n",
      "RegistrationMonth    318958 non-null int64\n",
      "FuelType             318958 non-null object\n",
      "Brand                318958 non-null object\n",
      "NotRepaired          318958 non-null object\n",
      "DateCreated          318958 non-null datetime64[ns]\n",
      "NumberOfPictures     318958 non-null int64\n",
      "PostalCode           318958 non-null int64\n",
      "LastSeen             318958 non-null datetime64[ns]\n",
      "dtypes: datetime64[ns](3), int64(7), object(6)\n",
      "memory usage: 38.9+ MB\n"
     ]
    },
    {
     "data": {
      "text/plain": [
       "None"
      ]
     },
     "metadata": {},
     "output_type": "display_data"
    }
   ],
   "source": [
    "# удалим дубликаты\n",
    "df = df.drop_duplicates().reset_index(drop=True)\n",
    "\n",
    "# заполним пропуски в стоблцах 'VehicleType', \n",
    "# 'FuelType', 'NotRepaired' на 'неизвестно',\n",
    "# поскольку из невозможно восстановить\n",
    "col_list_nan = ['VehicleType', 'FuelType', 'NotRepaired']\n",
    "for i in col_list_nan:\n",
    "    df[i] = df[i].fillna('unknown')\n",
    "\n",
    "# удалим строки, где есть пустующие значения,\n",
    "# т.к. их количество мальенькое по сравнению с общим\n",
    "df = df.dropna().reset_index(drop=True) \n",
    "\n",
    "# приведем дату и время к общему формату\n",
    "col_list_date = ['DateCrawled', 'DateCreated', 'LastSeen'] \n",
    "for i in col_list_date:\n",
    "    df[i] = pd.to_datetime(df[i], format='%Y-%m-%dT%H:%M:%S')\n",
    "    \n",
    "# выведем на экран общую информацию\n",
    "display(df.info())"
   ]
  },
  {
   "cell_type": "code",
   "execution_count": 4,
   "metadata": {
    "scrolled": true
   },
   "outputs": [
    {
     "name": "stdout",
     "output_type": "stream",
     "text": [
      "sedan          85937\n",
      "small          73613\n",
      "wagon          61435\n",
      "bus            27081\n",
      "unknown        23704\n",
      "convertible    18722\n",
      "coupe          14849\n",
      "suv            10959\n",
      "other           2658\n",
      "Name: VehicleType, dtype: int64\n",
      "manual    255922\n",
      "auto       63036\n",
      "Name: Gearbox, dtype: int64\n",
      "golf                  27757\n",
      "other                 23024\n",
      "3er                   19086\n",
      "polo                  12334\n",
      "corsa                 11791\n",
      "                      ...  \n",
      "i3                        7\n",
      "rangerover                4\n",
      "serie_3                   3\n",
      "range_rover_evoque        2\n",
      "serie_1                   1\n",
      "Name: Model, Length: 250, dtype: int64\n",
      "petrol      200922\n",
      "gasoline     92546\n",
      "unknown      19734\n",
      "lpg           4854\n",
      "cng            531\n",
      "hybrid         203\n",
      "other          108\n",
      "electric        60\n",
      "Name: FuelType, dtype: int64\n",
      "volkswagen       69566\n",
      "opel             36098\n",
      "bmw              33868\n",
      "mercedes_benz    29739\n",
      "audi             27081\n",
      "ford             22945\n",
      "renault          16207\n",
      "peugeot           9751\n",
      "fiat              8583\n",
      "seat              6421\n",
      "skoda             5235\n",
      "mazda             5066\n",
      "citroen           4666\n",
      "nissan            4543\n",
      "toyota            4305\n",
      "smart             4123\n",
      "hyundai           3251\n",
      "mini              3071\n",
      "volvo             2999\n",
      "mitsubishi        2747\n",
      "honda             2565\n",
      "kia               2274\n",
      "suzuki            2086\n",
      "alfa_romeo        2071\n",
      "chevrolet         1570\n",
      "chrysler          1304\n",
      "dacia              857\n",
      "daihatsu           720\n",
      "subaru             692\n",
      "porsche            652\n",
      "jeep               624\n",
      "land_rover         506\n",
      "saab               497\n",
      "jaguar             474\n",
      "daewoo             472\n",
      "lancia             423\n",
      "rover              384\n",
      "trabant            331\n",
      "lada               191\n",
      "Name: Brand, dtype: int64\n",
      "no         233819\n",
      "unknown     52723\n",
      "yes         32416\n",
      "Name: NotRepaired, dtype: int64\n"
     ]
    }
   ],
   "source": [
    "# посмотрим уникальные значения и их количество\n",
    "# в нечисловых столбцах\n",
    "col_list_unique = ['VehicleType', 'Gearbox', \n",
    "                   'Model', 'FuelType', 'Brand', \n",
    "                   'NotRepaired']\n",
    "for i in col_list_unique:\n",
    "    print(df[i].value_counts())"
   ]
  },
  {
   "cell_type": "markdown",
   "metadata": {},
   "source": [
    "- одних и тех же значений, записанных разными/похожими словами не обнаружили.\n",
    "- стемминг/лемматизация не требуется. "
   ]
  },
  {
   "cell_type": "code",
   "execution_count": 5,
   "metadata": {},
   "outputs": [
    {
     "data": {
      "text/html": [
       "<div>\n",
       "<style scoped>\n",
       "    .dataframe tbody tr th:only-of-type {\n",
       "        vertical-align: middle;\n",
       "    }\n",
       "\n",
       "    .dataframe tbody tr th {\n",
       "        vertical-align: top;\n",
       "    }\n",
       "\n",
       "    .dataframe thead th {\n",
       "        text-align: right;\n",
       "    }\n",
       "</style>\n",
       "<table border=\"1\" class=\"dataframe\">\n",
       "  <thead>\n",
       "    <tr style=\"text-align: right;\">\n",
       "      <th></th>\n",
       "      <th>Price</th>\n",
       "      <th>RegistrationYear</th>\n",
       "      <th>Power</th>\n",
       "      <th>Kilometer</th>\n",
       "      <th>RegistrationMonth</th>\n",
       "      <th>NumberOfPictures</th>\n",
       "      <th>PostalCode</th>\n",
       "    </tr>\n",
       "  </thead>\n",
       "  <tbody>\n",
       "    <tr>\n",
       "      <td>count</td>\n",
       "      <td>318958.000000</td>\n",
       "      <td>318958.000000</td>\n",
       "      <td>318958.000000</td>\n",
       "      <td>318958.000000</td>\n",
       "      <td>318958.000000</td>\n",
       "      <td>318958.0</td>\n",
       "      <td>318958.000000</td>\n",
       "    </tr>\n",
       "    <tr>\n",
       "      <td>mean</td>\n",
       "      <td>4608.905502</td>\n",
       "      <td>2003.427031</td>\n",
       "      <td>114.965265</td>\n",
       "      <td>128844.738179</td>\n",
       "      <td>5.908107</td>\n",
       "      <td>0.0</td>\n",
       "      <td>50766.394149</td>\n",
       "    </tr>\n",
       "    <tr>\n",
       "      <td>std</td>\n",
       "      <td>4564.241216</td>\n",
       "      <td>30.517461</td>\n",
       "      <td>185.627579</td>\n",
       "      <td>36620.680186</td>\n",
       "      <td>3.634281</td>\n",
       "      <td>0.0</td>\n",
       "      <td>25780.246706</td>\n",
       "    </tr>\n",
       "    <tr>\n",
       "      <td>min</td>\n",
       "      <td>0.000000</td>\n",
       "      <td>1000.000000</td>\n",
       "      <td>0.000000</td>\n",
       "      <td>5000.000000</td>\n",
       "      <td>0.000000</td>\n",
       "      <td>0.0</td>\n",
       "      <td>1067.000000</td>\n",
       "    </tr>\n",
       "    <tr>\n",
       "      <td>25%</td>\n",
       "      <td>1200.000000</td>\n",
       "      <td>1999.000000</td>\n",
       "      <td>75.000000</td>\n",
       "      <td>125000.000000</td>\n",
       "      <td>3.000000</td>\n",
       "      <td>0.0</td>\n",
       "      <td>30455.000000</td>\n",
       "    </tr>\n",
       "    <tr>\n",
       "      <td>50%</td>\n",
       "      <td>2900.000000</td>\n",
       "      <td>2003.000000</td>\n",
       "      <td>105.000000</td>\n",
       "      <td>150000.000000</td>\n",
       "      <td>6.000000</td>\n",
       "      <td>0.0</td>\n",
       "      <td>49610.000000</td>\n",
       "    </tr>\n",
       "    <tr>\n",
       "      <td>75%</td>\n",
       "      <td>6700.000000</td>\n",
       "      <td>2008.000000</td>\n",
       "      <td>143.000000</td>\n",
       "      <td>150000.000000</td>\n",
       "      <td>9.000000</td>\n",
       "      <td>0.0</td>\n",
       "      <td>71357.000000</td>\n",
       "    </tr>\n",
       "    <tr>\n",
       "      <td>max</td>\n",
       "      <td>20000.000000</td>\n",
       "      <td>9000.000000</td>\n",
       "      <td>20000.000000</td>\n",
       "      <td>150000.000000</td>\n",
       "      <td>12.000000</td>\n",
       "      <td>0.0</td>\n",
       "      <td>99998.000000</td>\n",
       "    </tr>\n",
       "  </tbody>\n",
       "</table>\n",
       "</div>"
      ],
      "text/plain": [
       "               Price  RegistrationYear          Power      Kilometer  \\\n",
       "count  318958.000000     318958.000000  318958.000000  318958.000000   \n",
       "mean     4608.905502       2003.427031     114.965265  128844.738179   \n",
       "std      4564.241216         30.517461     185.627579   36620.680186   \n",
       "min         0.000000       1000.000000       0.000000    5000.000000   \n",
       "25%      1200.000000       1999.000000      75.000000  125000.000000   \n",
       "50%      2900.000000       2003.000000     105.000000  150000.000000   \n",
       "75%      6700.000000       2008.000000     143.000000  150000.000000   \n",
       "max     20000.000000       9000.000000   20000.000000  150000.000000   \n",
       "\n",
       "       RegistrationMonth  NumberOfPictures     PostalCode  \n",
       "count      318958.000000          318958.0  318958.000000  \n",
       "mean            5.908107               0.0   50766.394149  \n",
       "std             3.634281               0.0   25780.246706  \n",
       "min             0.000000               0.0    1067.000000  \n",
       "25%             3.000000               0.0   30455.000000  \n",
       "50%             6.000000               0.0   49610.000000  \n",
       "75%             9.000000               0.0   71357.000000  \n",
       "max            12.000000               0.0   99998.000000  "
      ]
     },
     "metadata": {},
     "output_type": "display_data"
    },
    {
     "data": {
      "image/png": "[encoded data removed]",
      "text/plain": [
       "<Figure size 432x288 with 1 Axes>"
      ]
     },
     "metadata": {
      "needs_background": "light"
     },
     "output_type": "display_data"
    },
    {
     "data": {
      "image/png": "[encoded data removed]",
      "text/plain": [
       "<Figure size 432x288 with 1 Axes>"
      ]
     },
     "metadata": {
      "needs_background": "light"
     },
     "output_type": "display_data"
    },
    {
     "data": {
      "image/png": "[encoded data removed]",
      "text/plain": [
       "<Figure size 432x288 with 1 Axes>"
      ]
     },
     "metadata": {
      "needs_background": "light"
     },
     "output_type": "display_data"
    },
    {
     "data": {
      "image/png": "[encoded data removed]",
      "text/plain": [
       "<Figure size 432x288 with 1 Axes>"
      ]
     },
     "metadata": {
      "needs_background": "light"
     },
     "output_type": "display_data"
    },
    {
     "data": {
      "image/png": "[encoded data removed]",
      "text/plain": [
       "<Figure size 432x288 with 1 Axes>"
      ]
     },
     "metadata": {
      "needs_background": "light"
     },
     "output_type": "display_data"
    },
    {
     "data": {
      "image/png": "[encoded data removed]",
      "text/plain": [
       "<Figure size 432x288 with 1 Axes>"
      ]
     },
     "metadata": {
      "needs_background": "light"
     },
     "output_type": "display_data"
    },
    {
     "data": {
      "image/png": "[encoded data removed]",
      "text/plain": [
       "<Figure size 432x288 with 1 Axes>"
      ]
     },
     "metadata": {
      "needs_background": "light"
     },
     "output_type": "display_data"
    }
   ],
   "source": [
    "# посмотрим статистическу информацию\n",
    "display(df.describe())\n",
    "\n",
    "# посмотрим наличие выбросов в численных данных\n",
    "# с помощью диаграммы размаха\n",
    "col_list_outliers = ['Price', 'RegistrationYear', \n",
    "                     'Power', 'Kilometer', 'RegistrationMonth', \n",
    "                     'NumberOfPictures', 'PostalCode']\n",
    "\n",
    "for i in col_list_outliers:\n",
    "    df.boxplot(i) \n",
    "    plt.show()"
   ]
  },
  {
   "cell_type": "markdown",
   "metadata": {},
   "source": [
    "- в столбце Price минимальное нулевое значение\n",
    "- в столбце RegistrationYear минимальное значение года - 1000, а максимальное - 9000. Очевидно здесь выбросы. Нужно будет избавиться от них, выбрав диапазон.\n",
    "- в столбце Power минимальное значение 20000 л.с тоже является выбросом. Я дума, максимальная мощность не более 2000 л.с. поэтому здесь тоже нужно будет избавиться от таких значений.\n",
    "- в столбце NumberOfPictures вообще все данные нулевые и никакой нагрузки не несут, будут только мешать, поэтому удалим этот столбцев вообще.\n",
    "- остальные столбцы годятся."
   ]
  },
  {
   "cell_type": "code",
   "execution_count": 6,
   "metadata": {},
   "outputs": [
    {
     "data": {
      "text/html": [
       "<div>\n",
       "<style scoped>\n",
       "    .dataframe tbody tr th:only-of-type {\n",
       "        vertical-align: middle;\n",
       "    }\n",
       "\n",
       "    .dataframe tbody tr th {\n",
       "        vertical-align: top;\n",
       "    }\n",
       "\n",
       "    .dataframe thead th {\n",
       "        text-align: right;\n",
       "    }\n",
       "</style>\n",
       "<table border=\"1\" class=\"dataframe\">\n",
       "  <thead>\n",
       "    <tr style=\"text-align: right;\">\n",
       "      <th></th>\n",
       "      <th>Price</th>\n",
       "      <th>RegistrationYear</th>\n",
       "      <th>Power</th>\n",
       "      <th>Kilometer</th>\n",
       "      <th>RegistrationMonth</th>\n",
       "    </tr>\n",
       "  </thead>\n",
       "  <tbody>\n",
       "    <tr>\n",
       "      <td>count</td>\n",
       "      <td>285703.000000</td>\n",
       "      <td>285703.000000</td>\n",
       "      <td>285703.00000</td>\n",
       "      <td>285703.000000</td>\n",
       "      <td>285703.000000</td>\n",
       "    </tr>\n",
       "    <tr>\n",
       "      <td>mean</td>\n",
       "      <td>4829.103832</td>\n",
       "      <td>2002.943879</td>\n",
       "      <td>121.79346</td>\n",
       "      <td>128493.908009</td>\n",
       "      <td>6.031141</td>\n",
       "    </tr>\n",
       "    <tr>\n",
       "      <td>std</td>\n",
       "      <td>4630.333665</td>\n",
       "      <td>6.147512</td>\n",
       "      <td>62.46829</td>\n",
       "      <td>36526.568538</td>\n",
       "      <td>3.568974</td>\n",
       "    </tr>\n",
       "    <tr>\n",
       "      <td>min</td>\n",
       "      <td>0.000000</td>\n",
       "      <td>1970.000000</td>\n",
       "      <td>1.00000</td>\n",
       "      <td>5000.000000</td>\n",
       "      <td>0.000000</td>\n",
       "    </tr>\n",
       "    <tr>\n",
       "      <td>25%</td>\n",
       "      <td>1300.000000</td>\n",
       "      <td>1999.000000</td>\n",
       "      <td>78.00000</td>\n",
       "      <td>125000.000000</td>\n",
       "      <td>3.000000</td>\n",
       "    </tr>\n",
       "    <tr>\n",
       "      <td>50%</td>\n",
       "      <td>3150.000000</td>\n",
       "      <td>2003.000000</td>\n",
       "      <td>113.00000</td>\n",
       "      <td>150000.000000</td>\n",
       "      <td>6.000000</td>\n",
       "    </tr>\n",
       "    <tr>\n",
       "      <td>75%</td>\n",
       "      <td>6999.000000</td>\n",
       "      <td>2007.000000</td>\n",
       "      <td>150.00000</td>\n",
       "      <td>150000.000000</td>\n",
       "      <td>9.000000</td>\n",
       "    </tr>\n",
       "    <tr>\n",
       "      <td>max</td>\n",
       "      <td>20000.000000</td>\n",
       "      <td>2016.000000</td>\n",
       "      <td>2000.00000</td>\n",
       "      <td>150000.000000</td>\n",
       "      <td>12.000000</td>\n",
       "    </tr>\n",
       "  </tbody>\n",
       "</table>\n",
       "</div>"
      ],
      "text/plain": [
       "               Price  RegistrationYear         Power      Kilometer  \\\n",
       "count  285703.000000     285703.000000  285703.00000  285703.000000   \n",
       "mean     4829.103832       2002.943879     121.79346  128493.908009   \n",
       "std      4630.333665          6.147512      62.46829   36526.568538   \n",
       "min         0.000000       1970.000000       1.00000    5000.000000   \n",
       "25%      1300.000000       1999.000000      78.00000  125000.000000   \n",
       "50%      3150.000000       2003.000000     113.00000  150000.000000   \n",
       "75%      6999.000000       2007.000000     150.00000  150000.000000   \n",
       "max     20000.000000       2016.000000    2000.00000  150000.000000   \n",
       "\n",
       "       RegistrationMonth  \n",
       "count      285703.000000  \n",
       "mean            6.031141  \n",
       "std             3.568974  \n",
       "min             0.000000  \n",
       "25%             3.000000  \n",
       "50%             6.000000  \n",
       "75%             9.000000  \n",
       "max            12.000000  "
      ]
     },
     "metadata": {},
     "output_type": "display_data"
    }
   ],
   "source": [
    "# удалим столбецы NumberOfPictures, PostalCode и\n",
    "# столбцы с времением 'DateCrawled', 'DateCreated', 'LastSeen'\n",
    "# т.к. не умею с ними работать\n",
    "df = df.drop(columns = ['NumberOfPictures', 'DateCrawled', \n",
    "                        'DateCreated', 'LastSeen', 'PostalCode'])\n",
    "\n",
    "# удалим выбросы\n",
    "df = df.query('1970<=RegistrationYear<=2016 and 0<Power<=2000')\n",
    "\n",
    "# посмотрим статистическу информацию\n",
    "display(df.describe())"
   ]
  },
  {
   "cell_type": "markdown",
   "metadata": {},
   "source": [
    "- теперь данные готовы для работы. приступим к следующему этапу."
   ]
  },
  {
   "cell_type": "markdown",
   "metadata": {},
   "source": [
    "#### 3-bullet\n",
    "#### Часть 2: Обучение моделей\n",
    "1. Обучение моделей и поиск лучших на основе метрики RMSE."
   ]
  },
  {
   "cell_type": "code",
   "execution_count": 7,
   "metadata": {},
   "outputs": [],
   "source": [
    "# преобразуем данные техникой OHE\n",
    "df_ohe = pd.get_dummies(df, drop_first=True)\n",
    "\n",
    "# получим и сохраним признаки и целевой признак\n",
    "features = df_ohe.drop(['Price'], axis=1)\n",
    "target = df_ohe['Price']\n",
    "\n",
    "# сохраним значение параметра random_state в переменной\n",
    "my_random_state = 123\n",
    "\n",
    "# разделим на две выборки: на тестовую и для обучения с валидацией\n",
    "f_train_valid, f_test, t_train_valid, t_test = (\n",
    "            train_test_split(features, target, test_size=0.20, \n",
    "                             random_state=my_random_state))\n",
    "\n",
    "# разделим на две выборки обучающую с валидационной выборку\n",
    "f_train, f_valid, t_train, t_valid = (\n",
    "            train_test_split(f_train_valid, t_train_valid, \n",
    "                             test_size=0.25,\n",
    "                             random_state=my_random_state))"
   ]
  },
  {
   "cell_type": "code",
   "execution_count": 9,
   "metadata": {},
   "outputs": [],
   "source": [
    "import warnings\n",
    "warnings.filterwarnings('ignore')"
   ]
  },
  {
   "cell_type": "code",
   "execution_count": 10,
   "metadata": {},
   "outputs": [],
   "source": [
    "# создадим спискок численных признаков, подлежащих стандартизации   \n",
    "numeric = ['RegistrationYear', 'Power', \n",
    "           'Kilometer', 'RegistrationMonth']\n",
    "\n",
    "# создадим список выборок подлежащих масштабированию\n",
    "scaler_list = [f_train_valid, f_test,  \n",
    "               f_train, f_valid]\n",
    "\n",
    "# создадим цикл\n",
    "for i in scaler_list:\n",
    "    # вызовем преобразователь масштаба и настоим его на признаках\n",
    "    scaler = StandardScaler()\n",
    "    scaler.fit(i.loc[:, numeric]) \n",
    "\n",
    "    # преобразуем признаки\n",
    "    i.loc[:, numeric] = scaler.transform(i.loc[:, numeric])"
   ]
  },
  {
   "cell_type": "markdown",
   "metadata": {},
   "source": [
    "- далее найдем оптимальные гиперпараметры моделей, ориентируясь на метрику RMSE.\n",
    "\n",
    "обучим модель линейная регрессия и найдем значение метрики RMSE."
   ]
  },
  {
   "cell_type": "code",
   "execution_count": 9,
   "metadata": {},
   "outputs": [
    {
     "name": "stdout",
     "output_type": "stream",
     "text": [
      "RMSE модели линейной регрессии на валидационной выборке: 2632.52\n"
     ]
    }
   ],
   "source": [
    "model = LinearRegression(normalize=True)\n",
    "model.fit(f_train, t_train) # обучите модель на тренировочной выборке\n",
    "predictions_valid = model.predict(f_valid) # получите предсказания модели на валидационной выборке\n",
    "\n",
    "result = mean_squared_error(t_valid, predictions_valid) ** 0.5# посчитайте значение метрики RMSE на валидационной выборке\n",
    "print(\"RMSE модели линейной регрессии на валидационной выборке: %.2f\" % result)"
   ]
  },
  {
   "cell_type": "markdown",
   "metadata": {},
   "source": [
    "обучим модель случайный лес и найдем значение метрики RMSE лучшей модели."
   ]
  },
  {
   "cell_type": "code",
   "execution_count": 10,
   "metadata": {},
   "outputs": [
    {
     "name": "stdout",
     "output_type": "stream",
     "text": [
      "RMSE наилучшей модели на валидационной выборке: 1746.92 Количество деревьев: 16 Максимальная глубина: 20\n"
     ]
    }
   ],
   "source": [
    "best_model = None\n",
    "best_result = 10000\n",
    "best_est = 0\n",
    "best_depth = 0\n",
    "for est in range(1, 21, 5):\n",
    "    for depth in range (1, 21):\n",
    "        # сохраним модель с искомыми гиперпараметрами\n",
    "        model = RandomForestRegressor(random_state=my_random_state, \n",
    "                                      n_estimators=est, \n",
    "                                      max_depth=depth)\n",
    "        # обучим модель\n",
    "        model.fit(f_train, t_train) \n",
    "        # получим предсказания по валидационной выборке \n",
    "        predicted_valid = model.predict(f_valid) \n",
    "        # найдем значения метрики         \n",
    "        result = mean_squared_error(t_valid, predicted_valid) ** 0.5\n",
    "        \n",
    "        \n",
    "        # найдем лучшую модель\n",
    "        if result < best_result:\n",
    "            best_model = model\n",
    "            best_result = result\n",
    "            best_est = est\n",
    "            best_depth = depth\n",
    "                       \n",
    "            \n",
    "# выведем на экран качество лучшей модели, количество деревьев и глубина\n",
    "print(\"RMSE наилучшей модели на валидационной выборке: %.2f\" % best_result, \n",
    "      \"Количество деревьев:\", best_est, \"Максимальная глубина:\", best_depth) "
   ]
  },
  {
   "cell_type": "markdown",
   "metadata": {},
   "source": [
    "- получили RMSE наилучшей модели случайный лес на валидационной выборке: 1706.50 со следующими гиперпараметрами: количество деревьев: 16, максимальная глубина: 20."
   ]
  },
  {
   "cell_type": "markdown",
   "metadata": {},
   "source": [
    "обучим модель, используя LightGBM, и найдем значение метрики RMSE лучшей модели."
   ]
  },
  {
   "cell_type": "code",
   "execution_count": 11,
   "metadata": {},
   "outputs": [
    {
     "name": "stdout",
     "output_type": "stream",
     "text": [
      "RMSE наилучшей модели на валидационной выборке: 2301.78 Количество деревьев: 16 Максимальная глубина: 10\n"
     ]
    }
   ],
   "source": [
    "best_model = None\n",
    "best_result = 10000\n",
    "best_est = 0\n",
    "best_depth = 0\n",
    "for est in range(1, 21, 5):\n",
    "    for depth in range (1, 21):\n",
    "        # сохраним модель с искомыми гиперпараметрами\n",
    "        model = LGBMRegressor(random_state=my_random_state, \n",
    "                              n_estimators=est, \n",
    "                              max_depth=depth)\n",
    "        # обучим модель\n",
    "        model.fit(f_train, t_train) \n",
    "        # получим предсказания по валидационной выборке \n",
    "        predicted_valid = model.predict(f_valid) \n",
    "        # найдем значения метрики         \n",
    "        result = mean_squared_error(t_valid, predicted_valid) ** 0.5\n",
    "        \n",
    "        # найдем лучшую модель\n",
    "        if result < best_result:\n",
    "            best_model = model\n",
    "            best_result = result\n",
    "            best_est = est\n",
    "            best_depth = depth                      \n",
    "            \n",
    "# выведем на экран качество лучшей модели, количество деревьев и глубина\n",
    "print(\"RMSE наилучшей модели на валидационной выборке: %.2f\" % best_result, \n",
    "      \"Количество деревьев:\", best_est, \"Максимальная глубина:\", best_depth) "
   ]
  },
  {
   "cell_type": "markdown",
   "metadata": {},
   "source": [
    "- получили RMSE наилучшей модели LGBMRegressor на валидационной выборке: 2283.25 со следующими гиперпараметрами: количество деревьев: 16, максимальная глубина: 12"
   ]
  },
  {
   "cell_type": "markdown",
   "metadata": {},
   "source": [
    "#### 4-bullet\n",
    "#### Часть 3: Анализ моделей\n",
    "1. Анализ времени работы моделей и их качества."
   ]
  },
  {
   "cell_type": "markdown",
   "metadata": {},
   "source": [
    "далее заново обучим модели с найденными гиперпараметрами на обучающей+валидационной выборке, а значение метрики найдем по тестовой выборке. также найдем время работы каждой модели.\n",
    "\n",
    "начнем с модели линейная регрессия."
   ]
  },
  {
   "cell_type": "code",
   "execution_count": 12,
   "metadata": {},
   "outputs": [
    {
     "name": "stdout",
     "output_type": "stream",
     "text": [
      "RMSE модели линейная регрессия на тестовой выборке: 2616.20\n",
      "Время работы модели: 25.81276559829712 сек. (Wall clock time)\n"
     ]
    }
   ],
   "source": [
    "# зададим начальное время для счетчика времени\n",
    "start_time = time.time()\n",
    "\n",
    "# обучим модель на train + valid выборке\n",
    "model = LinearRegression(normalize=True)\n",
    "model.fit(f_train_valid, t_train_valid) \n",
    "# получим предсказания модели на тестовой выборке\n",
    "predictions_test = model.predict(f_test) \n",
    "# найдем значения метрики \n",
    "result_1 = mean_squared_error(t_test, predictions_test) ** 0.5\n",
    "\n",
    "# выведем на экран качество модели\n",
    "print(\"RMSE модели линейная регрессия на тестовой выборке: %.2f\" % result_1)\n",
    "\n",
    "# найдем истекшее время\n",
    "elapsed_time_1 = time.time() - start_time\n",
    "# вывыдем на экран\n",
    "print(\"Время работы модели: %s сек. (Wall clock time)\" % elapsed_time_1)"
   ]
  },
  {
   "cell_type": "code",
   "execution_count": 13,
   "metadata": {},
   "outputs": [
    {
     "name": "stdout",
     "output_type": "stream",
     "text": [
      "RMSE модели случайный лес на тестовой выборке: 1857.57\n",
      "Время работы модели: 62.33349967002869 сек. (Wall clock time)\n"
     ]
    }
   ],
   "source": [
    "# зададим начальное время для счетчика времени\n",
    "start_time = time.time()\n",
    "\n",
    "# сохраним модель с искомыми гиперпараметрами\n",
    "model = RandomForestRegressor(random_state=my_random_state, \n",
    "                              n_estimators=16, \n",
    "                              max_depth=12)\n",
    "# обучим модель\n",
    "model.fit(f_train_valid, t_train_valid) \n",
    "# получим предсказания по тестовой выборке \n",
    "predictions_test = model.predict(f_test) \n",
    "# найдем значения метрики         \n",
    "result_2 = mean_squared_error(t_test, predictions_test) ** 0.5\n",
    "\n",
    "# выведем на экран качество модели\n",
    "print(\"RMSE модели случайный лес на тестовой выборке: %.2f\" % result_2)\n",
    "\n",
    "# найдем истекшее время\n",
    "elapsed_time_2 = time.time() - start_time\n",
    "# вывыдем на экран\n",
    "print(\"Время работы модели: %s сек. (Wall clock time)\" % elapsed_time_2)"
   ]
  },
  {
   "cell_type": "code",
   "execution_count": 14,
   "metadata": {},
   "outputs": [
    {
     "name": "stdout",
     "output_type": "stream",
     "text": [
      "RMSE модели LGBMRegressor на тестовой выборке: 2264.71\n",
      "Время работы модели: 4.962637424468994 сек. (Wall clock time)\n"
     ]
    }
   ],
   "source": [
    "# зададим начальное время для счетчика времени\n",
    "start_time = time.time()\n",
    "\n",
    "# сохраним модель с искомыми гиперпараметрами\n",
    "model = LGBMRegressor(random_state=my_random_state, \n",
    "                              n_estimators=16, \n",
    "                              max_depth=12) \n",
    "# обучим модель\n",
    "model.fit(f_train_valid, t_train_valid) \n",
    "# получим предсказания \n",
    "predictions_test = model.predict(f_test) \n",
    "# найдем значения метрики         \n",
    "result_3 = mean_squared_error(t_test, predictions_test) ** 0.5\n",
    "\n",
    "# выведем на экран качество лучшей модели\n",
    "print(\"RMSE модели LGBMRegressor на тестовой выборке: %.2f\" % result_3)       \n",
    "\n",
    "# найдем истекшее время\n",
    "elapsed_time_3 = time.time() - start_time\n",
    "# вывыдем на экран\n",
    "print(\"Время работы модели: %s сек. (Wall clock time)\" % elapsed_time_3)"
   ]
  },
  {
   "cell_type": "markdown",
   "metadata": {},
   "source": [
    "сведем получившуюся информацию в таблицу и представим в виде графиков."
   ]
  },
  {
   "cell_type": "code",
   "execution_count": 15,
   "metadata": {},
   "outputs": [
    {
     "data": {
      "text/html": [
       "<div>\n",
       "<style scoped>\n",
       "    .dataframe tbody tr th:only-of-type {\n",
       "        vertical-align: middle;\n",
       "    }\n",
       "\n",
       "    .dataframe tbody tr th {\n",
       "        vertical-align: top;\n",
       "    }\n",
       "\n",
       "    .dataframe thead th {\n",
       "        text-align: right;\n",
       "    }\n",
       "</style>\n",
       "<table border=\"1\" class=\"dataframe\">\n",
       "  <thead>\n",
       "    <tr style=\"text-align: right;\">\n",
       "      <th></th>\n",
       "      <th>RMSE</th>\n",
       "      <th>Time</th>\n",
       "    </tr>\n",
       "  </thead>\n",
       "  <tbody>\n",
       "    <tr>\n",
       "      <td>LinearRegression</td>\n",
       "      <td>2616.204761</td>\n",
       "      <td>25.812766</td>\n",
       "    </tr>\n",
       "    <tr>\n",
       "      <td>RandomForestRegressor</td>\n",
       "      <td>1857.571826</td>\n",
       "      <td>62.333500</td>\n",
       "    </tr>\n",
       "    <tr>\n",
       "      <td>LGBMRegressor</td>\n",
       "      <td>2264.713868</td>\n",
       "      <td>4.962637</td>\n",
       "    </tr>\n",
       "  </tbody>\n",
       "</table>\n",
       "</div>"
      ],
      "text/plain": [
       "                              RMSE       Time\n",
       "LinearRegression       2616.204761  25.812766\n",
       "RandomForestRegressor  1857.571826  62.333500\n",
       "LGBMRegressor          2264.713868   4.962637"
      ]
     },
     "metadata": {},
     "output_type": "display_data"
    }
   ],
   "source": [
    "# создадим словарь, в который запишем качество и время\n",
    "# каждой модели\n",
    "models_quality = {'LinearRegression': [result_1, elapsed_time_1],\n",
    "                 'RandomForestRegressor': [result_2, elapsed_time_2],\n",
    "                 'LGBMRegressor': [result_3, elapsed_time_3]}\n",
    "\n",
    "# создадим датафрейм и выведем на экран\n",
    "models_quality = pd.DataFrame(models_quality, index=['RMSE', 'Time']).T\n",
    "display(models_quality)"
   ]
  },
  {
   "cell_type": "code",
   "execution_count": 16,
   "metadata": {},
   "outputs": [
    {
     "data": {
      "image/png": "[encoded data removed]",
      "text/plain": [
       "<Figure size 432x288 with 1 Axes>"
      ]
     },
     "metadata": {
      "needs_background": "light"
     },
     "output_type": "display_data"
    },
    {
     "data": {
      "image/png": "[encoded data removed]",
      "text/plain": [
       "<Figure size 432x288 with 1 Axes>"
      ]
     },
     "metadata": {
      "needs_background": "light"
     },
     "output_type": "display_data"
    }
   ],
   "source": [
    "# построим графики показателей качества и времени\n",
    "models_quality['RMSE'].plot(style='o-', xlim=(-0.2, 2.2), legend=True, grid=True)\n",
    "plt.title('RMSE values')\n",
    "plt.show()\n",
    "models_quality['Time'].plot(style='o-', xlim=(-0.2, 2.2), legend=True, grid=True)\n",
    "plt.title('Time values')\n",
    "plt.show()"
   ]
  },
  {
   "cell_type": "markdown",
   "metadata": {},
   "source": [
    "## Вывод:\n",
    "\n",
    "получили следующие результаты:\n",
    "\n",
    "- лучшее время с большим отрывом показала модель LGBMRegressor - 4,64 сек., затем линейная регрессия - 27,2 сек. и модель случайный лес - 1 мин. 4 сек.\n",
    "\n",
    "- лучшее качество (метрика RMSE) показала модель случайный лес - 1857, далее модель LGBMRegressor - 2264 и худшее показала линейная регрессия - 2616.\n",
    "\n",
    "Таким образом, модель LGBMRegressor показала среднее качество, но очень высокую скорость."
   ]
  }
 ],
 "metadata": {
  "kernelspec": {
   "display_name": "Python 3",
   "language": "python",
   "name": "python3"
  },
  "language_info": {
   "codemirror_mode": {
    "name": "ipython",
    "version": 3
   },
   "file_extension": ".py",
   "mimetype": "text/x-python",
   "name": "python",
   "nbconvert_exporter": "python",
   "pygments_lexer": "ipython3",
   "version": "3.7.8"
  },
  "toc": {
   "base_numbering": 1,
   "nav_menu": {},
   "number_sections": false,
   "sideBar": true,
   "skip_h1_title": true,
   "title_cell": "Table of Contents",
   "title_sidebar": "Contents",
   "toc_cell": false,
   "toc_position": {
    "height": "calc(100% - 180px)",
    "left": "10px",
    "top": "150px",
    "width": "255.594px"
   },
   "toc_section_display": true,
   "toc_window_display": false
  }
 },
 "nbformat": 4,
 "nbformat_minor": 2
}
