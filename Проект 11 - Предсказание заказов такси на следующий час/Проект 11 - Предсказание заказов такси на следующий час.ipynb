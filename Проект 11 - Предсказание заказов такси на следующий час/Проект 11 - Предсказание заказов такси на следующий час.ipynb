{
 "cells": [
  {
   "cell_type": "markdown",
   "metadata": {},
   "source": [
    "# Прототип модели предсказания количества заказов такси на следующий час для компании \"Четенькое такси\""
   ]
  },
  {
   "cell_type": "markdown",
   "metadata": {},
   "source": [
    "Задача - добиться значения метрики RMSE менее 48."
   ]
  },
  {
   "cell_type": "markdown",
   "metadata": {},
   "source": [
    "______\n",
    "\n",
    "#### Данное исследование разделим на несколько частей.\n",
    "______________________\n",
    "### Часть 1: Подготовка данных\n",
    "* [1. Загрузка библиотек, загрузка данных и ресесплирование данных.](#1-bullet)\n",
    "\n",
    "### Часть 2: Анализ данных\n",
    "* [1. Предобработка данных.](#2-bullet)\n",
    "\n",
    "### Часть 3: Обучение моделей\n",
    "* [1. Создание новых признаков.](#3-bullet)\n",
    "* [2. Разделение данных на обучающую, валидационную и тестовую выборки, выделение целевого признака.](#4-bullet)\n",
    "* [3. Поиск и обучение лучшей модели с различными гиперпараметрами на на валидационной выборке на основании метрики RMSE..](#5-bullet)\n",
    "\n",
    "### Часть 4: Проверака моделей\n",
    "* [1. Проверка моделей на тестовой выборке на основании метрики RMSE.](#6-bullet)"
   ]
  },
  {
   "cell_type": "markdown",
   "metadata": {},
   "source": [
    "#### Описание данных:\n",
    "\n",
    "- datetime - Дата и время заказа.\n",
    "- num_orders - Число заказов."
   ]
  },
  {
   "cell_type": "markdown",
   "metadata": {},
   "source": [
    "#### 1-bullet\n",
    "#### Часть 1: Подготовка данных\n",
    "1. Загрузка библиотек, загрузка данных и ресесплирование данных."
   ]
  },
  {
   "cell_type": "code",
   "execution_count": 1,
   "metadata": {},
   "outputs": [],
   "source": [
    "# загрузим необходимые библиотеки\n",
    "import pandas as pd\n",
    "import numpy as np\n",
    "from sklearn.linear_model import LinearRegression\n",
    "from sklearn.tree import DecisionTreeRegressor\n",
    "from sklearn.ensemble import RandomForestRegressor\n",
    "from lightgbm import LGBMRegressor\n",
    "from sklearn.metrics import mean_squared_error\n",
    "from sklearn.model_selection import train_test_split\n",
    "from sklearn.preprocessing import StandardScaler\n",
    "from matplotlib import pyplot as plt\n",
    "from statsmodels.tsa.seasonal import seasonal_decompose"
   ]
  },
  {
   "cell_type": "code",
   "execution_count": 2,
   "metadata": {},
   "outputs": [
    {
     "name": "stdout",
     "output_type": "stream",
     "text": [
      "<class 'pandas.core.frame.DataFrame'>\n",
      "DatetimeIndex: 4416 entries, 2018-03-01 00:00:00 to 2018-08-31 23:00:00\n",
      "Freq: H\n",
      "Data columns (total 1 columns):\n",
      "num_orders    4416 non-null int64\n",
      "dtypes: int64(1)\n",
      "memory usage: 69.0 KB\n"
     ]
    },
    {
     "data": {
      "text/plain": [
       "None"
      ]
     },
     "metadata": {},
     "output_type": "display_data"
    },
    {
     "data": {
      "text/html": [
       "<div>\n",
       "<style scoped>\n",
       "    .dataframe tbody tr th:only-of-type {\n",
       "        vertical-align: middle;\n",
       "    }\n",
       "\n",
       "    .dataframe tbody tr th {\n",
       "        vertical-align: top;\n",
       "    }\n",
       "\n",
       "    .dataframe thead th {\n",
       "        text-align: right;\n",
       "    }\n",
       "</style>\n",
       "<table border=\"1\" class=\"dataframe\">\n",
       "  <thead>\n",
       "    <tr style=\"text-align: right;\">\n",
       "      <th></th>\n",
       "      <th>num_orders</th>\n",
       "    </tr>\n",
       "    <tr>\n",
       "      <th>datetime</th>\n",
       "      <th></th>\n",
       "    </tr>\n",
       "  </thead>\n",
       "  <tbody>\n",
       "    <tr>\n",
       "      <td>2018-03-01 00:00:00</td>\n",
       "      <td>124</td>\n",
       "    </tr>\n",
       "    <tr>\n",
       "      <td>2018-03-01 01:00:00</td>\n",
       "      <td>85</td>\n",
       "    </tr>\n",
       "    <tr>\n",
       "      <td>2018-03-01 02:00:00</td>\n",
       "      <td>71</td>\n",
       "    </tr>\n",
       "    <tr>\n",
       "      <td>2018-03-01 03:00:00</td>\n",
       "      <td>66</td>\n",
       "    </tr>\n",
       "    <tr>\n",
       "      <td>2018-03-01 04:00:00</td>\n",
       "      <td>43</td>\n",
       "    </tr>\n",
       "  </tbody>\n",
       "</table>\n",
       "</div>"
      ],
      "text/plain": [
       "                     num_orders\n",
       "datetime                       \n",
       "2018-03-01 00:00:00         124\n",
       "2018-03-01 01:00:00          85\n",
       "2018-03-01 02:00:00          71\n",
       "2018-03-01 03:00:00          66\n",
       "2018-03-01 04:00:00          43"
      ]
     },
     "metadata": {},
     "output_type": "display_data"
    }
   ],
   "source": [
    "# прочитаем файл, сразу же преоборазовав даты и время в нужный формат\n",
    "# при этом дату и время сделаем индексом и сделаем ресеплирование по 1 часу\n",
    "df = pd.read_csv('/datasets/taxi.csv', \n",
    "                 index_col=[0], parse_dates=[0])\n",
    "df.sort_index(inplace=True)\n",
    "df = df.resample('1H').sum()\n",
    "\n",
    "# получим общую информацию и откроем 5 строк таблицы\n",
    "display(df.info())\n",
    "display(df.head())"
   ]
  },
  {
   "cell_type": "markdown",
   "metadata": {},
   "source": [
    "- получили временной ряд с 1 марта 2018 года по 31 августа 2018 года. всего 4416 наблюдений. все значения имеют целочисленный тип."
   ]
  },
  {
   "cell_type": "markdown",
   "metadata": {},
   "source": [
    "#### 2-bullet\n",
    "#### Часть 2: Анализ данных\n",
    "1. Предобработка данных."
   ]
  },
  {
   "cell_type": "code",
   "execution_count": 3,
   "metadata": {},
   "outputs": [
    {
     "data": {
      "text/html": [
       "<div>\n",
       "<style scoped>\n",
       "    .dataframe tbody tr th:only-of-type {\n",
       "        vertical-align: middle;\n",
       "    }\n",
       "\n",
       "    .dataframe tbody tr th {\n",
       "        vertical-align: top;\n",
       "    }\n",
       "\n",
       "    .dataframe thead th {\n",
       "        text-align: right;\n",
       "    }\n",
       "</style>\n",
       "<table border=\"1\" class=\"dataframe\">\n",
       "  <thead>\n",
       "    <tr style=\"text-align: right;\">\n",
       "      <th></th>\n",
       "      <th>num_orders</th>\n",
       "    </tr>\n",
       "  </thead>\n",
       "  <tbody>\n",
       "    <tr>\n",
       "      <td>count</td>\n",
       "      <td>4416.000000</td>\n",
       "    </tr>\n",
       "    <tr>\n",
       "      <td>mean</td>\n",
       "      <td>84.422781</td>\n",
       "    </tr>\n",
       "    <tr>\n",
       "      <td>std</td>\n",
       "      <td>45.023853</td>\n",
       "    </tr>\n",
       "    <tr>\n",
       "      <td>min</td>\n",
       "      <td>0.000000</td>\n",
       "    </tr>\n",
       "    <tr>\n",
       "      <td>25%</td>\n",
       "      <td>54.000000</td>\n",
       "    </tr>\n",
       "    <tr>\n",
       "      <td>50%</td>\n",
       "      <td>78.000000</td>\n",
       "    </tr>\n",
       "    <tr>\n",
       "      <td>75%</td>\n",
       "      <td>107.000000</td>\n",
       "    </tr>\n",
       "    <tr>\n",
       "      <td>max</td>\n",
       "      <td>462.000000</td>\n",
       "    </tr>\n",
       "  </tbody>\n",
       "</table>\n",
       "</div>"
      ],
      "text/plain": [
       "        num_orders\n",
       "count  4416.000000\n",
       "mean     84.422781\n",
       "std      45.023853\n",
       "min       0.000000\n",
       "25%      54.000000\n",
       "50%      78.000000\n",
       "75%     107.000000\n",
       "max     462.000000"
      ]
     },
     "metadata": {},
     "output_type": "display_data"
    }
   ],
   "source": [
    "# узнаем характеристи значений\n",
    "display(df.describe())"
   ]
  },
  {
   "cell_type": "code",
   "execution_count": 4,
   "metadata": {},
   "outputs": [
    {
     "data": {
      "image/png": "[encoded data removed]",
      "text/plain": [
       "<Figure size 432x288 with 1 Axes>"
      ]
     },
     "metadata": {
      "needs_background": "light"
     },
     "output_type": "display_data"
    }
   ],
   "source": [
    "# построим ящик с усами\n",
    "df.boxplot()\n",
    "plt.show()"
   ]
  },
  {
   "cell_type": "code",
   "execution_count": 5,
   "metadata": {},
   "outputs": [
    {
     "data": {
      "image/png": "[encoded data removed]",
      "text/plain": [
       "<Figure size 432x576 with 3 Axes>"
      ]
     },
     "metadata": {
      "needs_background": "light"
     },
     "output_type": "display_data"
    }
   ],
   "source": [
    "# применим к нашим данным функцию разложения временного ряда\n",
    "# на тренд, сезонность и шум\n",
    "decomposed = seasonal_decompose(df)\n",
    "\n",
    "# построим графики\n",
    "plt.figure(figsize=(6, 8))\n",
    "# график тренда\n",
    "plt.subplot(311)\n",
    "decomposed.trend.plot(ax=plt.gca())\n",
    "plt.title('Trend')\n",
    "# график сезонности\n",
    "plt.subplot(312)\n",
    "decomposed.seasonal.plot(ax=plt.gca())\n",
    "plt.title('Seasonality')\n",
    "# график шумов\n",
    "plt.subplot(313)\n",
    "decomposed.resid.plot(ax=plt.gca())\n",
    "plt.title('Residuals')\n",
    "plt.tight_layout()"
   ]
  },
  {
   "cell_type": "markdown",
   "metadata": {},
   "source": [
    "- пришли к выводу, что наши данные не имеют сезонности, зато имеется четкий восходящий тренд.\n",
    "- при этом также имеется и остаток декомпозиции преимущественно в небольшом диапазоне, лишь со второй половины августа этот диапазон расширяется."
   ]
  },
  {
   "cell_type": "markdown",
   "metadata": {},
   "source": [
    "#### 3-bullet \n",
    "#### Часть 3: Обучение моделей\n",
    "1. Создание новых признаков."
   ]
  },
  {
   "cell_type": "markdown",
   "metadata": {},
   "source": [
    "- создадим функцию, которая на вход принимает данные, величину сдвига, размер окна и добавляет к данным календарные признаки (в нашем случае мы можем добавить день недели и час), отстающие значения и скользящее среднее. "
   ]
  },
  {
   "cell_type": "code",
   "execution_count": 6,
   "metadata": {},
   "outputs": [],
   "source": [
    "def make_features(data, max_lag, rolling_mean_size):\n",
    "    # создадим календарные признаки\n",
    "    data['dayofweek'] = data.index.dayofweek\n",
    "    data['hour'] = data.index.hour\n",
    "    # создадим цикл для установки сдвига(отставания) с задаваемой величиной\n",
    "    for lag in range(1, max_lag + 1):\n",
    "        data['lag_{}'.format(lag)] = (data['num_orders'].\n",
    "                                      shift(lag))\n",
    "    # создадим признак скользящего среднего с задаваемой величиной\n",
    "    data['rolling_mean'] = (data['num_orders'].\n",
    "                            shift().rolling(rolling_mean_size).\n",
    "                            mean())"
   ]
  },
  {
   "cell_type": "code",
   "execution_count": 7,
   "metadata": {},
   "outputs": [
    {
     "name": "stdout",
     "output_type": "stream",
     "text": [
      "                     num_orders  dayofweek  hour  lag_1  rolling_mean\n",
      "datetime                                                             \n",
      "2018-08-13 02:00:00         437          0     2  273.0         216.5\n",
      "2018-08-20 02:00:00         462          0     2  272.0         236.0\n",
      "2018-08-27 02:00:00         408          0     2  222.0         242.5\n",
      "2018-08-27 04:00:00         295          0     4  208.0         308.0\n",
      "2018-08-30 17:00:00         342          3    17  254.0         205.0\n"
     ]
    }
   ],
   "source": [
    "# применим функцию применив произвольные данные\n",
    "# для того, чтобы посмотреть день и час у выбросов\n",
    "make_features(df, 1, 2)\n",
    "\n",
    "# посмотрим признаки значений более 290\n",
    "print(df.query('num_orders > 290'))"
   ]
  },
  {
   "cell_type": "markdown",
   "metadata": {},
   "source": [
    "- пришли к выводу, что все выбивающиеся значения были в августе, в основном по понедельникам в 2 часа. \n",
    "- пришли к выводу, что эти значения не являются выбросами, поскольку являются составной частью восходящего тренда и объяснимы сезоном отпусков."
   ]
  },
  {
   "cell_type": "code",
   "execution_count": 8,
   "metadata": {},
   "outputs": [],
   "source": [
    "# применим функцию применив произвольные данные\n",
    "# для проверки работоспособности\n",
    "make_features(df, 2, 1)"
   ]
  },
  {
   "cell_type": "markdown",
   "metadata": {},
   "source": [
    "#### 4-bullet \n",
    "#### Часть 3: Обучение моделей\n",
    "2. Разделение данных на обучающую, валидационную и тестовую выборки, выделение целевого признака."
   ]
  },
  {
   "cell_type": "markdown",
   "metadata": {},
   "source": [
    "- создадим функцию, которая на вход будет принимать данные, а возвращать обучающую, валидационную и тестовую выборки. при этом размер тествой выборки зададим 10%, перемешивание данных отключим, удалим пропуски в признаках, а также получим признаки и целевой признак."
   ]
  },
  {
   "cell_type": "code",
   "execution_count": 8,
   "metadata": {},
   "outputs": [],
   "source": [
    "# сохраним значение параметра random_state в переменной\n",
    "my_random_state = 123\n",
    "\n",
    "# создадим функцию, которая на вход будет принимать данные\n",
    "# а возвращать обучающую, валидационную и тестовую выборки\n",
    "def make_train_test(data):\n",
    "    # разделим данные на обучающие с валидационной и тестовые\n",
    "    train_valid, test = train_test_split(df, shuffle=False, \n",
    "                                         test_size=0.1, \n",
    "                                         random_state=my_random_state)\n",
    "    # удалим пропуски\n",
    "    train_valid = train_valid.dropna()\n",
    "    # разделим данные на обучающую и валидационную выборки\n",
    "    train, valid = train_test_split(train_valid, shuffle=False, \n",
    "                                    test_size=0.2, \n",
    "                                    random_state=my_random_state)\n",
    "    \n",
    "    # для всех выборок выделим целевой признак и признаки.\n",
    "    target_train = train['num_orders']\n",
    "    features_train = train.drop(['num_orders'] , axis=1)\n",
    "    \n",
    "    target_valid = valid['num_orders']\n",
    "    features_valid = valid.drop(['num_orders'] , axis=1)\n",
    "        \n",
    "    target_test = test['num_orders']\n",
    "    features_test = test.drop(['num_orders'] , axis=1)\n",
    "    \n",
    "    return (features_train, features_valid, features_test, \n",
    "            target_train, target_valid, target_test)"
   ]
  },
  {
   "cell_type": "code",
   "execution_count": 9,
   "metadata": {},
   "outputs": [],
   "source": [
    "# применим функцию для проверки работоспособности\n",
    "(features_train, features_valid, features_test, \n",
    " target_train, target_valid, target_test) = make_train_test(df)"
   ]
  },
  {
   "cell_type": "markdown",
   "metadata": {},
   "source": [
    "#### 5-bullet \n",
    "#### Часть 3: Обучение моделей\n",
    "3. Поиск и обучение лучшей модели с различными гиперпараметрами на на валидационной выборке на основании метрики RMSE."
   ]
  },
  {
   "cell_type": "markdown",
   "metadata": {},
   "source": [
    "- путем изменения сдига и размера окна в данных найдем лучшую модель линейной регрессии на валидационной выборке на основании метрики RMSE. "
   ]
  },
  {
   "cell_type": "code",
   "execution_count": 11,
   "metadata": {},
   "outputs": [
    {
     "name": "stdout",
     "output_type": "stream",
     "text": [
      "RMSE наилучшей модели на валидационной выборке: 33.33 Сдвиг: 24 Размер окна: 22\n"
     ]
    }
   ],
   "source": [
    "best_model = None\n",
    "best_result = 10000\n",
    "best_max_lag = 0\n",
    "best_rolling_mean_size = 0\n",
    "for lag in range(1, 31):\n",
    "    for rolling in range (1, 31):\n",
    "        # создадим признаки при помощи функции\n",
    "        make_features(df, max_lag = lag, \n",
    "                      rolling_mean_size = rolling)\n",
    "        # создадим выборки при помощи функции\n",
    "        (features_train, features_valid, \n",
    "         features_test, target_train, \n",
    "         target_valid, target_test) = make_train_test(df)\n",
    "        \n",
    "        # сохраним модель с искомыми гиперпараметрами\n",
    "        model = LinearRegression(normalize=True)\n",
    "        model.fit(features_train, target_train)\n",
    "        predicted_valid = model.predict(features_valid)\n",
    "        result = mean_squared_error(target_valid, predicted_valid) ** 0.5\n",
    "        \n",
    "        # найдем лучшую модель\n",
    "        if result < best_result:\n",
    "            best_model = model\n",
    "            best_result = result\n",
    "            best_max_lag = lag\n",
    "            best_rolling_mean_size = rolling                     \n",
    "            \n",
    "# выведем на экран качество лучшей модели, количество окон и сдвиг\n",
    "print(\"RMSE наилучшей модели на валидационной выборке: %.2f\" % best_result, \n",
    "      \"Сдвиг:\", best_max_lag, \"Размер окна:\", best_rolling_mean_size)"
   ]
  },
  {
   "cell_type": "markdown",
   "metadata": {},
   "source": [
    "- получили RMSE наилучшей модели линейной регрессии на валидационной выборке при следующих параметрах данных: сдвиг - 24, размер окна - 22.\n",
    "\n",
    "- далее аналогичным образом подберем параметры сдвига, размера окна данных для модели решающего дерева, а также найдем гиперпараметр глубины."
   ]
  },
  {
   "cell_type": "code",
   "execution_count": 12,
   "metadata": {},
   "outputs": [
    {
     "name": "stdout",
     "output_type": "stream",
     "text": [
      "RMSE наилучшей модели на обучающей выборке: 35.49 Сдвиг: 1 Размер окна: 10 Максимальная глубина: 5\n"
     ]
    }
   ],
   "source": [
    "best_model = None\n",
    "best_result = 10000\n",
    "best_depth = 0\n",
    "best_max_lag = 0\n",
    "best_rolling_mean_size = 0\n",
    "for lag in range(1, 11):\n",
    "    for rolling in range (1, 11):\n",
    "        for depth in range(1, 31):\n",
    "            # создадим признаки\n",
    "            make_features(df, max_lag = lag, \n",
    "                          rolling_mean_size = rolling)\n",
    "            # разделим данные на выборки\n",
    "            (features_train, features_valid, \n",
    "             features_test, target_train, \n",
    "             target_valid, target_test) = make_train_test(df)\n",
    "            # инициализируем модель решающего дерева\n",
    "            model = DecisionTreeRegressor(random_state=my_random_state, \n",
    "                                          max_depth=depth)\n",
    "            model.fit(features_train, target_train)\n",
    "            # получим предсказания на валидационной выборке \n",
    "            predicted_valid = model.predict(features_valid) \n",
    "            # найдем значения метрики         \n",
    "            result = mean_squared_error(target_valid, predicted_valid) ** 0.5\n",
    "            if result < best_result:\n",
    "                best_model = model\n",
    "                best_result = result\n",
    "                best_depth = depth\n",
    "                best_max_lag = lag\n",
    "                best_rolling_mean_size = rolling\n",
    "\n",
    "# выведем на экран качество лучшей модели, сдвиг, размер окна и глубину\n",
    "print(\"RMSE наилучшей модели на валидационной выборке: %.2f\" % best_result, \n",
    "      \"Сдвиг:\", best_max_lag, \"Размер окна:\", best_rolling_mean_size,\n",
    "      \"Максимальная глубина:\", best_depth)"
   ]
  },
  {
   "cell_type": "markdown",
   "metadata": {},
   "source": [
    "- получили RMSE наилучшей модели на валидационной выборке: 35.49 при следующих параметрах данных: сдвиг - 1, размер окна - 10 и максимальная глубина - 5.\n",
    "\n",
    "- далее аналогичным образом подберем параметры и гиперпараметры для модели LGBMRegressor. "
   ]
  },
  {
   "cell_type": "code",
   "execution_count": 13,
   "metadata": {},
   "outputs": [
    {
     "name": "stdout",
     "output_type": "stream",
     "text": [
      "RMSE наилучшей модели на валидационной выборке: 37.59 Сдвиг: 1 Размер окна: 2 Количество деревьев: 14 Максимальная глубина: 10\n"
     ]
    }
   ],
   "source": [
    "best_model = None\n",
    "best_result = 10000\n",
    "best_est = 0\n",
    "best_depth = 0\n",
    "best_max_lag = 0\n",
    "best_rolling_mean_size = 0\n",
    "for lag in range(1, 3):\n",
    "    for rolling in range (1, 3):\n",
    "        for est in range(10, 15):\n",
    "            for depth in range (10, 15):\n",
    "                # создадим признаки\n",
    "                make_features(df, max_lag = lag, \n",
    "                              rolling_mean_size = rolling)\n",
    "                # разделим данные на выборки\n",
    "                (features_train, features_valid, \n",
    "                 features_test, target_train, \n",
    "                 target_valid, target_test) = make_train_test(df)\n",
    "                # инициализируем модель \n",
    "                model = LGBMRegressor(random_state=my_random_state, \n",
    "                                      n_estimators=est, \n",
    "                                      max_depth=depth)\n",
    "                # обучим модель\n",
    "                model.fit(features_train, target_train) \n",
    "                # получим предсказания по обучающей выборке \n",
    "                predicted_valid = model.predict(features_valid) \n",
    "                # найдем значения метрики         \n",
    "                result = mean_squared_error(target_valid, predicted_valid) ** 0.5\n",
    "        \n",
    "                # найдем лучшую модель\n",
    "                if result < best_result:\n",
    "                    best_model = model\n",
    "                    best_result = result\n",
    "                    best_est = est\n",
    "                    best_depth = depth\n",
    "                    best_max_lag = lag\n",
    "                    best_rolling_mean_size = rolling\n",
    "            \n",
    "# выведем на экран качество лучшей модели, количество деревьев и глубинe\n",
    "print(\"RMSE наилучшей модели на валидационной выборке: %.2f\" % best_result,\n",
    "      \"Сдвиг:\", best_max_lag, \"Размер окна:\", best_rolling_mean_size,\n",
    "      \"Количество деревьев:\", best_est, \"Максимальная глубина:\", best_depth) "
   ]
  },
  {
   "cell_type": "markdown",
   "metadata": {},
   "source": [
    "- получили RMSE наилучшей модели на валидационной выборке: 40.77 при следующих параметрах: Сдвиг - 1, Размер окна - 2, Количество деревьев - 14, Максимальная глубина - 13."
   ]
  },
  {
   "cell_type": "markdown",
   "metadata": {},
   "source": [
    "#### 6-bullet \n",
    "#### Часть 4: Проверака моделей\n",
    "1. Проверка моделей на тестовой выборке на основании метрики RMSE."
   ]
  },
  {
   "cell_type": "markdown",
   "metadata": {},
   "source": [
    "- проверим линейную регрессию на тестовой выборке."
   ]
  },
  {
   "cell_type": "code",
   "execution_count": 10,
   "metadata": {},
   "outputs": [
    {
     "name": "stdout",
     "output_type": "stream",
     "text": [
      "RMSE модели линейной регрессии на тестовой выборке: 46.29\n"
     ]
    }
   ],
   "source": [
    "# создадим признаки с полученными параметрами\n",
    "# свдига и размера окна\n",
    "make_features(df, max_lag = 24, \n",
    "              rolling_mean_size = 22)\n",
    "\n",
    "# разделим данные на выборки\n",
    "(features_train, features_valid, \n",
    " features_test, target_train, \n",
    " target_valid, target_test) = make_train_test(df)\n",
    "        \n",
    "# сохраним модель с искомыми гиперпараметрами,\n",
    "# обучим и получим предсказания на тестовой выборке\n",
    "model = LinearRegression(normalize=True)\n",
    "model.fit(features_train, target_train)\n",
    "predicted_test_1 = model.predict(features_test)\n",
    "result_1 = mean_squared_error(target_test, predicted_test_1) ** 0.5\n",
    "print(\"RMSE модели линейной регрессии на тестовой выборке: %.2f\" % result_1)"
   ]
  },
  {
   "cell_type": "markdown",
   "metadata": {},
   "source": [
    "- получили RMSE модели линейной регрессии на тестовой выборке 46.29, что удовлетворяет поставленной задаче.\n",
    "- далее проверим модель решающего дерева на тествой выборке."
   ]
  },
  {
   "cell_type": "code",
   "execution_count": 11,
   "metadata": {},
   "outputs": [
    {
     "name": "stdout",
     "output_type": "stream",
     "text": [
      "RMSE модели решающего дерева на тестовой выборке: 51.76\n"
     ]
    }
   ],
   "source": [
    "# создадим признаки с полученными параметрами\n",
    "# свдига и размера окна\n",
    "make_features(df, max_lag = 1, \n",
    "              rolling_mean_size = 10)\n",
    "\n",
    "# разделим данные на выборки\n",
    "(features_train, features_valid, \n",
    " features_test, target_train, \n",
    " target_valid, target_test) = make_train_test(df)\n",
    "\n",
    "# иницализируем модель решающего дерева\n",
    "# c полученным гиперпараметром и обучим\n",
    "model = DecisionTreeRegressor(random_state=my_random_state, \n",
    "                              max_depth=5)\n",
    "model.fit(features_train, target_train)\n",
    "# получим предсказания на тестовой выборке \n",
    "predicted_test = model.predict(features_test) \n",
    "result_2 = mean_squared_error(target_test, predicted_test) ** 0.5\n",
    "print(\"RMSE модели решающего дерева на тестовой выборке: %.2f\" % result_2)"
   ]
  },
  {
   "cell_type": "markdown",
   "metadata": {},
   "source": [
    "- получили RMSE модели решающего дерева на тестовой выборке: 51.67, что не удовлетворяет поставленной задаче.\n",
    "- далее проверим модель LGBMRegressor на тестовой выборке."
   ]
  },
  {
   "cell_type": "code",
   "execution_count": 12,
   "metadata": {},
   "outputs": [
    {
     "name": "stdout",
     "output_type": "stream",
     "text": [
      "RMSE модели LGBMRegressor на тестовой выборке: 66.03\n"
     ]
    }
   ],
   "source": [
    "# создадим признаки с полученными параметрами\n",
    "# свдига и размера окна\n",
    "make_features(df, max_lag = 1, \n",
    "              rolling_mean_size = 2)\n",
    "\n",
    "# разделим данные на выборки\n",
    "(features_train, features_valid, \n",
    " features_test, target_train, \n",
    " target_valid, target_test) = make_train_test(df)\n",
    "\n",
    "# сохраним модель с искомыми гиперпараметрами\n",
    "model = LGBMRegressor(random_state=my_random_state, \n",
    "                      n_estimators=14, \n",
    "                      max_depth=13)\n",
    "# обучим модель\n",
    "model.fit(features_train, target_train) \n",
    "# получим предсказания по тестовой выборке \n",
    "predicted_test = model.predict(features_test) \n",
    "# найдем значение метрики         \n",
    "result_3 = mean_squared_error(target_test, predicted_test) ** 0.5\n",
    "print(\"RMSE модели LGBMRegressor на тестовой выборке: %.2f\" % result_3)"
   ]
  },
  {
   "cell_type": "markdown",
   "metadata": {},
   "source": [
    "- получили RMSE модели LGBMRegressor на тестовой выборке 66,03, что не удовлетворяет поставленной задаче.\n",
    "- выведем полученные результаты на графике."
   ]
  },
  {
   "cell_type": "code",
   "execution_count": 13,
   "metadata": {},
   "outputs": [
    {
     "data": {
      "image/png": "[encoded data removed]",
      "text/plain": [
       "<Figure size 432x288 with 1 Axes>"
      ]
     },
     "metadata": {
      "needs_background": "light"
     },
     "output_type": "display_data"
    }
   ],
   "source": [
    "# создадим словарь, в который запишем значения метрики\n",
    "# каждой модели\n",
    "models_RMSE = {'LinearRegression': [result_1],\n",
    "                'DecisionTreeRegressor': [result_2],\n",
    "                'LGBMRegressor': [result_3]}\n",
    "\n",
    "# создадим датафрейм \n",
    "models_RMSE = pd.DataFrame(models_RMSE, index=['RMSE']).T\n",
    "\n",
    "# построим графики показателей качества и времени\n",
    "models_RMSE['RMSE'].plot(style='o-', xlim=(-0.2, 2.2), \n",
    "                         legend=True, grid=True)\n",
    "plt.axhline(y=48, color='r', linestyle='-')\n",
    "plt.title('RMSE values')\n",
    "plt.show()"
   ]
  },
  {
   "cell_type": "code",
   "execution_count": 14,
   "metadata": {},
   "outputs": [
    {
     "data": {
      "image/png": "[encoded data removed]",
      "text/plain": [
       "<Figure size 432x288 with 1 Axes>"
      ]
     },
     "metadata": {
      "needs_background": "light"
     },
     "output_type": "display_data"
    }
   ],
   "source": [
    "# придадим предсказаниям вид сириес, при этом в качестве индекса\n",
    "# используем индекс целевого признака\n",
    "predicted_test_1 = pd.Series(predicted_test_1, index=target_test.index, name='Predict')\n",
    "# выберем временной интервал\n",
    "predicted_test_1 = predicted_test_1['2018-08-25':'2018-08-28']\n",
    "# построим график\n",
    "predicted_test_1.plot(style='o-', legend=True, grid=True)\n",
    "\n",
    "# выберем тот же временной интервал\n",
    "target_test = target_test['2018-08-25':'2018-08-28']\n",
    "# построим график\n",
    "target_test.plot(style='o-', legend=True, grid=True)\n",
    "plt.show()"
   ]
  },
  {
   "cell_type": "markdown",
   "metadata": {},
   "source": [
    "## Общий вывод:\n",
    "\n",
    "\n",
    "- пришли к выводу, что для решения поставленной задачи подходит только модель линейная регрессия и только после подбора параметров сдвига и размера окна данных.\n",
    "- остальные модели не смогли достичь поставленной задачи.\n",
    "- при сверке полученных предсказаний с правильными ответами видим, что основные промахи происходят на пиках, т.е. разворотах тренда. Другими словами модель работает в рамках тренда как скользящее среднее, сглаживая пики и чуть запаздывая."
   ]
  }
 ],
 "metadata": {
  "kernelspec": {
   "display_name": "Python 3",
   "language": "python",
   "name": "python3"
  },
  "language_info": {
   "codemirror_mode": {
    "name": "ipython",
    "version": 3
   },
   "file_extension": ".py",
   "mimetype": "text/x-python",
   "name": "python",
   "nbconvert_exporter": "python",
   "pygments_lexer": "ipython3",
   "version": "3.7.8"
  },
  "toc": {
   "base_numbering": 1,
   "nav_menu": {},
   "number_sections": false,
   "sideBar": true,
   "skip_h1_title": true,
   "title_cell": "Table of Contents",
   "title_sidebar": "Contents",
   "toc_cell": false,
   "toc_position": {},
   "toc_section_display": true,
   "toc_window_display": false
  }
 },
 "nbformat": 4,
 "nbformat_minor": 2
}
