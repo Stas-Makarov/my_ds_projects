{
 "cells": [
  {
   "cell_type": "markdown",
   "metadata": {
    "toc": true
   },
   "source": [
    "<h1>План работ<span class=\"tocSkip\"></span></h1>\n",
    "<div class=\"toc\"><ul class=\"toc-item\"><li><span><a href=\"#Загрузка-данных.\" data-toc-modified-id=\"Загрузка-данных.-1\"><span class=\"toc-item-num\">1&nbsp;&nbsp;</span>Загрузка данных.</a></span><ul class=\"toc-item\"><li><span><a href=\"#Загрузка-библиотек,-файлов-с-данными.\" data-toc-modified-id=\"Загрузка-библиотек,-файлов-с-данными.-1.1\"><span class=\"toc-item-num\">1.1&nbsp;&nbsp;</span>Загрузка библиотек, файлов с данными.</a></span></li><li><span><a href=\"#Изучение-файлов-с-данными,-получение-общей-информации.\" data-toc-modified-id=\"Изучение-файлов-с-данными,-получение-общей-информации.-1.2\"><span class=\"toc-item-num\">1.2&nbsp;&nbsp;</span>Изучение файлов с данными, получение общей информации.</a></span></li></ul></li><li><span><a href=\"#Предобработка-данных.\" data-toc-modified-id=\"Предобработка-данных.-2\"><span class=\"toc-item-num\">2&nbsp;&nbsp;</span>Предобработка данных.</a></span><ul class=\"toc-item\"><li><span><a href=\"#Приведение-данных-к-нужному-формату.\" data-toc-modified-id=\"Приведение-данных-к-нужному-формату.-2.1\"><span class=\"toc-item-num\">2.1&nbsp;&nbsp;</span>Приведение данных к нужному формату.</a></span></li><li><span><a href=\"#Поиск-и-избавление-от-аномалий.\" data-toc-modified-id=\"Поиск-и-избавление-от-аномалий.-2.2\"><span class=\"toc-item-num\">2.2&nbsp;&nbsp;</span>Поиск и избавление от аномалий.</a></span></li></ul></li><li><span><a href=\"#Исследовательский-анализ.\" data-toc-modified-id=\"Исследовательский-анализ.-3\"><span class=\"toc-item-num\">3&nbsp;&nbsp;</span>Исследовательский анализ.</a></span><ul class=\"toc-item\"><li><span><a href=\"#Длительность-времени-между-первым-и-последним-замером-температуры.\" data-toc-modified-id=\"Длительность-времени-между-первым-и-последним-замером-температуры.-3.1\"><span class=\"toc-item-num\">3.1&nbsp;&nbsp;</span>Длительность времени между первым и последним замером температуры.</a></span></li><li><span><a href=\"#Суммарное-время-нагрева-электродами.\" data-toc-modified-id=\"Суммарное-время-нагрева-электродами.-3.2\"><span class=\"toc-item-num\">3.2&nbsp;&nbsp;</span>Суммарное время нагрева электродами.</a></span></li><li><span><a href=\"#Количество-запусков-нагрева-электродами.\" data-toc-modified-id=\"Количество-запусков-нагрева-электродами.-3.3\"><span class=\"toc-item-num\">3.3&nbsp;&nbsp;</span>Количество запусков нагрева электродами.</a></span></li><li><span><a href=\"#Среднее-соотношение-потребления-активной-и-реактивной-мощности.\" data-toc-modified-id=\"Среднее-соотношение-потребления-активной-и-реактивной-мощности.-3.4\"><span class=\"toc-item-num\">3.4&nbsp;&nbsp;</span>Среднее соотношение потребления активной и реактивной мощности.</a></span></li><li><span><a href=\"#Начальная-и-финальная-температура.\" data-toc-modified-id=\"Начальная-и-финальная-температура.-3.5\"><span class=\"toc-item-num\">3.5&nbsp;&nbsp;</span>Начальная и финальная температура.</a></span></li><li><span><a href=\"#Соединение-полученных-данных-и-получение-статистических-данных.\" data-toc-modified-id=\"Соединение-полученных-данных-и-получение-статистических-данных.-3.6\"><span class=\"toc-item-num\">3.6&nbsp;&nbsp;</span>Соединение полученных данных и получение статистических данных.</a></span></li></ul></li><li><span><a href=\"#Подготовка-данных.\" data-toc-modified-id=\"Подготовка-данных.-4\"><span class=\"toc-item-num\">4&nbsp;&nbsp;</span>Подготовка данных.</a></span><ul class=\"toc-item\"><li><span><a href=\"#Соединение-данных-в-одну-таблицу.\" data-toc-modified-id=\"Соединение-данных-в-одну-таблицу.-4.1\"><span class=\"toc-item-num\">4.1&nbsp;&nbsp;</span>Соединение данных в одну таблицу.</a></span></li><li><span><a href=\"#Проверка-распределения,-корреляции-признаков,-удаление-выбросов.\" data-toc-modified-id=\"Проверка-распределения,-корреляции-признаков,-удаление-выбросов.-4.2\"><span class=\"toc-item-num\">4.2&nbsp;&nbsp;</span>Проверка распределения, корреляции признаков, удаление выбросов.</a></span></li><li><span><a href=\"#Получение-целевого-признака-и-признаков,-разделение-данных-на-выборки.\" data-toc-modified-id=\"Получение-целевого-признака-и-признаков,-разделение-данных-на-выборки.-4.3\"><span class=\"toc-item-num\">4.3&nbsp;&nbsp;</span>Получение целевого признака и признаков, разделение данных на выборки.</a></span></li><li><span><a href=\"#Масштабирование-признаков.\" data-toc-modified-id=\"Масштабирование-признаков.-4.4\"><span class=\"toc-item-num\">4.4&nbsp;&nbsp;</span>Масштабирование признаков.</a></span></li></ul></li><li><span><a href=\"#Построение,-обучение-и-поиск-лучшей-модели.\" data-toc-modified-id=\"Построение,-обучение-и-поиск-лучшей-модели.-5\"><span class=\"toc-item-num\">5&nbsp;&nbsp;</span>Построение, обучение и поиск лучшей модели.</a></span><ul class=\"toc-item\"><li><span><a href=\"#Построим-и-подберем-параметры-для-линейной-регрессии.\" data-toc-modified-id=\"Построим-и-подберем-параметры-для-линейной-регрессии.-5.1\"><span class=\"toc-item-num\">5.1&nbsp;&nbsp;</span>Построим и подберем параметры для линейной регрессии.</a></span></li><li><span><a href=\"#Построим-и-подберем-параметры-для-модели-случайный-лес.\" data-toc-modified-id=\"Построим-и-подберем-параметры-для-модели-случайный-лес.-5.2\"><span class=\"toc-item-num\">5.2&nbsp;&nbsp;</span>Построим и подберем параметры для модели случайный лес.</a></span></li><li><span><a href=\"#Построим-и-подберем-параметры-для-модели-LightGBM.\" data-toc-modified-id=\"Построим-и-подберем-параметры-для-модели-LightGBM.-5.3\"><span class=\"toc-item-num\">5.3&nbsp;&nbsp;</span>Построим и подберем параметры для модели LightGBM.</a></span></li><li><span><a href=\"#Построим-и-подберем-параметры-для-модели-CatBoostRegressor\" data-toc-modified-id=\"Построим-и-подберем-параметры-для-модели-CatBoostRegressor-5.4\"><span class=\"toc-item-num\">5.4&nbsp;&nbsp;</span>Построим и подберем параметры для модели CatBoostRegressor</a></span></li><li><span><a href=\"#Проверка-моделей-с-лучшими-гиперпараметрами-на-тестовой-выборке-на-основании-метрик:-МАЕ,-r2-и-построение-графиков-силы-влияния-признаков-на-целевой-признак.\" data-toc-modified-id=\"Проверка-моделей-с-лучшими-гиперпараметрами-на-тестовой-выборке-на-основании-метрик:-МАЕ,-r2-и-построение-графиков-силы-влияния-признаков-на-целевой-признак.-5.5\"><span class=\"toc-item-num\">5.5&nbsp;&nbsp;</span>Проверка моделей с лучшими гиперпараметрами на тестовой выборке на основании метрик: МАЕ, r2 и построение графиков силы влияния признаков на целевой признак.</a></span></li></ul></li><li><span><a href=\"#Общий-вывод.\" data-toc-modified-id=\"Общий-вывод.-6\"><span class=\"toc-item-num\">6&nbsp;&nbsp;</span>Общий вывод.</a></span></li><li><span><a href=\"#Отчет.\" data-toc-modified-id=\"Отчет.-7\"><span class=\"toc-item-num\">7&nbsp;&nbsp;</span>Отчет.</a></span></li></ul></div>"
   ]
  },
  {
   "cell_type": "markdown",
   "metadata": {},
   "source": [
    "# Оптимизация потребления энергии на этапе обработки стали металлургического комбината ООО \"Так закаляем сталь\".\n",
    "___________\n",
    "Задача - построить модель, предсказывающую температуру стали с показателем МАЕ ниже 6.\n",
    "___________\n",
    "Описание данных:\n",
    "данные состоят из файлов, полученных из разных источников:\n",
    "\n",
    "- data_arc.csv — данные об электродах;\n",
    "- data_bulk.csv — данные о подаче сыпучих материалов (объём);\n",
    "- data_bulk_time.csv — данные о подаче сыпучих материалов (время);\n",
    "- data_gas.csv — данные о продувке сплава газом;\n",
    "- data_temp.csv — результаты измерения температуры;\n",
    "- data_wire.csv — данные о проволочных материалах (объём);\n",
    "- data_wire_time.csv — данные о проволочных материалах (время).\n",
    "\n",
    "Во всех файлах столбец key содержит номер партии. В файлах может быть несколько строк с одинаковым значением key: они соответствуют разным итерациям обработки."
   ]
  },
  {
   "cell_type": "markdown",
   "metadata": {},
   "source": [
    "## Загрузка данных.\n",
    "### Загрузка библиотек, файлов с данными."
   ]
  },
  {
   "cell_type": "code",
   "execution_count": 1,
   "metadata": {},
   "outputs": [],
   "source": [
    "# загрузим необходимые библиотеки\n",
    "import pandas as pd\n",
    "import numpy as np\n",
    "import matplotlib.pyplot as plt\n",
    "from sklearn.model_selection import train_test_split\n",
    "from scipy import stats\n",
    "from sklearn.metrics import mean_absolute_error\n",
    "from sklearn.metrics import r2_score\n",
    "from sklearn.preprocessing import StandardScaler\n",
    "from sklearn.model_selection import GridSearchCV as gscv\n",
    "from sklearn.linear_model import LinearRegression \n",
    "from sklearn.ensemble import RandomForestRegressor\n",
    "from lightgbm import LGBMRegressor\n",
    "from catboost import CatBoostRegressor"
   ]
  },
  {
   "cell_type": "code",
   "execution_count": 2,
   "metadata": {},
   "outputs": [],
   "source": [
    "# прочитаем и сохраним таблицы\n",
    "data_arc = pd.read_csv('/datasets/final_steel/data_arc.csv')\n",
    "data_bulk = pd.read_csv('/datasets/final_steel/data_bulk.csv')\n",
    "data_bulk_time = pd.read_csv('/datasets/final_steel/data_bulk_time.csv')\n",
    "data_gas = pd.read_csv('/datasets/final_steel/data_gas.csv')\n",
    "data_temp = pd.read_csv('/datasets/final_steel/data_temp.csv')\n",
    "data_wire = pd.read_csv('/datasets/final_steel/data_wire.csv')\n",
    "data_wire_time = pd.read_csv('/datasets/final_steel/data_wire_time.csv')"
   ]
  },
  {
   "cell_type": "markdown",
   "metadata": {},
   "source": [
    "### Изучение файлов с данными, получение общей информации."
   ]
  },
  {
   "cell_type": "code",
   "execution_count": 3,
   "metadata": {},
   "outputs": [
    {
     "name": "stdout",
     "output_type": "stream",
     "text": [
      "<class 'pandas.core.frame.DataFrame'>\n",
      "RangeIndex: 14876 entries, 0 to 14875\n",
      "Data columns (total 5 columns):\n",
      "key                     14876 non-null int64\n",
      "Начало нагрева дугой    14876 non-null object\n",
      "Конец нагрева дугой     14876 non-null object\n",
      "Активная мощность       14876 non-null float64\n",
      "Реактивная мощность     14876 non-null float64\n",
      "dtypes: float64(2), int64(1), object(2)\n",
      "memory usage: 581.2+ KB\n",
      "None\n",
      "Количество дубликатов: 0\n"
     ]
    },
    {
     "data": {
      "text/html": [
       "<div>\n",
       "<style scoped>\n",
       "    .dataframe tbody tr th:only-of-type {\n",
       "        vertical-align: middle;\n",
       "    }\n",
       "\n",
       "    .dataframe tbody tr th {\n",
       "        vertical-align: top;\n",
       "    }\n",
       "\n",
       "    .dataframe thead th {\n",
       "        text-align: right;\n",
       "    }\n",
       "</style>\n",
       "<table border=\"1\" class=\"dataframe\">\n",
       "  <thead>\n",
       "    <tr style=\"text-align: right;\">\n",
       "      <th></th>\n",
       "      <th>key</th>\n",
       "      <th>Начало нагрева дугой</th>\n",
       "      <th>Конец нагрева дугой</th>\n",
       "      <th>Активная мощность</th>\n",
       "      <th>Реактивная мощность</th>\n",
       "    </tr>\n",
       "  </thead>\n",
       "  <tbody>\n",
       "    <tr>\n",
       "      <td>0</td>\n",
       "      <td>1</td>\n",
       "      <td>2019-05-03 11:02:14</td>\n",
       "      <td>2019-05-03 11:06:02</td>\n",
       "      <td>0.976059</td>\n",
       "      <td>0.687084</td>\n",
       "    </tr>\n",
       "    <tr>\n",
       "      <td>1</td>\n",
       "      <td>1</td>\n",
       "      <td>2019-05-03 11:07:28</td>\n",
       "      <td>2019-05-03 11:10:33</td>\n",
       "      <td>0.805607</td>\n",
       "      <td>0.520285</td>\n",
       "    </tr>\n",
       "    <tr>\n",
       "      <td>2</td>\n",
       "      <td>1</td>\n",
       "      <td>2019-05-03 11:11:44</td>\n",
       "      <td>2019-05-03 11:14:36</td>\n",
       "      <td>0.744363</td>\n",
       "      <td>0.498805</td>\n",
       "    </tr>\n",
       "    <tr>\n",
       "      <td>3</td>\n",
       "      <td>1</td>\n",
       "      <td>2019-05-03 11:18:14</td>\n",
       "      <td>2019-05-03 11:24:19</td>\n",
       "      <td>1.659363</td>\n",
       "      <td>1.062669</td>\n",
       "    </tr>\n",
       "    <tr>\n",
       "      <td>4</td>\n",
       "      <td>1</td>\n",
       "      <td>2019-05-03 11:26:09</td>\n",
       "      <td>2019-05-03 11:28:37</td>\n",
       "      <td>0.692755</td>\n",
       "      <td>0.414397</td>\n",
       "    </tr>\n",
       "  </tbody>\n",
       "</table>\n",
       "</div>"
      ],
      "text/plain": [
       "   key Начало нагрева дугой  Конец нагрева дугой  Активная мощность  \\\n",
       "0    1  2019-05-03 11:02:14  2019-05-03 11:06:02           0.976059   \n",
       "1    1  2019-05-03 11:07:28  2019-05-03 11:10:33           0.805607   \n",
       "2    1  2019-05-03 11:11:44  2019-05-03 11:14:36           0.744363   \n",
       "3    1  2019-05-03 11:18:14  2019-05-03 11:24:19           1.659363   \n",
       "4    1  2019-05-03 11:26:09  2019-05-03 11:28:37           0.692755   \n",
       "\n",
       "   Реактивная мощность  \n",
       "0             0.687084  \n",
       "1             0.520285  \n",
       "2             0.498805  \n",
       "3             1.062669  \n",
       "4             0.414397  "
      ]
     },
     "metadata": {},
     "output_type": "display_data"
    },
    {
     "name": "stdout",
     "output_type": "stream",
     "text": [
      "\n",
      "\n",
      "<class 'pandas.core.frame.DataFrame'>\n",
      "RangeIndex: 3129 entries, 0 to 3128\n",
      "Data columns (total 16 columns):\n",
      "key        3129 non-null int64\n",
      "Bulk 1     252 non-null float64\n",
      "Bulk 2     22 non-null float64\n",
      "Bulk 3     1298 non-null float64\n",
      "Bulk 4     1014 non-null float64\n",
      "Bulk 5     77 non-null float64\n",
      "Bulk 6     576 non-null float64\n",
      "Bulk 7     25 non-null float64\n",
      "Bulk 8     1 non-null float64\n",
      "Bulk 9     19 non-null float64\n",
      "Bulk 10    176 non-null float64\n",
      "Bulk 11    177 non-null float64\n",
      "Bulk 12    2450 non-null float64\n",
      "Bulk 13    18 non-null float64\n",
      "Bulk 14    2806 non-null float64\n",
      "Bulk 15    2248 non-null float64\n",
      "dtypes: float64(15), int64(1)\n",
      "memory usage: 391.2 KB\n",
      "None\n",
      "Количество дубликатов: 0\n"
     ]
    },
    {
     "data": {
      "text/html": [
       "<div>\n",
       "<style scoped>\n",
       "    .dataframe tbody tr th:only-of-type {\n",
       "        vertical-align: middle;\n",
       "    }\n",
       "\n",
       "    .dataframe tbody tr th {\n",
       "        vertical-align: top;\n",
       "    }\n",
       "\n",
       "    .dataframe thead th {\n",
       "        text-align: right;\n",
       "    }\n",
       "</style>\n",
       "<table border=\"1\" class=\"dataframe\">\n",
       "  <thead>\n",
       "    <tr style=\"text-align: right;\">\n",
       "      <th></th>\n",
       "      <th>key</th>\n",
       "      <th>Bulk 1</th>\n",
       "      <th>Bulk 2</th>\n",
       "      <th>Bulk 3</th>\n",
       "      <th>Bulk 4</th>\n",
       "      <th>Bulk 5</th>\n",
       "      <th>Bulk 6</th>\n",
       "      <th>Bulk 7</th>\n",
       "      <th>Bulk 8</th>\n",
       "      <th>Bulk 9</th>\n",
       "      <th>Bulk 10</th>\n",
       "      <th>Bulk 11</th>\n",
       "      <th>Bulk 12</th>\n",
       "      <th>Bulk 13</th>\n",
       "      <th>Bulk 14</th>\n",
       "      <th>Bulk 15</th>\n",
       "    </tr>\n",
       "  </thead>\n",
       "  <tbody>\n",
       "    <tr>\n",
       "      <td>0</td>\n",
       "      <td>1</td>\n",
       "      <td>NaN</td>\n",
       "      <td>NaN</td>\n",
       "      <td>NaN</td>\n",
       "      <td>43.0</td>\n",
       "      <td>NaN</td>\n",
       "      <td>NaN</td>\n",
       "      <td>NaN</td>\n",
       "      <td>NaN</td>\n",
       "      <td>NaN</td>\n",
       "      <td>NaN</td>\n",
       "      <td>NaN</td>\n",
       "      <td>206.0</td>\n",
       "      <td>NaN</td>\n",
       "      <td>150.0</td>\n",
       "      <td>154.0</td>\n",
       "    </tr>\n",
       "    <tr>\n",
       "      <td>1</td>\n",
       "      <td>2</td>\n",
       "      <td>NaN</td>\n",
       "      <td>NaN</td>\n",
       "      <td>NaN</td>\n",
       "      <td>73.0</td>\n",
       "      <td>NaN</td>\n",
       "      <td>NaN</td>\n",
       "      <td>NaN</td>\n",
       "      <td>NaN</td>\n",
       "      <td>NaN</td>\n",
       "      <td>NaN</td>\n",
       "      <td>NaN</td>\n",
       "      <td>206.0</td>\n",
       "      <td>NaN</td>\n",
       "      <td>149.0</td>\n",
       "      <td>154.0</td>\n",
       "    </tr>\n",
       "    <tr>\n",
       "      <td>2</td>\n",
       "      <td>3</td>\n",
       "      <td>NaN</td>\n",
       "      <td>NaN</td>\n",
       "      <td>NaN</td>\n",
       "      <td>34.0</td>\n",
       "      <td>NaN</td>\n",
       "      <td>NaN</td>\n",
       "      <td>NaN</td>\n",
       "      <td>NaN</td>\n",
       "      <td>NaN</td>\n",
       "      <td>NaN</td>\n",
       "      <td>NaN</td>\n",
       "      <td>205.0</td>\n",
       "      <td>NaN</td>\n",
       "      <td>152.0</td>\n",
       "      <td>153.0</td>\n",
       "    </tr>\n",
       "    <tr>\n",
       "      <td>3</td>\n",
       "      <td>4</td>\n",
       "      <td>NaN</td>\n",
       "      <td>NaN</td>\n",
       "      <td>NaN</td>\n",
       "      <td>81.0</td>\n",
       "      <td>NaN</td>\n",
       "      <td>NaN</td>\n",
       "      <td>NaN</td>\n",
       "      <td>NaN</td>\n",
       "      <td>NaN</td>\n",
       "      <td>NaN</td>\n",
       "      <td>NaN</td>\n",
       "      <td>207.0</td>\n",
       "      <td>NaN</td>\n",
       "      <td>153.0</td>\n",
       "      <td>154.0</td>\n",
       "    </tr>\n",
       "    <tr>\n",
       "      <td>4</td>\n",
       "      <td>5</td>\n",
       "      <td>NaN</td>\n",
       "      <td>NaN</td>\n",
       "      <td>NaN</td>\n",
       "      <td>78.0</td>\n",
       "      <td>NaN</td>\n",
       "      <td>NaN</td>\n",
       "      <td>NaN</td>\n",
       "      <td>NaN</td>\n",
       "      <td>NaN</td>\n",
       "      <td>NaN</td>\n",
       "      <td>NaN</td>\n",
       "      <td>203.0</td>\n",
       "      <td>NaN</td>\n",
       "      <td>151.0</td>\n",
       "      <td>152.0</td>\n",
       "    </tr>\n",
       "  </tbody>\n",
       "</table>\n",
       "</div>"
      ],
      "text/plain": [
       "   key  Bulk 1  Bulk 2  Bulk 3  Bulk 4  Bulk 5  Bulk 6  Bulk 7  Bulk 8  \\\n",
       "0    1     NaN     NaN     NaN    43.0     NaN     NaN     NaN     NaN   \n",
       "1    2     NaN     NaN     NaN    73.0     NaN     NaN     NaN     NaN   \n",
       "2    3     NaN     NaN     NaN    34.0     NaN     NaN     NaN     NaN   \n",
       "3    4     NaN     NaN     NaN    81.0     NaN     NaN     NaN     NaN   \n",
       "4    5     NaN     NaN     NaN    78.0     NaN     NaN     NaN     NaN   \n",
       "\n",
       "   Bulk 9  Bulk 10  Bulk 11  Bulk 12  Bulk 13  Bulk 14  Bulk 15  \n",
       "0     NaN      NaN      NaN    206.0      NaN    150.0    154.0  \n",
       "1     NaN      NaN      NaN    206.0      NaN    149.0    154.0  \n",
       "2     NaN      NaN      NaN    205.0      NaN    152.0    153.0  \n",
       "3     NaN      NaN      NaN    207.0      NaN    153.0    154.0  \n",
       "4     NaN      NaN      NaN    203.0      NaN    151.0    152.0  "
      ]
     },
     "metadata": {},
     "output_type": "display_data"
    },
    {
     "name": "stdout",
     "output_type": "stream",
     "text": [
      "\n",
      "\n",
      "<class 'pandas.core.frame.DataFrame'>\n",
      "RangeIndex: 3129 entries, 0 to 3128\n",
      "Data columns (total 16 columns):\n",
      "key        3129 non-null int64\n",
      "Bulk 1     252 non-null object\n",
      "Bulk 2     22 non-null object\n",
      "Bulk 3     1298 non-null object\n",
      "Bulk 4     1014 non-null object\n",
      "Bulk 5     77 non-null object\n",
      "Bulk 6     576 non-null object\n",
      "Bulk 7     25 non-null object\n",
      "Bulk 8     1 non-null object\n",
      "Bulk 9     19 non-null object\n",
      "Bulk 10    176 non-null object\n",
      "Bulk 11    177 non-null object\n",
      "Bulk 12    2450 non-null object\n",
      "Bulk 13    18 non-null object\n",
      "Bulk 14    2806 non-null object\n",
      "Bulk 15    2248 non-null object\n",
      "dtypes: int64(1), object(15)\n",
      "memory usage: 391.2+ KB\n",
      "None\n",
      "Количество дубликатов: 0\n"
     ]
    },
    {
     "data": {
      "text/html": [
       "<div>\n",
       "<style scoped>\n",
       "    .dataframe tbody tr th:only-of-type {\n",
       "        vertical-align: middle;\n",
       "    }\n",
       "\n",
       "    .dataframe tbody tr th {\n",
       "        vertical-align: top;\n",
       "    }\n",
       "\n",
       "    .dataframe thead th {\n",
       "        text-align: right;\n",
       "    }\n",
       "</style>\n",
       "<table border=\"1\" class=\"dataframe\">\n",
       "  <thead>\n",
       "    <tr style=\"text-align: right;\">\n",
       "      <th></th>\n",
       "      <th>key</th>\n",
       "      <th>Bulk 1</th>\n",
       "      <th>Bulk 2</th>\n",
       "      <th>Bulk 3</th>\n",
       "      <th>Bulk 4</th>\n",
       "      <th>Bulk 5</th>\n",
       "      <th>Bulk 6</th>\n",
       "      <th>Bulk 7</th>\n",
       "      <th>Bulk 8</th>\n",
       "      <th>Bulk 9</th>\n",
       "      <th>Bulk 10</th>\n",
       "      <th>Bulk 11</th>\n",
       "      <th>Bulk 12</th>\n",
       "      <th>Bulk 13</th>\n",
       "      <th>Bulk 14</th>\n",
       "      <th>Bulk 15</th>\n",
       "    </tr>\n",
       "  </thead>\n",
       "  <tbody>\n",
       "    <tr>\n",
       "      <td>0</td>\n",
       "      <td>1</td>\n",
       "      <td>NaN</td>\n",
       "      <td>NaN</td>\n",
       "      <td>NaN</td>\n",
       "      <td>2019-05-03 11:21:30</td>\n",
       "      <td>NaN</td>\n",
       "      <td>NaN</td>\n",
       "      <td>NaN</td>\n",
       "      <td>NaN</td>\n",
       "      <td>NaN</td>\n",
       "      <td>NaN</td>\n",
       "      <td>NaN</td>\n",
       "      <td>2019-05-03 11:03:52</td>\n",
       "      <td>NaN</td>\n",
       "      <td>2019-05-03 11:03:52</td>\n",
       "      <td>2019-05-03 11:03:52</td>\n",
       "    </tr>\n",
       "    <tr>\n",
       "      <td>1</td>\n",
       "      <td>2</td>\n",
       "      <td>NaN</td>\n",
       "      <td>NaN</td>\n",
       "      <td>NaN</td>\n",
       "      <td>2019-05-03 11:46:38</td>\n",
       "      <td>NaN</td>\n",
       "      <td>NaN</td>\n",
       "      <td>NaN</td>\n",
       "      <td>NaN</td>\n",
       "      <td>NaN</td>\n",
       "      <td>NaN</td>\n",
       "      <td>NaN</td>\n",
       "      <td>2019-05-03 11:40:20</td>\n",
       "      <td>NaN</td>\n",
       "      <td>2019-05-03 11:40:20</td>\n",
       "      <td>2019-05-03 11:40:20</td>\n",
       "    </tr>\n",
       "    <tr>\n",
       "      <td>2</td>\n",
       "      <td>3</td>\n",
       "      <td>NaN</td>\n",
       "      <td>NaN</td>\n",
       "      <td>NaN</td>\n",
       "      <td>2019-05-03 12:31:06</td>\n",
       "      <td>NaN</td>\n",
       "      <td>NaN</td>\n",
       "      <td>NaN</td>\n",
       "      <td>NaN</td>\n",
       "      <td>NaN</td>\n",
       "      <td>NaN</td>\n",
       "      <td>NaN</td>\n",
       "      <td>2019-05-03 12:09:40</td>\n",
       "      <td>NaN</td>\n",
       "      <td>2019-05-03 12:09:40</td>\n",
       "      <td>2019-05-03 12:09:40</td>\n",
       "    </tr>\n",
       "    <tr>\n",
       "      <td>3</td>\n",
       "      <td>4</td>\n",
       "      <td>NaN</td>\n",
       "      <td>NaN</td>\n",
       "      <td>NaN</td>\n",
       "      <td>2019-05-03 12:48:43</td>\n",
       "      <td>NaN</td>\n",
       "      <td>NaN</td>\n",
       "      <td>NaN</td>\n",
       "      <td>NaN</td>\n",
       "      <td>NaN</td>\n",
       "      <td>NaN</td>\n",
       "      <td>NaN</td>\n",
       "      <td>2019-05-03 12:41:24</td>\n",
       "      <td>NaN</td>\n",
       "      <td>2019-05-03 12:41:24</td>\n",
       "      <td>2019-05-03 12:41:24</td>\n",
       "    </tr>\n",
       "    <tr>\n",
       "      <td>4</td>\n",
       "      <td>5</td>\n",
       "      <td>NaN</td>\n",
       "      <td>NaN</td>\n",
       "      <td>NaN</td>\n",
       "      <td>2019-05-03 13:18:50</td>\n",
       "      <td>NaN</td>\n",
       "      <td>NaN</td>\n",
       "      <td>NaN</td>\n",
       "      <td>NaN</td>\n",
       "      <td>NaN</td>\n",
       "      <td>NaN</td>\n",
       "      <td>NaN</td>\n",
       "      <td>2019-05-03 13:12:56</td>\n",
       "      <td>NaN</td>\n",
       "      <td>2019-05-03 13:12:56</td>\n",
       "      <td>2019-05-03 13:12:56</td>\n",
       "    </tr>\n",
       "  </tbody>\n",
       "</table>\n",
       "</div>"
      ],
      "text/plain": [
       "   key Bulk 1 Bulk 2 Bulk 3               Bulk 4 Bulk 5 Bulk 6 Bulk 7 Bulk 8  \\\n",
       "0    1    NaN    NaN    NaN  2019-05-03 11:21:30    NaN    NaN    NaN    NaN   \n",
       "1    2    NaN    NaN    NaN  2019-05-03 11:46:38    NaN    NaN    NaN    NaN   \n",
       "2    3    NaN    NaN    NaN  2019-05-03 12:31:06    NaN    NaN    NaN    NaN   \n",
       "3    4    NaN    NaN    NaN  2019-05-03 12:48:43    NaN    NaN    NaN    NaN   \n",
       "4    5    NaN    NaN    NaN  2019-05-03 13:18:50    NaN    NaN    NaN    NaN   \n",
       "\n",
       "  Bulk 9 Bulk 10 Bulk 11              Bulk 12 Bulk 13              Bulk 14  \\\n",
       "0    NaN     NaN     NaN  2019-05-03 11:03:52     NaN  2019-05-03 11:03:52   \n",
       "1    NaN     NaN     NaN  2019-05-03 11:40:20     NaN  2019-05-03 11:40:20   \n",
       "2    NaN     NaN     NaN  2019-05-03 12:09:40     NaN  2019-05-03 12:09:40   \n",
       "3    NaN     NaN     NaN  2019-05-03 12:41:24     NaN  2019-05-03 12:41:24   \n",
       "4    NaN     NaN     NaN  2019-05-03 13:12:56     NaN  2019-05-03 13:12:56   \n",
       "\n",
       "               Bulk 15  \n",
       "0  2019-05-03 11:03:52  \n",
       "1  2019-05-03 11:40:20  \n",
       "2  2019-05-03 12:09:40  \n",
       "3  2019-05-03 12:41:24  \n",
       "4  2019-05-03 13:12:56  "
      ]
     },
     "metadata": {},
     "output_type": "display_data"
    },
    {
     "name": "stdout",
     "output_type": "stream",
     "text": [
      "\n",
      "\n",
      "<class 'pandas.core.frame.DataFrame'>\n",
      "RangeIndex: 3239 entries, 0 to 3238\n",
      "Data columns (total 2 columns):\n",
      "key      3239 non-null int64\n",
      "Газ 1    3239 non-null float64\n",
      "dtypes: float64(1), int64(1)\n",
      "memory usage: 50.7 KB\n",
      "None\n",
      "Количество дубликатов: 0\n"
     ]
    },
    {
     "data": {
      "text/html": [
       "<div>\n",
       "<style scoped>\n",
       "    .dataframe tbody tr th:only-of-type {\n",
       "        vertical-align: middle;\n",
       "    }\n",
       "\n",
       "    .dataframe tbody tr th {\n",
       "        vertical-align: top;\n",
       "    }\n",
       "\n",
       "    .dataframe thead th {\n",
       "        text-align: right;\n",
       "    }\n",
       "</style>\n",
       "<table border=\"1\" class=\"dataframe\">\n",
       "  <thead>\n",
       "    <tr style=\"text-align: right;\">\n",
       "      <th></th>\n",
       "      <th>key</th>\n",
       "      <th>Газ 1</th>\n",
       "    </tr>\n",
       "  </thead>\n",
       "  <tbody>\n",
       "    <tr>\n",
       "      <td>0</td>\n",
       "      <td>1</td>\n",
       "      <td>29.749986</td>\n",
       "    </tr>\n",
       "    <tr>\n",
       "      <td>1</td>\n",
       "      <td>2</td>\n",
       "      <td>12.555561</td>\n",
       "    </tr>\n",
       "    <tr>\n",
       "      <td>2</td>\n",
       "      <td>3</td>\n",
       "      <td>28.554793</td>\n",
       "    </tr>\n",
       "    <tr>\n",
       "      <td>3</td>\n",
       "      <td>4</td>\n",
       "      <td>18.841219</td>\n",
       "    </tr>\n",
       "    <tr>\n",
       "      <td>4</td>\n",
       "      <td>5</td>\n",
       "      <td>5.413692</td>\n",
       "    </tr>\n",
       "  </tbody>\n",
       "</table>\n",
       "</div>"
      ],
      "text/plain": [
       "   key      Газ 1\n",
       "0    1  29.749986\n",
       "1    2  12.555561\n",
       "2    3  28.554793\n",
       "3    4  18.841219\n",
       "4    5   5.413692"
      ]
     },
     "metadata": {},
     "output_type": "display_data"
    },
    {
     "name": "stdout",
     "output_type": "stream",
     "text": [
      "\n",
      "\n",
      "<class 'pandas.core.frame.DataFrame'>\n",
      "RangeIndex: 15907 entries, 0 to 15906\n",
      "Data columns (total 3 columns):\n",
      "key             15907 non-null int64\n",
      "Время замера    15907 non-null object\n",
      "Температура     13006 non-null float64\n",
      "dtypes: float64(1), int64(1), object(1)\n",
      "memory usage: 372.9+ KB\n",
      "None\n",
      "Количество дубликатов: 0\n"
     ]
    },
    {
     "data": {
      "text/html": [
       "<div>\n",
       "<style scoped>\n",
       "    .dataframe tbody tr th:only-of-type {\n",
       "        vertical-align: middle;\n",
       "    }\n",
       "\n",
       "    .dataframe tbody tr th {\n",
       "        vertical-align: top;\n",
       "    }\n",
       "\n",
       "    .dataframe thead th {\n",
       "        text-align: right;\n",
       "    }\n",
       "</style>\n",
       "<table border=\"1\" class=\"dataframe\">\n",
       "  <thead>\n",
       "    <tr style=\"text-align: right;\">\n",
       "      <th></th>\n",
       "      <th>key</th>\n",
       "      <th>Время замера</th>\n",
       "      <th>Температура</th>\n",
       "    </tr>\n",
       "  </thead>\n",
       "  <tbody>\n",
       "    <tr>\n",
       "      <td>0</td>\n",
       "      <td>1</td>\n",
       "      <td>2019-05-03 11:16:18</td>\n",
       "      <td>1571.0</td>\n",
       "    </tr>\n",
       "    <tr>\n",
       "      <td>1</td>\n",
       "      <td>1</td>\n",
       "      <td>2019-05-03 11:25:53</td>\n",
       "      <td>1604.0</td>\n",
       "    </tr>\n",
       "    <tr>\n",
       "      <td>2</td>\n",
       "      <td>1</td>\n",
       "      <td>2019-05-03 11:29:11</td>\n",
       "      <td>1618.0</td>\n",
       "    </tr>\n",
       "    <tr>\n",
       "      <td>3</td>\n",
       "      <td>1</td>\n",
       "      <td>2019-05-03 11:30:01</td>\n",
       "      <td>1601.0</td>\n",
       "    </tr>\n",
       "    <tr>\n",
       "      <td>4</td>\n",
       "      <td>1</td>\n",
       "      <td>2019-05-03 11:30:39</td>\n",
       "      <td>1613.0</td>\n",
       "    </tr>\n",
       "  </tbody>\n",
       "</table>\n",
       "</div>"
      ],
      "text/plain": [
       "   key         Время замера  Температура\n",
       "0    1  2019-05-03 11:16:18       1571.0\n",
       "1    1  2019-05-03 11:25:53       1604.0\n",
       "2    1  2019-05-03 11:29:11       1618.0\n",
       "3    1  2019-05-03 11:30:01       1601.0\n",
       "4    1  2019-05-03 11:30:39       1613.0"
      ]
     },
     "metadata": {},
     "output_type": "display_data"
    },
    {
     "name": "stdout",
     "output_type": "stream",
     "text": [
      "\n",
      "\n",
      "<class 'pandas.core.frame.DataFrame'>\n",
      "RangeIndex: 3081 entries, 0 to 3080\n",
      "Data columns (total 10 columns):\n",
      "key       3081 non-null int64\n",
      "Wire 1    3055 non-null float64\n",
      "Wire 2    1079 non-null float64\n",
      "Wire 3    63 non-null float64\n",
      "Wire 4    14 non-null float64\n",
      "Wire 5    1 non-null float64\n",
      "Wire 6    73 non-null float64\n",
      "Wire 7    11 non-null float64\n",
      "Wire 8    19 non-null float64\n",
      "Wire 9    29 non-null float64\n",
      "dtypes: float64(9), int64(1)\n",
      "memory usage: 240.8 KB\n",
      "None\n",
      "Количество дубликатов: 0\n"
     ]
    },
    {
     "data": {
      "text/html": [
       "<div>\n",
       "<style scoped>\n",
       "    .dataframe tbody tr th:only-of-type {\n",
       "        vertical-align: middle;\n",
       "    }\n",
       "\n",
       "    .dataframe tbody tr th {\n",
       "        vertical-align: top;\n",
       "    }\n",
       "\n",
       "    .dataframe thead th {\n",
       "        text-align: right;\n",
       "    }\n",
       "</style>\n",
       "<table border=\"1\" class=\"dataframe\">\n",
       "  <thead>\n",
       "    <tr style=\"text-align: right;\">\n",
       "      <th></th>\n",
       "      <th>key</th>\n",
       "      <th>Wire 1</th>\n",
       "      <th>Wire 2</th>\n",
       "      <th>Wire 3</th>\n",
       "      <th>Wire 4</th>\n",
       "      <th>Wire 5</th>\n",
       "      <th>Wire 6</th>\n",
       "      <th>Wire 7</th>\n",
       "      <th>Wire 8</th>\n",
       "      <th>Wire 9</th>\n",
       "    </tr>\n",
       "  </thead>\n",
       "  <tbody>\n",
       "    <tr>\n",
       "      <td>0</td>\n",
       "      <td>1</td>\n",
       "      <td>60.059998</td>\n",
       "      <td>NaN</td>\n",
       "      <td>NaN</td>\n",
       "      <td>NaN</td>\n",
       "      <td>NaN</td>\n",
       "      <td>NaN</td>\n",
       "      <td>NaN</td>\n",
       "      <td>NaN</td>\n",
       "      <td>NaN</td>\n",
       "    </tr>\n",
       "    <tr>\n",
       "      <td>1</td>\n",
       "      <td>2</td>\n",
       "      <td>96.052315</td>\n",
       "      <td>NaN</td>\n",
       "      <td>NaN</td>\n",
       "      <td>NaN</td>\n",
       "      <td>NaN</td>\n",
       "      <td>NaN</td>\n",
       "      <td>NaN</td>\n",
       "      <td>NaN</td>\n",
       "      <td>NaN</td>\n",
       "    </tr>\n",
       "    <tr>\n",
       "      <td>2</td>\n",
       "      <td>3</td>\n",
       "      <td>91.160157</td>\n",
       "      <td>NaN</td>\n",
       "      <td>NaN</td>\n",
       "      <td>NaN</td>\n",
       "      <td>NaN</td>\n",
       "      <td>NaN</td>\n",
       "      <td>NaN</td>\n",
       "      <td>NaN</td>\n",
       "      <td>NaN</td>\n",
       "    </tr>\n",
       "    <tr>\n",
       "      <td>3</td>\n",
       "      <td>4</td>\n",
       "      <td>89.063515</td>\n",
       "      <td>NaN</td>\n",
       "      <td>NaN</td>\n",
       "      <td>NaN</td>\n",
       "      <td>NaN</td>\n",
       "      <td>NaN</td>\n",
       "      <td>NaN</td>\n",
       "      <td>NaN</td>\n",
       "      <td>NaN</td>\n",
       "    </tr>\n",
       "    <tr>\n",
       "      <td>4</td>\n",
       "      <td>5</td>\n",
       "      <td>89.238236</td>\n",
       "      <td>9.11456</td>\n",
       "      <td>NaN</td>\n",
       "      <td>NaN</td>\n",
       "      <td>NaN</td>\n",
       "      <td>NaN</td>\n",
       "      <td>NaN</td>\n",
       "      <td>NaN</td>\n",
       "      <td>NaN</td>\n",
       "    </tr>\n",
       "  </tbody>\n",
       "</table>\n",
       "</div>"
      ],
      "text/plain": [
       "   key     Wire 1   Wire 2  Wire 3  Wire 4  Wire 5  Wire 6  Wire 7  Wire 8  \\\n",
       "0    1  60.059998      NaN     NaN     NaN     NaN     NaN     NaN     NaN   \n",
       "1    2  96.052315      NaN     NaN     NaN     NaN     NaN     NaN     NaN   \n",
       "2    3  91.160157      NaN     NaN     NaN     NaN     NaN     NaN     NaN   \n",
       "3    4  89.063515      NaN     NaN     NaN     NaN     NaN     NaN     NaN   \n",
       "4    5  89.238236  9.11456     NaN     NaN     NaN     NaN     NaN     NaN   \n",
       "\n",
       "   Wire 9  \n",
       "0     NaN  \n",
       "1     NaN  \n",
       "2     NaN  \n",
       "3     NaN  \n",
       "4     NaN  "
      ]
     },
     "metadata": {},
     "output_type": "display_data"
    },
    {
     "name": "stdout",
     "output_type": "stream",
     "text": [
      "\n",
      "\n",
      "<class 'pandas.core.frame.DataFrame'>\n",
      "RangeIndex: 3081 entries, 0 to 3080\n",
      "Data columns (total 10 columns):\n",
      "key       3081 non-null int64\n",
      "Wire 1    3055 non-null object\n",
      "Wire 2    1079 non-null object\n",
      "Wire 3    63 non-null object\n",
      "Wire 4    14 non-null object\n",
      "Wire 5    1 non-null object\n",
      "Wire 6    73 non-null object\n",
      "Wire 7    11 non-null object\n",
      "Wire 8    19 non-null object\n",
      "Wire 9    29 non-null object\n",
      "dtypes: int64(1), object(9)\n",
      "memory usage: 240.8+ KB\n",
      "None\n",
      "Количество дубликатов: 0\n"
     ]
    },
    {
     "data": {
      "text/html": [
       "<div>\n",
       "<style scoped>\n",
       "    .dataframe tbody tr th:only-of-type {\n",
       "        vertical-align: middle;\n",
       "    }\n",
       "\n",
       "    .dataframe tbody tr th {\n",
       "        vertical-align: top;\n",
       "    }\n",
       "\n",
       "    .dataframe thead th {\n",
       "        text-align: right;\n",
       "    }\n",
       "</style>\n",
       "<table border=\"1\" class=\"dataframe\">\n",
       "  <thead>\n",
       "    <tr style=\"text-align: right;\">\n",
       "      <th></th>\n",
       "      <th>key</th>\n",
       "      <th>Wire 1</th>\n",
       "      <th>Wire 2</th>\n",
       "      <th>Wire 3</th>\n",
       "      <th>Wire 4</th>\n",
       "      <th>Wire 5</th>\n",
       "      <th>Wire 6</th>\n",
       "      <th>Wire 7</th>\n",
       "      <th>Wire 8</th>\n",
       "      <th>Wire 9</th>\n",
       "    </tr>\n",
       "  </thead>\n",
       "  <tbody>\n",
       "    <tr>\n",
       "      <td>0</td>\n",
       "      <td>1</td>\n",
       "      <td>2019-05-03 11:11:41</td>\n",
       "      <td>NaN</td>\n",
       "      <td>NaN</td>\n",
       "      <td>NaN</td>\n",
       "      <td>NaN</td>\n",
       "      <td>NaN</td>\n",
       "      <td>NaN</td>\n",
       "      <td>NaN</td>\n",
       "      <td>NaN</td>\n",
       "    </tr>\n",
       "    <tr>\n",
       "      <td>1</td>\n",
       "      <td>2</td>\n",
       "      <td>2019-05-03 11:46:10</td>\n",
       "      <td>NaN</td>\n",
       "      <td>NaN</td>\n",
       "      <td>NaN</td>\n",
       "      <td>NaN</td>\n",
       "      <td>NaN</td>\n",
       "      <td>NaN</td>\n",
       "      <td>NaN</td>\n",
       "      <td>NaN</td>\n",
       "    </tr>\n",
       "    <tr>\n",
       "      <td>2</td>\n",
       "      <td>3</td>\n",
       "      <td>2019-05-03 12:13:47</td>\n",
       "      <td>NaN</td>\n",
       "      <td>NaN</td>\n",
       "      <td>NaN</td>\n",
       "      <td>NaN</td>\n",
       "      <td>NaN</td>\n",
       "      <td>NaN</td>\n",
       "      <td>NaN</td>\n",
       "      <td>NaN</td>\n",
       "    </tr>\n",
       "    <tr>\n",
       "      <td>3</td>\n",
       "      <td>4</td>\n",
       "      <td>2019-05-03 12:48:05</td>\n",
       "      <td>NaN</td>\n",
       "      <td>NaN</td>\n",
       "      <td>NaN</td>\n",
       "      <td>NaN</td>\n",
       "      <td>NaN</td>\n",
       "      <td>NaN</td>\n",
       "      <td>NaN</td>\n",
       "      <td>NaN</td>\n",
       "    </tr>\n",
       "    <tr>\n",
       "      <td>4</td>\n",
       "      <td>5</td>\n",
       "      <td>2019-05-03 13:18:15</td>\n",
       "      <td>2019-05-03 13:32:06</td>\n",
       "      <td>NaN</td>\n",
       "      <td>NaN</td>\n",
       "      <td>NaN</td>\n",
       "      <td>NaN</td>\n",
       "      <td>NaN</td>\n",
       "      <td>NaN</td>\n",
       "      <td>NaN</td>\n",
       "    </tr>\n",
       "  </tbody>\n",
       "</table>\n",
       "</div>"
      ],
      "text/plain": [
       "   key               Wire 1               Wire 2 Wire 3 Wire 4 Wire 5 Wire 6  \\\n",
       "0    1  2019-05-03 11:11:41                  NaN    NaN    NaN    NaN    NaN   \n",
       "1    2  2019-05-03 11:46:10                  NaN    NaN    NaN    NaN    NaN   \n",
       "2    3  2019-05-03 12:13:47                  NaN    NaN    NaN    NaN    NaN   \n",
       "3    4  2019-05-03 12:48:05                  NaN    NaN    NaN    NaN    NaN   \n",
       "4    5  2019-05-03 13:18:15  2019-05-03 13:32:06    NaN    NaN    NaN    NaN   \n",
       "\n",
       "  Wire 7 Wire 8 Wire 9  \n",
       "0    NaN    NaN    NaN  \n",
       "1    NaN    NaN    NaN  \n",
       "2    NaN    NaN    NaN  \n",
       "3    NaN    NaN    NaN  \n",
       "4    NaN    NaN    NaN  "
      ]
     },
     "metadata": {},
     "output_type": "display_data"
    },
    {
     "name": "stdout",
     "output_type": "stream",
     "text": [
      "\n",
      "\n"
     ]
    }
   ],
   "source": [
    "# создадим список таблиц\n",
    "datasets_list = [data_arc, data_bulk, data_bulk_time, \n",
    "                 data_gas, data_temp, data_wire, \n",
    "                 data_wire_time]\n",
    "\n",
    "# получим общую информацию о таблицах,\n",
    "# количество дубликатов, партий, первые 5 строк таблиц,\n",
    "# применив цикл. выведем на экран\n",
    "for i in datasets_list:\n",
    "    print(i.info())\n",
    "    print('Количество дубликатов:', i.duplicated().sum())\n",
    "    display(i.head())\n",
    "    print()\n",
    "    print()"
   ]
  },
  {
   "cell_type": "markdown",
   "metadata": {},
   "source": [
    "- получили в таблице об электродах: 1476 наблюдений, 5 стоблцов, пропусков и дубликатов нет, данные численного формата.\n",
    "- в таблице об объеме подачи сыпучих материалов 3129 строк, 16 столбцов, много пропусков, дуликатов нет, данные численного формата.\n",
    "- в таблице о времени подачи сыпучих материалов аналогичное таблце об объеме количество строк, столбцов и пропусков, при этом данные формата object.\n",
    "- в таблице о продувке сплава газом 3239 строк, 2 столбца, численные данные, пропусков и дубликатов нет.\n",
    "- в таблице о результатах измерения температуры (целевой признак) 15907 наблюдений, 3 столбца, данные разного формата, имеется много пропусков в столбце \"Температура\", дубликатов нет.\n",
    "- в таблице об объеме подачи проволочных материалов 3081 строка, 10 столбцов, много пропусков, дубликатов нет, данные численного формата.\n",
    "- в таблице о времени подачи проволочных материалов аналогичное таблце об объеме количество строк, столбцов и пропусков, при этом данные формата object."
   ]
  },
  {
   "cell_type": "markdown",
   "metadata": {},
   "source": [
    "## Предобработка данных.\n",
    "### Приведение данных к нужному формату."
   ]
  },
  {
   "cell_type": "code",
   "execution_count": 4,
   "metadata": {},
   "outputs": [],
   "source": [
    "# приведем дату и время к нужному формату в таблице data_arc\n",
    "data_arc['Начало нагрева дугой'] = pd.to_datetime(data_arc['Начало нагрева дугой'], format='%Y-%m-%d %H:%M:%S')\n",
    "data_arc['Конец нагрева дугой'] = pd.to_datetime(data_arc['Конец нагрева дугой'], format='%Y-%m-%d %H:%M:%S')\n",
    "\n",
    "# приведем время к нужному формату в таблице data_bulk_time\n",
    "for i in data_bulk_time:\n",
    "    data_bulk_time[i] = pd.to_datetime(data_bulk_time[i])\n",
    "\n",
    "# приведем дату к нужному формату в таблице data_temp\n",
    "data_temp['Время замера'] = pd.to_datetime(data_temp['Время замера'], format='%Y-%m-%d %H:%M:%S')\n",
    "\n",
    "# приведем время к нужному формату в таблице data_wire_time\n",
    "for i in data_wire_time:\n",
    "    data_wire_time[i] = pd.to_datetime(data_wire_time[i])"
   ]
  },
  {
   "cell_type": "markdown",
   "metadata": {},
   "source": [
    "- в таблицах с датами и временем привели данные к формату datetime."
   ]
  },
  {
   "cell_type": "markdown",
   "metadata": {},
   "source": [
    "### Поиск и избавление от аномалий."
   ]
  },
  {
   "cell_type": "code",
   "execution_count": 5,
   "metadata": {},
   "outputs": [
    {
     "name": "stdout",
     "output_type": "stream",
     "text": [
      "                key  Активная мощность  Реактивная мощность\n",
      "count  14876.000000       14876.000000         14876.000000\n",
      "mean    1615.220422           0.670441             0.452592\n",
      "std      934.571502           0.408159             5.878702\n",
      "min        1.000000           0.030002          -715.504924\n",
      "25%      806.000000           0.395297             0.290991\n",
      "50%     1617.000000           0.555517             0.415962\n",
      "75%     2429.000000           0.857034             0.637371\n",
      "max     3241.000000           3.731596             2.676388\n",
      "\n",
      "\n",
      "               key      Bulk 1      Bulk 2       Bulk 3       Bulk 4  \\\n",
      "count  3129.000000  252.000000   22.000000  1298.000000  1014.000000   \n",
      "mean   1624.383509   39.242063  253.045455   113.879045   104.394477   \n",
      "std     933.337642   18.277654   21.180578    75.483494    48.184126   \n",
      "min       1.000000   10.000000  228.000000     6.000000    12.000000   \n",
      "25%     816.000000   27.000000  242.000000    58.000000    72.000000   \n",
      "50%    1622.000000   31.000000  251.500000    97.500000   102.000000   \n",
      "75%    2431.000000   46.000000  257.750000   152.000000   133.000000   \n",
      "max    3241.000000  185.000000  325.000000   454.000000   281.000000   \n",
      "\n",
      "           Bulk 5      Bulk 6      Bulk 7  Bulk 8      Bulk 9     Bulk 10  \\\n",
      "count   77.000000  576.000000   25.000000     1.0   19.000000  176.000000   \n",
      "mean   107.025974  118.925347  305.600000    49.0   76.315789   83.284091   \n",
      "std     81.790646   72.057776  191.022904     NaN   21.720581   26.060347   \n",
      "min     11.000000   17.000000   47.000000    49.0   63.000000   24.000000   \n",
      "25%     70.000000   69.750000  155.000000    49.0   66.000000   64.000000   \n",
      "50%     86.000000  100.000000  298.000000    49.0   68.000000   86.500000   \n",
      "75%    132.000000  157.000000  406.000000    49.0   70.500000  102.000000   \n",
      "max    603.000000  503.000000  772.000000    49.0  147.000000  159.000000   \n",
      "\n",
      "          Bulk 11      Bulk 12     Bulk 13      Bulk 14      Bulk 15  \n",
      "count  177.000000  2450.000000   18.000000  2806.000000  2248.000000  \n",
      "mean    76.819209   260.471020  181.111111   170.284747   160.513345  \n",
      "std     59.655365   120.649269   46.088009    65.868652    51.765319  \n",
      "min      8.000000    53.000000  151.000000    16.000000     1.000000  \n",
      "25%     25.000000   204.000000  153.250000   119.000000   105.000000  \n",
      "50%     64.000000   208.000000  155.500000   151.000000   160.000000  \n",
      "75%    106.000000   316.000000  203.500000   205.750000   205.000000  \n",
      "max    313.000000  1849.000000  305.000000   636.000000   405.000000  \n",
      "\n",
      "\n",
      "                                  key               Bulk 1  \\\n",
      "count                            3129                  252   \n",
      "unique                           3129                  252   \n",
      "top     1970-01-01 00:00:00.000002047  2019-06-05 01:06:06   \n",
      "freq                                1                    1   \n",
      "first   1970-01-01 00:00:00.000000001  2019-05-03 17:50:19   \n",
      "last    1970-01-01 00:00:00.000003241  2019-08-30 23:01:32   \n",
      "\n",
      "                     Bulk 2               Bulk 3               Bulk 4  \\\n",
      "count                    22                 1298                 1014   \n",
      "unique                   22                 1298                 1014   \n",
      "top     2019-05-07 17:38:50  2019-06-06 17:26:01  2019-05-10 22:49:19   \n",
      "freq                      1                    1                    1   \n",
      "first   2019-05-07 08:36:19  2019-05-03 20:13:36  2019-05-03 11:21:30   \n",
      "last    2019-08-08 17:34:38  2019-08-31 23:39:11  2019-08-30 17:36:30   \n",
      "\n",
      "                     Bulk 5               Bulk 6               Bulk 7  \\\n",
      "count                    77                  576                   25   \n",
      "unique                   77                  576                   25   \n",
      "top     2019-07-01 20:44:03  2019-06-06 17:26:01  2019-05-07 11:37:42   \n",
      "freq                      1                    1                    1   \n",
      "first   2019-05-07 08:36:19  2019-05-03 18:52:57  2019-05-07 11:37:42   \n",
      "last    2019-08-28 09:01:08  2019-09-01 03:12:40  2019-08-31 07:22:25   \n",
      "\n",
      "                     Bulk 8               Bulk 9              Bulk 10  \\\n",
      "count                     1                   19                  176   \n",
      "unique                    1                   19                  176   \n",
      "top     2019-07-05 17:46:11  2019-08-11 13:20:19  2019-05-20 17:18:39   \n",
      "freq                      1                    1                    1   \n",
      "first   2019-07-05 17:46:11  2019-05-14 00:04:56  2019-05-06 01:36:24   \n",
      "last    2019-07-05 17:46:11  2019-08-11 15:09:33  2019-08-30 01:30:42   \n",
      "\n",
      "                    Bulk 11              Bulk 12              Bulk 13  \\\n",
      "count                   177                 2450                   18   \n",
      "unique                  177                 2450                   18   \n",
      "top     2019-08-06 15:44:40  2019-06-23 17:07:23  2019-07-24 23:34:05   \n",
      "freq                      1                    1                    1   \n",
      "first   2019-05-05 16:45:05  2019-05-03 11:03:52  2019-05-05 00:39:35   \n",
      "last    2019-08-31 16:00:49  2019-09-01 01:39:41  2019-08-26 20:31:16   \n",
      "\n",
      "                    Bulk 14              Bulk 15  \n",
      "count                  2806                 2248  \n",
      "unique                 2806                 2248  \n",
      "top     2019-05-09 10:42:59  2019-05-09 10:42:59  \n",
      "freq                      1                    1  \n",
      "first   2019-05-03 11:03:52  2019-05-03 11:03:52  \n",
      "last    2019-09-01 04:05:34  2019-09-01 04:05:34  \n",
      "\n",
      "\n",
      "               key        Газ 1\n",
      "count  3239.000000  3239.000000\n",
      "mean   1621.861377    11.002062\n",
      "std     935.386334     6.220327\n",
      "min       1.000000     0.008399\n",
      "25%     812.500000     7.043089\n",
      "50%    1622.000000     9.836267\n",
      "75%    2431.500000    13.769915\n",
      "max    3241.000000    77.995040\n",
      "\n",
      "\n",
      "                key   Температура\n",
      "count  15907.000000  13006.000000\n",
      "mean    1607.880870   1591.840920\n",
      "std      942.212073     21.375851\n",
      "min        1.000000   1191.000000\n",
      "25%      790.000000   1581.000000\n",
      "50%     1618.000000   1591.000000\n",
      "75%     2427.000000   1601.000000\n",
      "max     3241.000000   1705.000000\n",
      "\n",
      "\n",
      "               key       Wire 1       Wire 2      Wire 3      Wire 4  Wire 5  \\\n",
      "count  3081.000000  3055.000000  1079.000000   63.000000   14.000000   1.000   \n",
      "mean   1623.426485   100.895853    50.577323  189.482681   57.442841  15.132   \n",
      "std     932.996726    42.012518    39.320216   99.513444   28.824667     NaN   \n",
      "min       1.000000     1.918800     0.030160    0.144144   24.148801  15.132   \n",
      "25%     823.000000    72.115684    20.193680   95.135044   40.807002  15.132   \n",
      "50%    1619.000000   100.158234    40.142956  235.194977   45.234282  15.132   \n",
      "75%    2434.000000   126.060484    70.227558  276.252014   76.124619  15.132   \n",
      "max    3241.000000   330.314424   282.780152  385.008668  113.231044  15.132   \n",
      "\n",
      "           Wire 6     Wire 7      Wire 8     Wire 9  \n",
      "count   73.000000  11.000000   19.000000  29.000000  \n",
      "mean    48.016974  10.039007   53.625193  34.155752  \n",
      "std     33.919845   8.610584   16.881728  19.931616  \n",
      "min      0.034320   0.234208   45.076721   4.622800  \n",
      "25%     25.053600   6.762756   46.094879  22.058401  \n",
      "50%     42.076324   9.017009   46.279999  30.066399  \n",
      "75%     64.212723  11.886057   48.089603  43.862003  \n",
      "max    180.454575  32.847674  102.762401  90.053604  \n",
      "\n",
      "\n",
      "                                  key               Wire 1  \\\n",
      "count                            3081                 3055   \n",
      "unique                           3081                 3055   \n",
      "top     1970-01-01 00:00:00.000002047  2019-08-22 15:46:05   \n",
      "freq                                1                    1   \n",
      "first   1970-01-01 00:00:00.000000001  2019-05-03 11:11:41   \n",
      "last    1970-01-01 00:00:00.000003241  2019-09-01 04:16:01   \n",
      "\n",
      "                     Wire 2               Wire 3               Wire 4  \\\n",
      "count                  1079                   63                   14   \n",
      "unique                 1079                   63                   14   \n",
      "top     2019-05-14 22:07:13  2019-07-23 18:07:01  2019-07-17 11:25:32   \n",
      "freq                      1                    1                    1   \n",
      "first   2019-05-03 13:32:06  2019-05-04 04:47:53  2019-05-07 08:48:23   \n",
      "last    2019-08-31 18:50:15  2019-08-28 02:11:18  2019-08-08 12:03:12   \n",
      "\n",
      "                     Wire 5               Wire 6               Wire 7  \\\n",
      "count                     1                   73                   11   \n",
      "unique                    1                   73                   11   \n",
      "top     2019-08-08 16:01:07  2019-05-08 08:30:38  2019-08-08 12:21:19   \n",
      "freq                      1                    1                    1   \n",
      "first   2019-08-08 16:01:07  2019-05-07 08:37:20  2019-07-23 12:08:44   \n",
      "last    2019-08-08 16:01:07  2019-08-14 00:59:11  2019-08-08 18:27:34   \n",
      "\n",
      "                     Wire 8               Wire 9  \n",
      "count                    19                   29  \n",
      "unique                   19                   29  \n",
      "top     2019-07-18 17:36:23  2019-08-04 22:04:50  \n",
      "freq                      1                    1  \n",
      "first   2019-05-14 00:03:32  2019-05-04 16:09:11  \n",
      "last    2019-08-11 15:09:29  2019-08-29 03:51:31  \n",
      "\n",
      "\n"
     ]
    }
   ],
   "source": [
    "# методом describe получим основные статистические\n",
    "# характеристики числовых данных таблиц\n",
    "for i in datasets_list:\n",
    "    print(i.describe())\n",
    "    print()\n",
    "    print()"
   ]
  },
  {
   "cell_type": "markdown",
   "metadata": {},
   "source": [
    "- обнаружили отрицательные значения в столбце \"реактивная мощность\" таблицы об электродах."
   ]
  },
  {
   "cell_type": "code",
   "execution_count": 6,
   "metadata": {},
   "outputs": [
    {
     "data": {
      "text/html": [
       "<div>\n",
       "<style scoped>\n",
       "    .dataframe tbody tr th:only-of-type {\n",
       "        vertical-align: middle;\n",
       "    }\n",
       "\n",
       "    .dataframe tbody tr th {\n",
       "        vertical-align: top;\n",
       "    }\n",
       "\n",
       "    .dataframe thead th {\n",
       "        text-align: right;\n",
       "    }\n",
       "</style>\n",
       "<table border=\"1\" class=\"dataframe\">\n",
       "  <thead>\n",
       "    <tr style=\"text-align: right;\">\n",
       "      <th></th>\n",
       "      <th>key</th>\n",
       "      <th>Начало нагрева дугой</th>\n",
       "      <th>Конец нагрева дугой</th>\n",
       "      <th>Активная мощность</th>\n",
       "      <th>Реактивная мощность</th>\n",
       "    </tr>\n",
       "  </thead>\n",
       "  <tbody>\n",
       "    <tr>\n",
       "      <td>9780</td>\n",
       "      <td>2116</td>\n",
       "      <td>2019-07-24 00:44:48</td>\n",
       "      <td>2019-07-24 00:46:37</td>\n",
       "      <td>0.495782</td>\n",
       "      <td>-715.504924</td>\n",
       "    </tr>\n",
       "  </tbody>\n",
       "</table>\n",
       "</div>"
      ],
      "text/plain": [
       "       key Начало нагрева дугой Конец нагрева дугой  Активная мощность  \\\n",
       "9780  2116  2019-07-24 00:44:48 2019-07-24 00:46:37           0.495782   \n",
       "\n",
       "      Реактивная мощность  \n",
       "9780          -715.504924  "
      ]
     },
     "metadata": {},
     "output_type": "display_data"
    }
   ],
   "source": [
    "# посмотрим на отрицательные значения в столбце \"Реактивная мощность\" \n",
    "# таблицы data_arc\n",
    "display(data_arc[data_arc['Реактивная мощность'] < 0])"
   ]
  },
  {
   "cell_type": "code",
   "execution_count": 7,
   "metadata": {},
   "outputs": [],
   "source": [
    "# удалим строку с индексом 9780\n",
    "data_arc = data_arc.query('index != 9780')"
   ]
  },
  {
   "cell_type": "markdown",
   "metadata": {},
   "source": [
    "- удалили строку с отрицательным значением \"реактивной мощности\"."
   ]
  },
  {
   "cell_type": "markdown",
   "metadata": {},
   "source": [
    "## Исследовательский анализ.\n",
    "### Длительность времени между первым и последним замером температуры."
   ]
  },
  {
   "cell_type": "code",
   "execution_count": 8,
   "metadata": {},
   "outputs": [
    {
     "data": {
      "text/html": [
       "<div>\n",
       "<style scoped>\n",
       "    .dataframe tbody tr th:only-of-type {\n",
       "        vertical-align: middle;\n",
       "    }\n",
       "\n",
       "    .dataframe tbody tr th {\n",
       "        vertical-align: top;\n",
       "    }\n",
       "\n",
       "    .dataframe thead th {\n",
       "        text-align: right;\n",
       "    }\n",
       "</style>\n",
       "<table border=\"1\" class=\"dataframe\">\n",
       "  <thead>\n",
       "    <tr style=\"text-align: right;\">\n",
       "      <th></th>\n",
       "      <th>key</th>\n",
       "      <th>Общее время</th>\n",
       "    </tr>\n",
       "  </thead>\n",
       "  <tbody>\n",
       "    <tr>\n",
       "      <td>0</td>\n",
       "      <td>1</td>\n",
       "      <td>861.0</td>\n",
       "    </tr>\n",
       "    <tr>\n",
       "      <td>1</td>\n",
       "      <td>2</td>\n",
       "      <td>1305.0</td>\n",
       "    </tr>\n",
       "    <tr>\n",
       "      <td>2</td>\n",
       "      <td>3</td>\n",
       "      <td>1300.0</td>\n",
       "    </tr>\n",
       "    <tr>\n",
       "      <td>3</td>\n",
       "      <td>4</td>\n",
       "      <td>388.0</td>\n",
       "    </tr>\n",
       "    <tr>\n",
       "      <td>4</td>\n",
       "      <td>5</td>\n",
       "      <td>762.0</td>\n",
       "    </tr>\n",
       "  </tbody>\n",
       "</table>\n",
       "</div>"
      ],
      "text/plain": [
       "   key  Общее время\n",
       "0    1        861.0\n",
       "1    2       1305.0\n",
       "2    3       1300.0\n",
       "3    4        388.0\n",
       "4    5        762.0"
      ]
     },
     "metadata": {},
     "output_type": "display_data"
    }
   ],
   "source": [
    "# сгруппируем таблицу data_temp по партиям и найдем у каждой партии\n",
    "# начальное и конечное время замера, обратившись к таблице data_temp\n",
    "data_full_time = data_temp.pivot_table(values = 'Время замера', \n",
    "                                       index = 'key', \n",
    "                                       aggfunc = ['first', 'last'])\n",
    "# переименуем полученные столбцы\n",
    "data_full_time.columns = ['start', 'end']\n",
    "# найдем разность между конечным и начальным временем замеров каждой\n",
    "# партии, создадв и сохранив только столбец \"Общее время\" в секундах\n",
    "data_full_time['Общее время'] = (data_full_time['end'] - \n",
    "                                 data_full_time['start']).dt.total_seconds()\n",
    "data_full_time = data_full_time['Общее время'].reset_index()\n",
    "display(data_full_time.head())"
   ]
  },
  {
   "cell_type": "markdown",
   "metadata": {},
   "source": [
    "- нашли общее время замеров для каждой партии."
   ]
  },
  {
   "cell_type": "markdown",
   "metadata": {},
   "source": [
    "### Суммарное время нагрева электродами. "
   ]
  },
  {
   "cell_type": "code",
   "execution_count": 9,
   "metadata": {},
   "outputs": [
    {
     "name": "stderr",
     "output_type": "stream",
     "text": [
      "/opt/conda/lib/python3.7/site-packages/ipykernel_launcher.py:3: SettingWithCopyWarning: \n",
      "A value is trying to be set on a copy of a slice from a DataFrame.\n",
      "Try using .loc[row_indexer,col_indexer] = value instead\n",
      "\n",
      "See the caveats in the documentation: http://pandas.pydata.org/pandas-docs/stable/user_guide/indexing.html#returning-a-view-versus-a-copy\n",
      "  This is separate from the ipykernel package so we can avoid doing imports until\n"
     ]
    },
    {
     "data": {
      "text/html": [
       "<div>\n",
       "<style scoped>\n",
       "    .dataframe tbody tr th:only-of-type {\n",
       "        vertical-align: middle;\n",
       "    }\n",
       "\n",
       "    .dataframe tbody tr th {\n",
       "        vertical-align: top;\n",
       "    }\n",
       "\n",
       "    .dataframe thead th {\n",
       "        text-align: right;\n",
       "    }\n",
       "</style>\n",
       "<table border=\"1\" class=\"dataframe\">\n",
       "  <thead>\n",
       "    <tr style=\"text-align: right;\">\n",
       "      <th></th>\n",
       "      <th>key</th>\n",
       "      <th>Суммарное время нагрева</th>\n",
       "    </tr>\n",
       "  </thead>\n",
       "  <tbody>\n",
       "    <tr>\n",
       "      <td>0</td>\n",
       "      <td>1</td>\n",
       "      <td>1098.0</td>\n",
       "    </tr>\n",
       "    <tr>\n",
       "      <td>1</td>\n",
       "      <td>2</td>\n",
       "      <td>811.0</td>\n",
       "    </tr>\n",
       "    <tr>\n",
       "      <td>2</td>\n",
       "      <td>3</td>\n",
       "      <td>655.0</td>\n",
       "    </tr>\n",
       "    <tr>\n",
       "      <td>3</td>\n",
       "      <td>4</td>\n",
       "      <td>741.0</td>\n",
       "    </tr>\n",
       "    <tr>\n",
       "      <td>4</td>\n",
       "      <td>5</td>\n",
       "      <td>869.0</td>\n",
       "    </tr>\n",
       "  </tbody>\n",
       "</table>\n",
       "</div>"
      ],
      "text/plain": [
       "   key  Суммарное время нагрева\n",
       "0    1                   1098.0\n",
       "1    2                    811.0\n",
       "2    3                    655.0\n",
       "3    4                    741.0\n",
       "4    5                    869.0"
      ]
     },
     "metadata": {},
     "output_type": "display_data"
    }
   ],
   "source": [
    "# найдем суммарное время нагрева электродами, обратившись к таблице data_arc в секундах\n",
    "data_arc['Суммарное время нагрева'] = (data_arc['Конец нагрева дугой'] - \n",
    "                                       data_arc['Начало нагрева дугой']).dt.total_seconds()\n",
    "\n",
    "# сгруппируем таблицу data_arc по номерам партий, а в качестве значений\n",
    "# возьмем сумму значений столбца 'Суммарное время нагрева' и сохраним\n",
    "data_arc_sum = data_arc.groupby('key')['Суммарное время нагрева'].sum().reset_index()\n",
    "# переименуем столбцы новой таблицы и выведем на экран\n",
    "data_arc_sum.columns = ['key', 'Суммарное время нагрева']\n",
    "display(data_arc_sum.head()) "
   ]
  },
  {
   "cell_type": "markdown",
   "metadata": {},
   "source": [
    "- нашли суммарное время нагрева электродами каждой партии."
   ]
  },
  {
   "cell_type": "markdown",
   "metadata": {},
   "source": [
    "### Количество запусков нагрева электродами. "
   ]
  },
  {
   "cell_type": "code",
   "execution_count": 10,
   "metadata": {},
   "outputs": [
    {
     "data": {
      "text/html": [
       "<div>\n",
       "<style scoped>\n",
       "    .dataframe tbody tr th:only-of-type {\n",
       "        vertical-align: middle;\n",
       "    }\n",
       "\n",
       "    .dataframe tbody tr th {\n",
       "        vertical-align: top;\n",
       "    }\n",
       "\n",
       "    .dataframe thead th {\n",
       "        text-align: right;\n",
       "    }\n",
       "</style>\n",
       "<table border=\"1\" class=\"dataframe\">\n",
       "  <thead>\n",
       "    <tr style=\"text-align: right;\">\n",
       "      <th></th>\n",
       "      <th>key</th>\n",
       "      <th>Количество запусков нагрева</th>\n",
       "    </tr>\n",
       "  </thead>\n",
       "  <tbody>\n",
       "    <tr>\n",
       "      <td>0</td>\n",
       "      <td>1</td>\n",
       "      <td>5</td>\n",
       "    </tr>\n",
       "    <tr>\n",
       "      <td>1</td>\n",
       "      <td>2</td>\n",
       "      <td>4</td>\n",
       "    </tr>\n",
       "    <tr>\n",
       "      <td>2</td>\n",
       "      <td>3</td>\n",
       "      <td>5</td>\n",
       "    </tr>\n",
       "    <tr>\n",
       "      <td>3</td>\n",
       "      <td>4</td>\n",
       "      <td>4</td>\n",
       "    </tr>\n",
       "    <tr>\n",
       "      <td>4</td>\n",
       "      <td>5</td>\n",
       "      <td>4</td>\n",
       "    </tr>\n",
       "  </tbody>\n",
       "</table>\n",
       "</div>"
      ],
      "text/plain": [
       "   key  Количество запусков нагрева\n",
       "0    1                            5\n",
       "1    2                            4\n",
       "2    3                            5\n",
       "3    4                            4\n",
       "4    5                            4"
      ]
     },
     "metadata": {},
     "output_type": "display_data"
    }
   ],
   "source": [
    "# найдем количество запусков нагрева электродами, сгруппировав\n",
    "# таблицу data_arc по номерам партий, а в качестве значений\n",
    "# найдем количество значений в столбце 'Суммарное время нагрева'\n",
    "data_arc_count = data_arc.groupby('key')['Суммарное время нагрева'].count().reset_index()\n",
    "# переименуем столбцы и выведем на экран\n",
    "data_arc_count.columns = ['key', 'Количество запусков нагрева']\n",
    "display(data_arc_count.head())"
   ]
  },
  {
   "cell_type": "markdown",
   "metadata": {},
   "source": [
    "- нашли количество запусков нагрева электродами для каждой партии."
   ]
  },
  {
   "cell_type": "markdown",
   "metadata": {},
   "source": [
    "### Среднее соотношение потребления активной и реактивной мощности."
   ]
  },
  {
   "cell_type": "code",
   "execution_count": 11,
   "metadata": {},
   "outputs": [
    {
     "name": "stderr",
     "output_type": "stream",
     "text": [
      "/opt/conda/lib/python3.7/site-packages/ipykernel_launcher.py:5: SettingWithCopyWarning: \n",
      "A value is trying to be set on a copy of a slice from a DataFrame.\n",
      "Try using .loc[row_indexer,col_indexer] = value instead\n",
      "\n",
      "See the caveats in the documentation: http://pandas.pydata.org/pandas-docs/stable/user_guide/indexing.html#returning-a-view-versus-a-copy\n",
      "  \"\"\"\n"
     ]
    },
    {
     "data": {
      "text/html": [
       "<div>\n",
       "<style scoped>\n",
       "    .dataframe tbody tr th:only-of-type {\n",
       "        vertical-align: middle;\n",
       "    }\n",
       "\n",
       "    .dataframe tbody tr th {\n",
       "        vertical-align: top;\n",
       "    }\n",
       "\n",
       "    .dataframe thead th {\n",
       "        text-align: right;\n",
       "    }\n",
       "</style>\n",
       "<table border=\"1\" class=\"dataframe\">\n",
       "  <thead>\n",
       "    <tr style=\"text-align: right;\">\n",
       "      <th></th>\n",
       "      <th>key</th>\n",
       "      <th>Среднее соотношение акт/реакт</th>\n",
       "    </tr>\n",
       "  </thead>\n",
       "  <tbody>\n",
       "    <tr>\n",
       "      <td>0</td>\n",
       "      <td>1</td>\n",
       "      <td>1.538898</td>\n",
       "    </tr>\n",
       "    <tr>\n",
       "      <td>1</td>\n",
       "      <td>2</td>\n",
       "      <td>1.551834</td>\n",
       "    </tr>\n",
       "    <tr>\n",
       "      <td>2</td>\n",
       "      <td>3</td>\n",
       "      <td>1.583120</td>\n",
       "    </tr>\n",
       "    <tr>\n",
       "      <td>3</td>\n",
       "      <td>4</td>\n",
       "      <td>1.563487</td>\n",
       "    </tr>\n",
       "    <tr>\n",
       "      <td>4</td>\n",
       "      <td>5</td>\n",
       "      <td>1.480428</td>\n",
       "    </tr>\n",
       "  </tbody>\n",
       "</table>\n",
       "</div>"
      ],
      "text/plain": [
       "   key  Среднее соотношение акт/реакт\n",
       "0    1                       1.538898\n",
       "1    2                       1.551834\n",
       "2    3                       1.583120\n",
       "3    4                       1.563487\n",
       "4    5                       1.480428"
      ]
     },
     "metadata": {},
     "output_type": "display_data"
    }
   ],
   "source": [
    "# обратившись к таблице data_arc, найдем отношение активной мощности\n",
    "# к реактивной, а затем сгруппируем данные по номеру партии и найдем\n",
    "# среднее соотношение акт/реакт мощностей\n",
    "data_arc['Среднее соотношение акт/реакт'] = (data_arc['Активная мощность'] / \n",
    "                                             data_arc['Реактивная мощность'])\n",
    "data_arc_ratio = data_arc.groupby('key')['Среднее соотношение акт/реакт'].mean().reset_index()\n",
    "display(data_arc_ratio.head())"
   ]
  },
  {
   "cell_type": "markdown",
   "metadata": {},
   "source": [
    "- нашли среднее соотношение потребления активной и реактивной мощностей для каждой партии."
   ]
  },
  {
   "cell_type": "markdown",
   "metadata": {},
   "source": [
    "### Начальная и финальная температура."
   ]
  },
  {
   "cell_type": "code",
   "execution_count": 12,
   "metadata": {},
   "outputs": [
    {
     "data": {
      "text/html": [
       "<div>\n",
       "<style scoped>\n",
       "    .dataframe tbody tr th:only-of-type {\n",
       "        vertical-align: middle;\n",
       "    }\n",
       "\n",
       "    .dataframe tbody tr th {\n",
       "        vertical-align: top;\n",
       "    }\n",
       "\n",
       "    .dataframe thead th {\n",
       "        text-align: right;\n",
       "    }\n",
       "</style>\n",
       "<table border=\"1\" class=\"dataframe\">\n",
       "  <thead>\n",
       "    <tr style=\"text-align: right;\">\n",
       "      <th></th>\n",
       "      <th>key</th>\n",
       "      <th>Время замера</th>\n",
       "      <th>Температура</th>\n",
       "      <th>Начальное время замера</th>\n",
       "      <th>Финальное время замера</th>\n",
       "    </tr>\n",
       "  </thead>\n",
       "  <tbody>\n",
       "    <tr>\n",
       "      <td>0</td>\n",
       "      <td>1</td>\n",
       "      <td>2019-05-03 11:16:18</td>\n",
       "      <td>1571.0</td>\n",
       "      <td>2019-05-03 11:16:18</td>\n",
       "      <td>2019-05-03 11:30:39</td>\n",
       "    </tr>\n",
       "    <tr>\n",
       "      <td>1</td>\n",
       "      <td>1</td>\n",
       "      <td>2019-05-03 11:25:53</td>\n",
       "      <td>1604.0</td>\n",
       "      <td>2019-05-03 11:16:18</td>\n",
       "      <td>2019-05-03 11:30:39</td>\n",
       "    </tr>\n",
       "    <tr>\n",
       "      <td>2</td>\n",
       "      <td>1</td>\n",
       "      <td>2019-05-03 11:29:11</td>\n",
       "      <td>1618.0</td>\n",
       "      <td>2019-05-03 11:16:18</td>\n",
       "      <td>2019-05-03 11:30:39</td>\n",
       "    </tr>\n",
       "    <tr>\n",
       "      <td>3</td>\n",
       "      <td>1</td>\n",
       "      <td>2019-05-03 11:30:01</td>\n",
       "      <td>1601.0</td>\n",
       "      <td>2019-05-03 11:16:18</td>\n",
       "      <td>2019-05-03 11:30:39</td>\n",
       "    </tr>\n",
       "    <tr>\n",
       "      <td>4</td>\n",
       "      <td>1</td>\n",
       "      <td>2019-05-03 11:30:39</td>\n",
       "      <td>1613.0</td>\n",
       "      <td>2019-05-03 11:16:18</td>\n",
       "      <td>2019-05-03 11:30:39</td>\n",
       "    </tr>\n",
       "  </tbody>\n",
       "</table>\n",
       "</div>"
      ],
      "text/plain": [
       "   key        Время замера  Температура Начальное время замера  \\\n",
       "0    1 2019-05-03 11:16:18       1571.0    2019-05-03 11:16:18   \n",
       "1    1 2019-05-03 11:25:53       1604.0    2019-05-03 11:16:18   \n",
       "2    1 2019-05-03 11:29:11       1618.0    2019-05-03 11:16:18   \n",
       "3    1 2019-05-03 11:30:01       1601.0    2019-05-03 11:16:18   \n",
       "4    1 2019-05-03 11:30:39       1613.0    2019-05-03 11:16:18   \n",
       "\n",
       "  Финальное время замера  \n",
       "0    2019-05-03 11:30:39  \n",
       "1    2019-05-03 11:30:39  \n",
       "2    2019-05-03 11:30:39  \n",
       "3    2019-05-03 11:30:39  \n",
       "4    2019-05-03 11:30:39  "
      ]
     },
     "metadata": {},
     "output_type": "display_data"
    }
   ],
   "source": [
    "# обратившись к таблице data_temp, еще раз для каждой партии найдем\n",
    "# начальное и финальное время замера(сгруппируем данные по номеру партии\n",
    "# значения получим из столбца 'Время замера'), переименуем столбцы\n",
    "data_start_final_time = data_temp.pivot_table(values = 'Время замера', \n",
    "                                              index = 'key', \n",
    "                                              aggfunc = ['first', 'last'])\n",
    "data_start_final_time.columns = ['Начальное время замера', \n",
    "                                 'Финальное время замера']\n",
    "# присоединим к полученным данным таблиццу data_temp, выведем на экран\n",
    "data_start_final_time = data_temp.merge(data_start_final_time, \n",
    "                                        left_on='key', right_on='key')\n",
    "display(data_start_final_time.head())"
   ]
  },
  {
   "cell_type": "code",
   "execution_count": 13,
   "metadata": {},
   "outputs": [],
   "source": [
    "# создадим функцию для поиска начальной температуры каждой партии\n",
    "# если время замера совпадает с начальным временем, то возвращаем\n",
    "# температуру, в обратном случае возвращаем нули\n",
    "def get_start_temp (row): \n",
    "    if row['Время замера'] == row['Начальное время замера']:\n",
    "        return row['Температура']\n",
    "    else:\n",
    "        return 0 "
   ]
  },
  {
   "cell_type": "code",
   "execution_count": 14,
   "metadata": {},
   "outputs": [
    {
     "data": {
      "text/html": [
       "<div>\n",
       "<style scoped>\n",
       "    .dataframe tbody tr th:only-of-type {\n",
       "        vertical-align: middle;\n",
       "    }\n",
       "\n",
       "    .dataframe tbody tr th {\n",
       "        vertical-align: top;\n",
       "    }\n",
       "\n",
       "    .dataframe thead th {\n",
       "        text-align: right;\n",
       "    }\n",
       "</style>\n",
       "<table border=\"1\" class=\"dataframe\">\n",
       "  <thead>\n",
       "    <tr style=\"text-align: right;\">\n",
       "      <th></th>\n",
       "      <th>key</th>\n",
       "      <th>Начальная температура</th>\n",
       "    </tr>\n",
       "  </thead>\n",
       "  <tbody>\n",
       "    <tr>\n",
       "      <td>0</td>\n",
       "      <td>1</td>\n",
       "      <td>1571.0</td>\n",
       "    </tr>\n",
       "    <tr>\n",
       "      <td>1</td>\n",
       "      <td>2</td>\n",
       "      <td>1581.0</td>\n",
       "    </tr>\n",
       "    <tr>\n",
       "      <td>2</td>\n",
       "      <td>3</td>\n",
       "      <td>1596.0</td>\n",
       "    </tr>\n",
       "    <tr>\n",
       "      <td>3</td>\n",
       "      <td>4</td>\n",
       "      <td>1601.0</td>\n",
       "    </tr>\n",
       "    <tr>\n",
       "      <td>4</td>\n",
       "      <td>5</td>\n",
       "      <td>1576.0</td>\n",
       "    </tr>\n",
       "  </tbody>\n",
       "</table>\n",
       "</div>"
      ],
      "text/plain": [
       "   key  Начальная температура\n",
       "0    1                 1571.0\n",
       "1    2                 1581.0\n",
       "2    3                 1596.0\n",
       "3    4                 1601.0\n",
       "4    5                 1576.0"
      ]
     },
     "metadata": {},
     "output_type": "display_data"
    }
   ],
   "source": [
    "# применим функцию к таблице data_start_final_timе \n",
    "data_start_final_time['Начальная температура'] = (data_start_final_time.\n",
    "                                                  apply(lambda row: get_start_temp(row), \n",
    "                                                        axis=1)) \n",
    "# сгруппируем данные по номеру партии, в качестве значений\n",
    "# возмьмем максимальные занчения столбца 'Начальная температура' (не нули)\n",
    "data_start_temp = data_start_final_time.pivot_table(values = 'Начальная температура', \n",
    "                                                    index = 'key', \n",
    "                                                    aggfunc = ['max']).reset_index()\n",
    "# переименуем столбцы и выведем на экран\n",
    "data_start_temp.columns = ['key', 'Начальная температура']\n",
    "display(data_start_temp.head())"
   ]
  },
  {
   "cell_type": "code",
   "execution_count": 15,
   "metadata": {},
   "outputs": [],
   "source": [
    "# создадим функцию для поиска финальной температуры каждой партии\n",
    "# если время замера совпадает с финальным временем, то возвращаем\n",
    "# температуру, в обратном случае возвращаем нули\n",
    "def get_final_temp (row): \n",
    "    if row['Время замера'] == row['Финальное время замера']:\n",
    "        return row['Температура']\n",
    "    else:\n",
    "        return 0 "
   ]
  },
  {
   "cell_type": "code",
   "execution_count": 16,
   "metadata": {},
   "outputs": [
    {
     "data": {
      "text/html": [
       "<div>\n",
       "<style scoped>\n",
       "    .dataframe tbody tr th:only-of-type {\n",
       "        vertical-align: middle;\n",
       "    }\n",
       "\n",
       "    .dataframe tbody tr th {\n",
       "        vertical-align: top;\n",
       "    }\n",
       "\n",
       "    .dataframe thead th {\n",
       "        text-align: right;\n",
       "    }\n",
       "</style>\n",
       "<table border=\"1\" class=\"dataframe\">\n",
       "  <thead>\n",
       "    <tr style=\"text-align: right;\">\n",
       "      <th></th>\n",
       "      <th>key</th>\n",
       "      <th>Финальная температура</th>\n",
       "    </tr>\n",
       "  </thead>\n",
       "  <tbody>\n",
       "    <tr>\n",
       "      <td>0</td>\n",
       "      <td>1</td>\n",
       "      <td>1613.0</td>\n",
       "    </tr>\n",
       "    <tr>\n",
       "      <td>1</td>\n",
       "      <td>2</td>\n",
       "      <td>1602.0</td>\n",
       "    </tr>\n",
       "    <tr>\n",
       "      <td>2</td>\n",
       "      <td>3</td>\n",
       "      <td>1599.0</td>\n",
       "    </tr>\n",
       "    <tr>\n",
       "      <td>3</td>\n",
       "      <td>4</td>\n",
       "      <td>1625.0</td>\n",
       "    </tr>\n",
       "    <tr>\n",
       "      <td>4</td>\n",
       "      <td>5</td>\n",
       "      <td>1602.0</td>\n",
       "    </tr>\n",
       "  </tbody>\n",
       "</table>\n",
       "</div>"
      ],
      "text/plain": [
       "   key  Финальная температура\n",
       "0    1                 1613.0\n",
       "1    2                 1602.0\n",
       "2    3                 1599.0\n",
       "3    4                 1625.0\n",
       "4    5                 1602.0"
      ]
     },
     "metadata": {},
     "output_type": "display_data"
    }
   ],
   "source": [
    "# применим функцию к таблице data_start_final_timе \n",
    "data_start_final_time['Финальная температура'] = (data_start_final_time.\n",
    "                                                  apply (lambda row: get_final_temp(row), \n",
    "                                                         axis=1)) \n",
    "\n",
    "# сгруппируем данные по номеру партии, в качестве значений\n",
    "# возмьмем максимальные занчения столбца 'Финальная температура' (не нули)\n",
    "data_final_temp = data_start_final_time.pivot_table(values = 'Финальная температура', \n",
    "                                                    index = 'key', \n",
    "                                                    aggfunc = ['max']).reset_index()\n",
    "# переименуем столбцы и выведем на экран\n",
    "data_final_temp.columns = ['key', 'Финальная температура']\n",
    "display(data_final_temp.head())"
   ]
  },
  {
   "cell_type": "code",
   "execution_count": 17,
   "metadata": {},
   "outputs": [
    {
     "data": {
      "text/html": [
       "<div>\n",
       "<style scoped>\n",
       "    .dataframe tbody tr th:only-of-type {\n",
       "        vertical-align: middle;\n",
       "    }\n",
       "\n",
       "    .dataframe tbody tr th {\n",
       "        vertical-align: top;\n",
       "    }\n",
       "\n",
       "    .dataframe thead th {\n",
       "        text-align: right;\n",
       "    }\n",
       "</style>\n",
       "<table border=\"1\" class=\"dataframe\">\n",
       "  <thead>\n",
       "    <tr style=\"text-align: right;\">\n",
       "      <th></th>\n",
       "      <th>key</th>\n",
       "      <th>Начальная температура</th>\n",
       "      <th>Финальная температура</th>\n",
       "    </tr>\n",
       "  </thead>\n",
       "  <tbody>\n",
       "    <tr>\n",
       "      <td>0</td>\n",
       "      <td>1</td>\n",
       "      <td>1571.0</td>\n",
       "      <td>1613.0</td>\n",
       "    </tr>\n",
       "    <tr>\n",
       "      <td>1</td>\n",
       "      <td>2</td>\n",
       "      <td>1581.0</td>\n",
       "      <td>1602.0</td>\n",
       "    </tr>\n",
       "    <tr>\n",
       "      <td>2</td>\n",
       "      <td>3</td>\n",
       "      <td>1596.0</td>\n",
       "      <td>1599.0</td>\n",
       "    </tr>\n",
       "    <tr>\n",
       "      <td>3</td>\n",
       "      <td>4</td>\n",
       "      <td>1601.0</td>\n",
       "      <td>1625.0</td>\n",
       "    </tr>\n",
       "    <tr>\n",
       "      <td>4</td>\n",
       "      <td>5</td>\n",
       "      <td>1576.0</td>\n",
       "      <td>1602.0</td>\n",
       "    </tr>\n",
       "  </tbody>\n",
       "</table>\n",
       "</div>"
      ],
      "text/plain": [
       "   key  Начальная температура  Финальная температура\n",
       "0    1                 1571.0                 1613.0\n",
       "1    2                 1581.0                 1602.0\n",
       "2    3                 1596.0                 1599.0\n",
       "3    4                 1601.0                 1625.0\n",
       "4    5                 1576.0                 1602.0"
      ]
     },
     "metadata": {},
     "output_type": "display_data"
    }
   ],
   "source": [
    "# соединим таблицы с начальной и финальной температурами \n",
    "# по номеру партии\n",
    "data_start_final_time = data_start_temp.merge(data_final_temp, \n",
    "                                              left_on='key', \n",
    "                                              right_on='key')\n",
    "# выведем на экран\n",
    "display(data_start_final_time.head())"
   ]
  },
  {
   "cell_type": "markdown",
   "metadata": {},
   "source": [
    "- нашли значения начальной и финальной температуры для каждой партии."
   ]
  },
  {
   "cell_type": "markdown",
   "metadata": {},
   "source": [
    "### Соединение полученных данных и получение статистических данных."
   ]
  },
  {
   "cell_type": "code",
   "execution_count": 18,
   "metadata": {},
   "outputs": [
    {
     "data": {
      "text/html": [
       "<div>\n",
       "<style scoped>\n",
       "    .dataframe tbody tr th:only-of-type {\n",
       "        vertical-align: middle;\n",
       "    }\n",
       "\n",
       "    .dataframe tbody tr th {\n",
       "        vertical-align: top;\n",
       "    }\n",
       "\n",
       "    .dataframe thead th {\n",
       "        text-align: right;\n",
       "    }\n",
       "</style>\n",
       "<table border=\"1\" class=\"dataframe\">\n",
       "  <thead>\n",
       "    <tr style=\"text-align: right;\">\n",
       "      <th></th>\n",
       "      <th>key</th>\n",
       "      <th>Общее время</th>\n",
       "      <th>Суммарное время нагрева</th>\n",
       "      <th>Количество запусков нагрева</th>\n",
       "      <th>Среднее соотношение акт/реакт</th>\n",
       "      <th>Начальная температура</th>\n",
       "      <th>Финальная температура</th>\n",
       "    </tr>\n",
       "  </thead>\n",
       "  <tbody>\n",
       "    <tr>\n",
       "      <td>0</td>\n",
       "      <td>1</td>\n",
       "      <td>861.0</td>\n",
       "      <td>1098.0</td>\n",
       "      <td>5</td>\n",
       "      <td>1.538898</td>\n",
       "      <td>1571.0</td>\n",
       "      <td>1613.0</td>\n",
       "    </tr>\n",
       "    <tr>\n",
       "      <td>1</td>\n",
       "      <td>2</td>\n",
       "      <td>1305.0</td>\n",
       "      <td>811.0</td>\n",
       "      <td>4</td>\n",
       "      <td>1.551834</td>\n",
       "      <td>1581.0</td>\n",
       "      <td>1602.0</td>\n",
       "    </tr>\n",
       "    <tr>\n",
       "      <td>2</td>\n",
       "      <td>3</td>\n",
       "      <td>1300.0</td>\n",
       "      <td>655.0</td>\n",
       "      <td>5</td>\n",
       "      <td>1.583120</td>\n",
       "      <td>1596.0</td>\n",
       "      <td>1599.0</td>\n",
       "    </tr>\n",
       "    <tr>\n",
       "      <td>3</td>\n",
       "      <td>4</td>\n",
       "      <td>388.0</td>\n",
       "      <td>741.0</td>\n",
       "      <td>4</td>\n",
       "      <td>1.563487</td>\n",
       "      <td>1601.0</td>\n",
       "      <td>1625.0</td>\n",
       "    </tr>\n",
       "    <tr>\n",
       "      <td>4</td>\n",
       "      <td>5</td>\n",
       "      <td>762.0</td>\n",
       "      <td>869.0</td>\n",
       "      <td>4</td>\n",
       "      <td>1.480428</td>\n",
       "      <td>1576.0</td>\n",
       "      <td>1602.0</td>\n",
       "    </tr>\n",
       "  </tbody>\n",
       "</table>\n",
       "</div>"
      ],
      "text/plain": [
       "   key  Общее время  Суммарное время нагрева  Количество запусков нагрева  \\\n",
       "0    1        861.0                   1098.0                            5   \n",
       "1    2       1305.0                    811.0                            4   \n",
       "2    3       1300.0                    655.0                            5   \n",
       "3    4        388.0                    741.0                            4   \n",
       "4    5        762.0                    869.0                            4   \n",
       "\n",
       "   Среднее соотношение акт/реакт  Начальная температура  Финальная температура  \n",
       "0                       1.538898                 1571.0                 1613.0  \n",
       "1                       1.551834                 1581.0                 1602.0  \n",
       "2                       1.583120                 1596.0                 1599.0  \n",
       "3                       1.563487                 1601.0                 1625.0  \n",
       "4                       1.480428                 1576.0                 1602.0  "
      ]
     },
     "metadata": {},
     "output_type": "display_data"
    }
   ],
   "source": [
    "# соединим все полученные данные в одну таблиц по номеру партии\n",
    "data_stat = data_full_time.merge(data_arc_sum, left_on='key', right_on='key')\n",
    "data_stat = data_stat.merge(data_arc_count, left_on='key', right_on='key')\n",
    "data_stat = data_stat.merge(data_arc_ratio, left_on='key', right_on='key')\n",
    "data_stat = data_stat.merge(data_start_final_time, left_on='key', right_on='key')\n",
    "\n",
    "# выведем на экран\n",
    "display(data_stat.head())"
   ]
  },
  {
   "cell_type": "code",
   "execution_count": 19,
   "metadata": {},
   "outputs": [
    {
     "data": {
      "text/html": [
       "<div>\n",
       "<style scoped>\n",
       "    .dataframe tbody tr th:only-of-type {\n",
       "        vertical-align: middle;\n",
       "    }\n",
       "\n",
       "    .dataframe tbody tr th {\n",
       "        vertical-align: top;\n",
       "    }\n",
       "\n",
       "    .dataframe thead th {\n",
       "        text-align: right;\n",
       "    }\n",
       "</style>\n",
       "<table border=\"1\" class=\"dataframe\">\n",
       "  <thead>\n",
       "    <tr style=\"text-align: right;\">\n",
       "      <th></th>\n",
       "      <th>count</th>\n",
       "      <th>mean</th>\n",
       "      <th>std</th>\n",
       "      <th>min</th>\n",
       "      <th>25%</th>\n",
       "      <th>50%</th>\n",
       "      <th>75%</th>\n",
       "      <th>max</th>\n",
       "      <th>median</th>\n",
       "    </tr>\n",
       "  </thead>\n",
       "  <tbody>\n",
       "    <tr>\n",
       "      <td>Общее время</td>\n",
       "      <td>3214.0</td>\n",
       "      <td>1841.006534</td>\n",
       "      <td>1246.492874</td>\n",
       "      <td>197.000000</td>\n",
       "      <td>1178.250000</td>\n",
       "      <td>1583.000000</td>\n",
       "      <td>2235.000000</td>\n",
       "      <td>23537.000000</td>\n",
       "      <td>1581.000000</td>\n",
       "    </tr>\n",
       "    <tr>\n",
       "      <td>Суммарное время нагрева</td>\n",
       "      <td>3214.0</td>\n",
       "      <td>794.545115</td>\n",
       "      <td>332.491076</td>\n",
       "      <td>57.000000</td>\n",
       "      <td>571.000000</td>\n",
       "      <td>770.000000</td>\n",
       "      <td>983.000000</td>\n",
       "      <td>4189.000000</td>\n",
       "      <td>770.000000</td>\n",
       "    </tr>\n",
       "    <tr>\n",
       "      <td>Количество запусков нагрева</td>\n",
       "      <td>3214.0</td>\n",
       "      <td>4.628189</td>\n",
       "      <td>1.608866</td>\n",
       "      <td>1.000000</td>\n",
       "      <td>4.000000</td>\n",
       "      <td>4.000000</td>\n",
       "      <td>6.000000</td>\n",
       "      <td>16.000000</td>\n",
       "      <td>4.000000</td>\n",
       "    </tr>\n",
       "    <tr>\n",
       "      <td>Среднее соотношение акт/реакт</td>\n",
       "      <td>3214.0</td>\n",
       "      <td>1.357567</td>\n",
       "      <td>0.132769</td>\n",
       "      <td>0.676106</td>\n",
       "      <td>1.292948</td>\n",
       "      <td>1.370596</td>\n",
       "      <td>1.438313</td>\n",
       "      <td>1.782164</td>\n",
       "      <td>1.370596</td>\n",
       "    </tr>\n",
       "    <tr>\n",
       "      <td>Начальная температура</td>\n",
       "      <td>3214.0</td>\n",
       "      <td>1588.589297</td>\n",
       "      <td>29.145246</td>\n",
       "      <td>1191.000000</td>\n",
       "      <td>1572.000000</td>\n",
       "      <td>1588.000000</td>\n",
       "      <td>1606.000000</td>\n",
       "      <td>1684.000000</td>\n",
       "      <td>1588.000000</td>\n",
       "    </tr>\n",
       "    <tr>\n",
       "      <td>Финальная температура</td>\n",
       "      <td>3214.0</td>\n",
       "      <td>1228.518046</td>\n",
       "      <td>671.550907</td>\n",
       "      <td>0.000000</td>\n",
       "      <td>1574.000000</td>\n",
       "      <td>1590.000000</td>\n",
       "      <td>1597.000000</td>\n",
       "      <td>1700.000000</td>\n",
       "      <td>1590.000000</td>\n",
       "    </tr>\n",
       "  </tbody>\n",
       "</table>\n",
       "</div>"
      ],
      "text/plain": [
       "                                count         mean          std          min  \\\n",
       "Общее время                    3214.0  1841.006534  1246.492874   197.000000   \n",
       "Суммарное время нагрева        3214.0   794.545115   332.491076    57.000000   \n",
       "Количество запусков нагрева    3214.0     4.628189     1.608866     1.000000   \n",
       "Среднее соотношение акт/реакт  3214.0     1.357567     0.132769     0.676106   \n",
       "Начальная температура          3214.0  1588.589297    29.145246  1191.000000   \n",
       "Финальная температура          3214.0  1228.518046   671.550907     0.000000   \n",
       "\n",
       "                                       25%          50%          75%  \\\n",
       "Общее время                    1178.250000  1583.000000  2235.000000   \n",
       "Суммарное время нагрева         571.000000   770.000000   983.000000   \n",
       "Количество запусков нагрева       4.000000     4.000000     6.000000   \n",
       "Среднее соотношение акт/реакт     1.292948     1.370596     1.438313   \n",
       "Начальная температура          1572.000000  1588.000000  1606.000000   \n",
       "Финальная температура          1574.000000  1590.000000  1597.000000   \n",
       "\n",
       "                                        max       median  \n",
       "Общее время                    23537.000000  1581.000000  \n",
       "Суммарное время нагрева         4189.000000   770.000000  \n",
       "Количество запусков нагрева       16.000000     4.000000  \n",
       "Среднее соотношение акт/реакт      1.782164     1.370596  \n",
       "Начальная температура           1684.000000  1588.000000  \n",
       "Финальная температура           1700.000000  1590.000000  "
      ]
     },
     "metadata": {},
     "output_type": "display_data"
    }
   ],
   "source": [
    "# найдем статистические характеристики для полученных значений\n",
    "data_stat_info = data_stat[['Общее время', 'Суммарное время нагрева', \n",
    "                            'Количество запусков нагрева', 'Среднее соотношение акт/реакт',\n",
    "                            'Начальная температура', 'Финальная температура']].describe().T\n",
    "\n",
    "# найдем медиану для полученных значений и создадим датафрейм\n",
    "median = {'Общее время': [data_full_time['Общее время'].median()],\n",
    "          'Суммарное время нагрева': [data_arc_sum['Суммарное время нагрева'].median()],\n",
    "          'Количество запусков нагрева': [data_arc_count['Количество запусков нагрева'].median()],\n",
    "          'Среднее соотношение акт/реакт': [data_arc_ratio['Среднее соотношение акт/реакт'].median()],\n",
    "          'Начальная температура': [data_start_final_time['Начальная температура'].median()],\n",
    "          'Финальная температура': [data_start_final_time['Финальная температура'].median()]}\n",
    "data_median = pd.DataFrame(median, index=['median'])\n",
    "data_median = data_median.T\n",
    "\n",
    "# соединим таблицы со статистическими значениями и выведем на экран\n",
    "data_stat_info = data_stat_info.join(data_median)\n",
    "display(data_stat_info)"
   ]
  },
  {
   "cell_type": "markdown",
   "metadata": {},
   "source": [
    "- как видим во всех искомых данных медиана и среднее отличаются, значит имеются выбросы, с которыми будем работать далее.\n",
    "- в данных \"Финальная температура\" и вовсе имеются нулевые значения(либо пропущенные), что недопустимо, т.к. финальная температура нулевой быть не может. Более того, \"Финальная температура\" является целевым признаком."
   ]
  },
  {
   "cell_type": "markdown",
   "metadata": {},
   "source": [
    "## Подготовка данных.\n",
    "### Соединение данных в одну таблицу."
   ]
  },
  {
   "cell_type": "code",
   "execution_count": 20,
   "metadata": {},
   "outputs": [
    {
     "name": "stdout",
     "output_type": "stream",
     "text": [
      "       key  Общее время  Суммарное время нагрева  Количество запусков нагрева  \\\n",
      "0        1        861.0                   1098.0                            5   \n",
      "1        2       1305.0                    811.0                            4   \n",
      "2        3       1300.0                    655.0                            5   \n",
      "3        4        388.0                    741.0                            4   \n",
      "4        5        762.0                    869.0                            4   \n",
      "...    ...          ...                      ...                          ...   \n",
      "3017  3237       1299.0                    909.0                            5   \n",
      "3018  3238        749.0                    546.0                            3   \n",
      "3019  3239       3148.0                   1216.0                            8   \n",
      "3020  3240       3375.0                    839.0                            5   \n",
      "3021  3241       2078.0                    659.0                            5   \n",
      "\n",
      "      Среднее соотношение акт/реакт  Начальная температура  \\\n",
      "0                          1.538898                 1571.0   \n",
      "1                          1.551834                 1581.0   \n",
      "2                          1.583120                 1596.0   \n",
      "3                          1.563487                 1601.0   \n",
      "4                          1.480428                 1576.0   \n",
      "...                             ...                    ...   \n",
      "3017                       1.384203                 1569.0   \n",
      "3018                       1.257794                 1584.0   \n",
      "3019                       1.497918                 1598.0   \n",
      "3020                       1.257343                 1617.0   \n",
      "3021                       1.482661                 1586.0   \n",
      "\n",
      "      Финальная температура  Bulk 1  Bulk 2  Bulk 3  ...      Газ 1  \\\n",
      "0                    1613.0     NaN     NaN     NaN  ...  29.749986   \n",
      "1                    1602.0     NaN     NaN     NaN  ...  12.555561   \n",
      "2                    1599.0     NaN     NaN     NaN  ...  28.554793   \n",
      "3                    1625.0     NaN     NaN     NaN  ...  18.841219   \n",
      "4                    1602.0     NaN     NaN     NaN  ...   5.413692   \n",
      "...                     ...     ...     ...     ...  ...        ...   \n",
      "3017                    0.0     NaN     NaN   170.0  ...   5.543905   \n",
      "3018                    0.0     NaN     NaN   126.0  ...   6.745669   \n",
      "3019                    0.0     NaN     NaN     NaN  ...  16.023518   \n",
      "3020                    0.0     NaN     NaN     NaN  ...  11.863103   \n",
      "3021                    0.0     NaN     NaN     NaN  ...  12.680959   \n",
      "\n",
      "          Wire 1   Wire 2  Wire 3  Wire 4  Wire 5  Wire 6  Wire 7  Wire 8  \\\n",
      "0      60.059998      NaN     NaN     NaN     NaN     NaN     NaN     NaN   \n",
      "1      96.052315      NaN     NaN     NaN     NaN     NaN     NaN     NaN   \n",
      "2      91.160157      NaN     NaN     NaN     NaN     NaN     NaN     NaN   \n",
      "3      89.063515      NaN     NaN     NaN     NaN     NaN     NaN     NaN   \n",
      "4      89.238236  9.11456     NaN     NaN     NaN     NaN     NaN     NaN   \n",
      "...          ...      ...     ...     ...     ...     ...     ...     ...   \n",
      "3017   38.088959      NaN     NaN     NaN     NaN     NaN     NaN     NaN   \n",
      "3018   56.128799      NaN     NaN     NaN     NaN     NaN     NaN     NaN   \n",
      "3019  143.357761      NaN     NaN     NaN     NaN     NaN     NaN     NaN   \n",
      "3020   34.070400      NaN     NaN     NaN     NaN     NaN     NaN     NaN   \n",
      "3021   63.117595      NaN     NaN     NaN     NaN     NaN     NaN     NaN   \n",
      "\n",
      "      Wire 9  \n",
      "0        NaN  \n",
      "1        NaN  \n",
      "2        NaN  \n",
      "3        NaN  \n",
      "4        NaN  \n",
      "...      ...  \n",
      "3017     NaN  \n",
      "3018     NaN  \n",
      "3019     NaN  \n",
      "3020     NaN  \n",
      "3021     NaN  \n",
      "\n",
      "[3022 rows x 32 columns]\n"
     ]
    }
   ],
   "source": [
    "# соединим в одну таблицу данные, полученные в исследовательском анализе и\n",
    "# данные об объеме сыпучих материалов, о продувке сплава газом и \n",
    "# данные об объеме проволочных материалов\n",
    "data_final = data_stat.merge(data_bulk, left_on='key', right_on='key')\n",
    "data_final = data_final.merge(data_gas, left_on='key', right_on='key')\n",
    "data_final = data_final.merge(data_wire, left_on='key', right_on='key')\n",
    "\n",
    "# выведем на экран\n",
    "print(data_final)"
   ]
  },
  {
   "cell_type": "markdown",
   "metadata": {},
   "source": [
    "- получили финальный датафрейм, на основании которого будем проводить машинное обучение.\n",
    "- данные о времени подачи сыпучих и проволочных материалов никак не использовали, т.к. промежуточные этапы не рассматриваем (только начальное и финальное время, начальную и финальную температуры и т.д.)"
   ]
  },
  {
   "cell_type": "markdown",
   "metadata": {},
   "source": [
    "### Проверка распределения, корреляции признаков, удаление выбросов."
   ]
  },
  {
   "cell_type": "code",
   "execution_count": 21,
   "metadata": {},
   "outputs": [
    {
     "data": {
      "image/png": "[encoded data removed]",
      "text/plain": [
       "<Figure size 432x288 with 1 Axes>"
      ]
     },
     "metadata": {
      "needs_background": "light"
     },
     "output_type": "display_data"
    },
    {
     "data": {
      "image/png": "[encoded data removed]",
      "text/plain": [
       "<Figure size 432x288 with 1 Axes>"
      ]
     },
     "metadata": {
      "needs_background": "light"
     },
     "output_type": "display_data"
    },
    {
     "data": {
      "image/png": "[encoded data removed]",
      "text/plain": [
       "<Figure size 432x288 with 1 Axes>"
      ]
     },
     "metadata": {
      "needs_background": "light"
     },
     "output_type": "display_data"
    },
    {
     "data": {
      "image/png": "[encoded data removed]",
      "text/plain": [
       "<Figure size 432x288 with 1 Axes>"
      ]
     },
     "metadata": {
      "needs_background": "light"
     },
     "output_type": "display_data"
    },
    {
     "data": {
      "image/png": "[encoded data removed]",
      "text/plain": [
       "<Figure size 432x288 with 1 Axes>"
      ]
     },
     "metadata": {
      "needs_background": "light"
     },
     "output_type": "display_data"
    },
    {
     "data": {
      "image/png": "[encoded data removed]",
      "text/plain": [
       "<Figure size 432x288 with 1 Axes>"
      ]
     },
     "metadata": {
      "needs_background": "light"
     },
     "output_type": "display_data"
    },
    {
     "data": {
      "image/png": "[encoded data removed]",
      "text/plain": [
       "<Figure size 432x288 with 1 Axes>"
      ]
     },
     "metadata": {
      "needs_background": "light"
     },
     "output_type": "display_data"
    },
    {
     "data": {
      "image/png": "[encoded data removed]",
      "text/plain": [
       "<Figure size 432x288 with 1 Axes>"
      ]
     },
     "metadata": {
      "needs_background": "light"
     },
     "output_type": "display_data"
    },
    {
     "data": {
      "image/png": "[encoded data removed]",
      "text/plain": [
       "<Figure size 432x288 with 1 Axes>"
      ]
     },
     "metadata": {
      "needs_background": "light"
     },
     "output_type": "display_data"
    },
    {
     "data": {
      "image/png": "[encoded data removed]",
      "text/plain": [
       "<Figure size 432x288 with 1 Axes>"
      ]
     },
     "metadata": {
      "needs_background": "light"
     },
     "output_type": "display_data"
    },
    {
     "data": {
      "image/png": "[encoded data removed]",
      "text/plain": [
       "<Figure size 432x288 with 1 Axes>"
      ]
     },
     "metadata": {
      "needs_background": "light"
     },
     "output_type": "display_data"
    },
    {
     "data": {
      "image/png": "[encoded data removed]",
      "text/plain": [
       "<Figure size 432x288 with 1 Axes>"
      ]
     },
     "metadata": {
      "needs_background": "light"
     },
     "output_type": "display_data"
    },
    {
     "data": {
      "image/png": "[encoded data removed]",
      "text/plain": [
       "<Figure size 432x288 with 1 Axes>"
      ]
     },
     "metadata": {
      "needs_background": "light"
     },
     "output_type": "display_data"
    },
    {
     "data": {
      "image/png": "[encoded data removed]",
      "text/plain": [
       "<Figure size 432x288 with 1 Axes>"
      ]
     },
     "metadata": {
      "needs_background": "light"
     },
     "output_type": "display_data"
    },
    {
     "data": {
      "image/png": "[encoded data removed]",
      "text/plain": [
       "<Figure size 432x288 with 1 Axes>"
      ]
     },
     "metadata": {
      "needs_background": "light"
     },
     "output_type": "display_data"
    },
    {
     "data": {
      "image/png": "[encoded data removed]",
      "text/plain": [
       "<Figure size 432x288 with 1 Axes>"
      ]
     },
     "metadata": {
      "needs_background": "light"
     },
     "output_type": "display_data"
    },
    {
     "data": {
      "image/png": "[encoded data removed]",
      "text/plain": [
       "<Figure size 432x288 with 1 Axes>"
      ]
     },
     "metadata": {
      "needs_background": "light"
     },
     "output_type": "display_data"
    },
    {
     "data": {
      "image/png": "[encoded data removed]",
      "text/plain": [
       "<Figure size 432x288 with 1 Axes>"
      ]
     },
     "metadata": {
      "needs_background": "light"
     },
     "output_type": "display_data"
    },
    {
     "data": {
      "image/png": "[encoded data removed]",
      "text/plain": [
       "<Figure size 432x288 with 1 Axes>"
      ]
     },
     "metadata": {
      "needs_background": "light"
     },
     "output_type": "display_data"
    },
    {
     "data": {
      "image/png": "[encoded data removed]",
      "text/plain": [
       "<Figure size 432x288 with 1 Axes>"
      ]
     },
     "metadata": {
      "needs_background": "light"
     },
     "output_type": "display_data"
    },
    {
     "data": {
      "image/png": "[encoded data removed]",
      "text/plain": [
       "<Figure size 432x288 with 1 Axes>"
      ]
     },
     "metadata": {
      "needs_background": "light"
     },
     "output_type": "display_data"
    },
    {
     "data": {
      "image/png": "[encoded data removed]",
      "text/plain": [
       "<Figure size 432x288 with 1 Axes>"
      ]
     },
     "metadata": {
      "needs_background": "light"
     },
     "output_type": "display_data"
    },
    {
     "data": {
      "image/png": "[encoded data removed]",
      "text/plain": [
       "<Figure size 432x288 with 1 Axes>"
      ]
     },
     "metadata": {
      "needs_background": "light"
     },
     "output_type": "display_data"
    },
    {
     "data": {
      "image/png": "[encoded data removed]",
      "text/plain": [
       "<Figure size 432x288 with 1 Axes>"
      ]
     },
     "metadata": {
      "needs_background": "light"
     },
     "output_type": "display_data"
    },
    {
     "data": {
      "image/png": "[encoded data removed]",
      "text/plain": [
       "<Figure size 432x288 with 1 Axes>"
      ]
     },
     "metadata": {
      "needs_background": "light"
     },
     "output_type": "display_data"
    },
    {
     "data": {
      "image/png": "[encoded data removed]",
      "text/plain": [
       "<Figure size 432x288 with 1 Axes>"
      ]
     },
     "metadata": {
      "needs_background": "light"
     },
     "output_type": "display_data"
    },
    {
     "data": {
      "image/png": "[encoded data removed]",
      "text/plain": [
       "<Figure size 432x288 with 1 Axes>"
      ]
     },
     "metadata": {
      "needs_background": "light"
     },
     "output_type": "display_data"
    },
    {
     "data": {
      "image/png": "[encoded data removed]",
      "text/plain": [
       "<Figure size 432x288 with 1 Axes>"
      ]
     },
     "metadata": {
      "needs_background": "light"
     },
     "output_type": "display_data"
    },
    {
     "data": {
      "image/png": "[encoded data removed]",
      "text/plain": [
       "<Figure size 432x288 with 1 Axes>"
      ]
     },
     "metadata": {
      "needs_background": "light"
     },
     "output_type": "display_data"
    },
    {
     "data": {
      "image/png": "[encoded data removed]",
      "text/plain": [
       "<Figure size 432x288 with 1 Axes>"
      ]
     },
     "metadata": {
      "needs_background": "light"
     },
     "output_type": "display_data"
    },
    {
     "data": {
      "image/png": "[encoded data removed]",
      "text/plain": [
       "<Figure size 432x288 with 1 Axes>"
      ]
     },
     "metadata": {
      "needs_background": "light"
     },
     "output_type": "display_data"
    },
    {
     "data": {
      "image/png": "[encoded data removed]",
      "text/plain": [
       "<Figure size 432x288 with 1 Axes>"
      ]
     },
     "metadata": {
      "needs_background": "light"
     },
     "output_type": "display_data"
    }
   ],
   "source": [
    "# построим гистограмму распределения для каждого признака\n",
    "for i in data_final:\n",
    "    plt.hist(data_final[i], bins=100)\n",
    "    plt.title(i)\n",
    "    plt.show()"
   ]
  },
  {
   "cell_type": "markdown",
   "metadata": {},
   "source": [
    "- как убедились ранее в исследовательском анализе, в данных имеются хвосты в распределениях. часть данных вообще имеют странное распределение."
   ]
  },
  {
   "cell_type": "code",
   "execution_count": 22,
   "metadata": {},
   "outputs": [],
   "source": [
    "# создадим список основных фичей, где имеются данные\n",
    "# для всех партий и распределение похоже на нормальное\n",
    "f_list = ['Общее время', 'Суммарное время нагрева', \n",
    "          'Количество запусков нагрева', 'Среднее соотношение акт/реакт', \n",
    "          'Начальная температура', 'Финальная температура', 'Газ 1']\n",
    "\n",
    "# в цикле удалим выбросы с помощь boxplot\n",
    "# из списка признаков\n",
    "for i in f_list:\n",
    "    tmp = data_final[i]\n",
    "    Q1 = data_final[i].quantile(0.25)\n",
    "    Q3 = data_final[i].quantile(0.75)\n",
    "    IQR = Q3 - Q1\n",
    "    data_final = data_final.query('(@Q1 - 1.5 * @IQR) <= @tmp <= (@Q3 + 1.5 * @IQR)')"
   ]
  },
  {
   "cell_type": "markdown",
   "metadata": {},
   "source": [
    "- избавились от выбросов в основных фичах, в которых есть данные для всех партий."
   ]
  },
  {
   "cell_type": "code",
   "execution_count": 23,
   "metadata": {},
   "outputs": [
    {
     "name": "stdout",
     "output_type": "stream",
     "text": [
      "Кореляция key с Wire 4 = -0.9999999999999999\n",
      "Кореляция Общее время с Wire 4 = 0.9999999999999999\n",
      "Кореляция Суммарное время нагрева с Bulk 7 = -1.0\n",
      "Кореляция Суммарное время нагрева с Wire 4 = -0.9999999999999999\n",
      "Кореляция Количество запусков нагрева с Bulk 7 = 1.0\n",
      "Кореляция Количество запусков нагрева с Wire 4 = -0.9999999999999999\n",
      "Кореляция Среднее соотношение акт/реакт с Bulk 7 = -1.0\n",
      "Кореляция Bulk 1 с Bulk 11 = -0.9999999999999999\n",
      "Кореляция Bulk 4 с Bulk 6 = -0.9999999999999999\n",
      "Кореляция Bulk 6 с Bulk 4 = -0.9999999999999999\n",
      "Кореляция Bulk 7 с Суммарное время нагрева = -1.0\n",
      "Кореляция Bulk 7 с Среднее соотношение акт/реакт = -1.0\n",
      "Кореляция Bulk 11 с Bulk 1 = -0.9999999999999999\n",
      "Кореляция Wire 2 с Wire 6 = -0.9999999999999999\n",
      "Кореляция Wire 2 с Wire 8 = 0.942857142857143\n",
      "Кореляция Wire 4 с key = -0.9999999999999999\n",
      "Кореляция Wire 4 с Суммарное время нагрева = -0.9999999999999999\n",
      "Кореляция Wire 4 с Количество запусков нагрева = -0.9999999999999999\n",
      "Кореляция Wire 6 с Wire 2 = -0.9999999999999999\n"
     ]
    }
   ],
   "source": [
    "# создадим список значений корреляции признаков\n",
    "# и список признаков и значений корреляции\n",
    "checked_corr = []\n",
    "pre_drop_list = []\n",
    "pd.options.mode.chained_assignment = None\n",
    "\n",
    "# найдем корреляцию через коэффицент Спирмена, т.к.\n",
    "# не все данные имеют нормальное распределение\n",
    "# сохраним признаки с корреляцией менее -0,9 и более 0,9\n",
    "for i in data_final:\n",
    "    for j in data_final:\n",
    "        corr = data_final[i].corr(data_final[j], method='spearman')\n",
    "        if corr not in checked_corr and i != j and 0.9 < corr or corr < -0.9:\n",
    "            checked_corr.append(corr)\n",
    "            print(f'Кореляция {i} с {j} = {corr}')\n",
    "            pre_drop_list.append([i, j])"
   ]
  },
  {
   "cell_type": "code",
   "execution_count": 24,
   "metadata": {},
   "outputs": [],
   "source": [
    "# создадим список отдельных признаков, из пар признаков\n",
    "# c наивысшей корреляцией будем брать тот признак, где \n",
    "# меньше данных, т.е. много пропусков\n",
    "# \n",
    "drop_list = []\n",
    "for i in pre_drop_list:\n",
    "    if (data_final[data_final[i[0]] > 0][i[0]].count() > \n",
    "        data_final[data_final[i[1]] > 0][i[1]].count()):\n",
    "        drop_list.append(i[1])\n",
    "    else:\n",
    "        drop_list.append(i[0])\n",
    "        \n",
    "# получим список признаков для удаления без повторений\n",
    "# только уникальные значения\n",
    "set(drop_list)\n",
    "\n",
    "# удалим признаки из полученного списка\n",
    "data_final.drop(set(drop_list), axis=1, inplace=True)"
   ]
  },
  {
   "cell_type": "code",
   "execution_count": 25,
   "metadata": {},
   "outputs": [
    {
     "name": "stdout",
     "output_type": "stream",
     "text": [
      "Процент потерянных данных: 45.70628500311139\n",
      "               key  Общее время  Суммарное время нагрева  \\\n",
      "count  1745.000000  1745.000000              1745.000000   \n",
      "mean   1228.408596  1653.823496               761.562178   \n",
      "std     712.971386   642.610570               242.759019   \n",
      "min       2.000000   258.000000               173.000000   \n",
      "25%     609.000000  1187.000000               586.000000   \n",
      "50%    1225.000000  1540.000000               749.000000   \n",
      "75%    1832.000000  2044.000000               920.000000   \n",
      "max    2499.000000  3833.000000              1542.000000   \n",
      "\n",
      "       Количество запусков нагрева  Среднее соотношение акт/реакт  \\\n",
      "count                  1745.000000                    1745.000000   \n",
      "mean                      4.443553                       1.374215   \n",
      "std                       0.998476                       0.104424   \n",
      "min                       3.000000                       1.085116   \n",
      "25%                       4.000000                       1.307654   \n",
      "50%                       4.000000                       1.378061   \n",
      "75%                       5.000000                       1.441686   \n",
      "max                       6.000000                       1.651355   \n",
      "\n",
      "       Начальная температура  Финальная температура       Bulk 1       Bulk 2  \\\n",
      "count            1745.000000            1745.000000  1745.000000  1745.000000   \n",
      "mean             1585.850430            1592.869914     2.826934     0.141547   \n",
      "std                22.064308              10.080680    10.690649     5.912882   \n",
      "min              1525.000000            1550.000000     0.000000     0.000000   \n",
      "25%              1570.000000            1587.000000     0.000000     0.000000   \n",
      "50%              1585.000000            1593.000000     0.000000     0.000000   \n",
      "75%              1601.000000            1597.000000     0.000000     0.000000   \n",
      "max              1648.000000            1625.000000    92.000000   247.000000   \n",
      "\n",
      "            Bulk 3  ...      Bulk 13      Bulk 14      Bulk 15        Газ 1  \\\n",
      "count  1745.000000  ...  1745.000000  1745.000000  1745.000000  1745.000000   \n",
      "mean     46.418338  ...     0.629799   151.472206   121.000573    10.163239   \n",
      "std      72.952041  ...    11.061827    74.473723    83.617655     4.348691   \n",
      "min       0.000000  ...     0.000000     0.000000     0.000000     0.008399   \n",
      "25%       0.000000  ...     0.000000   106.000000     0.000000     7.150669   \n",
      "50%       0.000000  ...     0.000000   146.000000   107.000000     9.693065   \n",
      "75%      79.000000  ...     0.000000   202.000000   204.000000    12.825978   \n",
      "max     421.000000  ...   278.000000   428.000000   405.000000    22.806671   \n",
      "\n",
      "            Wire 1       Wire 2       Wire 3  Wire 5  Wire 7       Wire 9  \n",
      "count  1745.000000  1745.000000  1745.000000  1745.0  1745.0  1745.000000  \n",
      "mean    100.903654    17.079918     2.887231     0.0     0.0     0.289031  \n",
      "std      41.247309    32.478985    27.215577     0.0     0.0     3.232170  \n",
      "min       0.000000     0.000000     0.000000     0.0     0.0     0.000000  \n",
      "25%      72.115685     0.000000     0.000000     0.0     0.0     0.000000  \n",
      "50%     100.332961     0.000000     0.000000     0.0     0.0     0.000000  \n",
      "75%     125.236801    23.012081     0.000000     0.0     0.0     0.000000  \n",
      "max     330.314424   231.568481   293.188919     0.0     0.0    62.025600  \n",
      "\n",
      "[8 rows x 26 columns]\n"
     ]
    }
   ],
   "source": [
    "# заполним пропуски нулями и посмотрим основные \n",
    "# статистические характеристики финальной таблицы\n",
    "data_final.fillna(0, inplace=True)\n",
    "\n",
    "print('Процент потерянных данных:', 100 - (100*len(data_final)/len(data_stat)))\n",
    "print(data_final.describe())"
   ]
  },
  {
   "cell_type": "markdown",
   "metadata": {},
   "source": [
    "- в процессе обработки потеряли большой процент данных.\n",
    "- однако оставшиеся данные пригодны для работы."
   ]
  },
  {
   "cell_type": "markdown",
   "metadata": {},
   "source": [
    "### Получение целевого признака и признаков, разделение данных на выборки."
   ]
  },
  {
   "cell_type": "code",
   "execution_count": 26,
   "metadata": {},
   "outputs": [],
   "source": [
    "# выделем признаки и целевой признак и сохраним в переменных\n",
    "features = data_final.drop(['Финальная температура'], axis=1)\n",
    "target = data_final['Финальная температура']\n",
    "\n",
    "# разделим данные на обучающую и тестовую выборки в соотношении 3:1\n",
    "(features_train, features_test, \n",
    " target_train, target_test) = train_test_split(features, target, \n",
    "                                               test_size=0.25, \n",
    "                                               random_state=1)"
   ]
  },
  {
   "cell_type": "markdown",
   "metadata": {},
   "source": [
    "### Масштабирование признаков."
   ]
  },
  {
   "cell_type": "code",
   "execution_count": 27,
   "metadata": {},
   "outputs": [],
   "source": [
    "# инициализируем StandardScaler\n",
    "# и обучим\n",
    "scaler = StandardScaler()\n",
    "scaler.fit(features_train)\n",
    "\n",
    "# отмасштабируем признаки\n",
    "features_train = scaler.transform(features_train)\n",
    "features_test = scaler.transform(features_test)"
   ]
  },
  {
   "cell_type": "markdown",
   "metadata": {},
   "source": [
    "## Построение, обучение и поиск лучшей модели.\n",
    "### Построим и подберем параметры для линейной регрессии. "
   ]
  },
  {
   "cell_type": "code",
   "execution_count": 28,
   "metadata": {},
   "outputs": [
    {
     "name": "stdout",
     "output_type": "stream",
     "text": [
      "лучший результат = -5.426130747328514. Лучшие параметры = {'fit_intercept': True, 'n_jobs': -1, 'normalize': False}\n"
     ]
    },
    {
     "name": "stderr",
     "output_type": "stream",
     "text": [
      "/opt/conda/lib/python3.7/site-packages/sklearn/model_selection/_search.py:813: DeprecationWarning: The default of the `iid` parameter will change from True to False in version 0.22 and will be removed in 0.24. This will change numeric results when test-set sizes are unequal.\n",
      "  DeprecationWarning)\n"
     ]
    }
   ],
   "source": [
    "# создадим словарь с искомыми гиперпараметрами\n",
    "param_grid_lr = {'fit_intercept': [True, False], \n",
    "                 'normalize': [True, False], \n",
    "                 'n_jobs': [n for n in range(-1, 1)]}\n",
    "\n",
    "# иницализируем GridSearchCV, LinearRegression,\n",
    "# обучим модель и найдем лучшие гиперпараметры\n",
    "# на основании метрики МАЕ\n",
    "gs_lr = gscv(LinearRegression(), param_grid=param_grid_lr, scoring='neg_mean_absolute_error', cv=5)\n",
    "gs_lr.fit(features_train, target_train)\n",
    "bp_lr = gs_lr.best_params_\n",
    "print(f'лучший результат = {gs_lr.best_score_}. Лучшие параметры = {bp_lr}')"
   ]
  },
  {
   "cell_type": "markdown",
   "metadata": {},
   "source": [
    "- получили значение лучшее значение метрики МАЕ линейной регрессии на обучающей выборке: 5.42 "
   ]
  },
  {
   "cell_type": "markdown",
   "metadata": {},
   "source": [
    "### Построим и подберем параметры для модели случайный лес. "
   ]
  },
  {
   "cell_type": "code",
   "execution_count": 29,
   "metadata": {},
   "outputs": [
    {
     "name": "stdout",
     "output_type": "stream",
     "text": [
      "лучший результат = -5.649014367262249. Лучшие параметры = {'max_depth': 15, 'n_estimators': 100}\n"
     ]
    }
   ],
   "source": [
    "# создадим словарь с искомыми гиперпараметрами\n",
    "param_grid_rfr = {'n_estimators': [estim for estim in range(10, 101, 10)], \n",
    "                  'max_depth': [depth for depth in range(5, 16, 5)]}\n",
    "\n",
    "# иницализируем GridSearchCV, RandomForestRegressor,\n",
    "# обучим модель и найдем лучшие гиперпараметры\n",
    "# на основании метрики МАЕ\n",
    "gs_rfr = gscv(RandomForestRegressor(random_state=1), \n",
    "              param_grid=param_grid_rfr, \n",
    "              scoring='neg_mean_absolute_error', cv=5)\n",
    "gs_rfr.fit(features_train, target_train)\n",
    "bp_rfr = gs_rfr.best_params_\n",
    "print(f'лучший результат = {gs_rfr.best_score_}. Лучшие параметры = {bp_rfr}')"
   ]
  },
  {
   "cell_type": "markdown",
   "metadata": {},
   "source": [
    "- получили лучшее значение метрики МАЕ модели случайный лес на обучающей выборке: 5.64"
   ]
  },
  {
   "cell_type": "markdown",
   "metadata": {},
   "source": [
    "### Построим и подберем параметры для модели LightGBM. "
   ]
  },
  {
   "cell_type": "code",
   "execution_count": 30,
   "metadata": {},
   "outputs": [
    {
     "name": "stdout",
     "output_type": "stream",
     "text": [
      "лучший результат = -5.500004370375951. Лучшие параметры = {'max_depth': -1, 'n_estimators': 50, 'num_leaves': 50}\n"
     ]
    }
   ],
   "source": [
    "# создадим словарь с искомыми гиперпараметрами\n",
    "param_grid_lgbmr = {'max_depth':[depth for depth in range(-1, 30, 10)], \n",
    "                    'n_estimators': [estim for estim in range(10, 51, 10)], \n",
    "                    'num_leaves': [leav for leav in range(30, 60, 10)]}\n",
    "\n",
    "# иницализируем GridSearchCV, LGBMRegressor,\n",
    "# обучим модель и найдем лучшие гиперпараметры\n",
    "# на основании метрики МАЕ\n",
    "gs_lgbmr = gscv(LGBMRegressor(random_state=1), \n",
    "                param_grid=param_grid_lgbmr, \n",
    "                scoring='neg_mean_absolute_error', cv=5)\n",
    "gs_lgbmr.fit(features_train, target_train)\n",
    "bp_lgbmr = gs_lgbmr.best_params_\n",
    "print(f'лучший результат = {gs_lgbmr.best_score_}. Лучшие параметры = {bp_lgbmr}')"
   ]
  },
  {
   "cell_type": "markdown",
   "metadata": {},
   "source": [
    "- получили лучшее значение метрики МАЕ модели LGBMRegressor на обучающей выборке: 5.5."
   ]
  },
  {
   "cell_type": "markdown",
   "metadata": {},
   "source": [
    "### Построим и подберем параметры для модели CatBoostRegressor"
   ]
  },
  {
   "cell_type": "code",
   "execution_count": 31,
   "metadata": {},
   "outputs": [
    {
     "name": "stdout",
     "output_type": "stream",
     "text": [
      "лучший результат = -5.418008547480552. Лучшие параметры = {'iterations': 500}\n"
     ]
    }
   ],
   "source": [
    "# создадим словарь с искомыми гиперпараметрами\n",
    "param_grid_cat = {'iterations':[10, 100, 500]}\n",
    "\n",
    "# иницализируем GridSearchCV, CatBoostRegressor,\n",
    "# обучим модель и найдем лучшие гиперпараметры\n",
    "# на основании метрики МАЕ\n",
    "gs_cat = gscv(CatBoostRegressor(loss_function='MAE', \n",
    "                                random_state=1, verbose=False), \n",
    "              param_grid=param_grid_cat, \n",
    "              scoring='neg_mean_absolute_error', cv=5)\n",
    "gs_cat.fit(features_train, target_train)\n",
    "bp_cat = gs_cat.best_params_\n",
    "print(f'лучший результат = {gs_cat.best_score_}. Лучшие параметры = {bp_cat}')"
   ]
  },
  {
   "cell_type": "markdown",
   "metadata": {},
   "source": [
    "- получили лучшее значение метрики МАЕ модели CatBoostRegressor на обучающей выборке: 5.4"
   ]
  },
  {
   "cell_type": "markdown",
   "metadata": {},
   "source": [
    "### Проверка моделей с лучшими гиперпараметрами на тестовой выборке на основании метрик: МАЕ, r2 и построение графиков силы влияния признаков на целевой признак."
   ]
  },
  {
   "cell_type": "code",
   "execution_count": 32,
   "metadata": {},
   "outputs": [
    {
     "name": "stdout",
     "output_type": "stream",
     "text": [
      "MAE линейной регрессии на тестовой выборке: 5.492572929526252\n",
      "r2 линейной регрессии на тестовой выборке: 0.4755488401138631\n"
     ]
    }
   ],
   "source": [
    "# инициализируем линейную регрессию с лучшими гиперпараметрами,\n",
    "# обучим и получим предсказания на тестовой выборке\n",
    "model_lr = LinearRegression(fit_intercept = bp_lr['fit_intercept'],\n",
    "                            normalize = bp_lr['normalize'],\n",
    "                            n_jobs = bp_lr['n_jobs'])\n",
    "\n",
    "model_lr.fit(features_train, target_train)\n",
    "pred = model_lr.predict(features_test)\n",
    "\n",
    "# получим значения искомых метрик\n",
    "mae_lr = mean_absolute_error(target_test, pred)\n",
    "r2_lr = r2_score(target_test, pred)\n",
    "print('MAE линейной регрессии на тестовой выборке:', mae_lr)\n",
    "print('r2 линейной регрессии на тестовой выборке:', r2_lr)"
   ]
  },
  {
   "cell_type": "code",
   "execution_count": 33,
   "metadata": {},
   "outputs": [
    {
     "name": "stdout",
     "output_type": "stream",
     "text": [
      "Признак(0): key, Значимость: -0.46605\n",
      "Признак(1): Общее время, Значимость: -3.63708\n",
      "Признак(2): Суммарное время нагрева, Значимость: 8.56562\n",
      "Признак(3): Количество запусков нагрева, Значимость: -1.26855\n",
      "Признак(4): Среднее соотношение акт/реакт, Значимость: 1.18734\n",
      "Признак(5): Начальная температура, Значимость: 7.8256\n",
      "Признак(6): Bulk 1, Значимость: -1.05021\n",
      "Признак(7): Bulk 2, Значимость: 0.19194\n",
      "Признак(8): Bulk 3, Значимость: -0.01004\n",
      "Признак(9): Bulk 4, Значимость: 0.09555\n",
      "Признак(10): Bulk 5, Значимость: -0.11867\n",
      "Признак(11): Bulk 8, Значимость: -0.33519\n",
      "Признак(12): Bulk 9, Значимость: 0.25285\n",
      "Признак(13): Bulk 10, Значимость: 0.12143\n",
      "Признак(14): Bulk 12, Значимость: -0.33497\n",
      "Признак(15): Bulk 13, Значимость: -0.11912\n",
      "Признак(16): Bulk 14, Значимость: -0.84264\n",
      "Признак(17): Bulk 15, Значимость: 0.83177\n",
      "Признак(18): Газ 1, Значимость: -0.20318\n",
      "Признак(19): Wire 1, Значимость: 1.51222\n",
      "Признак(20): Wire 2, Значимость: -1.62034\n",
      "Признак(21): Wire 3, Значимость: 0.13783\n",
      "Признак(22): Wire 5, Значимость: 0.0\n",
      "Признак(23): Wire 7, Значимость: 0.0\n",
      "Признак(24): Wire 9, Значимость: 0.33047\n"
     ]
    },
    {
     "data": {
      "image/png": "[encoded data removed]",
      "text/plain": [
       "<Figure size 432x288 with 1 Axes>"
      ]
     },
     "metadata": {
      "needs_background": "light"
     },
     "output_type": "display_data"
    }
   ],
   "source": [
    "# инициализируем таблицу важности признаков\n",
    "importance = model_lr.coef_\n",
    "\n",
    "# выведем значения и построим график \n",
    "for i, v in enumerate(importance):\n",
    "    print(f'Признак({i}): {features.columns[i]}, Значимость: {round(importance[i], 5)}')  \n",
    "\n",
    "plt.bar([x for x in range(len(importance))], importance)\n",
    "plt.show()"
   ]
  },
  {
   "cell_type": "markdown",
   "metadata": {},
   "source": [
    "- как видим из графика наиболее значимые признаки: \"Суммарное время нагрева\" и \"Начальная температура\"."
   ]
  },
  {
   "cell_type": "code",
   "execution_count": 34,
   "metadata": {},
   "outputs": [
    {
     "name": "stdout",
     "output_type": "stream",
     "text": [
      "MAE случайного леса на тестовой выборке: 5.340528136787016\n",
      "r2 случайного леса на тестовой выборке: 0.44557091337803856\n"
     ]
    }
   ],
   "source": [
    "# инициализируем случайный лес с лучшими гиперпараметрами,\n",
    "# обучим и получим предсказания на тестовой выборке\n",
    "model_rfr = RandomForestRegressor(n_estimators=bp_rfr['n_estimators'],\n",
    "                                  max_depth=bp_rfr['max_depth'], \n",
    "                                  random_state=1)\n",
    "model_rfr.fit(features_train, target_train)\n",
    "pred = model_rfr.predict(features_test)\n",
    "\n",
    "# получим значения искомых метрик\n",
    "mae_rfr = mean_absolute_error(target_test, pred)\n",
    "r2_rfr = r2_score(target_test, pred)\n",
    "print('MAE случайного леса на тестовой выборке:', mae_rfr)\n",
    "print('r2 случайного леса на тестовой выборке:', r2_rfr)"
   ]
  },
  {
   "cell_type": "code",
   "execution_count": 35,
   "metadata": {},
   "outputs": [
    {
     "name": "stdout",
     "output_type": "stream",
     "text": [
      "Признак(0): key, Значимость: 0.05189\n",
      "Признак(1): Общее время, Значимость: 0.067\n",
      "Признак(2): Суммарное время нагрева, Значимость: 0.19928\n",
      "Признак(3): Количество запусков нагрева, Значимость: 0.00983\n",
      "Признак(4): Среднее соотношение акт/реакт, Значимость: 0.05329\n",
      "Признак(5): Начальная температура, Значимость: 0.2077\n",
      "Признак(6): Bulk 1, Значимость: 0.01333\n",
      "Признак(7): Bulk 2, Значимость: 4e-05\n",
      "Признак(8): Bulk 3, Значимость: 0.02379\n",
      "Признак(9): Bulk 4, Значимость: 0.01777\n",
      "Признак(10): Bulk 5, Значимость: 0.00149\n",
      "Признак(11): Bulk 8, Значимость: 1e-05\n",
      "Признак(12): Bulk 9, Значимость: 0.00027\n",
      "Признак(13): Bulk 10, Значимость: 0.00373\n",
      "Признак(14): Bulk 12, Значимость: 0.04294\n",
      "Признак(15): Bulk 13, Значимость: 0.00028\n",
      "Признак(16): Bulk 14, Значимость: 0.04704\n",
      "Признак(17): Bulk 15, Значимость: 0.03498\n",
      "Признак(18): Газ 1, Значимость: 0.05194\n",
      "Признак(19): Wire 1, Значимость: 0.10995\n",
      "Признак(20): Wire 2, Значимость: 0.06296\n",
      "Признак(21): Wire 3, Значимость: 0.00032\n",
      "Признак(22): Wire 5, Значимость: 0.0\n",
      "Признак(23): Wire 7, Значимость: 0.0\n",
      "Признак(24): Wire 9, Значимость: 0.00017\n"
     ]
    },
    {
     "data": {
      "image/png": "[encoded data removed]",
      "text/plain": [
       "<Figure size 432x288 with 1 Axes>"
      ]
     },
     "metadata": {
      "needs_background": "light"
     },
     "output_type": "display_data"
    }
   ],
   "source": [
    "# инициализируем таблицу важности признаков\n",
    "importance_rfr = model_rfr.feature_importances_\n",
    "\n",
    "# выведем значения и построим график \n",
    "for i in range(len(importance_rfr)):\n",
    "    print(f'Признак({i}): {features.columns[i]}, Значимость: {round(importance_rfr[i], 5)}')\n",
    "plt.bar([x for x in range(len(importance_rfr))], importance_rfr)\n",
    "plt.show()"
   ]
  },
  {
   "cell_type": "markdown",
   "metadata": {},
   "source": [
    "- как видим из графика наиболее значимые признаки: \"Суммарное время нагрева\" и \"Начальная температура\" и \"Газ 1\"."
   ]
  },
  {
   "cell_type": "code",
   "execution_count": 36,
   "metadata": {},
   "outputs": [
    {
     "name": "stdout",
     "output_type": "stream",
     "text": [
      "MAE LGBMRegressor на тестовой выборке: 5.1470199680546305\n",
      "r2 LGBMRegressor на тестовой выборке: 0.48788598773085945\n"
     ]
    }
   ],
   "source": [
    "# инициализируем LGBMRegressor с лучшими гиперпараметрами,\n",
    "# обучим и получим предсказания на тестовой выборке\n",
    "model_lgbmr = LGBMRegressor(random_state=1, \n",
    "                            max_depth = bp_lgbmr['max_depth'], \n",
    "                            n_estimators = bp_lgbmr['n_estimators'])\n",
    "model_lgbmr.fit(features_train, target_train)\n",
    "pred = model_lgbmr.predict(features_test)\n",
    "\n",
    "# получим значения искомых метрик\n",
    "mae_lgbmr = mean_absolute_error(target_test, pred)\n",
    "r2_lgbmr = r2_score(target_test, pred)\n",
    "print('MAE LGBMRegressor на тестовой выборке:', mae_lgbmr)\n",
    "print('r2 LGBMRegressor на тестовой выборке:', r2_lgbmr)"
   ]
  },
  {
   "cell_type": "code",
   "execution_count": 37,
   "metadata": {},
   "outputs": [
    {
     "name": "stdout",
     "output_type": "stream",
     "text": [
      "Признак(0): key, Значимость: 114\n",
      "Признак(1): Общее время, Значимость: 165\n",
      "Признак(2): Суммарное время нагрева, Значимость: 235\n",
      "Признак(3): Количество запусков нагрева, Значимость: 33\n",
      "Признак(4): Среднее соотношение акт/реакт, Значимость: 116\n",
      "Признак(5): Начальная температура, Значимость: 230\n",
      "Признак(6): Bulk 1, Значимость: 16\n",
      "Признак(7): Bulk 2, Значимость: 0\n",
      "Признак(8): Bulk 3, Значимость: 33\n",
      "Признак(9): Bulk 4, Значимость: 35\n",
      "Признак(10): Bulk 5, Значимость: 0\n",
      "Признак(11): Bulk 8, Значимость: 0\n",
      "Признак(12): Bulk 9, Значимость: 0\n",
      "Признак(13): Bulk 10, Значимость: 4\n",
      "Признак(14): Bulk 12, Значимость: 95\n",
      "Признак(15): Bulk 13, Значимость: 0\n",
      "Признак(16): Bulk 14, Значимость: 97\n",
      "Признак(17): Bulk 15, Значимость: 46\n",
      "Признак(18): Газ 1, Значимость: 111\n",
      "Признак(19): Wire 1, Значимость: 103\n",
      "Признак(20): Wire 2, Значимость: 67\n",
      "Признак(21): Wire 3, Значимость: 0\n",
      "Признак(22): Wire 5, Значимость: 0\n",
      "Признак(23): Wire 7, Значимость: 0\n",
      "Признак(24): Wire 9, Значимость: 0\n"
     ]
    },
    {
     "data": {
      "image/png": "[encoded data removed]",
      "text/plain": [
       "<Figure size 432x288 with 1 Axes>"
      ]
     },
     "metadata": {
      "needs_background": "light"
     },
     "output_type": "display_data"
    }
   ],
   "source": [
    "# инициализируем таблицу важности признаков\n",
    "importance_lgbmr = model_lgbmr.feature_importances_\n",
    "\n",
    "# выведем значения и построим график \n",
    "for i in range(len(importance_lgbmr)):\n",
    "    print(f'Признак({i}): {features.columns[i]}, Значимость: {round(importance_lgbmr[i], 5)}')\n",
    "plt.bar([x for x in range(len(importance_lgbmr))], importance_lgbmr)\n",
    "plt.show()"
   ]
  },
  {
   "cell_type": "markdown",
   "metadata": {},
   "source": [
    "- как видим из графика наиболее значимые признаки: \"Суммарное время нагрева\" и \"Начальная температура\" и \"Общее время\"."
   ]
  },
  {
   "cell_type": "code",
   "execution_count": 38,
   "metadata": {},
   "outputs": [
    {
     "name": "stdout",
     "output_type": "stream",
     "text": [
      "MAE CatBoostRegressor на тестовой выборке: 5.25968297057758\n",
      "r2 CatBoostRegressor на тестовой выборке: 0.442699466435554\n"
     ]
    }
   ],
   "source": [
    "# инициализируем CatBoostRegressor с лучшими гиперпараметрами,\n",
    "# обучим и получим предсказания на тестовой выборке\n",
    "model_cbr = CatBoostRegressor(loss_function='MAE', \n",
    "                              iterations=bp_cat['iterations'], \n",
    "                              random_state=1)\n",
    "model_cbr.fit(features_train, target_train, verbose=False)\n",
    "pred = model_cbr.predict(features_test)\n",
    "\n",
    "# получим значения искомых метрик\n",
    "mae_cbr = mean_absolute_error(target_test, pred)\n",
    "r2_cbr = r2_score(target_test, pred)\n",
    "print('MAE CatBoostRegressor на тестовой выборке:', mae_cbr)\n",
    "print('r2 CatBoostRegressor на тестовой выборке:', r2_cbr)"
   ]
  },
  {
   "cell_type": "code",
   "execution_count": 39,
   "metadata": {},
   "outputs": [
    {
     "name": "stdout",
     "output_type": "stream",
     "text": [
      "Признак(0): key, Значимость: 5.58896\n",
      "Признак(1): Общее время, Значимость: 6.36295\n",
      "Признак(2): Суммарное время нагрева, Значимость: 19.73533\n",
      "Признак(3): Количество запусков нагрева, Значимость: 1.62285\n",
      "Признак(4): Среднее соотношение акт/реакт, Значимость: 5.32468\n",
      "Признак(5): Начальная температура, Значимость: 18.99645\n",
      "Признак(6): Bulk 1, Значимость: 2.30551\n",
      "Признак(7): Bulk 2, Значимость: 0.0\n",
      "Признак(8): Bulk 3, Значимость: 3.07828\n",
      "Признак(9): Bulk 4, Значимость: 2.39541\n",
      "Признак(10): Bulk 5, Значимость: 0.16514\n",
      "Признак(11): Bulk 8, Значимость: 0.0\n",
      "Признак(12): Bulk 9, Значимость: 0.00716\n",
      "Признак(13): Bulk 10, Значимость: 0.51844\n",
      "Признак(14): Bulk 12, Значимость: 4.92988\n",
      "Признак(15): Bulk 13, Значимость: 0.01444\n",
      "Признак(16): Bulk 14, Значимость: 4.63109\n",
      "Признак(17): Bulk 15, Значимость: 4.2115\n",
      "Признак(18): Газ 1, Значимость: 5.2791\n",
      "Признак(19): Wire 1, Значимость: 7.66928\n",
      "Признак(20): Wire 2, Значимость: 7.07009\n",
      "Признак(21): Wire 3, Значимость: 0.07326\n",
      "Признак(22): Wire 5, Значимость: 0.0\n",
      "Признак(23): Wire 7, Значимость: 0.0\n",
      "Признак(24): Wire 9, Значимость: 0.02021\n"
     ]
    },
    {
     "data": {
      "image/png": "[encoded data removed]",
      "text/plain": [
       "<Figure size 432x288 with 1 Axes>"
      ]
     },
     "metadata": {
      "needs_background": "light"
     },
     "output_type": "display_data"
    }
   ],
   "source": [
    "# инициализируем таблицу важности признаков\n",
    "importance_cbr = model_cbr.feature_importances_\n",
    "\n",
    "# выведем значения и построим график \n",
    "for i in range(len(importance_cbr)):\n",
    "    print(f'Признак({i}): {features.columns[i]}, Значимость: {round(importance_cbr[i], 5)}')\n",
    "plt.bar([x for x in range(len(importance_cbr))], importance_cbr)\n",
    "plt.show()"
   ]
  },
  {
   "cell_type": "markdown",
   "metadata": {},
   "source": [
    "- как видим из графика наиболее значимые признаки: \"Суммарное время нагрева\" и \"Начальная температура\"."
   ]
  },
  {
   "cell_type": "markdown",
   "metadata": {},
   "source": [
    "## Общий вывод."
   ]
  },
  {
   "cell_type": "code",
   "execution_count": 40,
   "metadata": {},
   "outputs": [
    {
     "data": {
      "text/html": [
       "<div>\n",
       "<style scoped>\n",
       "    .dataframe tbody tr th:only-of-type {\n",
       "        vertical-align: middle;\n",
       "    }\n",
       "\n",
       "    .dataframe tbody tr th {\n",
       "        vertical-align: top;\n",
       "    }\n",
       "\n",
       "    .dataframe thead th {\n",
       "        text-align: right;\n",
       "    }\n",
       "</style>\n",
       "<table border=\"1\" class=\"dataframe\">\n",
       "  <thead>\n",
       "    <tr style=\"text-align: right;\">\n",
       "      <th></th>\n",
       "      <th>MAE</th>\n",
       "      <th>r2</th>\n",
       "    </tr>\n",
       "  </thead>\n",
       "  <tbody>\n",
       "    <tr>\n",
       "      <td>LGBMRegressor</td>\n",
       "      <td>5.147020</td>\n",
       "      <td>0.487886</td>\n",
       "    </tr>\n",
       "    <tr>\n",
       "      <td>CatBoostClassifier</td>\n",
       "      <td>5.259683</td>\n",
       "      <td>0.442699</td>\n",
       "    </tr>\n",
       "    <tr>\n",
       "      <td>RandomForestRegressor</td>\n",
       "      <td>5.340528</td>\n",
       "      <td>0.445571</td>\n",
       "    </tr>\n",
       "    <tr>\n",
       "      <td>LogisticRegression</td>\n",
       "      <td>5.492573</td>\n",
       "      <td>0.475549</td>\n",
       "    </tr>\n",
       "  </tbody>\n",
       "</table>\n",
       "</div>"
      ],
      "text/plain": [
       "                            MAE        r2\n",
       "LGBMRegressor          5.147020  0.487886\n",
       "CatBoostClassifier     5.259683  0.442699\n",
       "RandomForestRegressor  5.340528  0.445571\n",
       "LogisticRegression     5.492573  0.475549"
      ]
     },
     "metadata": {},
     "output_type": "display_data"
    }
   ],
   "source": [
    "# создадим словарь, в который запишем значения метрик\n",
    "# каждой модели\n",
    "mae_r2_models = {'LogisticRegression': [mae_lr, r2_lr],\n",
    "                 'RandomForestRegressor': [mae_rfr, r2_rfr],\n",
    "                 'LGBMRegressor': [mae_lgbmr, r2_lgbmr],\n",
    "                 'CatBoostClassifier': [mae_cbr, r2_cbr]}\n",
    "\n",
    "# создадим датафрейм, отсортируем и выведем на экран\n",
    "mae_r2_models = pd.DataFrame(mae_r2_models).T\n",
    "mae_r2_models.columns = ['MAE', 'r2']\n",
    "mae_r2_models = mae_r2_models.sort_values('MAE')\n",
    "display(mae_r2_models)"
   ]
  },
  {
   "cell_type": "markdown",
   "metadata": {},
   "source": [
    "- поставленную задачу (достигнуть значения МАЕ ниже 6) удалось достигнуть со всеми моделями, при этом показатели метрики r2 не радуют.\n",
    "- пришли к выводу, что в целом все модели показывают близкие показатели как по метрике МАЕ, так и по метрике r2.\n",
    "- при этом лучшие показатели у модели LGBMRegressor по обеим метрикам.\n",
    "- у всех моделей наиболее важными являются два признака: \"Суммарное время нагрева\" и \"Начальная температура\". Важность остальных признаков различается в зависимости от модели. Совсем незначимыми признаками являются: Bulk_2, Bulk_8, Bulk_13, Wire_5, Wire_7, Wire_9. Их можно удалить вместе с малозначимыми, определив порог значимости вместе с бизнесом.\n"
   ]
  }
 ],
 "metadata": {
  "kernelspec": {
   "display_name": "Python 3",
   "language": "python",
   "name": "python3"
  },
  "language_info": {
   "codemirror_mode": {
    "name": "ipython",
    "version": 3
   },
   "file_extension": ".py",
   "mimetype": "text/x-python",
   "name": "python",
   "nbconvert_exporter": "python",
   "pygments_lexer": "ipython3",
   "version": "3.7.8"
  },
  "toc": {
   "base_numbering": 1,
   "nav_menu": {},
   "number_sections": true,
   "sideBar": true,
   "skip_h1_title": true,
   "title_cell": "План работ",
   "title_sidebar": "Contents",
   "toc_cell": true,
   "toc_position": {
    "height": "calc(100% - 180px)",
    "left": "10px",
    "top": "150px",
    "width": "255.594px"
   },
   "toc_section_display": true,
   "toc_window_display": false
  }
 },
 "nbformat": 4,
 "nbformat_minor": 2
}
