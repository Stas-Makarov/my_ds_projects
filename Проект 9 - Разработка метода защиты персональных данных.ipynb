{
 "cells": [
  {
   "cell_type": "markdown",
   "metadata": {},
   "source": [
    "# Создание метода защиты персональных данных клиентов страховой компании «Хоть потоп»"
   ]
  },
  {
   "cell_type": "markdown",
   "metadata": {},
   "source": [
    "______________________\n",
    "Нам необходимо разработать такой метод преобразования данных, чтобы по ним было сложно восстановить персональную информацию. \n",
    "\n",
    "Нужно защитить данные, чтобы при преобразовании качество моделей машинного обучения не ухудшилось.\n",
    "______________________"
   ]
  },
  {
   "cell_type": "markdown",
   "metadata": {},
   "source": [
    "______\n",
    "\n",
    "#### Данное исследование разделим на несколько частей.\n",
    "______________________\n",
    "### Часть 1: Загрузка данных\n",
    "* [1. Изучение файла с данными, получение общей информации, загрузка библиотек.](#1-bullet)\n",
    "\n",
    "### Часть 2: Умножение признаков на обратимую матрицу\n",
    "* [1. Примеры матириц и их влияние на качество модели.](#2-bullet)\n",
    "\n",
    "### Часть 3: Алгоритм преобразования данных\n",
    "* [1. Написание аглоритма преобразование и обоснование его эффективности.](#3-bullet)\n",
    "\n",
    "### Часть 4: Проверка алгоритма\n",
    "* [1. Проверка качества линейной регрессии из sklearn на основе метрики r2.](#4-bullet)\n",
    "____________________"
   ]
  },
  {
   "cell_type": "markdown",
   "metadata": {},
   "source": [
    "#### 1-bullet\n",
    "### Часть 1: Загрузка данных\n",
    "1. Изучение файла с данными, получение общей информации, загрузка библиотек."
   ]
  },
  {
   "cell_type": "code",
   "execution_count": 1,
   "metadata": {},
   "outputs": [],
   "source": [
    "# загрузим необходимые библиотеки\n",
    "import pandas as pd\n",
    "import numpy as np\n",
    "from sklearn.linear_model import LinearRegression\n",
    "from sklearn.metrics import r2_score"
   ]
  },
  {
   "cell_type": "code",
   "execution_count": 2,
   "metadata": {},
   "outputs": [
    {
     "name": "stdout",
     "output_type": "stream",
     "text": [
      "<class 'pandas.core.frame.DataFrame'>\n",
      "RangeIndex: 5000 entries, 0 to 4999\n",
      "Data columns (total 5 columns):\n",
      "Пол                  5000 non-null int64\n",
      "Возраст              5000 non-null float64\n",
      "Зарплата             5000 non-null float64\n",
      "Члены семьи          5000 non-null int64\n",
      "Страховые выплаты    5000 non-null int64\n",
      "dtypes: float64(2), int64(3)\n",
      "memory usage: 195.4 KB\n",
      "None\n",
      "\n",
      "               Пол      Возраст      Зарплата  Члены семьи  Страховые выплаты\n",
      "count  5000.000000  5000.000000   5000.000000  5000.000000        5000.000000\n",
      "mean      0.499000    30.952800  39916.360000     1.194200           0.148000\n",
      "std       0.500049     8.440807   9900.083569     1.091387           0.463183\n",
      "min       0.000000    18.000000   5300.000000     0.000000           0.000000\n",
      "25%       0.000000    24.000000  33300.000000     0.000000           0.000000\n",
      "50%       0.000000    30.000000  40200.000000     1.000000           0.000000\n",
      "75%       1.000000    37.000000  46600.000000     2.000000           0.000000\n",
      "max       1.000000    65.000000  79000.000000     6.000000           5.000000\n",
      "\n",
      "   Пол  Возраст  Зарплата  Члены семьи  Страховые выплаты\n",
      "0    1     41.0   49600.0            1                  0\n",
      "1    0     46.0   38000.0            1                  1\n",
      "2    0     29.0   21000.0            0                  0\n",
      "3    0     21.0   41700.0            2                  0\n",
      "4    1     28.0   26100.0            0                  0\n"
     ]
    }
   ],
   "source": [
    "# прочитаем файл и получим общие данные\n",
    "df = pd.read_csv('/datasets/insurance.csv')\n",
    "print(df.info())\n",
    "print()\n",
    "print(df.describe())\n",
    "print()\n",
    "print(df.head())"
   ]
  },
  {
   "cell_type": "markdown",
   "metadata": {},
   "source": [
    "- получили таблицу с 5 столбцами, длиной 5000 строк, пропусков не имеется, все данные численного типа. данные корректны и пригодны для исследования."
   ]
  },
  {
   "cell_type": "markdown",
   "metadata": {},
   "source": [
    "#### 2-bullet\n",
    "### Часть 2: Умножение признаков на обратимую матрицу\n",
    "1. Примеры матириц и их влияние на качество модели."
   ]
  },
  {
   "cell_type": "code",
   "execution_count": 3,
   "metadata": {},
   "outputs": [],
   "source": [
    "# получим и сохраним признаки и целевой признак\n",
    "features = df.drop(['Страховые выплаты'], axis=1)\n",
    "target = df['Страховые выплаты']"
   ]
  },
  {
   "cell_type": "markdown",
   "metadata": {},
   "source": [
    "Создадим класс модели, где:\n",
    "\n",
    "найдем вектор предсказаний по формуле 𝑎=𝑋𝑤 + 𝑤0\n",
    "\n",
    "Задача обучения найти вектор весов:\n",
    "\n",
    "𝑤=argmin𝑤𝑀𝑆𝐸(𝑋𝑤,𝑦)\n",
    "\n",
    "Обучать будем по следующей формуле:\n",
    "\n",
    "𝑤=(𝑋𝑇𝑋)−1𝑋𝑇𝑦"
   ]
  },
  {
   "cell_type": "code",
   "execution_count": 4,
   "metadata": {},
   "outputs": [],
   "source": [
    "# создадим класс модели\n",
    "class MyLinearRegression:\n",
    "    # обучим\n",
    "    def fit(self, train_features, train_target):\n",
    "        # сохраним матрицу Х, состоющую из признков\n",
    "        # куда добавим единичный столбец\n",
    "        X = np.concatenate((np.ones((train_features.shape[0], 1)), train_features), axis=1)\n",
    "        # сохраним вектор значений для целевого признака\n",
    "        y = train_target\n",
    "        # найдем вектора весов\n",
    "        w = ((np.linalg.inv(X.T.dot(X))).dot(X.T)).dot(y)\n",
    "        # получим вектор весов\n",
    "        self.w = w[1:]\n",
    "        # получим вектор сдвига\n",
    "        self.w0 = w[0]\n",
    "\n",
    "    # получим предсказания\n",
    "    def predict(self, test_features):\n",
    "        return test_features.dot(self.w) + self.w0"
   ]
  },
  {
   "cell_type": "markdown",
   "metadata": {},
   "source": [
    "создадим функцию, которая принимает на вход признаки и целевой признак, а возвращает качество нашей модели."
   ]
  },
  {
   "cell_type": "code",
   "execution_count": 5,
   "metadata": {},
   "outputs": [],
   "source": [
    "# создадим функцию\n",
    "def get_r2_LR(features, target):\n",
    "    # объявим модель, обучим и получим предсказания\n",
    "    model = MyLinearRegression()\n",
    "    model.fit(features, target)\n",
    "    predictions = model.predict(features)\n",
    "    # найдем метрику r2\n",
    "    print('Качество модели', r2_score(target, predictions))"
   ]
  },
  {
   "cell_type": "code",
   "execution_count": 6,
   "metadata": {},
   "outputs": [
    {
     "name": "stdout",
     "output_type": "stream",
     "text": [
      "Качество модели 0.42494550286668\n"
     ]
    }
   ],
   "source": [
    "# применим функцию\n",
    "get_r2_LR(features, target)"
   ]
  },
  {
   "cell_type": "markdown",
   "metadata": {},
   "source": [
    "Далее займемся умножением признаков на матрицу. Для этого сначала создадим функцию для провеки матриц на обратимость."
   ]
  },
  {
   "cell_type": "code",
   "execution_count": 7,
   "metadata": {},
   "outputs": [],
   "source": [
    "def check_matrix(matrix):\n",
    "    check = matrix\n",
    "    Inv_check = np.linalg.inv(check)\n",
    "    if np.allclose(np.dot(check, Inv_check), np.eye(check.shape[0])) is True:\n",
    "        answer = \"обратимая\"\n",
    "    else:\n",
    "        answer = \"необратимая\"\n",
    "    return print('матрица', answer)"
   ]
  },
  {
   "cell_type": "markdown",
   "metadata": {},
   "source": [
    "Создадим квадратную случайную матрицу и проверим ее на обратимость."
   ]
  },
  {
   "cell_type": "code",
   "execution_count": 8,
   "metadata": {},
   "outputs": [
    {
     "name": "stdout",
     "output_type": "stream",
     "text": [
      "матрица обратимая\n"
     ]
    }
   ],
   "source": [
    "# создадим случайную матрицу \n",
    "P = np.random.normal(size=(4, 4))\n",
    "\n",
    "# применим функцию\n",
    "check_matrix(P)"
   ]
  },
  {
   "cell_type": "markdown",
   "metadata": {},
   "source": [
    "Получили обратимую матрицу, теперь умножим признаки на обратимую матрицу и проверим качество нашей модели по вновь образованным признакам (поскольку признаки - это вектор, а произведение вектора на матрицу равно вектору)."
   ]
  },
  {
   "cell_type": "code",
   "execution_count": 9,
   "metadata": {},
   "outputs": [
    {
     "name": "stdout",
     "output_type": "stream",
     "text": [
      "Качество модели 0.42494550286652166\n"
     ]
    }
   ],
   "source": [
    "# умножим признаки на матрицу\n",
    "features_1 = features.dot(P)\n",
    "\n",
    "# применим функцию\n",
    "get_r2_LR(features_1, target)"
   ]
  },
  {
   "cell_type": "markdown",
   "metadata": {},
   "source": [
    "**Ответ:** \n",
    "\n",
    "- Качество линейной регрессии не изменилось.\n",
    "\n",
    "**Обоснование:** \n",
    "\n",
    "- Причина по которой, качество линейной регрессии не изменилось заключается в том, что признаки умножили именно на обратимую матрицу. При обучении, когда рассчитываем вектор весов, мы пользуемся следующей формулой 𝑤=(𝑋𝑇𝑋)−1𝑋𝑇𝑦. Здесь в указанную формулу вместо матрицы Х мы подставляем произведение Х^Р (Р можно вынести за скобки). при этом помним, что матрица Р у нас обратимая, а произведение матрицы на обратную равно единичной матрице, т.е. единице. Поэтому в результате умножения не меняется взаимное расположение векторов. "
   ]
  },
  {
   "cell_type": "markdown",
   "metadata": {},
   "source": [
    "#### 3-bullet\n",
    "### Часть 3: Алгоритм преобразования данных\n",
    "1. Написание аглоритма преобразование и обоснование его эффективности."
   ]
  },
  {
   "cell_type": "markdown",
   "metadata": {},
   "source": [
    "**Алгоритм**"
   ]
  },
  {
   "cell_type": "markdown",
   "metadata": {},
   "source": [
    "Создадим функцию, которая будет принимать на вход признаки (векторы). В этой же функции создадим случайную квадратную матрицу и перемножим признаки на полученную обратимую матрицу. На выходе получим преобразованные признаки.  "
   ]
  },
  {
   "cell_type": "code",
   "execution_count": 10,
   "metadata": {},
   "outputs": [],
   "source": [
    "def conv_f(features):\n",
    "    # создадим случайную матрицу \n",
    "    P = np.random.normal(size=(4, 4))\n",
    "    # проверим на обратимость\n",
    "    check_matrix(P)\n",
    "    # умножим признаки на матрицу\n",
    "    new_features = features.dot(P)\n",
    "    return new_features"
   ]
  },
  {
   "cell_type": "markdown",
   "metadata": {},
   "source": [
    "выведем для наглядности на экран исходные и преобразованные данные."
   ]
  },
  {
   "cell_type": "code",
   "execution_count": 11,
   "metadata": {},
   "outputs": [
    {
     "name": "stdout",
     "output_type": "stream",
     "text": [
      "   Пол  Возраст  Зарплата  Члены семьи\n",
      "0    1     41.0   49600.0            1\n",
      "1    0     46.0   38000.0            1\n",
      "2    0     29.0   21000.0            0\n",
      "3    0     21.0   41700.0            2\n",
      "4    1     28.0   26100.0            0\n",
      "\n",
      "матрица обратимая\n",
      "              0             1             2             3\n",
      "0  20896.092539 -22507.321558  27219.314562 -98057.279687\n",
      "1  15985.195668 -17251.505124  20854.973519 -75128.939551\n",
      "2   8827.696803  -9535.562046  11525.756641 -41519.558749\n",
      "3  17591.511851 -18917.676781  22883.487297 -82435.272015\n",
      "4  10984.417941 -11845.705244  14323.182066 -51600.630314\n"
     ]
    }
   ],
   "source": [
    "# выведем на экран исходные данные\n",
    "print(features.head())\n",
    "print()\n",
    "# выведем на экран преобразованные данные\n",
    "print(conv_f(features).head())"
   ]
  },
  {
   "cell_type": "markdown",
   "metadata": {},
   "source": [
    "**Обоснование**"
   ]
  },
  {
   "cell_type": "markdown",
   "metadata": {},
   "source": [
    "Таким образом, чтобы зашифровать исходные данные можно умножить признаки на обратимую матрицу."
   ]
  },
  {
   "cell_type": "markdown",
   "metadata": {},
   "source": [
    "#### 4-bullet \n",
    "### Часть 4: Проверка алгоритма\n",
    "1. Проверка качества линейной регрессии из sklearn на основе метрики r2."
   ]
  },
  {
   "cell_type": "markdown",
   "metadata": {},
   "source": [
    "создадим функцию, которая на вход принимает признаки и целевой признак, затем за основу берет модель линейной регрессии из sklearn, обучает эту модель, получает предсказания и возвращает метрику r2."
   ]
  },
  {
   "cell_type": "code",
   "execution_count": 12,
   "metadata": {},
   "outputs": [],
   "source": [
    "# создадим функцию для проверки качества\n",
    "# модели из sklearn\n",
    "def get_r2LR(features, target):\n",
    "    model = LinearRegression()\n",
    "    model.fit(features, target)\n",
    "    predictions = model.predict(features) \n",
    "    result = r2_score(target, predictions)\n",
    "    return print('Качество модели:', result)"
   ]
  },
  {
   "cell_type": "code",
   "execution_count": 13,
   "metadata": {},
   "outputs": [
    {
     "name": "stdout",
     "output_type": "stream",
     "text": [
      "Качество модели: 0.42494550286668\n"
     ]
    }
   ],
   "source": [
    "# применим функцию для изначальных данных\n",
    "get_r2LR(features, target)"
   ]
  },
  {
   "cell_type": "markdown",
   "metadata": {},
   "source": [
    "Далее преобразуем признаки путем умножения на случайную обратимую матрицу и найдем качество."
   ]
  },
  {
   "cell_type": "code",
   "execution_count": 14,
   "metadata": {},
   "outputs": [
    {
     "name": "stdout",
     "output_type": "stream",
     "text": [
      "матрица обратимая\n",
      "Качество модели: 0.4249455028666851\n"
     ]
    }
   ],
   "source": [
    "# получим и сохраним зашиврованные признаки\n",
    "conv_features = conv_f(features)\n",
    "\n",
    "# применим функцию проверки качества\n",
    "get_r2LR(conv_features, target)"
   ]
  },
  {
   "cell_type": "markdown",
   "metadata": {},
   "source": [
    "- Получили такое же качество модели с преобразованными данными, как и с исходными данными."
   ]
  }
 ],
 "metadata": {
  "kernelspec": {
   "display_name": "Python 3",
   "language": "python",
   "name": "python3"
  },
  "language_info": {
   "codemirror_mode": {
    "name": "ipython",
    "version": 3
   },
   "file_extension": ".py",
   "mimetype": "text/x-python",
   "name": "python",
   "nbconvert_exporter": "python",
   "pygments_lexer": "ipython3",
   "version": "3.7.8"
  },
  "toc": {
   "base_numbering": 1,
   "nav_menu": {},
   "number_sections": false,
   "sideBar": true,
   "skip_h1_title": true,
   "title_cell": "Table of Contents",
   "title_sidebar": "Contents",
   "toc_cell": false,
   "toc_position": {
    "height": "calc(100% - 180px)",
    "left": "10px",
    "top": "150px",
    "width": "255.594px"
   },
   "toc_section_display": true,
   "toc_window_display": false
  }
 },
 "nbformat": 4,
 "nbformat_minor": 2
}
