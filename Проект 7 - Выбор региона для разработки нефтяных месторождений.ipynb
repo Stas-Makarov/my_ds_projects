{
 "cells": [
  {
   "cell_type": "markdown",
   "metadata": {},
   "source": [
    "# Поиск наиболее перспективного региона для разработки нефтяных месторождений \n",
    "______\n",
    "\n",
    "#### Данное исследование разделим на несколько частей.\n",
    "______\n",
    "\n",
    "### Часть 1. Изучение общей информации, подготовка данных:\n",
    "* [1. Изучение файлов с данными, получение общей информации, загрузка библиотек.](#1-bullet)\n",
    "* [2. Подготовка данных.](#2-bullet)\n",
    "\n",
    "### Часть 2. Обучение и проверка моделей:\n",
    "* [1. Разделение данных на обучающую и валидационную выборки.](#3-bullet)\n",
    "* [2. Обучение моделей и получение предсказаний.](#4-bullet)\n",
    "* [3. Сохранение результатов и выводы о работе моделей.](#5-bullet)\n",
    "\n",
    "### Часть 3. Подготовка к расчету прибыли:\n",
    "* [1. Создание констант для всех ключевых значений.](#6-bullet)\n",
    "* [2. Расчет минимального среднего количества продукта в месторождениях региона, достаточного для разработки.](#7-bullet)\n",
    "\n",
    "### Часть 4. Расчет рисков и прибыли:\n",
    "* [1. Применение метода Bootstrap.](#8-bullet)\n",
    "* [2. Поиск наиболее перспективного региона для разработки месторождений.](#9-bullet)"
   ]
  },
  {
   "cell_type": "markdown",
   "metadata": {},
   "source": [
    "#### Описание данных:\n",
    "Данные геологоразведки трёх регионов находятся в файлах:\n",
    "\n",
    "- geo_data_0.csv.\n",
    "- geo_data_1.csv.\n",
    "- geo_data_2.csv.\n",
    "\n",
    "- id — уникальный идентификатор скважины;\n",
    "- f0, f1, f2 — три признака точек (неважно, что они означают, но сами признаки значимы);\n",
    "- product — объём запасов в скважине (тыс. баррелей).\n",
    "\n",
    "Стоимость одной тыс. баррелей = 450т.р"
   ]
  },
  {
   "cell_type": "markdown",
   "metadata": {},
   "source": [
    "#### 1-bullet\n",
    "### Часть 1. Изучение общей информации, подготовка данных:\n",
    "#### 1. Изучение файлов с данными, получение общей информации, загрузка библиотек."
   ]
  },
  {
   "cell_type": "markdown",
   "metadata": {},
   "source": [
    "загружаем все необходимые библиотеки."
   ]
  },
  {
   "cell_type": "code",
   "execution_count": 1,
   "metadata": {},
   "outputs": [],
   "source": [
    "# загружаем все необходимые для данного исследования библиотеки\n",
    "import pandas as pd\n",
    "import numpy as np\n",
    "from sklearn.model_selection import train_test_split\n",
    "from sklearn.preprocessing import StandardScaler\n",
    "from sklearn.linear_model import LinearRegression\n",
    "from sklearn.metrics import mean_squared_error\n",
    "from numpy.random import RandomState\n",
    "from scipy import stats as st"
   ]
  },
  {
   "cell_type": "markdown",
   "metadata": {},
   "source": [
    "открываем файлы и получаем общую информацию."
   ]
  },
  {
   "cell_type": "code",
   "execution_count": 2,
   "metadata": {},
   "outputs": [
    {
     "name": "stdout",
     "output_type": "stream",
     "text": [
      "<class 'pandas.core.frame.DataFrame'>\n",
      "RangeIndex: 100000 entries, 0 to 99999\n",
      "Data columns (total 5 columns):\n",
      "id         100000 non-null object\n",
      "f0         100000 non-null float64\n",
      "f1         100000 non-null float64\n",
      "f2         100000 non-null float64\n",
      "product    100000 non-null float64\n",
      "dtypes: float64(4), object(1)\n",
      "memory usage: 3.8+ MB\n"
     ]
    },
    {
     "data": {
      "text/plain": [
       "None"
      ]
     },
     "metadata": {},
     "output_type": "display_data"
    },
    {
     "data": {
      "text/plain": [
       "0"
      ]
     },
     "metadata": {},
     "output_type": "display_data"
    },
    {
     "data": {
      "text/html": [
       "<div>\n",
       "<style scoped>\n",
       "    .dataframe tbody tr th:only-of-type {\n",
       "        vertical-align: middle;\n",
       "    }\n",
       "\n",
       "    .dataframe tbody tr th {\n",
       "        vertical-align: top;\n",
       "    }\n",
       "\n",
       "    .dataframe thead th {\n",
       "        text-align: right;\n",
       "    }\n",
       "</style>\n",
       "<table border=\"1\" class=\"dataframe\">\n",
       "  <thead>\n",
       "    <tr style=\"text-align: right;\">\n",
       "      <th></th>\n",
       "      <th>id</th>\n",
       "      <th>f0</th>\n",
       "      <th>f1</th>\n",
       "      <th>f2</th>\n",
       "      <th>product</th>\n",
       "    </tr>\n",
       "  </thead>\n",
       "  <tbody>\n",
       "    <tr>\n",
       "      <td>0</td>\n",
       "      <td>txEyH</td>\n",
       "      <td>0.705745</td>\n",
       "      <td>-0.497823</td>\n",
       "      <td>1.221170</td>\n",
       "      <td>105.280062</td>\n",
       "    </tr>\n",
       "    <tr>\n",
       "      <td>1</td>\n",
       "      <td>2acmU</td>\n",
       "      <td>1.334711</td>\n",
       "      <td>-0.340164</td>\n",
       "      <td>4.365080</td>\n",
       "      <td>73.037750</td>\n",
       "    </tr>\n",
       "    <tr>\n",
       "      <td>2</td>\n",
       "      <td>409Wp</td>\n",
       "      <td>1.022732</td>\n",
       "      <td>0.151990</td>\n",
       "      <td>1.419926</td>\n",
       "      <td>85.265647</td>\n",
       "    </tr>\n",
       "    <tr>\n",
       "      <td>3</td>\n",
       "      <td>iJLyR</td>\n",
       "      <td>-0.032172</td>\n",
       "      <td>0.139033</td>\n",
       "      <td>2.978566</td>\n",
       "      <td>168.620776</td>\n",
       "    </tr>\n",
       "    <tr>\n",
       "      <td>4</td>\n",
       "      <td>Xdl7t</td>\n",
       "      <td>1.988431</td>\n",
       "      <td>0.155413</td>\n",
       "      <td>4.751769</td>\n",
       "      <td>154.036647</td>\n",
       "    </tr>\n",
       "  </tbody>\n",
       "</table>\n",
       "</div>"
      ],
      "text/plain": [
       "      id        f0        f1        f2     product\n",
       "0  txEyH  0.705745 -0.497823  1.221170  105.280062\n",
       "1  2acmU  1.334711 -0.340164  4.365080   73.037750\n",
       "2  409Wp  1.022732  0.151990  1.419926   85.265647\n",
       "3  iJLyR -0.032172  0.139033  2.978566  168.620776\n",
       "4  Xdl7t  1.988431  0.155413  4.751769  154.036647"
      ]
     },
     "metadata": {},
     "output_type": "display_data"
    },
    {
     "name": "stdout",
     "output_type": "stream",
     "text": [
      "<class 'pandas.core.frame.DataFrame'>\n",
      "RangeIndex: 100000 entries, 0 to 99999\n",
      "Data columns (total 5 columns):\n",
      "id         100000 non-null object\n",
      "f0         100000 non-null float64\n",
      "f1         100000 non-null float64\n",
      "f2         100000 non-null float64\n",
      "product    100000 non-null float64\n",
      "dtypes: float64(4), object(1)\n",
      "memory usage: 3.8+ MB\n"
     ]
    },
    {
     "data": {
      "text/plain": [
       "None"
      ]
     },
     "metadata": {},
     "output_type": "display_data"
    },
    {
     "data": {
      "text/plain": [
       "0"
      ]
     },
     "metadata": {},
     "output_type": "display_data"
    },
    {
     "data": {
      "text/html": [
       "<div>\n",
       "<style scoped>\n",
       "    .dataframe tbody tr th:only-of-type {\n",
       "        vertical-align: middle;\n",
       "    }\n",
       "\n",
       "    .dataframe tbody tr th {\n",
       "        vertical-align: top;\n",
       "    }\n",
       "\n",
       "    .dataframe thead th {\n",
       "        text-align: right;\n",
       "    }\n",
       "</style>\n",
       "<table border=\"1\" class=\"dataframe\">\n",
       "  <thead>\n",
       "    <tr style=\"text-align: right;\">\n",
       "      <th></th>\n",
       "      <th>id</th>\n",
       "      <th>f0</th>\n",
       "      <th>f1</th>\n",
       "      <th>f2</th>\n",
       "      <th>product</th>\n",
       "    </tr>\n",
       "  </thead>\n",
       "  <tbody>\n",
       "    <tr>\n",
       "      <td>0</td>\n",
       "      <td>kBEdx</td>\n",
       "      <td>-15.001348</td>\n",
       "      <td>-8.276000</td>\n",
       "      <td>-0.005876</td>\n",
       "      <td>3.179103</td>\n",
       "    </tr>\n",
       "    <tr>\n",
       "      <td>1</td>\n",
       "      <td>62mP7</td>\n",
       "      <td>14.272088</td>\n",
       "      <td>-3.475083</td>\n",
       "      <td>0.999183</td>\n",
       "      <td>26.953261</td>\n",
       "    </tr>\n",
       "    <tr>\n",
       "      <td>2</td>\n",
       "      <td>vyE1P</td>\n",
       "      <td>6.263187</td>\n",
       "      <td>-5.948386</td>\n",
       "      <td>5.001160</td>\n",
       "      <td>134.766305</td>\n",
       "    </tr>\n",
       "    <tr>\n",
       "      <td>3</td>\n",
       "      <td>KcrkZ</td>\n",
       "      <td>-13.081196</td>\n",
       "      <td>-11.506057</td>\n",
       "      <td>4.999415</td>\n",
       "      <td>137.945408</td>\n",
       "    </tr>\n",
       "    <tr>\n",
       "      <td>4</td>\n",
       "      <td>AHL4O</td>\n",
       "      <td>12.702195</td>\n",
       "      <td>-8.147433</td>\n",
       "      <td>5.004363</td>\n",
       "      <td>134.766305</td>\n",
       "    </tr>\n",
       "  </tbody>\n",
       "</table>\n",
       "</div>"
      ],
      "text/plain": [
       "      id         f0         f1        f2     product\n",
       "0  kBEdx -15.001348  -8.276000 -0.005876    3.179103\n",
       "1  62mP7  14.272088  -3.475083  0.999183   26.953261\n",
       "2  vyE1P   6.263187  -5.948386  5.001160  134.766305\n",
       "3  KcrkZ -13.081196 -11.506057  4.999415  137.945408\n",
       "4  AHL4O  12.702195  -8.147433  5.004363  134.766305"
      ]
     },
     "metadata": {},
     "output_type": "display_data"
    },
    {
     "name": "stdout",
     "output_type": "stream",
     "text": [
      "<class 'pandas.core.frame.DataFrame'>\n",
      "RangeIndex: 100000 entries, 0 to 99999\n",
      "Data columns (total 5 columns):\n",
      "id         100000 non-null object\n",
      "f0         100000 non-null float64\n",
      "f1         100000 non-null float64\n",
      "f2         100000 non-null float64\n",
      "product    100000 non-null float64\n",
      "dtypes: float64(4), object(1)\n",
      "memory usage: 3.8+ MB\n"
     ]
    },
    {
     "data": {
      "text/plain": [
       "None"
      ]
     },
     "metadata": {},
     "output_type": "display_data"
    },
    {
     "data": {
      "text/plain": [
       "0"
      ]
     },
     "metadata": {},
     "output_type": "display_data"
    },
    {
     "data": {
      "text/html": [
       "<div>\n",
       "<style scoped>\n",
       "    .dataframe tbody tr th:only-of-type {\n",
       "        vertical-align: middle;\n",
       "    }\n",
       "\n",
       "    .dataframe tbody tr th {\n",
       "        vertical-align: top;\n",
       "    }\n",
       "\n",
       "    .dataframe thead th {\n",
       "        text-align: right;\n",
       "    }\n",
       "</style>\n",
       "<table border=\"1\" class=\"dataframe\">\n",
       "  <thead>\n",
       "    <tr style=\"text-align: right;\">\n",
       "      <th></th>\n",
       "      <th>id</th>\n",
       "      <th>f0</th>\n",
       "      <th>f1</th>\n",
       "      <th>f2</th>\n",
       "      <th>product</th>\n",
       "    </tr>\n",
       "  </thead>\n",
       "  <tbody>\n",
       "    <tr>\n",
       "      <td>0</td>\n",
       "      <td>fwXo0</td>\n",
       "      <td>-1.146987</td>\n",
       "      <td>0.963328</td>\n",
       "      <td>-0.828965</td>\n",
       "      <td>27.758673</td>\n",
       "    </tr>\n",
       "    <tr>\n",
       "      <td>1</td>\n",
       "      <td>WJtFt</td>\n",
       "      <td>0.262778</td>\n",
       "      <td>0.269839</td>\n",
       "      <td>-2.530187</td>\n",
       "      <td>56.069697</td>\n",
       "    </tr>\n",
       "    <tr>\n",
       "      <td>2</td>\n",
       "      <td>ovLUW</td>\n",
       "      <td>0.194587</td>\n",
       "      <td>0.289035</td>\n",
       "      <td>-5.586433</td>\n",
       "      <td>62.871910</td>\n",
       "    </tr>\n",
       "    <tr>\n",
       "      <td>3</td>\n",
       "      <td>q6cA6</td>\n",
       "      <td>2.236060</td>\n",
       "      <td>-0.553760</td>\n",
       "      <td>0.930038</td>\n",
       "      <td>114.572842</td>\n",
       "    </tr>\n",
       "    <tr>\n",
       "      <td>4</td>\n",
       "      <td>WPMUX</td>\n",
       "      <td>-0.515993</td>\n",
       "      <td>1.716266</td>\n",
       "      <td>5.899011</td>\n",
       "      <td>149.600746</td>\n",
       "    </tr>\n",
       "  </tbody>\n",
       "</table>\n",
       "</div>"
      ],
      "text/plain": [
       "      id        f0        f1        f2     product\n",
       "0  fwXo0 -1.146987  0.963328 -0.828965   27.758673\n",
       "1  WJtFt  0.262778  0.269839 -2.530187   56.069697\n",
       "2  ovLUW  0.194587  0.289035 -5.586433   62.871910\n",
       "3  q6cA6  2.236060 -0.553760  0.930038  114.572842\n",
       "4  WPMUX -0.515993  1.716266  5.899011  149.600746"
      ]
     },
     "metadata": {},
     "output_type": "display_data"
    }
   ],
   "source": [
    "# открываем файлы с данными \n",
    "# и сохраняем в переменных\n",
    "region_1 = pd.read_csv('/datasets/geo_data_0.csv')\n",
    "region_2 = pd.read_csv('/datasets/geo_data_1.csv')\n",
    "region_3 = pd.read_csv('/datasets/geo_data_2.csv')\n",
    "\n",
    "# создаем список объектов\n",
    "regions = [region_1, region_2, region_3]\n",
    "\n",
    "# создаем цикл для каждого региона\n",
    "for i in regions:\n",
    "    # получаем общую информацию по таблицам\n",
    "    display(i.info())\n",
    "    # выведем на экран сумму дубликатов в таблицах\n",
    "    display(i.duplicated().sum()) \n",
    "    # выводим на экран первые пять строк для \n",
    "    # зрительного ознакомления\n",
    "    display(i.head())\n"
   ]
  },
  {
   "cell_type": "markdown",
   "metadata": {},
   "source": [
    "### Вывод\n",
    "\n",
    "- загрузили необходимые библиотеки.\n",
    "- открыли исходные файлы и сохранили в переменных.\n",
    "- создали цикл для получения общих данных по всем таблицам.\n",
    "- все таблицы идентичные: по 5 столбцов и 100000 строк, не содержат пропусков и дубликатов, содержат два типа данных."
   ]
  },
  {
   "cell_type": "markdown",
   "metadata": {},
   "source": [
    "#### 2-bullet\n",
    "### Часть 1. Изучение общей информации, подготовка данных:\n",
    "#### 2. Подготовка данных."
   ]
  },
  {
   "cell_type": "markdown",
   "metadata": {},
   "source": [
    "посмотрим на корреляцию признаков между собой в каждой таблице."
   ]
  },
  {
   "cell_type": "code",
   "execution_count": 3,
   "metadata": {},
   "outputs": [],
   "source": [
    "# создадим цикл для перебора столбцов\n",
    "for i in region_1.drop(['id'], axis=1):\n",
    "    for j in region_1.drop(['id'], axis=1):\n",
    "        # при помощи метода corr() выведем корреляцию признаков\n",
    "        if i != j and 0.85 < region_1[i].corr(region_1[j]) or region_1[i].corr(region_1[j]) < -0.85:\n",
    "            print(f'{i} : {j} корреляция = {region_1[i].corr(region_1[j])}')\n",
    "            print()"
   ]
  },
  {
   "cell_type": "code",
   "execution_count": 4,
   "metadata": {},
   "outputs": [],
   "source": [
    "# создадим цикл для перебора столбцов\n",
    "for i in region_2.drop(['id'], axis=1):\n",
    "    for j in region_2.drop(['id'], axis=1):\n",
    "        # при помощи метода corr() выведем корреляцию признаков\n",
    "        if i != j and 0.85 < region_1[i].corr(region_2[j]) or region_2[i].corr(region_2[j]) < -0.85:\n",
    "            print(f'{i} : {j} корреляция = {region_2[i].corr(region_2[j])}')\n",
    "            print()"
   ]
  },
  {
   "cell_type": "code",
   "execution_count": 5,
   "metadata": {},
   "outputs": [],
   "source": [
    "# создадим цикл для перебора столбцов\n",
    "for i in region_3.drop(['id'], axis=1):\n",
    "    for j in region_3.drop(['id'], axis=1):\n",
    "        # при помощи метода corr() выведем корреляцию признаков\n",
    "        if i != j and 0.85 < region_3[i].corr(region_3[j]) or region_3[i].corr(region_3[j]) < -0.85:\n",
    "            print(f'{i} : {j} корреляция = {region_3[i].corr(region_3[j])}')\n",
    "            print()"
   ]
  },
  {
   "cell_type": "markdown",
   "metadata": {},
   "source": [
    "- пришли к выводу, что сильной корреляции в между признаками ни в одной таблице не имеется."
   ]
  },
  {
   "cell_type": "markdown",
   "metadata": {},
   "source": [
    "#### 3-bullet\n",
    "### Часть 2. Обучение и проверка моделей:\n",
    "#### 1. Разделение данных на обучающую и валидационную выборки."
   ]
  },
  {
   "cell_type": "markdown",
   "metadata": {},
   "source": [
    "сначала получим признаки и целевой признак."
   ]
  },
  {
   "cell_type": "code",
   "execution_count": 6,
   "metadata": {},
   "outputs": [],
   "source": [
    "# получим признаки\n",
    "features_r1 = region_1.drop(['product', 'id'], axis=1)\n",
    "features_r2 = region_2.drop(['product', 'id'], axis=1)\n",
    "features_r3 = region_3.drop(['product', 'id'], axis=1)\n",
    "\n",
    "# получим целевые признаки\n",
    "target_r1 = region_1['product']\n",
    "target_r2 = region_2['product']\n",
    "target_r3 = region_3['product']"
   ]
  },
  {
   "cell_type": "markdown",
   "metadata": {},
   "source": [
    "далее разобъем признаки и целевой признак на обучающую и валидационную выборки."
   ]
  },
  {
   "cell_type": "code",
   "execution_count": 7,
   "metadata": {},
   "outputs": [],
   "source": [
    "# создадим список составных частей имен переменных\n",
    "regions_name = ['r1', 'r2', 'r3']\n",
    "\n",
    "# сохраним значение параметра random_state в переменной \n",
    "my_random_state = 123\n",
    "\n",
    "# создадим цикл чтобы разделить выборки во всех таблицах\n",
    "for j in regions_name:\n",
    "    (globals()['features_train_%s' % j], globals()['features_valid_%s' % j], \n",
    "     globals()['target_train_%s' % j], globals()['target_valid_%s' % j]) = (\n",
    "                                train_test_split(globals()['features_%s' % j], \n",
    "                                globals()['target_%s' % j],\n",
    "                                test_size=0.25, random_state=my_random_state))"
   ]
  },
  {
   "cell_type": "markdown",
   "metadata": {},
   "source": [
    "### Вывод\n",
    "\n",
    "- во всех таблицах разделили данные на обучающую и валидационную выборки в соотношении 75:25."
   ]
  },
  {
   "cell_type": "markdown",
   "metadata": {},
   "source": [
    "#### 4-bullet\n",
    "### Часть 2. Обучение и проверка моделей:\n",
    "#### 2. Обучение моделей и получение предсказаний."
   ]
  },
  {
   "cell_type": "markdown",
   "metadata": {},
   "source": [
    "сначала создадим функцию, которая будет обучать модель и получать предсказания, одновременно приводя предсказания к нужному виду."
   ]
  },
  {
   "cell_type": "code",
   "execution_count": 8,
   "metadata": {},
   "outputs": [],
   "source": [
    "# создадим функцию, чтобы получить предсказания на основе модели\n",
    "# линейной регрессии и имеющихся выборок\n",
    "def model_predict (features_train, target_train, \n",
    "                   features_valid, target_valid):\n",
    "    # построим модель и обучим\n",
    "    model = LinearRegression()\n",
    "    model.fit(features_train, target_train)\n",
    "    # получим предсказания и сделаем их объектом Series\n",
    "    # и сохраним индексацию целевого признака для поиска соответствий\n",
    "    predictions_valid = model.predict(features_valid)\n",
    "    predictions_valid = pd.Series(predictions_valid, \n",
    "                                  index = target_valid.index) \n",
    "    return predictions_valid"
   ]
  },
  {
   "cell_type": "markdown",
   "metadata": {},
   "source": [
    "получим предсказания по 1 региону и сохраним в переменной."
   ]
  },
  {
   "cell_type": "code",
   "execution_count": 9,
   "metadata": {},
   "outputs": [
    {
     "data": {
      "text/plain": [
       "42083    123.284256\n",
       "71825     75.838240\n",
       "99535     55.526760\n",
       "47879     86.673045\n",
       "36734    109.909327\n",
       "            ...    \n",
       "56405     89.708779\n",
       "50954     55.672078\n",
       "99121    139.042911\n",
       "4170      96.867927\n",
       "18144     54.714331\n",
       "Length: 25000, dtype: float64"
      ]
     },
     "metadata": {},
     "output_type": "display_data"
    }
   ],
   "source": [
    "# применим функцию и сохраним предсказания в регионе 1\n",
    "predictions_valid_r1 = model_predict(features_train_r1, \n",
    "                                     target_train_r1, \n",
    "                                     features_valid_r1, \n",
    "                                     target_valid_r1)\n",
    "# выведем на экран\n",
    "display(predictions_valid_r1)"
   ]
  },
  {
   "cell_type": "markdown",
   "metadata": {},
   "source": [
    "далее получим предсказания по 2 региону и сохраним в переменной."
   ]
  },
  {
   "cell_type": "code",
   "execution_count": 10,
   "metadata": {},
   "outputs": [
    {
     "data": {
      "text/plain": [
       "42083     56.056314\n",
       "71825     81.589811\n",
       "99535     54.461926\n",
       "47879    108.660979\n",
       "36734     54.479416\n",
       "            ...    \n",
       "56405     28.805734\n",
       "50954    110.025164\n",
       "99121      3.278982\n",
       "4170      53.705839\n",
       "18144    135.021879\n",
       "Length: 25000, dtype: float64"
      ]
     },
     "metadata": {},
     "output_type": "display_data"
    }
   ],
   "source": [
    "# применим функцию и сохраним предсказания в регионе 2\n",
    "predictions_valid_r2 = model_predict(features_train_r2, \n",
    "                                     target_train_r2, \n",
    "                                     features_valid_r2, \n",
    "                                     target_valid_r2)\n",
    "# выведем на экран\n",
    "display(predictions_valid_r2)"
   ]
  },
  {
   "cell_type": "markdown",
   "metadata": {},
   "source": [
    "далее получим предсказания по 3 региону и сохраним в переменной."
   ]
  },
  {
   "cell_type": "code",
   "execution_count": 11,
   "metadata": {},
   "outputs": [
    {
     "data": {
      "text/plain": [
       "42083     94.075161\n",
       "71825    122.604414\n",
       "99535     80.055039\n",
       "47879    100.175906\n",
       "36734     89.804044\n",
       "            ...    \n",
       "56405     92.274315\n",
       "50954     93.406866\n",
       "99121     67.803679\n",
       "4170      84.156844\n",
       "18144    127.484202\n",
       "Length: 25000, dtype: float64"
      ]
     },
     "metadata": {},
     "output_type": "display_data"
    }
   ],
   "source": [
    "# применим функцию и сохраним предсказания в регионе 3\n",
    "predictions_valid_r3 = model_predict(features_train_r3, \n",
    "                                     target_train_r3, \n",
    "                                     features_valid_r3, \n",
    "                                     target_valid_r3)\n",
    "# выведем на экран\n",
    "display(predictions_valid_r3)"
   ]
  },
  {
   "cell_type": "markdown",
   "metadata": {},
   "source": [
    "### Вывод\n",
    "\n",
    "- на основе модели линейной регрессии получили предсказания по валидационной выборке и сохранили в переменных, одновременно придав предсказаниям такой же вид, как у целевого признака на валидационной выборке."
   ]
  },
  {
   "cell_type": "markdown",
   "metadata": {},
   "source": [
    "#### 5-bullet\n",
    "### Часть 2. Обучение и проверка моделей:\n",
    "#### 3. Сохранение результатов и выводы о работе моделей."
   ]
  },
  {
   "cell_type": "markdown",
   "metadata": {},
   "source": [
    "создадим функцию для расчета RMSE моделей и подсчета среднего запаса."
   ]
  },
  {
   "cell_type": "code",
   "execution_count": 12,
   "metadata": {},
   "outputs": [],
   "source": [
    "# создадим функцию для расчета RMSE и среднего предсказаний\n",
    "# на основе целевого признака на вал выборке и предсказаний\n",
    "def rmse_model(target_valid, predictions_valid):\n",
    "    result = mean_squared_error(target_valid, \n",
    "                                predictions_valid) ** 0.5\n",
    "    mean_predict = predictions_valid.mean()\n",
    "    \n",
    "    print('RMSE модели', j, result)\n",
    "    print('Средний запас', j, mean_predict)"
   ]
  },
  {
   "cell_type": "markdown",
   "metadata": {},
   "source": [
    "получим искомые значения, применив функцию."
   ]
  },
  {
   "cell_type": "code",
   "execution_count": 13,
   "metadata": {},
   "outputs": [
    {
     "name": "stdout",
     "output_type": "stream",
     "text": [
      "RMSE модели r1 37.64786282376176\n",
      "Средний запас r1 92.54936189116309\n",
      "RMSE модели r2 0.8954139804944304\n",
      "Средний запас r2 69.28001860653976\n",
      "RMSE модели r3 40.12803006598514\n",
      "Средний запас r3 95.09859933591373\n"
     ]
    }
   ],
   "source": [
    "# создадим цикл для необходимых переменных\n",
    "# и применим функцию\n",
    "for j in regions_name:\n",
    "    rmse_model(globals()['target_valid_%s' % j], \n",
    "               globals()['predictions_valid_%s' % j])  "
   ]
  },
  {
   "cell_type": "markdown",
   "metadata": {},
   "source": [
    "### Вывод\n",
    "\n",
    "- получили наименьший показатель RMSE по данным региона 2, т.к. данные не сильно отличаются от среднего.\n",
    "- большой разброс данных (почти одинаковый) в регионах 1 и 3 и как следствие большой показатель RMSE, вместе с ним можно предположить, что и риски выше."
   ]
  },
  {
   "cell_type": "markdown",
   "metadata": {},
   "source": [
    "#### 6-bullet\n",
    "### Часть 3. Подготовка к расчету прибыли:\n",
    "#### 1. Создание констант для всех ключевых значений."
   ]
  },
  {
   "cell_type": "code",
   "execution_count": 14,
   "metadata": {},
   "outputs": [],
   "source": [
    "# сохранили переменную суммы бюджета на разработку\n",
    "budjet = 10000000000\n",
    "# сохранили переменную стоимости 1 тыс. баррелей.\n",
    "income_barrel = 450000\n",
    "# сохранили переменную количества скважин для разведки.\n",
    "research_well = 500\n",
    "# сохранили переменную количества лучших скважин.\n",
    "best_well = 200"
   ]
  },
  {
   "cell_type": "markdown",
   "metadata": {},
   "source": [
    "сохранили все необходимые ключевые переменные."
   ]
  },
  {
   "cell_type": "markdown",
   "metadata": {},
   "source": [
    "#### 7-bullet\n",
    "### Часть 3. Подготовка к расчету прибыли:\n",
    "#### 2. Расчет минимального среднего количества продукта в месторождениях региона, достаточного для разработки."
   ]
  },
  {
   "cell_type": "markdown",
   "metadata": {},
   "source": [
    "найдем минимальный объем сырья в скважине с учетом бюджета и количества скважин, которые будут разрабатываться."
   ]
  },
  {
   "cell_type": "code",
   "execution_count": 15,
   "metadata": {},
   "outputs": [
    {
     "name": "stdout",
     "output_type": "stream",
     "text": [
      "Минимальный объем сырья в скважине для безубыточности 111.11111111111111 т.\n"
     ]
    }
   ],
   "source": [
    "# найдем минимальный объем сырья для безубыточности \n",
    "# при разработке 200 скважин\n",
    "min_prod = budjet / income_barrel / best_well\n",
    "print('Минимальный объем сырья в скважине для безубыточности', \n",
    "      min_prod, 'т.')"
   ]
  },
  {
   "cell_type": "markdown",
   "metadata": {},
   "source": [
    "- как видим, ранее рассчитанные средние запасы сырья во всех регионах ниже минимального объема сырья для безубыточной разработки, разработка скважин наугад без оценки рисков невозможна."
   ]
  },
  {
   "cell_type": "markdown",
   "metadata": {},
   "source": [
    "С учетом минимального объема сырья для безубыточности, найдем долю ликвидных и неликвидных скважин. Для этого сначала создадим функцию, которая создаст новый признак, где ликвидные скважины примут значение 1, а неликвидные - 0."
   ]
  },
  {
   "cell_type": "code",
   "execution_count": 16,
   "metadata": {},
   "outputs": [],
   "source": [
    "# создадим функцию для каждого региона\n",
    "# которая будет \n",
    "def prof_loss_well(regions):\n",
    "    for i in regions:    \n",
    "        # выделим ликвидные и убыточные\n",
    "        i['profit'] = np.where(i['product'] > min_prod, 1, 0)\n",
    "        # выведем на экран доли\n",
    "        print('Доля ликвидных скважин', \n",
    "              i.query('profit == 1')['profit'].value_counts()[1] \n",
    "              / len(i))\n",
    "        print('Доля неликвидных скважин', \n",
    "              i.query('profit == 0')['profit'].value_counts()[0] \n",
    "              / len(i))"
   ]
  },
  {
   "cell_type": "code",
   "execution_count": 17,
   "metadata": {},
   "outputs": [
    {
     "name": "stdout",
     "output_type": "stream",
     "text": [
      "Доля ликвидных скважин 0.36583\n",
      "Доля неликвидных скважин 0.63417\n",
      "Доля ликвидных скважин 0.16537\n",
      "Доля неликвидных скважин 0.83463\n",
      "Доля ликвидных скважин 0.38178\n",
      "Доля неликвидных скважин 0.61822\n"
     ]
    }
   ],
   "source": [
    "# применим функцию\n",
    "prof_loss_well(regions)"
   ]
  },
  {
   "cell_type": "markdown",
   "metadata": {},
   "source": [
    "- как видим во всех регионах доля ликвидных скважин невелика. в первом регионе - 36 %, во втором регионе - 16%, в третьем регионе 38%."
   ]
  },
  {
   "cell_type": "markdown",
   "metadata": {},
   "source": [
    "создадим функцию для расчета прибыли 200 лучших скважин на основе предсказаний, но по соответствующим им реальным значениям."
   ]
  },
  {
   "cell_type": "code",
   "execution_count": 18,
   "metadata": {},
   "outputs": [],
   "source": [
    "# объявим функцию, которая будет принимать на вход\n",
    "# целевой признак, предсказания и число скважин\n",
    "def revenue(target, probab, count):\n",
    "    # отсортируем предсказания по убыванию\n",
    "    probs_sorted = probab.sort_values(ascending=False)\n",
    "    # по индексам отсорт-х значений предсказаний\n",
    "    # найдем реальные значения\n",
    "    selected = target[probs_sorted.index][:best_well]\n",
    "    # рассчитаем прибыль\n",
    "    return income_barrel * selected.sum() - budjet"
   ]
  },
  {
   "cell_type": "markdown",
   "metadata": {},
   "source": [
    "### Вывод\n",
    "\n",
    "- получили минимальный объем сырья в скважине для безубыточности - 111.11 т. при этом  ранее рассчитанные средние запасы сырья во всех регионах ниже указанного объема, ввиду чего разработка скважин наугад без оценки рисков невозможна.\n",
    "- также пришли к выводу, что во всех регионах доля ликвидных скважин невелика. в первом регионе - 36 %, во втором регионе - 16%, в третьем регионе 38%. "
   ]
  },
  {
   "cell_type": "markdown",
   "metadata": {},
   "source": [
    "#### 8-bullet\n",
    "### Часть 4. Расчет рисков и прибыли:\n",
    "#### 1. Применение метода Bootstrap."
   ]
  },
  {
   "cell_type": "markdown",
   "metadata": {},
   "source": [
    "### Вывод"
   ]
  },
  {
   "cell_type": "code",
   "execution_count": 19,
   "metadata": {},
   "outputs": [
    {
     "name": "stdout",
     "output_type": "stream",
     "text": [
      "r1 cредняя выручка: 5.1e+08 млд.рублей\n",
      "r1 2.5%-квантиль: -0.00 млд.рублей\n",
      "r1 97.5%-квантиль: 0.11 млд.рублей\n",
      "r1 риск убытков 2.6%\n",
      "r2 cредняя выручка: 5.4e+08 млд.рублей\n",
      "r2 2.5%-квантиль: 0.01 млд.рублей\n",
      "r2 97.5%-квантиль: 0.10 млд.рублей\n",
      "r2 риск убытков 0.6%\n",
      "r3 cредняя выручка: 3.8e+08 млд.рублей\n",
      "r3 2.5%-квантиль: -0.02 млд.рублей\n",
      "r3 97.5%-квантиль: 0.09 млд.рублей\n",
      "r3 риск убытков 9.4%\n"
     ]
    }
   ],
   "source": [
    "# создадим цикл для перебора имен переменных\n",
    "for j in regions_name:\n",
    "    target = globals()['target_valid_%s' % j]\n",
    "    probab = globals()['predictions_valid_%s' % j]\n",
    "\n",
    "    # сохраним параметр random_state\n",
    "    state = np.random.RandomState(12345)\n",
    "    # создадим список\n",
    "    values = []\n",
    "    # создадим цикл для 1000 выборок\n",
    "    for i in range(1000):\n",
    "        # создадим 500 случайных подвыборок\n",
    "        target_subsample = target.sample(n=500, replace=True, random_state=state)\n",
    "        # найдем по индексам соответсвия реальных значений предсказаниям\n",
    "        probs_subsample = probab[target_subsample.index]\n",
    "        # применим фукнцию поиска 200 лучших скважин из выборки в 500\n",
    "        # и рассчитаем средний доход\n",
    "        res = revenue(target_subsample, probs_subsample, 200)\n",
    "        # сохраним значения в списке\n",
    "        values.append(res)\n",
    "       \n",
    "    # список приведем к объекту Series\n",
    "    values = pd.Series(values)\n",
    "    # найдем 95% доверительный интервал,\n",
    "    # среднее и выведем на экран\n",
    "    lower = values.quantile(0.025)\n",
    "    upper = values.quantile(0.975)\n",
    "    mean = values.mean()\n",
    "    print(j, 'cредняя выручка: {:.1e}'.format(mean), 'млд.рублей')\n",
    "    print(j, '2.5%-квантиль: {:.2f}'.format(lower/budjet), 'млд.рублей')\n",
    "    print(j, '97.5%-квантиль: {:.2f}'.format(upper/budjet), 'млд.рублей')\n",
    "    print(j, 'риск убытков {0:.1%}'.format(len(values[values < 0])/len(values)))"
   ]
  },
  {
   "cell_type": "markdown",
   "metadata": {},
   "source": [
    "#### 9-bullet\n",
    "### Часть 4. Расчет рисков и прибыли:\n",
    "#### 2. Поиск наиболее перспективного региона для разработки месторождений."
   ]
  },
  {
   "cell_type": "markdown",
   "metadata": {},
   "source": [
    "### Вывод\n",
    "\n",
    "получили следующие результаты.\n",
    "\n",
    "- по средней выручке: наибольшая средняя выручка во втором регионе - 5.4 млрд., в первом - 5.1 млрд. и в третьем - 3.8 млрд.\n",
    "- по рискам убытков: наименьший риск убытков во втором регионе - 0.6%, затем в первом регионе - 2.6% и самый большой риск убытков в третьем регионе - 9.4%.\n",
    "- также для каждого региона был найдет 95% доверительный интервал.\n",
    "\n",
    "Таким образом, по результатам исследования второй регион является предпочтительным для разработки месторождений нефти с точки зрения прогноза наибольшей средней прибыли и наименьших рисков убытоков."
   ]
  }
 ],
 "metadata": {
  "kernelspec": {
   "display_name": "Python 3",
   "language": "python",
   "name": "python3"
  },
  "language_info": {
   "codemirror_mode": {
    "name": "ipython",
    "version": 3
   },
   "file_extension": ".py",
   "mimetype": "text/x-python",
   "name": "python",
   "nbconvert_exporter": "python",
   "pygments_lexer": "ipython3",
   "version": "3.7.8"
  },
  "toc": {
   "base_numbering": 1,
   "nav_menu": {},
   "number_sections": false,
   "sideBar": true,
   "skip_h1_title": true,
   "title_cell": "Table of Contents",
   "title_sidebar": "Contents",
   "toc_cell": false,
   "toc_position": {},
   "toc_section_display": true,
   "toc_window_display": false
  }
 },
 "nbformat": 4,
 "nbformat_minor": 2
}
