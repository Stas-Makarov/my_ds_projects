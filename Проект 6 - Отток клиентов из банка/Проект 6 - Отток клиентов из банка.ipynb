{
 "cells": [
  {
   "cell_type": "markdown",
   "metadata": {},
   "source": [
    "# Прогноз оттока клиентов \"Бета-Банка\"\n",
    "______\n",
    "\n",
    "#### Данное исследование разделим на несколько частей.\n",
    "______\n",
    "\n",
    "### Часть 1. Изучение общей информации:\n",
    "* [1. Изучение файла с данными, получение общей информации, загрузка библиотек.](#1-bullet)\n",
    "\n",
    "### Часть 2. Подготовка данных:\n",
    "* [1. Разделение исходных данных на обучающую, валидационную и тестовую выборки.](#2-bullet)\n",
    "\n",
    "### Часть 3. Исследование задачи:\n",
    "* [1. Исследование баланса классов.](#3-bullet)\n",
    "* [2. Изучение моделей без учета дисбаланса классов и поиск наилучшей.](#4-bullet)\n",
    "\n",
    "### Часть 4. Борьба с дисбалансом:\n",
    "* [1. Придание объектам меньшего класса большего веса.](#5-bullet)\n",
    "* [2. Увеличение выборок.](#6-bullet)\n",
    "* [3. Уменьшение выборок.](#7-bullet)\n",
    "* [4. Изменение порога классификации.](#8-bullet)\n",
    "\n",
    "### Часть 5. Тестирование модели:\n",
    "* [1. Метрика F1-мера.](#9-bullet)\n",
    "* [2. Метрика AUC-ROC.](#10-bullet)"
   ]
  },
  {
   "cell_type": "markdown",
   "metadata": {},
   "source": [
    "#### Описание данных:\n",
    "\n",
    "- RowNumber — индекс строки в данных\n",
    "- CustomerId — уникальный идентификатор клиента\n",
    "- Surname — фамилия\n",
    "- CreditScore — кредитный рейтинг\n",
    "- Geography — страна проживания\n",
    "- Gender — пол\n",
    "- Age — возраст\n",
    "- Tenure — количество недвижимости у клиента\n",
    "- Balance — баланс на счёте\n",
    "- NumOfProducts — количество продуктов банка, используемых клиентом\n",
    "- HasCrCard — наличие кредитной карты\n",
    "- IsActiveMember — активность клиента\n",
    "- EstimatedSalary — предполагаемая зарплата\n",
    "- Exited — факт ухода клиента"
   ]
  },
  {
   "cell_type": "markdown",
   "metadata": {},
   "source": [
    "#### 1-bullet \n",
    "### Часть 1. Изучение общей информации:\n",
    "#### 1. Изучение файла с данными, получение общей информации, загрузка библиотек."
   ]
  },
  {
   "cell_type": "code",
   "execution_count": 1,
   "metadata": {},
   "outputs": [
    {
     "name": "stdout",
     "output_type": "stream",
     "text": [
      "<class 'pandas.core.frame.DataFrame'>\n",
      "RangeIndex: 10000 entries, 0 to 9999\n",
      "Data columns (total 14 columns):\n",
      "RowNumber          10000 non-null int64\n",
      "CustomerId         10000 non-null int64\n",
      "Surname            10000 non-null object\n",
      "CreditScore        10000 non-null int64\n",
      "Geography          10000 non-null object\n",
      "Gender             10000 non-null object\n",
      "Age                10000 non-null int64\n",
      "Tenure             9091 non-null float64\n",
      "Balance            10000 non-null float64\n",
      "NumOfProducts      10000 non-null int64\n",
      "HasCrCard          10000 non-null int64\n",
      "IsActiveMember     10000 non-null int64\n",
      "EstimatedSalary    10000 non-null float64\n",
      "Exited             10000 non-null int64\n",
      "dtypes: float64(3), int64(8), object(3)\n",
      "memory usage: 1.1+ MB\n"
     ]
    },
    {
     "data": {
      "text/plain": [
       "None"
      ]
     },
     "metadata": {},
     "output_type": "display_data"
    },
    {
     "data": {
      "text/plain": [
       "0"
      ]
     },
     "metadata": {},
     "output_type": "display_data"
    },
    {
     "data": {
      "text/html": [
       "<div>\n",
       "<style scoped>\n",
       "    .dataframe tbody tr th:only-of-type {\n",
       "        vertical-align: middle;\n",
       "    }\n",
       "\n",
       "    .dataframe tbody tr th {\n",
       "        vertical-align: top;\n",
       "    }\n",
       "\n",
       "    .dataframe thead th {\n",
       "        text-align: right;\n",
       "    }\n",
       "</style>\n",
       "<table border=\"1\" class=\"dataframe\">\n",
       "  <thead>\n",
       "    <tr style=\"text-align: right;\">\n",
       "      <th></th>\n",
       "      <th>RowNumber</th>\n",
       "      <th>CustomerId</th>\n",
       "      <th>Surname</th>\n",
       "      <th>CreditScore</th>\n",
       "      <th>Geography</th>\n",
       "      <th>Gender</th>\n",
       "      <th>Age</th>\n",
       "      <th>Tenure</th>\n",
       "      <th>Balance</th>\n",
       "      <th>NumOfProducts</th>\n",
       "      <th>HasCrCard</th>\n",
       "      <th>IsActiveMember</th>\n",
       "      <th>EstimatedSalary</th>\n",
       "      <th>Exited</th>\n",
       "    </tr>\n",
       "  </thead>\n",
       "  <tbody>\n",
       "    <tr>\n",
       "      <td>0</td>\n",
       "      <td>1</td>\n",
       "      <td>15634602</td>\n",
       "      <td>Hargrave</td>\n",
       "      <td>619</td>\n",
       "      <td>France</td>\n",
       "      <td>Female</td>\n",
       "      <td>42</td>\n",
       "      <td>2.0</td>\n",
       "      <td>0.00</td>\n",
       "      <td>1</td>\n",
       "      <td>1</td>\n",
       "      <td>1</td>\n",
       "      <td>101348.88</td>\n",
       "      <td>1</td>\n",
       "    </tr>\n",
       "    <tr>\n",
       "      <td>1</td>\n",
       "      <td>2</td>\n",
       "      <td>15647311</td>\n",
       "      <td>Hill</td>\n",
       "      <td>608</td>\n",
       "      <td>Spain</td>\n",
       "      <td>Female</td>\n",
       "      <td>41</td>\n",
       "      <td>1.0</td>\n",
       "      <td>83807.86</td>\n",
       "      <td>1</td>\n",
       "      <td>0</td>\n",
       "      <td>1</td>\n",
       "      <td>112542.58</td>\n",
       "      <td>0</td>\n",
       "    </tr>\n",
       "    <tr>\n",
       "      <td>2</td>\n",
       "      <td>3</td>\n",
       "      <td>15619304</td>\n",
       "      <td>Onio</td>\n",
       "      <td>502</td>\n",
       "      <td>France</td>\n",
       "      <td>Female</td>\n",
       "      <td>42</td>\n",
       "      <td>8.0</td>\n",
       "      <td>159660.80</td>\n",
       "      <td>3</td>\n",
       "      <td>1</td>\n",
       "      <td>0</td>\n",
       "      <td>113931.57</td>\n",
       "      <td>1</td>\n",
       "    </tr>\n",
       "    <tr>\n",
       "      <td>3</td>\n",
       "      <td>4</td>\n",
       "      <td>15701354</td>\n",
       "      <td>Boni</td>\n",
       "      <td>699</td>\n",
       "      <td>France</td>\n",
       "      <td>Female</td>\n",
       "      <td>39</td>\n",
       "      <td>1.0</td>\n",
       "      <td>0.00</td>\n",
       "      <td>2</td>\n",
       "      <td>0</td>\n",
       "      <td>0</td>\n",
       "      <td>93826.63</td>\n",
       "      <td>0</td>\n",
       "    </tr>\n",
       "    <tr>\n",
       "      <td>4</td>\n",
       "      <td>5</td>\n",
       "      <td>15737888</td>\n",
       "      <td>Mitchell</td>\n",
       "      <td>850</td>\n",
       "      <td>Spain</td>\n",
       "      <td>Female</td>\n",
       "      <td>43</td>\n",
       "      <td>2.0</td>\n",
       "      <td>125510.82</td>\n",
       "      <td>1</td>\n",
       "      <td>1</td>\n",
       "      <td>1</td>\n",
       "      <td>79084.10</td>\n",
       "      <td>0</td>\n",
       "    </tr>\n",
       "  </tbody>\n",
       "</table>\n",
       "</div>"
      ],
      "text/plain": [
       "   RowNumber  CustomerId   Surname  CreditScore Geography  Gender  Age  \\\n",
       "0          1    15634602  Hargrave          619    France  Female   42   \n",
       "1          2    15647311      Hill          608     Spain  Female   41   \n",
       "2          3    15619304      Onio          502    France  Female   42   \n",
       "3          4    15701354      Boni          699    France  Female   39   \n",
       "4          5    15737888  Mitchell          850     Spain  Female   43   \n",
       "\n",
       "   Tenure    Balance  NumOfProducts  HasCrCard  IsActiveMember  \\\n",
       "0     2.0       0.00              1          1               1   \n",
       "1     1.0   83807.86              1          0               1   \n",
       "2     8.0  159660.80              3          1               0   \n",
       "3     1.0       0.00              2          0               0   \n",
       "4     2.0  125510.82              1          1               1   \n",
       "\n",
       "   EstimatedSalary  Exited  \n",
       "0        101348.88       1  \n",
       "1        112542.58       0  \n",
       "2        113931.57       1  \n",
       "3         93826.63       0  \n",
       "4         79084.10       0  "
      ]
     },
     "metadata": {},
     "output_type": "display_data"
    }
   ],
   "source": [
    "# загружаем все необходимые для данного исследования библиотеки\n",
    "import pandas as pd\n",
    "import numpy as np\n",
    "from sklearn.model_selection import train_test_split\n",
    "from sklearn.preprocessing import StandardScaler\n",
    "from matplotlib import pyplot as plt\n",
    "from sklearn.metrics import confusion_matrix\n",
    "from sklearn.utils import shuffle\n",
    "from sklearn.tree import DecisionTreeClassifier\n",
    "from sklearn.ensemble import RandomForestClassifier \n",
    "from sklearn.linear_model import LogisticRegression\n",
    "from sklearn.metrics import accuracy_score\n",
    "from sklearn.metrics import recall_score\n",
    "from sklearn.metrics import precision_score\n",
    "from sklearn.metrics import f1_score\n",
    "from sklearn.metrics import precision_recall_curve\n",
    "from sklearn.metrics import roc_curve\n",
    "from sklearn.metrics import roc_auc_score\n",
    "\n",
    "# открываем файл с данными и получаем общую информацию по нему\n",
    "data = pd.read_csv('/datasets/Churn.csv')\n",
    "display(data.info())\n",
    "\n",
    "# выведем на экран сумму дубликатов в таблице\n",
    "display(data.duplicated().sum()) \n",
    "\n",
    "# выводим на экран первые пять строк для зрительного ознакомления\n",
    "display(data.head())"
   ]
  },
  {
   "cell_type": "markdown",
   "metadata": {},
   "source": [
    "### Вывод\n",
    "\n",
    "- Открыли таблицу с данными и получили общую информацию: датасет состоит из 14 колонок и 10000 строк, имеет разные типы данных, в столбце наличия недвижимости имеются пропуски, дубликатов не имеется.\n",
    "- Загрузили необходимые библиотеки, необходимые для данного исследования."
   ]
  },
  {
   "cell_type": "markdown",
   "metadata": {},
   "source": [
    "#### 2-bullet \n",
    "### Часть 2. Подготовка данных:\n",
    "#### 1. Разделение исходных данных на обучающую, валидационную и тестовую выборки."
   ]
  },
  {
   "cell_type": "markdown",
   "metadata": {},
   "source": [
    "Заполним пустующие значения, стандартизируем численные признаки и преборазуем данные техникой OHE."
   ]
  },
  {
   "cell_type": "code",
   "execution_count": 2,
   "metadata": {},
   "outputs": [],
   "source": [
    "# заполним пустые значения в столбце недвижимости нулями\n",
    "data['Tenure'] = data['Tenure'].fillna(0) \n",
    "\n",
    "# преобразуем данные техникой OHE\n",
    "data_ohe = pd.get_dummies(data, drop_first=True)\n",
    "\n",
    "# создадим спискок численных признаков, подлежащих стандартизации   \n",
    "numeric = ['Balance', 'Age', 'EstimatedSalary']\n",
    "\n",
    "# вызовем преобразователь масштаба и настоим его на признаках\n",
    "scaler = StandardScaler()\n",
    "scaler.fit(data[numeric]) \n",
    "\n",
    "# преобразуем признаки\n",
    "data[numeric] = scaler.transform(data[numeric])"
   ]
  },
  {
   "cell_type": "markdown",
   "metadata": {},
   "source": [
    "Разделим исходные данные на обучающую, валидационную и тестовую выборки"
   ]
  },
  {
   "cell_type": "code",
   "execution_count": 3,
   "metadata": {},
   "outputs": [],
   "source": [
    "# сохраним в отдельных переменных признаки и целевой признак\n",
    "features = data_ohe.drop(['Exited'], axis=1)\n",
    "target = data_ohe['Exited']\n",
    "\n",
    "# сохраним значение параметра random_state в переменной \n",
    "my_random_state = 123\n",
    "\n",
    "# разделим на две выборки: на тестовую и для обучения с валидацией\n",
    "features_train_valid, features_test, target_train_valid, target_test = (\n",
    "    train_test_split(features, target, test_size=0.20, \n",
    "                     random_state=my_random_state))\n",
    "\n",
    "# разделим на две выборки обучающую с валидационной выборку\n",
    "features_train, features_valid, target_train, target_valid = (\n",
    "    train_test_split(features_train_valid, target_train_valid, \n",
    "                     test_size=0.25, random_state=my_random_state))"
   ]
  },
  {
   "cell_type": "markdown",
   "metadata": {},
   "source": [
    "### Вывод\n",
    "\n",
    "- заполнили пропуски нулями.\n",
    "- стандартизировали численные признаки.\n",
    "- преобразовали данные техникой OHE.\n",
    "- получили целевой признаки и признаки.\n",
    "- сохранили значение random_state в переменной.\n",
    "- разделели признаки и целевой признак на обучающую, валидационную и тестовую выборки в соотношении 3:1:1."
   ]
  },
  {
   "cell_type": "markdown",
   "metadata": {},
   "source": [
    "#### 3-bullet \n",
    "### Часть 3. Исследование задачи:\n",
    "#### 1. Исследование баланса классов."
   ]
  },
  {
   "cell_type": "code",
   "execution_count": 4,
   "metadata": {},
   "outputs": [
    {
     "data": {
      "text/plain": [
       "'Баланс классов:'"
      ]
     },
     "metadata": {},
     "output_type": "display_data"
    },
    {
     "data": {
      "text/plain": [
       "0    0.7963\n",
       "1    0.2037\n",
       "Name: Exited, dtype: float64"
      ]
     },
     "metadata": {},
     "output_type": "display_data"
    },
    {
     "data": {
      "image/png": "[encoded data removed]",
      "text/plain": [
       "<Figure size 432x288 with 1 Axes>"
      ]
     },
     "metadata": {
      "needs_background": "light"
     },
     "output_type": "display_data"
    }
   ],
   "source": [
    "# рассчитаем количество уникальных значений в целевом признаке\n",
    "class_frequency = data['Exited'].value_counts(normalize=0-1)\n",
    "display('Баланс классов:', class_frequency)\n",
    "\n",
    "# построим график уникальных значений для наглядности\n",
    "class_frequency.plot(kind='bar')\n",
    "plt.show()"
   ]
  },
  {
   "cell_type": "markdown",
   "metadata": {},
   "source": [
    "- получили дисбаланс классов.\n",
    "- далее построим модель решающего дерева и получим матрицу ошибок."
   ]
  },
  {
   "cell_type": "code",
   "execution_count": 5,
   "metadata": {},
   "outputs": [
    {
     "name": "stdout",
     "output_type": "stream",
     "text": [
      "Матирца ошибок:\n",
      "[[1432  148]\n",
      " [ 224  196]]\n",
      "Accuracy: 0.814\n",
      "Полнота: 0.4666666666666667\n",
      "Точность: 0.5697674418604651\n",
      "F1-мера: 0.5130890052356021\n"
     ]
    }
   ],
   "source": [
    "# обучим модель решающего дерева и получим предсказания\n",
    "model = DecisionTreeClassifier(random_state=my_random_state)\n",
    "model.fit(features_train, target_train)\n",
    "predicted_valid = model.predict(features_valid)\n",
    "\n",
    "# получим матрицу ошибок\n",
    "print('Матирца ошибок:')\n",
    "print(confusion_matrix(target_valid, predicted_valid))\n",
    "\n",
    "# получим значения метрик accuracy, полноты, точности, F1-меры\n",
    "print('Accuracy:', accuracy_score(predicted_valid, target_valid))\n",
    "print('Полнота:', recall_score(target_valid, predicted_valid))\n",
    "print('Точность:', precision_score(target_valid, predicted_valid))\n",
    "print('F1-мера:', f1_score(target_valid, predicted_valid))"
   ]
  },
  {
   "cell_type": "markdown",
   "metadata": {},
   "source": [
    "### Вывод\n",
    "- исследование баланска классов показало, что в целевом признаке имеется выраженный дисбаланс в пользу отрицательного класса.\n",
    "- матрица ошибок показывает, что модель почти одинако часто ошибается, когда находит истинно положительный и ложноположительный классы.\n",
    "- получили значения метрик accuracy, полноты, точности, F1-меры."
   ]
  },
  {
   "cell_type": "markdown",
   "metadata": {},
   "source": [
    "#### 4-bullet \n",
    "### Часть 3. Исследование задачи:\n",
    "#### 2. Изучение моделей без учета дисбаланса классов и поиск наилучшей модели."
   ]
  },
  {
   "cell_type": "markdown",
   "metadata": {},
   "source": [
    "- найдем наилучшее значение метрики F1-мера для модели решающее дерево, перебором гиперпараметра глубины, а также построим матрицу ошибок."
   ]
  },
  {
   "cell_type": "code",
   "execution_count": 6,
   "metadata": {},
   "outputs": [
    {
     "name": "stderr",
     "output_type": "stream",
     "text": [
      "/opt/conda/lib/python3.7/site-packages/sklearn/metrics/classification.py:1437: UndefinedMetricWarning: F-score is ill-defined and being set to 0.0 due to no predicted samples.\n",
      "  'precision', 'predicted', average, warn_for)\n"
     ]
    },
    {
     "name": "stdout",
     "output_type": "stream",
     "text": [
      "F1-мера наилучшей модели на валидационной выборке: 0.5664739884393064 Максимальная глубина: 5\n",
      "Матирца ошибок:\n",
      "[[1504   76]\n",
      " [ 224  196]]\n"
     ]
    }
   ],
   "source": [
    "# создадим функцию, которая будет перебирать гиперпараметр \n",
    "# максимальной глубины дерева, возьмем от 1 до 50\n",
    "\n",
    "best_model = None\n",
    "best_result = 0\n",
    "for depth in range(1, 51):\n",
    "    # сохраним модель решающего дерева    \n",
    "    model = DecisionTreeClassifier(random_state=my_random_state, \n",
    "                                   max_depth=depth) \n",
    "    model.fit(features_train, target_train) # обучим модель\n",
    "    # получим предсказания модели по валидационной выборке\n",
    "    predicted = model.predict(features_valid) \n",
    "    result = f1_score(target_valid, predicted) # получим качество модели\n",
    "    # получим матрицу ошибок\n",
    "    result_2 = confusion_matrix(target_valid, predicted)\n",
    "\n",
    "    \n",
    "    # найдем наилучшую модель\n",
    "    if result > best_result:\n",
    "        best_model = model\n",
    "        best_result = result\n",
    "        best_depth = depth\n",
    "        best_confusion_matrix = result_2\n",
    "        \n",
    "# выведем на экран наилучшее качество модели и глубину\n",
    "print('F1-мера наилучшей модели на валидационной выборке:', best_result, \n",
    "      \"Максимальная глубина:\", best_depth)\n",
    "print('Матирца ошибок:')\n",
    "print(best_confusion_matrix)"
   ]
  },
  {
   "cell_type": "markdown",
   "metadata": {},
   "source": [
    "- получили наилучшее значение метрики 0.56 при максимальной глубине 5.\n",
    "- количество ошибок при поиске положительного класса уменьшилось."
   ]
  },
  {
   "cell_type": "markdown",
   "metadata": {},
   "source": [
    "Далее найдем наилучшее значение метрики F1-мера для модели случайный лес, перебором гиперпараметров, а также построим матрицу ошибок."
   ]
  },
  {
   "cell_type": "code",
   "execution_count": 7,
   "metadata": {},
   "outputs": [
    {
     "name": "stderr",
     "output_type": "stream",
     "text": [
      "/opt/conda/lib/python3.7/site-packages/sklearn/metrics/classification.py:1437: UndefinedMetricWarning: F-score is ill-defined and being set to 0.0 due to no predicted samples.\n",
      "  'precision', 'predicted', average, warn_for)\n",
      "/opt/conda/lib/python3.7/site-packages/sklearn/metrics/classification.py:1437: UndefinedMetricWarning: F-score is ill-defined and being set to 0.0 due to no predicted samples.\n",
      "  'precision', 'predicted', average, warn_for)\n",
      "/opt/conda/lib/python3.7/site-packages/sklearn/metrics/classification.py:1437: UndefinedMetricWarning: F-score is ill-defined and being set to 0.0 due to no predicted samples.\n",
      "  'precision', 'predicted', average, warn_for)\n",
      "/opt/conda/lib/python3.7/site-packages/sklearn/metrics/classification.py:1437: UndefinedMetricWarning: F-score is ill-defined and being set to 0.0 due to no predicted samples.\n",
      "  'precision', 'predicted', average, warn_for)\n",
      "/opt/conda/lib/python3.7/site-packages/sklearn/metrics/classification.py:1437: UndefinedMetricWarning: F-score is ill-defined and being set to 0.0 due to no predicted samples.\n",
      "  'precision', 'predicted', average, warn_for)\n",
      "/opt/conda/lib/python3.7/site-packages/sklearn/metrics/classification.py:1437: UndefinedMetricWarning: F-score is ill-defined and being set to 0.0 due to no predicted samples.\n",
      "  'precision', 'predicted', average, warn_for)\n",
      "/opt/conda/lib/python3.7/site-packages/sklearn/metrics/classification.py:1437: UndefinedMetricWarning: F-score is ill-defined and being set to 0.0 due to no predicted samples.\n",
      "  'precision', 'predicted', average, warn_for)\n",
      "/opt/conda/lib/python3.7/site-packages/sklearn/metrics/classification.py:1437: UndefinedMetricWarning: F-score is ill-defined and being set to 0.0 due to no predicted samples.\n",
      "  'precision', 'predicted', average, warn_for)\n",
      "/opt/conda/lib/python3.7/site-packages/sklearn/metrics/classification.py:1437: UndefinedMetricWarning: F-score is ill-defined and being set to 0.0 due to no predicted samples.\n",
      "  'precision', 'predicted', average, warn_for)\n",
      "/opt/conda/lib/python3.7/site-packages/sklearn/metrics/classification.py:1437: UndefinedMetricWarning: F-score is ill-defined and being set to 0.0 due to no predicted samples.\n",
      "  'precision', 'predicted', average, warn_for)\n",
      "/opt/conda/lib/python3.7/site-packages/sklearn/metrics/classification.py:1437: UndefinedMetricWarning: F-score is ill-defined and being set to 0.0 due to no predicted samples.\n",
      "  'precision', 'predicted', average, warn_for)\n",
      "/opt/conda/lib/python3.7/site-packages/sklearn/metrics/classification.py:1437: UndefinedMetricWarning: F-score is ill-defined and being set to 0.0 due to no predicted samples.\n",
      "  'precision', 'predicted', average, warn_for)\n",
      "/opt/conda/lib/python3.7/site-packages/sklearn/metrics/classification.py:1437: UndefinedMetricWarning: F-score is ill-defined and being set to 0.0 due to no predicted samples.\n",
      "  'precision', 'predicted', average, warn_for)\n",
      "/opt/conda/lib/python3.7/site-packages/sklearn/metrics/classification.py:1437: UndefinedMetricWarning: F-score is ill-defined and being set to 0.0 due to no predicted samples.\n",
      "  'precision', 'predicted', average, warn_for)\n",
      "/opt/conda/lib/python3.7/site-packages/sklearn/metrics/classification.py:1437: UndefinedMetricWarning: F-score is ill-defined and being set to 0.0 due to no predicted samples.\n",
      "  'precision', 'predicted', average, warn_for)\n",
      "/opt/conda/lib/python3.7/site-packages/sklearn/metrics/classification.py:1437: UndefinedMetricWarning: F-score is ill-defined and being set to 0.0 due to no predicted samples.\n",
      "  'precision', 'predicted', average, warn_for)\n",
      "/opt/conda/lib/python3.7/site-packages/sklearn/metrics/classification.py:1437: UndefinedMetricWarning: F-score is ill-defined and being set to 0.0 due to no predicted samples.\n",
      "  'precision', 'predicted', average, warn_for)\n",
      "/opt/conda/lib/python3.7/site-packages/sklearn/metrics/classification.py:1437: UndefinedMetricWarning: F-score is ill-defined and being set to 0.0 due to no predicted samples.\n",
      "  'precision', 'predicted', average, warn_for)\n",
      "/opt/conda/lib/python3.7/site-packages/sklearn/metrics/classification.py:1437: UndefinedMetricWarning: F-score is ill-defined and being set to 0.0 due to no predicted samples.\n",
      "  'precision', 'predicted', average, warn_for)\n",
      "/opt/conda/lib/python3.7/site-packages/sklearn/metrics/classification.py:1437: UndefinedMetricWarning: F-score is ill-defined and being set to 0.0 due to no predicted samples.\n",
      "  'precision', 'predicted', average, warn_for)\n",
      "/opt/conda/lib/python3.7/site-packages/sklearn/metrics/classification.py:1437: UndefinedMetricWarning: F-score is ill-defined and being set to 0.0 due to no predicted samples.\n",
      "  'precision', 'predicted', average, warn_for)\n",
      "/opt/conda/lib/python3.7/site-packages/sklearn/metrics/classification.py:1437: UndefinedMetricWarning: F-score is ill-defined and being set to 0.0 due to no predicted samples.\n",
      "  'precision', 'predicted', average, warn_for)\n",
      "/opt/conda/lib/python3.7/site-packages/sklearn/metrics/classification.py:1437: UndefinedMetricWarning: F-score is ill-defined and being set to 0.0 due to no predicted samples.\n",
      "  'precision', 'predicted', average, warn_for)\n",
      "/opt/conda/lib/python3.7/site-packages/sklearn/metrics/classification.py:1437: UndefinedMetricWarning: F-score is ill-defined and being set to 0.0 due to no predicted samples.\n",
      "  'precision', 'predicted', average, warn_for)\n",
      "/opt/conda/lib/python3.7/site-packages/sklearn/metrics/classification.py:1437: UndefinedMetricWarning: F-score is ill-defined and being set to 0.0 due to no predicted samples.\n",
      "  'precision', 'predicted', average, warn_for)\n",
      "/opt/conda/lib/python3.7/site-packages/sklearn/metrics/classification.py:1437: UndefinedMetricWarning: F-score is ill-defined and being set to 0.0 due to no predicted samples.\n",
      "  'precision', 'predicted', average, warn_for)\n",
      "/opt/conda/lib/python3.7/site-packages/sklearn/metrics/classification.py:1437: UndefinedMetricWarning: F-score is ill-defined and being set to 0.0 due to no predicted samples.\n",
      "  'precision', 'predicted', average, warn_for)\n",
      "/opt/conda/lib/python3.7/site-packages/sklearn/metrics/classification.py:1437: UndefinedMetricWarning: F-score is ill-defined and being set to 0.0 due to no predicted samples.\n",
      "  'precision', 'predicted', average, warn_for)\n",
      "/opt/conda/lib/python3.7/site-packages/sklearn/metrics/classification.py:1437: UndefinedMetricWarning: F-score is ill-defined and being set to 0.0 due to no predicted samples.\n",
      "  'precision', 'predicted', average, warn_for)\n",
      "/opt/conda/lib/python3.7/site-packages/sklearn/metrics/classification.py:1437: UndefinedMetricWarning: F-score is ill-defined and being set to 0.0 due to no predicted samples.\n",
      "  'precision', 'predicted', average, warn_for)\n",
      "/opt/conda/lib/python3.7/site-packages/sklearn/metrics/classification.py:1437: UndefinedMetricWarning: F-score is ill-defined and being set to 0.0 due to no predicted samples.\n",
      "  'precision', 'predicted', average, warn_for)\n",
      "/opt/conda/lib/python3.7/site-packages/sklearn/metrics/classification.py:1437: UndefinedMetricWarning: F-score is ill-defined and being set to 0.0 due to no predicted samples.\n",
      "  'precision', 'predicted', average, warn_for)\n",
      "/opt/conda/lib/python3.7/site-packages/sklearn/metrics/classification.py:1437: UndefinedMetricWarning: F-score is ill-defined and being set to 0.0 due to no predicted samples.\n",
      "  'precision', 'predicted', average, warn_for)\n",
      "/opt/conda/lib/python3.7/site-packages/sklearn/metrics/classification.py:1437: UndefinedMetricWarning: F-score is ill-defined and being set to 0.0 due to no predicted samples.\n",
      "  'precision', 'predicted', average, warn_for)\n",
      "/opt/conda/lib/python3.7/site-packages/sklearn/metrics/classification.py:1437: UndefinedMetricWarning: F-score is ill-defined and being set to 0.0 due to no predicted samples.\n",
      "  'precision', 'predicted', average, warn_for)\n",
      "/opt/conda/lib/python3.7/site-packages/sklearn/metrics/classification.py:1437: UndefinedMetricWarning: F-score is ill-defined and being set to 0.0 due to no predicted samples.\n",
      "  'precision', 'predicted', average, warn_for)\n",
      "/opt/conda/lib/python3.7/site-packages/sklearn/metrics/classification.py:1437: UndefinedMetricWarning: F-score is ill-defined and being set to 0.0 due to no predicted samples.\n",
      "  'precision', 'predicted', average, warn_for)\n",
      "/opt/conda/lib/python3.7/site-packages/sklearn/metrics/classification.py:1437: UndefinedMetricWarning: F-score is ill-defined and being set to 0.0 due to no predicted samples.\n",
      "  'precision', 'predicted', average, warn_for)\n",
      "/opt/conda/lib/python3.7/site-packages/sklearn/metrics/classification.py:1437: UndefinedMetricWarning: F-score is ill-defined and being set to 0.0 due to no predicted samples.\n",
      "  'precision', 'predicted', average, warn_for)\n",
      "/opt/conda/lib/python3.7/site-packages/sklearn/metrics/classification.py:1437: UndefinedMetricWarning: F-score is ill-defined and being set to 0.0 due to no predicted samples.\n",
      "  'precision', 'predicted', average, warn_for)\n",
      "/opt/conda/lib/python3.7/site-packages/sklearn/metrics/classification.py:1437: UndefinedMetricWarning: F-score is ill-defined and being set to 0.0 due to no predicted samples.\n",
      "  'precision', 'predicted', average, warn_for)\n",
      "/opt/conda/lib/python3.7/site-packages/sklearn/metrics/classification.py:1437: UndefinedMetricWarning: F-score is ill-defined and being set to 0.0 due to no predicted samples.\n",
      "  'precision', 'predicted', average, warn_for)\n",
      "/opt/conda/lib/python3.7/site-packages/sklearn/metrics/classification.py:1437: UndefinedMetricWarning: F-score is ill-defined and being set to 0.0 due to no predicted samples.\n",
      "  'precision', 'predicted', average, warn_for)\n",
      "/opt/conda/lib/python3.7/site-packages/sklearn/metrics/classification.py:1437: UndefinedMetricWarning: F-score is ill-defined and being set to 0.0 due to no predicted samples.\n",
      "  'precision', 'predicted', average, warn_for)\n",
      "/opt/conda/lib/python3.7/site-packages/sklearn/metrics/classification.py:1437: UndefinedMetricWarning: F-score is ill-defined and being set to 0.0 due to no predicted samples.\n",
      "  'precision', 'predicted', average, warn_for)\n",
      "/opt/conda/lib/python3.7/site-packages/sklearn/metrics/classification.py:1437: UndefinedMetricWarning: F-score is ill-defined and being set to 0.0 due to no predicted samples.\n",
      "  'precision', 'predicted', average, warn_for)\n",
      "/opt/conda/lib/python3.7/site-packages/sklearn/metrics/classification.py:1437: UndefinedMetricWarning: F-score is ill-defined and being set to 0.0 due to no predicted samples.\n",
      "  'precision', 'predicted', average, warn_for)\n",
      "/opt/conda/lib/python3.7/site-packages/sklearn/metrics/classification.py:1437: UndefinedMetricWarning: F-score is ill-defined and being set to 0.0 due to no predicted samples.\n",
      "  'precision', 'predicted', average, warn_for)\n",
      "/opt/conda/lib/python3.7/site-packages/sklearn/metrics/classification.py:1437: UndefinedMetricWarning: F-score is ill-defined and being set to 0.0 due to no predicted samples.\n",
      "  'precision', 'predicted', average, warn_for)\n",
      "/opt/conda/lib/python3.7/site-packages/sklearn/metrics/classification.py:1437: UndefinedMetricWarning: F-score is ill-defined and being set to 0.0 due to no predicted samples.\n",
      "  'precision', 'predicted', average, warn_for)\n",
      "/opt/conda/lib/python3.7/site-packages/sklearn/metrics/classification.py:1437: UndefinedMetricWarning: F-score is ill-defined and being set to 0.0 due to no predicted samples.\n",
      "  'precision', 'predicted', average, warn_for)\n",
      "/opt/conda/lib/python3.7/site-packages/sklearn/metrics/classification.py:1437: UndefinedMetricWarning: F-score is ill-defined and being set to 0.0 due to no predicted samples.\n",
      "  'precision', 'predicted', average, warn_for)\n",
      "/opt/conda/lib/python3.7/site-packages/sklearn/metrics/classification.py:1437: UndefinedMetricWarning: F-score is ill-defined and being set to 0.0 due to no predicted samples.\n",
      "  'precision', 'predicted', average, warn_for)\n",
      "/opt/conda/lib/python3.7/site-packages/sklearn/metrics/classification.py:1437: UndefinedMetricWarning: F-score is ill-defined and being set to 0.0 due to no predicted samples.\n",
      "  'precision', 'predicted', average, warn_for)\n",
      "/opt/conda/lib/python3.7/site-packages/sklearn/metrics/classification.py:1437: UndefinedMetricWarning: F-score is ill-defined and being set to 0.0 due to no predicted samples.\n",
      "  'precision', 'predicted', average, warn_for)\n",
      "/opt/conda/lib/python3.7/site-packages/sklearn/metrics/classification.py:1437: UndefinedMetricWarning: F-score is ill-defined and being set to 0.0 due to no predicted samples.\n",
      "  'precision', 'predicted', average, warn_for)\n",
      "/opt/conda/lib/python3.7/site-packages/sklearn/metrics/classification.py:1437: UndefinedMetricWarning: F-score is ill-defined and being set to 0.0 due to no predicted samples.\n",
      "  'precision', 'predicted', average, warn_for)\n",
      "/opt/conda/lib/python3.7/site-packages/sklearn/metrics/classification.py:1437: UndefinedMetricWarning: F-score is ill-defined and being set to 0.0 due to no predicted samples.\n",
      "  'precision', 'predicted', average, warn_for)\n",
      "/opt/conda/lib/python3.7/site-packages/sklearn/metrics/classification.py:1437: UndefinedMetricWarning: F-score is ill-defined and being set to 0.0 due to no predicted samples.\n",
      "  'precision', 'predicted', average, warn_for)\n",
      "/opt/conda/lib/python3.7/site-packages/sklearn/metrics/classification.py:1437: UndefinedMetricWarning: F-score is ill-defined and being set to 0.0 due to no predicted samples.\n",
      "  'precision', 'predicted', average, warn_for)\n",
      "/opt/conda/lib/python3.7/site-packages/sklearn/metrics/classification.py:1437: UndefinedMetricWarning: F-score is ill-defined and being set to 0.0 due to no predicted samples.\n",
      "  'precision', 'predicted', average, warn_for)\n",
      "/opt/conda/lib/python3.7/site-packages/sklearn/metrics/classification.py:1437: UndefinedMetricWarning: F-score is ill-defined and being set to 0.0 due to no predicted samples.\n",
      "  'precision', 'predicted', average, warn_for)\n",
      "/opt/conda/lib/python3.7/site-packages/sklearn/metrics/classification.py:1437: UndefinedMetricWarning: F-score is ill-defined and being set to 0.0 due to no predicted samples.\n",
      "  'precision', 'predicted', average, warn_for)\n",
      "/opt/conda/lib/python3.7/site-packages/sklearn/metrics/classification.py:1437: UndefinedMetricWarning: F-score is ill-defined and being set to 0.0 due to no predicted samples.\n",
      "  'precision', 'predicted', average, warn_for)\n",
      "/opt/conda/lib/python3.7/site-packages/sklearn/metrics/classification.py:1437: UndefinedMetricWarning: F-score is ill-defined and being set to 0.0 due to no predicted samples.\n",
      "  'precision', 'predicted', average, warn_for)\n",
      "/opt/conda/lib/python3.7/site-packages/sklearn/metrics/classification.py:1437: UndefinedMetricWarning: F-score is ill-defined and being set to 0.0 due to no predicted samples.\n",
      "  'precision', 'predicted', average, warn_for)\n",
      "/opt/conda/lib/python3.7/site-packages/sklearn/metrics/classification.py:1437: UndefinedMetricWarning: F-score is ill-defined and being set to 0.0 due to no predicted samples.\n",
      "  'precision', 'predicted', average, warn_for)\n",
      "/opt/conda/lib/python3.7/site-packages/sklearn/metrics/classification.py:1437: UndefinedMetricWarning: F-score is ill-defined and being set to 0.0 due to no predicted samples.\n",
      "  'precision', 'predicted', average, warn_for)\n",
      "/opt/conda/lib/python3.7/site-packages/sklearn/metrics/classification.py:1437: UndefinedMetricWarning: F-score is ill-defined and being set to 0.0 due to no predicted samples.\n",
      "  'precision', 'predicted', average, warn_for)\n",
      "/opt/conda/lib/python3.7/site-packages/sklearn/metrics/classification.py:1437: UndefinedMetricWarning: F-score is ill-defined and being set to 0.0 due to no predicted samples.\n",
      "  'precision', 'predicted', average, warn_for)\n",
      "/opt/conda/lib/python3.7/site-packages/sklearn/metrics/classification.py:1437: UndefinedMetricWarning: F-score is ill-defined and being set to 0.0 due to no predicted samples.\n",
      "  'precision', 'predicted', average, warn_for)\n",
      "/opt/conda/lib/python3.7/site-packages/sklearn/metrics/classification.py:1437: UndefinedMetricWarning: F-score is ill-defined and being set to 0.0 due to no predicted samples.\n",
      "  'precision', 'predicted', average, warn_for)\n",
      "/opt/conda/lib/python3.7/site-packages/sklearn/metrics/classification.py:1437: UndefinedMetricWarning: F-score is ill-defined and being set to 0.0 due to no predicted samples.\n",
      "  'precision', 'predicted', average, warn_for)\n",
      "/opt/conda/lib/python3.7/site-packages/sklearn/metrics/classification.py:1437: UndefinedMetricWarning: F-score is ill-defined and being set to 0.0 due to no predicted samples.\n",
      "  'precision', 'predicted', average, warn_for)\n",
      "/opt/conda/lib/python3.7/site-packages/sklearn/metrics/classification.py:1437: UndefinedMetricWarning: F-score is ill-defined and being set to 0.0 due to no predicted samples.\n",
      "  'precision', 'predicted', average, warn_for)\n",
      "/opt/conda/lib/python3.7/site-packages/sklearn/metrics/classification.py:1437: UndefinedMetricWarning: F-score is ill-defined and being set to 0.0 due to no predicted samples.\n",
      "  'precision', 'predicted', average, warn_for)\n",
      "/opt/conda/lib/python3.7/site-packages/sklearn/metrics/classification.py:1437: UndefinedMetricWarning: F-score is ill-defined and being set to 0.0 due to no predicted samples.\n",
      "  'precision', 'predicted', average, warn_for)\n",
      "/opt/conda/lib/python3.7/site-packages/sklearn/metrics/classification.py:1437: UndefinedMetricWarning: F-score is ill-defined and being set to 0.0 due to no predicted samples.\n",
      "  'precision', 'predicted', average, warn_for)\n",
      "/opt/conda/lib/python3.7/site-packages/sklearn/metrics/classification.py:1437: UndefinedMetricWarning: F-score is ill-defined and being set to 0.0 due to no predicted samples.\n",
      "  'precision', 'predicted', average, warn_for)\n",
      "/opt/conda/lib/python3.7/site-packages/sklearn/metrics/classification.py:1437: UndefinedMetricWarning: F-score is ill-defined and being set to 0.0 due to no predicted samples.\n",
      "  'precision', 'predicted', average, warn_for)\n",
      "/opt/conda/lib/python3.7/site-packages/sklearn/metrics/classification.py:1437: UndefinedMetricWarning: F-score is ill-defined and being set to 0.0 due to no predicted samples.\n",
      "  'precision', 'predicted', average, warn_for)\n",
      "/opt/conda/lib/python3.7/site-packages/sklearn/metrics/classification.py:1437: UndefinedMetricWarning: F-score is ill-defined and being set to 0.0 due to no predicted samples.\n",
      "  'precision', 'predicted', average, warn_for)\n",
      "/opt/conda/lib/python3.7/site-packages/sklearn/metrics/classification.py:1437: UndefinedMetricWarning: F-score is ill-defined and being set to 0.0 due to no predicted samples.\n",
      "  'precision', 'predicted', average, warn_for)\n",
      "/opt/conda/lib/python3.7/site-packages/sklearn/metrics/classification.py:1437: UndefinedMetricWarning: F-score is ill-defined and being set to 0.0 due to no predicted samples.\n",
      "  'precision', 'predicted', average, warn_for)\n",
      "/opt/conda/lib/python3.7/site-packages/sklearn/metrics/classification.py:1437: UndefinedMetricWarning: F-score is ill-defined and being set to 0.0 due to no predicted samples.\n",
      "  'precision', 'predicted', average, warn_for)\n",
      "/opt/conda/lib/python3.7/site-packages/sklearn/metrics/classification.py:1437: UndefinedMetricWarning: F-score is ill-defined and being set to 0.0 due to no predicted samples.\n",
      "  'precision', 'predicted', average, warn_for)\n",
      "/opt/conda/lib/python3.7/site-packages/sklearn/metrics/classification.py:1437: UndefinedMetricWarning: F-score is ill-defined and being set to 0.0 due to no predicted samples.\n",
      "  'precision', 'predicted', average, warn_for)\n",
      "/opt/conda/lib/python3.7/site-packages/sklearn/metrics/classification.py:1437: UndefinedMetricWarning: F-score is ill-defined and being set to 0.0 due to no predicted samples.\n",
      "  'precision', 'predicted', average, warn_for)\n",
      "/opt/conda/lib/python3.7/site-packages/sklearn/metrics/classification.py:1437: UndefinedMetricWarning: F-score is ill-defined and being set to 0.0 due to no predicted samples.\n",
      "  'precision', 'predicted', average, warn_for)\n",
      "/opt/conda/lib/python3.7/site-packages/sklearn/metrics/classification.py:1437: UndefinedMetricWarning: F-score is ill-defined and being set to 0.0 due to no predicted samples.\n",
      "  'precision', 'predicted', average, warn_for)\n",
      "/opt/conda/lib/python3.7/site-packages/sklearn/metrics/classification.py:1437: UndefinedMetricWarning: F-score is ill-defined and being set to 0.0 due to no predicted samples.\n",
      "  'precision', 'predicted', average, warn_for)\n",
      "/opt/conda/lib/python3.7/site-packages/sklearn/metrics/classification.py:1437: UndefinedMetricWarning: F-score is ill-defined and being set to 0.0 due to no predicted samples.\n",
      "  'precision', 'predicted', average, warn_for)\n",
      "/opt/conda/lib/python3.7/site-packages/sklearn/metrics/classification.py:1437: UndefinedMetricWarning: F-score is ill-defined and being set to 0.0 due to no predicted samples.\n",
      "  'precision', 'predicted', average, warn_for)\n",
      "/opt/conda/lib/python3.7/site-packages/sklearn/metrics/classification.py:1437: UndefinedMetricWarning: F-score is ill-defined and being set to 0.0 due to no predicted samples.\n",
      "  'precision', 'predicted', average, warn_for)\n",
      "/opt/conda/lib/python3.7/site-packages/sklearn/metrics/classification.py:1437: UndefinedMetricWarning: F-score is ill-defined and being set to 0.0 due to no predicted samples.\n",
      "  'precision', 'predicted', average, warn_for)\n",
      "/opt/conda/lib/python3.7/site-packages/sklearn/metrics/classification.py:1437: UndefinedMetricWarning: F-score is ill-defined and being set to 0.0 due to no predicted samples.\n",
      "  'precision', 'predicted', average, warn_for)\n",
      "/opt/conda/lib/python3.7/site-packages/sklearn/metrics/classification.py:1437: UndefinedMetricWarning: F-score is ill-defined and being set to 0.0 due to no predicted samples.\n",
      "  'precision', 'predicted', average, warn_for)\n"
     ]
    },
    {
     "name": "stdout",
     "output_type": "stream",
     "text": [
      "F1-мера наилучшей модели на валидационной выборке: 0.39783001808318263 Количество деревьев: 10 Максимальная глубина: 59\n",
      "Матирца ошибок:\n",
      "[[1557   23]\n",
      " [ 310  110]]\n"
     ]
    }
   ],
   "source": [
    "# создадим функцию, которая будет перебирать гиперпараметры \n",
    "# количества деревьев от 10 до 60 с шагом в 10 и \n",
    "# максимальной глубины дерева от 1 до 60\n",
    "\n",
    "best_model = None\n",
    "best_result = 0\n",
    "for est in range(10, 61, 10):\n",
    "    for depth in range (1, 61):\n",
    "        # сохраним модель случайный лес с искомыми гиперпараметрами\n",
    "        model = RandomForestClassifier(random_state=my_random_state, \n",
    "                                       n_estimators=est, \n",
    "                                       max_depth=depth)\n",
    "        model.fit(features_train, target_train) # обучим модель\n",
    "        # получим предсказания по валидационной и обуч-й выборкам \n",
    "        predicted_valid = model.predict(features_valid) \n",
    "        # найдем значения метрики         \n",
    "        result_1 = f1_score(target_valid, predicted_valid)\n",
    "        # получим матрицу ошибок\n",
    "        result_2 = confusion_matrix(target_valid, predicted_valid)\n",
    "        \n",
    "        # найдем лучшую модель\n",
    "        if result_1 > best_result:\n",
    "            best_model = model\n",
    "            best_result = result_1\n",
    "            best_est = est\n",
    "            best_depth = depth\n",
    "            best_confusion_matrix = result_2            \n",
    "            \n",
    "# выведем на экран качество лучшей модели, количество деревьев и глубина\n",
    "print(\"F1-мера наилучшей модели на валидационной выборке:\", best_result, \n",
    "      \"Количество деревьев:\", best_est, \"Максимальная глубина:\", best_depth) \n",
    "print('Матирца ошибок:')\n",
    "print(best_confusion_matrix)"
   ]
  },
  {
   "cell_type": "markdown",
   "metadata": {},
   "source": [
    "- получили наилучшее значение метрики 0.39 при количестве деревьев 10 и глубине 59.\n",
    "- количество ошибок при поиске положительного класса уменьшилось, но сильно увеличилось количество ошибок при поиске отрицательного класса."
   ]
  },
  {
   "cell_type": "markdown",
   "metadata": {},
   "source": [
    "Далее построим модели логистической регрессии и найдем значение метрики F1-мера, а также построим матрицу ошибок."
   ]
  },
  {
   "cell_type": "code",
   "execution_count": 8,
   "metadata": {},
   "outputs": [
    {
     "name": "stdout",
     "output_type": "stream",
     "text": [
      "F1-мера модели на валидационной выборке: 0.0\n",
      "Матирца ошибок:\n",
      "[[1557   23]\n",
      " [ 310  110]]\n"
     ]
    },
    {
     "name": "stderr",
     "output_type": "stream",
     "text": [
      "/opt/conda/lib/python3.7/site-packages/sklearn/metrics/classification.py:1437: UndefinedMetricWarning: F-score is ill-defined and being set to 0.0 due to no predicted samples.\n",
      "  'precision', 'predicted', average, warn_for)\n"
     ]
    }
   ],
   "source": [
    "# сохраним модель логистической регрессии\n",
    "model = LogisticRegression(random_state=my_random_state, solver = 'liblinear') \n",
    "model.fit(features_train, target_train) # обучим модель \n",
    "predicted_valid = model.predict(features_valid) # получим предсказания\n",
    "result_1 = f1_score(target_valid, predicted_valid)\n",
    "result_2 = confusion_matrix(target_valid, predicted_valid)\n",
    "\n",
    "# получим метрику и выведем на экран \n",
    "print(\"F1-мера модели на валидационной выборке:\", result_1)\n",
    "print('Матирца ошибок:')\n",
    "print(best_confusion_matrix)"
   ]
  },
  {
   "cell_type": "markdown",
   "metadata": {},
   "source": [
    "получили плохой показатель метрики. Точность относительно высокая."
   ]
  },
  {
   "cell_type": "markdown",
   "metadata": {},
   "source": [
    "### Вывод\n",
    "\n",
    "- лучшая модель для данной задачи без учета дисбаланса классов - решающее дерево с показателем F1 = 0,56.\n",
    "- у модели случайный лес лучший показатель показателем F1 = 0,39.\n",
    "- у модели логистической регрессии вообще показателем F1 = 0.\n",
    "- Таким образом, модели без учета дисбаланса классов не пригодны, ввиду крайне низкой эффективности."
   ]
  },
  {
   "cell_type": "markdown",
   "metadata": {},
   "source": [
    "#### 5-bullet \n",
    "### Часть 4. Борьба с дисбалансом:\n",
    "#### 1. Придание объектам меньшего класса большего веса."
   ]
  },
  {
   "cell_type": "markdown",
   "metadata": {},
   "source": [
    "придадим объектам положительного класса больший вес, воспользовавшись гиперпараметром class_weight='balanced'."
   ]
  },
  {
   "cell_type": "markdown",
   "metadata": {},
   "source": [
    "- найдем модель решающего дерева с наилучшим показателем F1-меры."
   ]
  },
  {
   "cell_type": "code",
   "execution_count": 9,
   "metadata": {},
   "outputs": [
    {
     "name": "stdout",
     "output_type": "stream",
     "text": [
      "F1-мера наилучшей модели на валидационной выборке: 0.5677546983184966 Максимальная глубина: 10\n",
      "Матирца ошибок:\n",
      "[[1276  304]\n",
      " [ 133  287]]\n"
     ]
    }
   ],
   "source": [
    "# создадим функцию, которая будет перебирать гиперпараметр \n",
    "# максимальной глубины дерева, возьмем от 1 до 50\n",
    "\n",
    "best_model = None\n",
    "best_result = 0\n",
    "for depth in range(1, 51):\n",
    "    # сохраним модель решающего дерева    \n",
    "    model = DecisionTreeClassifier(random_state=my_random_state, \n",
    "                                        max_depth=depth, \n",
    "                                        class_weight='balanced') \n",
    "    model.fit(features_train, target_train) # обучим модель\n",
    "    # получим предсказания модели по валидационной выборке\n",
    "    predicted = model.predict(features_valid) \n",
    "    result = f1_score(target_valid, predicted) # получим качество модели\n",
    "    # получим матрицу ошибок\n",
    "    result_2 = confusion_matrix(target_valid, predicted)\n",
    "\n",
    "    # найдем наилучшую модель\n",
    "    if result > best_result:\n",
    "        best_model = model\n",
    "        best_result = result\n",
    "        best_depth = depth\n",
    "        best_confusion_matrix = result_2\n",
    "        \n",
    "# выведем на экран наилучшее качество модели и глубину\n",
    "print('F1-мера наилучшей модели на валидационной выборке:', best_result, \n",
    "      \"Максимальная глубина:\", best_depth)\n",
    "print('Матирца ошибок:')\n",
    "print(best_confusion_matrix)"
   ]
  },
  {
   "cell_type": "markdown",
   "metadata": {},
   "source": [
    "- получили аналогичный показатель F1 = 0.56, только при глубине 10.\n",
    "- модель хорошо предсказывает отрицательный класс и сильно ошибается с предсказанием положительного класса."
   ]
  },
  {
   "cell_type": "markdown",
   "metadata": {},
   "source": [
    "далее поэкспериментируем с моделью случайный лес. найдем лучшую модель."
   ]
  },
  {
   "cell_type": "code",
   "execution_count": 10,
   "metadata": {},
   "outputs": [
    {
     "name": "stdout",
     "output_type": "stream",
     "text": [
      "F1-мера наилучшей модели на валидационной выборке: 0.5732009925558312 Количество деревьев: 40 Максимальная глубина: 35\n",
      "Матирца ошибок:\n",
      "[[1425  155]\n",
      " [ 189  231]]\n"
     ]
    }
   ],
   "source": [
    "# создадим функцию, которая будет перебирать гиперпараметры \n",
    "# количества деревьев от 10 до 60 с шагом в 10 и \n",
    "# максимальной глубины дерева от 1 до 60\n",
    "\n",
    "best_model = None\n",
    "best_result = 0\n",
    "for est in range(10, 61, 10):\n",
    "    for depth in range (1, 61):\n",
    "        # сохраним модель случайный лес с искомыми гиперпараметрами\n",
    "        model = RandomForestClassifier(random_state=my_random_state, \n",
    "                                       n_estimators=est, \n",
    "                                       max_depth=depth, \n",
    "                                       class_weight='balanced')\n",
    "        model.fit(features_train, target_train) # обучим модель\n",
    "        # получим предсказания по валидационной и обуч-й выборкам \n",
    "        predicted_valid = model.predict(features_valid) \n",
    "        result = f1_score(target_valid, predicted_valid)\n",
    "        # получим матрицу ошибок\n",
    "        result_2 = confusion_matrix(target_valid, predicted_valid)\n",
    "    \n",
    "        # найдем лучшую модель\n",
    "        if result > best_result:\n",
    "            best_model = model\n",
    "            best_result = result\n",
    "            best_est = est\n",
    "            best_depth = depth\n",
    "            best_confusion_matrix = result_2\n",
    "            \n",
    "# выведем на экран качество лучшей модели, количество деревьев и глубина\n",
    "print(\"F1-мера наилучшей модели на валидационной выборке:\", best_result, \n",
    "      \"Количество деревьев:\", best_est, \"Максимальная глубина:\", best_depth) \n",
    "print('Матирца ошибок:')\n",
    "print(best_confusion_matrix)"
   ]
  },
  {
   "cell_type": "markdown",
   "metadata": {},
   "source": [
    "- искомая метрика значительно увеличилась, значение метрики F1 = 0,57 при количестве деревьев 40 и глубине 35\n",
    "- вместе с этим увеличилась точность предсказаний положительного класси и ухудшилась точность предсказаний отрицательного класса."
   ]
  },
  {
   "cell_type": "markdown",
   "metadata": {},
   "source": [
    "построим модель логистической регрессии."
   ]
  },
  {
   "cell_type": "code",
   "execution_count": 11,
   "metadata": {},
   "outputs": [
    {
     "name": "stdout",
     "output_type": "stream",
     "text": [
      "F1-мера модели на валидационной выборке: 0.47725321888412015\n",
      "Матирца ошибок:\n",
      "[[1425  155]\n",
      " [ 189  231]]\n"
     ]
    }
   ],
   "source": [
    "# сохраним модель логистической регрессии\n",
    "model = LogisticRegression(random_state=my_random_state, \n",
    "                           class_weight='balanced', \n",
    "                           solver = 'liblinear') \n",
    "model.fit(features_train, target_train) # обучим модель \n",
    "predicted_valid = model.predict(features_valid) # получим предсказания\n",
    "result_1 = f1_score(target_valid, predicted_valid)\n",
    "result_2 = confusion_matrix(target_valid, predicted_valid)\n",
    "\n",
    "# получим метрику и выведем на экран \n",
    "print(\"F1-мера модели на валидационной выборке:\", result_1)\n",
    "print('Матирца ошибок:')\n",
    "print(best_confusion_matrix)"
   ]
  },
  {
   "cell_type": "markdown",
   "metadata": {},
   "source": [
    "- получили значительно лучший показатель метрики F1 = 0.47, матрица ошибок показывает, что модель чаще ошибается, чем верно находит положительный класс."
   ]
  },
  {
   "cell_type": "markdown",
   "metadata": {},
   "source": [
    "### Вывод\n",
    "\n",
    "- пришли к выводу, что придание большего веса объектам меньшего класса положительно сказалось на работе моделей случайный лес и логистическая регрессия.\n",
    "- на модель решающее дерево придание большего веса объектам меньшего класса практически не повлияло."
   ]
  },
  {
   "cell_type": "markdown",
   "metadata": {},
   "source": [
    "#### 6-bullet \n",
    "### Часть 4. Борьба с дисбалансом:\n",
    "#### 2. Увеличение выборок."
   ]
  },
  {
   "cell_type": "markdown",
   "metadata": {},
   "source": [
    "далее попробуем пойти путем увеличения выборки: увеличим и перемешаем обучающую выборку."
   ]
  },
  {
   "cell_type": "code",
   "execution_count": 12,
   "metadata": {},
   "outputs": [],
   "source": [
    "# объявим функцию, которая будет принимать на вход\n",
    "# признаки, целевой признак и количество повторений\n",
    "def upsample(features, target, repeat):\n",
    "    features_zeros = features[target == 0]\n",
    "    features_ones = features[target == 1]\n",
    "    target_zeros = target[target == 0]\n",
    "    target_ones = target[target == 1]\n",
    "    \n",
    "    # увеличим количество объектов признаков и целевого признака\n",
    "    features_upsampled = pd.concat([features_zeros] + [features_ones] * repeat)\n",
    "    target_upsampled = pd.concat([target_zeros] + [target_ones] * repeat)\n",
    "    \n",
    "    # перемешаем объекты\n",
    "    features_upsampled, target_upsampled = shuffle(features_upsampled, \n",
    "                                                   target_upsampled, \n",
    "                                                   random_state=my_random_state)\n",
    "    \n",
    "    return features_upsampled, target_upsampled\n",
    "\n",
    "# применим функцию\n",
    "features_upsampled, target_upsampled = upsample(features_train, target_train, 10)"
   ]
  },
  {
   "cell_type": "markdown",
   "metadata": {},
   "source": [
    "теперь обучим модель решающего дерева на увеличенной выборке и найдем лучшую."
   ]
  },
  {
   "cell_type": "code",
   "execution_count": 13,
   "metadata": {},
   "outputs": [
    {
     "name": "stdout",
     "output_type": "stream",
     "text": [
      "F1-мера наилучшей модели на валидационной выборке: 0.56973293768546 Максимальная глубина: 10\n",
      "Матирца ошибок:\n",
      "[[1277  303]\n",
      " [ 132  288]]\n"
     ]
    }
   ],
   "source": [
    "# создадим функцию, которая будет перебирать гиперпараметр \n",
    "# максимальной глубины дерева, возьмем от 1 до 60\n",
    "best_model = None\n",
    "best_result = 0\n",
    "for depth in range(1, 61):\n",
    "    # сохраним модель решающего дерева    \n",
    "    model = DecisionTreeClassifier(random_state=my_random_state, \n",
    "                                        max_depth=depth, \n",
    "                                        class_weight='balanced') \n",
    "    # обучим моедль и получим предсказания\n",
    "    model.fit(features_upsampled, target_upsampled)\n",
    "    predicted_valid = model.predict(features_valid) \n",
    "    result = f1_score(target_valid, predicted_valid) # получим метрику\n",
    "    \n",
    "    # получим матрицу ошибок\n",
    "    result_2 = confusion_matrix(target_valid, predicted_valid)\n",
    "\n",
    "    # найдем наилучшую модель\n",
    "    if result > best_result:\n",
    "        best_model = model\n",
    "        best_result = result\n",
    "        best_depth = depth\n",
    "        best_confusion_matrix = result_2\n",
    "        \n",
    "# выведем на экран наилучшее качество модели и глубину\n",
    "print('F1-мера наилучшей модели на валидационной выборке:', best_result, \n",
    "      \"Максимальная глубина:\", best_depth)\n",
    "print('Матирца ошибок:')\n",
    "print(best_confusion_matrix)"
   ]
  },
  {
   "cell_type": "markdown",
   "metadata": {},
   "source": [
    "- получили практически идентичный показатель F1-меры.\n",
    "- точность предсказаний осталась также на прежнем уровне."
   ]
  },
  {
   "cell_type": "markdown",
   "metadata": {},
   "source": [
    "построим и обучим модель случайного леса на увеличенной выборке и найдем лучшую."
   ]
  },
  {
   "cell_type": "code",
   "execution_count": 14,
   "metadata": {},
   "outputs": [
    {
     "name": "stdout",
     "output_type": "stream",
     "text": [
      "F1-мера наилучшей модели на валидационной выборке: 0.5948051948051948 Количество деревьев: 40 Максимальная глубина: 60\n",
      "Матирца ошибок:\n",
      "[[1459  121]\n",
      " [ 191  229]]\n"
     ]
    }
   ],
   "source": [
    "# создадим функцию, которая будет перебирать гиперпараметры \n",
    "# количества деревьев от 10 до 60 с шагом в 10 и \n",
    "# максимальной глубины дерева от 1 до 60\n",
    "\n",
    "best_model = None\n",
    "best_result = 0\n",
    "for est in range(10, 61, 10):\n",
    "    for depth in range (1, 61):\n",
    "        # сохраним модель случайный лес с искомыми гиперпараметрами\n",
    "        model = RandomForestClassifier(random_state=my_random_state, \n",
    "                                       n_estimators=est, \n",
    "                                       max_depth=depth, \n",
    "                                       class_weight='balanced')\n",
    "        model.fit(features_upsampled, target_upsampled) # обучим модель\n",
    "        # получим предсказания по валидационной и обуч-й выборкам \n",
    "        predicted_valid = model.predict(features_valid) \n",
    "        result = f1_score(target_valid, predicted_valid)\n",
    "        # получим матрицу ошибок\n",
    "        result_2 = confusion_matrix(target_valid, predicted_valid)\n",
    "    \n",
    "        # найдем лучшую модель\n",
    "        if result > best_result:\n",
    "            best_model = model\n",
    "            best_result = result\n",
    "            best_est = est\n",
    "            best_depth = depth\n",
    "            best_confusion_matrix = result_2\n",
    "            \n",
    "# выведем на экран качество лучшей модели, количество деревьев и глубина\n",
    "print(\"F1-мера наилучшей модели на валидационной выборке:\", best_result, \n",
    "      \"Количество деревьев:\", best_est, \"Максимальная глубина:\", best_depth) \n",
    "print('Матирца ошибок:')\n",
    "print(best_confusion_matrix)"
   ]
  },
  {
   "cell_type": "markdown",
   "metadata": {},
   "source": [
    "- получили наилучшее значение метрики F1-мера = 0.59 при количестве деревьев 40 и глубине 60. \n",
    "- при этом матрица ошибок практически аналогичная.\n",
    "- подтвердилось правило: чем больше данных, тем лучше."
   ]
  },
  {
   "cell_type": "markdown",
   "metadata": {},
   "source": [
    "построим и обучим модель логистической регрессии на обучающей выборке."
   ]
  },
  {
   "cell_type": "code",
   "execution_count": 15,
   "metadata": {},
   "outputs": [
    {
     "name": "stdout",
     "output_type": "stream",
     "text": [
      "F1-мера модели на валидационной выборке: 0.47390932420872545\n",
      "Матирца ошибок:\n",
      "[[1459  121]\n",
      " [ 191  229]]\n"
     ]
    }
   ],
   "source": [
    "# сохраним модель логистической регрессии\n",
    "model = LogisticRegression(random_state=my_random_state, \n",
    "                           class_weight='balanced', \n",
    "                           solver = 'liblinear') \n",
    "model.fit(features_upsampled, target_upsampled) # обучим модель \n",
    "predicted_valid = model.predict(features_valid) # получим предсказания\n",
    "result_1 = f1_score(target_valid, predicted_valid)\n",
    "result_2 = confusion_matrix(target_valid, predicted_valid)\n",
    "\n",
    "# получим метрику и выведем на экран \n",
    "print(\"F1-мера модели на валидационной выборке:\", result_1)\n",
    "print('Матирца ошибок:')\n",
    "print(best_confusion_matrix)"
   ]
  },
  {
   "cell_type": "markdown",
   "metadata": {},
   "source": [
    "- значение метрики практически не изменилось, показатели матрицы ошибок тоже."
   ]
  },
  {
   "cell_type": "markdown",
   "metadata": {},
   "source": [
    "### Вывод\n",
    "\n",
    "- пришли к выводу, что увеличение выборки положительно сказалось только на модели случайный лес, где значение метрики F1 достигло 0.58\n",
    "- при этом на модели решающее дерево и логистическую регрессию увеличение выборок практически никак не повлияло."
   ]
  },
  {
   "cell_type": "markdown",
   "metadata": {},
   "source": [
    "#### 7-bullet \n",
    "### Часть 4. Борьба с дисбалансом:\n",
    "#### 3. Уменьшение выборок."
   ]
  },
  {
   "cell_type": "markdown",
   "metadata": {},
   "source": [
    "Попробуем уменьшить обучающую выборку."
   ]
  },
  {
   "cell_type": "code",
   "execution_count": 16,
   "metadata": {},
   "outputs": [],
   "source": [
    "# объявим функцию, которая будет принимать на вход\n",
    "# признаки, целевой признак и количество повторений\n",
    "def downsample(features, target, fraction):\n",
    "    features_zeros = features[target == 0]\n",
    "    features_ones = features[target == 1]\n",
    "    target_zeros = target[target == 0]\n",
    "    target_ones = target[target == 1]\n",
    "    \n",
    "    # уменьшим количество объектов признаков и целевого признака\n",
    "    features_downsampled = pd.concat(\n",
    "        [features_zeros.sample(frac=fraction, random_state=12345)] + [features_ones])\n",
    "    target_downsampled = pd.concat(\n",
    "        [target_zeros.sample(frac=fraction, random_state=12345)] + [target_ones])\n",
    "    \n",
    "    # перемешаем объекты\n",
    "    features_downsampled, target_downsampled = shuffle(\n",
    "        features_downsampled, target_downsampled, random_state=12345)\n",
    "    \n",
    "    return features_downsampled, target_downsampled\n",
    "\n",
    "# применим функцию\n",
    "features_downsampled, target_downsampled = downsample(features_train, target_train, 0.2)"
   ]
  },
  {
   "cell_type": "markdown",
   "metadata": {},
   "source": [
    "обучим модель решающего дерева на уменьшенной выборке и найдем лучшую."
   ]
  },
  {
   "cell_type": "code",
   "execution_count": 17,
   "metadata": {},
   "outputs": [
    {
     "name": "stdout",
     "output_type": "stream",
     "text": [
      "F1-мера наилучшей модели на валидационной выборке: 0.5526075022872827 Максимальная глубина: 7\n",
      "Матирца ошибок:\n",
      "[[1209  371]\n",
      " [ 118  302]]\n"
     ]
    }
   ],
   "source": [
    "# создадим функцию, которая будет перебирать гиперпараметр \n",
    "# максимальной глубины дерева, возьмем от 1 до 60\n",
    "best_model = None\n",
    "best_result = 0\n",
    "for depth in range(1, 61):\n",
    "    # сохраним модель решающего дерева    \n",
    "    model = DecisionTreeClassifier(random_state=my_random_state, \n",
    "                                        max_depth=depth, \n",
    "                                        class_weight='balanced') \n",
    "    # обучим моедль и получим предсказания\n",
    "    model.fit(features_downsampled, target_downsampled)\n",
    "    predicted_valid = model.predict(features_valid) \n",
    "    result = f1_score(target_valid, predicted_valid) # получим метрику\n",
    "    \n",
    "    # получим матрицу ошибок\n",
    "    result_2 = confusion_matrix(target_valid, predicted_valid)\n",
    "\n",
    "    # найдем наилучшую модель\n",
    "    if result > best_result:\n",
    "        best_model = model\n",
    "        best_result = result\n",
    "        best_depth = depth\n",
    "        best_confusion_matrix = result_2\n",
    "        \n",
    "# выведем на экран наилучшее качество модели и глубину\n",
    "print('F1-мера наилучшей модели на валидационной выборке:', best_result, \n",
    "      \"Максимальная глубина:\", best_depth)\n",
    "print('Матирца ошибок:')\n",
    "print(best_confusion_matrix)"
   ]
  },
  {
   "cell_type": "markdown",
   "metadata": {},
   "source": [
    "- показатель метрики ухудшился, значит этот метод не подходит."
   ]
  },
  {
   "cell_type": "markdown",
   "metadata": {},
   "source": [
    "обучим модель случайного леса и найдем лучшую."
   ]
  },
  {
   "cell_type": "code",
   "execution_count": 18,
   "metadata": {},
   "outputs": [
    {
     "name": "stdout",
     "output_type": "stream",
     "text": [
      "F1-мера наилучшей модели на валидационной выборке: 0.5476635514018692 Количество деревьев: 40 Максимальная глубина: 19\n",
      "Матирца ошибок:\n",
      "[[1223  357]\n",
      " [ 127  293]]\n"
     ]
    }
   ],
   "source": [
    "# создадим функцию, которая будет перебирать гиперпараметры \n",
    "# количества деревьев от 10 до 60 с шагом в 10 и \n",
    "# максимальной глубины дерева от 1 до 60\n",
    "best_model = None\n",
    "best_result = 0\n",
    "for est in range(10, 61, 10):\n",
    "    for depth in range (1, 61):\n",
    "        # сохраним модель случайный лес с искомыми гиперпараметрами\n",
    "        model = RandomForestClassifier(random_state=my_random_state, \n",
    "                                       n_estimators=est, \n",
    "                                       max_depth=depth, \n",
    "                                       class_weight='balanced')\n",
    "        model.fit(features_downsampled, target_downsampled) # обучим модель\n",
    "        # получим предсказания по валидационной и обуч-й выборкам \n",
    "        predicted_valid = model.predict(features_valid) \n",
    "        result = f1_score(target_valid, predicted_valid)\n",
    "        # получим матрицу ошибок\n",
    "        result_2 = confusion_matrix(target_valid, predicted_valid)\n",
    "    \n",
    "        # найдем лучшую модель\n",
    "        if result > best_result:\n",
    "            best_model = model\n",
    "            best_result = result\n",
    "            best_est = est\n",
    "            best_depth = depth\n",
    "            best_confusion_matrix = result_2\n",
    "            \n",
    "# выведем на экран качество лучшей модели, количество деревьев и глубина\n",
    "print(\"F1-мера наилучшей модели на валидационной выборке:\", best_result, \n",
    "      \"Количество деревьев:\", best_est, \"Максимальная глубина:\", best_depth) \n",
    "print('Матирца ошибок:')\n",
    "print(best_confusion_matrix)"
   ]
  },
  {
   "cell_type": "markdown",
   "metadata": {},
   "source": [
    "- показатель метрики ухудшился, значил метод уменьшения выборок не подходит."
   ]
  },
  {
   "cell_type": "markdown",
   "metadata": {},
   "source": [
    "обучим модель логистической регрессии."
   ]
  },
  {
   "cell_type": "code",
   "execution_count": 19,
   "metadata": {},
   "outputs": [
    {
     "name": "stdout",
     "output_type": "stream",
     "text": [
      "F1-мера модели на валидационной выборке: 0.4802744425385935\n",
      "Матирца ошибок:\n",
      "[[1223  357]\n",
      " [ 127  293]]\n"
     ]
    }
   ],
   "source": [
    "# сохраним модель логистической регрессии\n",
    "model = LogisticRegression(random_state=my_random_state, \n",
    "                           class_weight='balanced', \n",
    "                           solver = 'liblinear') \n",
    "model.fit(features_downsampled, target_downsampled) # обучим модель \n",
    "predicted_valid = model.predict(features_valid) # получим предсказания\n",
    "result_1 = f1_score(target_valid, predicted_valid)\n",
    "result_2 = confusion_matrix(target_valid, predicted_valid)\n",
    "\n",
    "# получим метрику и выведем на экран \n",
    "print(\"F1-мера модели на валидационной выборке:\", result_1)\n",
    "print('Матирца ошибок:')\n",
    "print(best_confusion_matrix)"
   ]
  },
  {
   "cell_type": "markdown",
   "metadata": {},
   "source": [
    "- показатель метрики незначительно увеличился, но ухудшились правильные прогнозы положительно класса, также незначительно ухудшились правильные прогнозы отрицательного класса."
   ]
  },
  {
   "cell_type": "markdown",
   "metadata": {},
   "source": [
    "### Вывод\n",
    "\n",
    "- пришли к выводу, что уменьшение выборок не подходит для решения нашей задачи. Даже модель логистической регрессии, демонстрирующая незначительное улучшение показателя F1-меры, сильно теряет в точности, что также не приемлемо."
   ]
  },
  {
   "cell_type": "markdown",
   "metadata": {},
   "source": [
    "#### 8-bullet \n",
    "### Часть 4. Борьба с дисбалансом:\n",
    "#### 4. Изменение порога классификации."
   ]
  },
  {
   "cell_type": "markdown",
   "metadata": {},
   "source": [
    "далее поробуем найти значения метрики, изменяя порог классификации."
   ]
  },
  {
   "cell_type": "markdown",
   "metadata": {},
   "source": [
    "построим и найдем наилучшую модель случайного леса."
   ]
  },
  {
   "cell_type": "code",
   "execution_count": 20,
   "metadata": {},
   "outputs": [
    {
     "name": "stdout",
     "output_type": "stream",
     "text": [
      "F1-мера наилучшей модели: 0.3940269749518304 Максимальная глубина: 57 Количество деревьев: 10 Порог 0.15000000000000002\n",
      "Матирца ошибок:\n",
      "[[ 333 1247]\n",
      " [  11  409]]\n"
     ]
    }
   ],
   "source": [
    "# создадим функцию, которая будет перебирать гиперпараметр \n",
    "# максимальной глубины дерева, возьмем от 1 до 60 и аналогичной глубиной\n",
    "best_model = None\n",
    "best_result = 0\n",
    "for est in range(10, 61, 10):\n",
    "    for depth in range (1, 61): \n",
    "        # сохраним модель случайный лес с искомыми гиперпараметрами\n",
    "        model = RandomForestClassifier(random_state=my_random_state, \n",
    "                                       n_estimators=est, \n",
    "                                       max_depth=depth, \n",
    "                                       class_weight='balanced')\n",
    "        # обучим моедль и получим предсказания\n",
    "        model.fit(features_upsampled, target_upsampled)\n",
    "        probabilities_valid = model.predict_proba(features_valid)\n",
    "        probabilities_one_valid = probabilities_valid[:, 1] \n",
    "        for threshold in np.arange(0, 0.2, 0.05):\n",
    "            predicted_valid = probabilities_one_valid > threshold\n",
    "            result = f1_score(target_valid, predicted_valid)         \n",
    "            # получим матрицу ошибок\n",
    "            result_2 = confusion_matrix(target_valid, predicted_valid)\n",
    "\n",
    "            # найдем наилучшую модель\n",
    "            if result > best_result:\n",
    "                best_model = model\n",
    "                best_result = result\n",
    "                best_est = est\n",
    "                best_depth = depth\n",
    "                best_confusion_matrix = result_2\n",
    "                best_threshold = threshold\n",
    "        \n",
    "# выведем на экран наилучшее качество модели и глубину\n",
    "print('F1-мера наилучшей модели:', best_result, \n",
    "      \"Максимальная глубина:\", best_depth, 'Количество деревьев:', best_est, \n",
    "      'Порог', threshold)\n",
    "print('Матирца ошибок:')\n",
    "print(best_confusion_matrix)"
   ]
  },
  {
   "cell_type": "markdown",
   "metadata": {},
   "source": [
    "- перебор порога классификации не помог улучшить модель, поэтому не будем его использовать."
   ]
  },
  {
   "cell_type": "markdown",
   "metadata": {},
   "source": [
    "построим и найдем наилучшую модель решающего дерева."
   ]
  },
  {
   "cell_type": "code",
   "execution_count": 21,
   "metadata": {},
   "outputs": [
    {
     "name": "stdout",
     "output_type": "stream",
     "text": [
      "F1-мера наилучшей модели: 0.541617819460727 Максимальная глубина: 20 Порог 0.15000000000000002\n",
      "Матирца ошибок:\n",
      "[[1378  202]\n",
      " [ 189  231]]\n"
     ]
    }
   ],
   "source": [
    "# создадим функцию, которая будет перебирать гиперпараметр \n",
    "# максимальной глубины дерева, возьмем от 1 до 60\n",
    "best_model = None\n",
    "best_result = 0\n",
    "model_tree = DecisionTreeClassifier(random_state=my_random_state, \n",
    "                                    max_depth=10, class_weight='balanced')\n",
    "                                   \n",
    "for depth in range(1, 61):\n",
    "    # сохраним модель решающего дерева    \n",
    "    model = DecisionTreeClassifier(random_state=my_random_state, \n",
    "                                   max_depth=depth, \n",
    "                                   class_weight='balanced') \n",
    "    # обучим моедль и получим предсказания\n",
    "    model.fit(features_upsampled, target_upsampled)\n",
    "    probabilities_valid = model.predict_proba(features_valid)\n",
    "    probabilities_one_valid = probabilities_valid[:, 1] \n",
    "    for threshold in np.arange(0, 0.2, 0.05):\n",
    "        predicted_valid = probabilities_one_valid > threshold\n",
    "        result = f1_score(target_valid, predicted_valid)         \n",
    "        # получим матрицу ошибок\n",
    "        result_2 = confusion_matrix(target_valid, predicted_valid)\n",
    "        # найдем наилучшую модель\n",
    "        if result > best_result:\n",
    "            best_model = model\n",
    "            best_result = result\n",
    "            best_depth = depth\n",
    "            best_confusion_matrix = result_2\n",
    "            best_threshold = threshold\n",
    "\n",
    "            # выведем на экран наилучшее качество модели и глубину\n",
    "print('F1-мера наилучшей модели:', best_result, \n",
    "      \"Максимальная глубина:\", best_depth, 'Порог', threshold)\n",
    "print('Матирца ошибок:')\n",
    "print(best_confusion_matrix)"
   ]
  },
  {
   "cell_type": "markdown",
   "metadata": {},
   "source": [
    "- перебор порога классификации не помог улучшить модель, поэтому не будем его использовать."
   ]
  },
  {
   "cell_type": "markdown",
   "metadata": {},
   "source": [
    "построим модель логистической регрессии."
   ]
  },
  {
   "cell_type": "code",
   "execution_count": 22,
   "metadata": {},
   "outputs": [
    {
     "name": "stdout",
     "output_type": "stream",
     "text": [
      "F1-мера наилучшей модели: 0.39289239881539983 Порог 0.29\n",
      "Матирца ошибок:\n",
      "[[ 372 1208]\n",
      " [  22  398]]\n"
     ]
    }
   ],
   "source": [
    "best_model = None\n",
    "best_result = 0\n",
    "\n",
    "# сохраним модель логистической регрессии\n",
    "model = LogisticRegression(random_state=my_random_state, \n",
    "                           class_weight='balanced', \n",
    "                           solver = 'liblinear') \n",
    "model.fit(features_train, target_train)\n",
    "probabilities_valid = model.predict_proba(features_valid)\n",
    "probabilities_one_valid = probabilities_valid[:, 1]\n",
    "\n",
    "for threshold in np.arange(0, 0.3, 0.01):\n",
    "    predicted_valid = probabilities_one_valid > threshold\n",
    "    precision = precision_score(target_valid, predicted_valid)\n",
    "    recall = recall_score(target_valid, predicted_valid)\n",
    "    result = f1_score(target_valid, predicted_valid)  \n",
    "    # получим матрицу ошибок\n",
    "    result_2 = confusion_matrix(target_valid, predicted_valid)\n",
    "    \n",
    "    if result > best_result:\n",
    "            best_model = model\n",
    "            best_result = result\n",
    "            best_confusion_matrix = result_2\n",
    "            best_threshold = threshold\n",
    "    \n",
    "print('F1-мера наилучшей модели:', \n",
    "      best_result, 'Порог', threshold)\n",
    "print('Матирца ошибок:')\n",
    "print(best_confusion_matrix)"
   ]
  },
  {
   "cell_type": "markdown",
   "metadata": {},
   "source": [
    "- перебор порога классификации не помог улучшить модель, поэтому не будем его использовать."
   ]
  },
  {
   "cell_type": "markdown",
   "metadata": {},
   "source": [
    "### Вывод\n",
    "\n",
    "- изменение порога классификации не помогло улучшить ни одну модель."
   ]
  },
  {
   "cell_type": "markdown",
   "metadata": {},
   "source": [
    "#### 9-bullet \n",
    "### Часть 5. Тестирование модели:\n",
    "#### 1. Метрика F1-мера."
   ]
  },
  {
   "cell_type": "markdown",
   "metadata": {},
   "source": [
    "увеличим обучающую с валидационной выборки для последующего обучения моделей."
   ]
  },
  {
   "cell_type": "code",
   "execution_count": 23,
   "metadata": {},
   "outputs": [],
   "source": [
    "# объявим функцию, которая будет принимать на вход\n",
    "# признаки, целевой признак и количество повторений\n",
    "def upsample(features, target, repeat):\n",
    "    features_zeros = features[target == 0]\n",
    "    features_ones = features[target == 1]\n",
    "    target_zeros = target[target == 0]\n",
    "    target_ones = target[target == 1]\n",
    "    \n",
    "    # увеличим количество объектов признаков и целевого признака\n",
    "    features_upsampled = pd.concat([features_zeros] + [features_ones] * repeat)\n",
    "    target_upsampled = pd.concat([target_zeros] + [target_ones] * repeat)\n",
    "    \n",
    "    # перемешаем объекты\n",
    "    features_upsampled, target_upsampled = shuffle(features_upsampled, \n",
    "                                                   target_upsampled, \n",
    "                                                   random_state=my_random_state)\n",
    "    \n",
    "    return features_upsampled, target_upsampled\n",
    "\n",
    "# применим функцию\n",
    "features_upsampled, target_upsampled = upsample(features_train_valid, target_train_valid, 10)"
   ]
  },
  {
   "cell_type": "markdown",
   "metadata": {},
   "source": [
    "обучим модель решающего дерева на увеличенной выборке и рассчитаем значение F1-меры по тестовой выборке."
   ]
  },
  {
   "cell_type": "code",
   "execution_count": 24,
   "metadata": {},
   "outputs": [
    {
     "name": "stdout",
     "output_type": "stream",
     "text": [
      "F1-мера модели: 0.5656565656565657\n",
      "Матирца ошибок:\n",
      "[[1290  296]\n",
      " [ 134  280]]\n"
     ]
    }
   ],
   "source": [
    "# постороим модель решающего дерева, придав классам\n",
    "# равное значение                        \n",
    "model = DecisionTreeClassifier(random_state=my_random_state, \n",
    "                               max_depth=10, class_weight='balanced')\n",
    "# обучим моедль и получим предсказания\n",
    "model.fit(features_upsampled, target_upsampled)\n",
    "predicted_test = model.predict(features_test)\n",
    "result_2 = confusion_matrix(target_test, predicted_test)\n",
    "\n",
    "# выведем на экран значение метрики\n",
    "print(\"F1-мера модели:\", f1_score(target_test, predicted_test))\n",
    "print('Матирца ошибок:')\n",
    "print(result_2)"
   ]
  },
  {
   "cell_type": "markdown",
   "metadata": {},
   "source": [
    "обучим модель случайный лес и рассчитаем значение метрики по тестовой выборке."
   ]
  },
  {
   "cell_type": "code",
   "execution_count": 25,
   "metadata": {},
   "outputs": [
    {
     "name": "stdout",
     "output_type": "stream",
     "text": [
      "F1-мера модели на тестовой выборке: 0.6121437422552665\n",
      "Матирца ошибок:\n",
      "[[1440  146]\n",
      " [ 167  247]]\n"
     ]
    }
   ],
   "source": [
    "# сохраним модель случайный лес с искомыми гиперпараметрами\n",
    "model = RandomForestClassifier(random_state=my_random_state, \n",
    "                               n_estimators=40, \n",
    "                               max_depth=60, \n",
    "                               class_weight='balanced')\n",
    "model.fit(features_upsampled, target_upsampled) # обучим модель\n",
    "# получим предсказания по валидационной и обуч-й выборкам \n",
    "predicted_test = model.predict(features_test) \n",
    "result = f1_score(target_test, predicted_test)\n",
    "# получим матрицу ошибок\n",
    "result_2 = confusion_matrix(target_test, predicted_test)\n",
    "         \n",
    "            \n",
    "# выведем на экран качество лучшей модели, количество деревьев и глубина\n",
    "print(\"F1-мера модели на тестовой выборке:\", result) \n",
    "print('Матирца ошибок:')\n",
    "print(result_2)"
   ]
  },
  {
   "cell_type": "markdown",
   "metadata": {},
   "source": [
    "построим модель логистической регрессии и рассчитаем значение метрики по тестовой выборке."
   ]
  },
  {
   "cell_type": "code",
   "execution_count": 26,
   "metadata": {},
   "outputs": [
    {
     "name": "stdout",
     "output_type": "stream",
     "text": [
      "F1-мера модели на тестовой выборке: 0.4809688581314879\n",
      "Матирца ошибок:\n",
      "[[1122  464]\n",
      " [ 136  278]]\n"
     ]
    }
   ],
   "source": [
    "# сохраним модель логистической регрессии\n",
    "model = LogisticRegression(random_state=my_random_state, \n",
    "                           class_weight='balanced', \n",
    "                           solver = 'liblinear') \n",
    "model.fit(features_upsampled, target_upsampled) # обучим модель \n",
    "# получим предсказания по валидационной и обуч-й выборкам \n",
    "predicted_test = model.predict(features_test) \n",
    "result = f1_score(target_test, predicted_test)\n",
    "# получим матрицу ошибок\n",
    "result_2 = confusion_matrix(target_test, predicted_test)\n",
    "\n",
    "# выведем на экран качество лучшей модели, количество деревьев и глубина\n",
    "print(\"F1-мера модели на тестовой выборке:\", result) \n",
    "print('Матирца ошибок:')\n",
    "print(result_2)"
   ]
  },
  {
   "cell_type": "markdown",
   "metadata": {},
   "source": [
    "### Вывод"
   ]
  },
  {
   "cell_type": "markdown",
   "metadata": {},
   "source": [
    "#### 10-bullet \n",
    "### Часть 5. Тестирование модели:\n",
    "#### 2. Метрика AUC-ROC."
   ]
  },
  {
   "cell_type": "markdown",
   "metadata": {},
   "source": [
    "построим график ROC-кривой и рассчитаем метрику для модели решающее дерево."
   ]
  },
  {
   "cell_type": "code",
   "execution_count": 27,
   "metadata": {},
   "outputs": [
    {
     "data": {
      "image/png": "[encoded data removed]",
      "text/plain": [
       "<Figure size 432x288 with 1 Axes>"
      ]
     },
     "metadata": {
      "needs_background": "light"
     },
     "output_type": "display_data"
    },
    {
     "name": "stdout",
     "output_type": "stream",
     "text": [
      "auc_roc: 0.7752671320917934\n"
     ]
    }
   ],
   "source": [
    "model = DecisionTreeClassifier(random_state=my_random_state, \n",
    "                               max_depth=10, class_weight='balanced')\n",
    "# обучим моедль и получим предсказания\n",
    "model.fit(features_train_valid, target_train_valid)\n",
    "probabilities_test = model.predict_proba(features_test)\n",
    "probabilities_one_test = probabilities_test[:, 1]\n",
    "\n",
    "fpr, tpr, thresholds = roc_curve(target_test, probabilities_one_test)\n",
    "\n",
    "plt.plot(fpr, tpr)\n",
    "\n",
    "# ROC-кривая случайной модели (выглядит как прямая)\n",
    "plt.plot([0, 1], [0, 1], linestyle='--')\n",
    "\n",
    "plt.xlim([0.0, 1.0])\n",
    "plt.ylim([0.0, 1.0])\n",
    "plt.xlabel('False Positive Rate')\n",
    "plt.ylabel('True Positive Rate')\n",
    "plt.title('ROC-кривая')\n",
    "plt.show() \n",
    "plt.show()\n",
    "\n",
    "auc_roc = roc_auc_score(target_test, probabilities_one_test)\n",
    "\n",
    "print('auc_roc:', auc_roc)"
   ]
  },
  {
   "cell_type": "markdown",
   "metadata": {},
   "source": [
    "- получили значение auc_roc: 0.77. оно далеко от 1, как и F1-мера меньше 0.6.\n",
    "- это говорит о том, что модель плохо работает."
   ]
  },
  {
   "cell_type": "markdown",
   "metadata": {},
   "source": [
    "построим график ROC-кривой и рассчитаем метрику для модели случайный лес."
   ]
  },
  {
   "cell_type": "code",
   "execution_count": 28,
   "metadata": {},
   "outputs": [
    {
     "data": {
      "image/png": "[encoded data removed]",
      "text/plain": [
       "<Figure size 432x288 with 1 Axes>"
      ]
     },
     "metadata": {
      "needs_background": "light"
     },
     "output_type": "display_data"
    },
    {
     "name": "stdout",
     "output_type": "stream",
     "text": [
      "auc_roc: 0.846187351889419\n"
     ]
    }
   ],
   "source": [
    "# сохраним модель случайный лес с искомыми гиперпараметрами\n",
    "model = RandomForestClassifier(random_state=my_random_state, \n",
    "                               n_estimators=40, \n",
    "                               max_depth=60, \n",
    "                               class_weight='balanced')\n",
    "# обучим моедль и получим предсказания\n",
    "model.fit(features_train_valid, target_train_valid)\n",
    "probabilities_test = model.predict_proba(features_test)\n",
    "probabilities_one_test = probabilities_test[:, 1]\n",
    "\n",
    "fpr, tpr, thresholds = roc_curve(target_test, probabilities_one_test)\n",
    "\n",
    "plt.plot(fpr, tpr)\n",
    "\n",
    "# ROC-кривая случайной модели (выглядит как прямая)\n",
    "plt.plot([0, 1], [0, 1], linestyle='--')\n",
    "\n",
    "plt.xlim([0.0, 1.0])\n",
    "plt.ylim([0.0, 1.0])\n",
    "plt.xlabel('False Positive Rate')\n",
    "plt.ylabel('True Positive Rate')\n",
    "plt.title('ROC-кривая')\n",
    "plt.show() \n",
    "plt.show()\n",
    "\n",
    "auc_roc = roc_auc_score(target_test, probabilities_one_test)# < напишите код здесь >\n",
    "\n",
    "print('auc_roc:', auc_roc)"
   ]
  },
  {
   "cell_type": "markdown",
   "metadata": {},
   "source": [
    "- получили значение auc_roc: 0.84. F1-меру чуть больше 0.6.\n",
    "- в нашей задаче это наиболее работоспобосная модель, хоть и далекая от идеала."
   ]
  },
  {
   "cell_type": "markdown",
   "metadata": {},
   "source": [
    "построим график ROC-кривой и рассчитаем метрику для модели логистическая регрессия."
   ]
  },
  {
   "cell_type": "code",
   "execution_count": 29,
   "metadata": {},
   "outputs": [
    {
     "data": {
      "image/png": "[encoded data removed]",
      "text/plain": [
       "<Figure size 432x288 with 1 Axes>"
      ]
     },
     "metadata": {
      "needs_background": "light"
     },
     "output_type": "display_data"
    },
    {
     "name": "stdout",
     "output_type": "stream",
     "text": [
      "auc_roc: 0.7855648153224775\n"
     ]
    }
   ],
   "source": [
    "# сохраним модель логистической регрессии\n",
    "model = LogisticRegression(random_state=my_random_state, \n",
    "                           class_weight='balanced', \n",
    "                           solver = 'liblinear') \n",
    "# обучим моедль и получим предсказания\n",
    "model.fit(features_train_valid, target_train_valid)\n",
    "probabilities_test = model.predict_proba(features_test)\n",
    "probabilities_one_test = probabilities_test[:, 1]\n",
    "\n",
    "fpr, tpr, thresholds = roc_curve(target_test, probabilities_one_test)\n",
    "\n",
    "plt.plot(fpr, tpr)\n",
    "\n",
    "# ROC-кривая случайной модели (выглядит как прямая)\n",
    "plt.plot([0, 1], [0, 1], linestyle='--')\n",
    "\n",
    "plt.xlim([0.0, 1.0])\n",
    "plt.ylim([0.0, 1.0])\n",
    "plt.xlabel('False Positive Rate')\n",
    "plt.ylabel('True Positive Rate')\n",
    "plt.title('ROC-кривая')\n",
    "plt.show() \n",
    "plt.show()\n",
    "\n",
    "auc_roc = roc_auc_score(target_test, probabilities_one_test)# < напишите код здесь >\n",
    "\n",
    "print('auc_roc:', auc_roc)"
   ]
  },
  {
   "cell_type": "markdown",
   "metadata": {},
   "source": [
    "- получили значение auc_roc: 0.78. оно далеко от 1, как и F1-мера меньше 0.6.\n",
    "- вновь приходим к выводу, что модель плохо работает."
   ]
  },
  {
   "cell_type": "markdown",
   "metadata": {},
   "source": [
    "### Вывод\n",
    "\n",
    "- пришли к выводу, что между метрикой F1-мера и auc_roc имеется зависимость.\n",
    "- о работоспособности модели могут свидетельствовать только высокие показатели метрики F1-мера и auc_roc.\n",
    "- удалось достичь F1-меры более 0.6 только на модели случайный лес со следующими параметрами: количество деревьев - 40, глубина - 60, меньшему классу придали больший вес, порог классификации не меняли, обучали модель на увеличенной выборке.\n"
   ]
  }
 ],
 "metadata": {
  "kernelspec": {
   "display_name": "Python 3",
   "language": "python",
   "name": "python3"
  },
  "language_info": {
   "codemirror_mode": {
    "name": "ipython",
    "version": 3
   },
   "file_extension": ".py",
   "mimetype": "text/x-python",
   "name": "python",
   "nbconvert_exporter": "python",
   "pygments_lexer": "ipython3",
   "version": "3.8.5"
  },
  "toc": {
   "base_numbering": 1,
   "nav_menu": {},
   "number_sections": true,
   "sideBar": true,
   "skip_h1_title": true,
   "title_cell": "Table of Contents",
   "title_sidebar": "Contents",
   "toc_cell": false,
   "toc_position": {},
   "toc_section_display": true,
   "toc_window_display": false
  }
 },
 "nbformat": 4,
 "nbformat_minor": 2
}
