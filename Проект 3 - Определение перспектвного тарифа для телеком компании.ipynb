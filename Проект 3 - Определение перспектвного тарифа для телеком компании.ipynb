{
 "cells": [
  {
   "cell_type": "markdown",
   "metadata": {},
   "source": [
    "### Определение перспективного тарифа для телеком компании\n",
    "\n",
    "###### Данное исследование разделим на несколько частей.\n",
    "\n",
    "##### Часть 1. Изучение общей информации:\n",
    "* [1. Изученеие файлов с данными, получение общей информации, загрузка библиотек.](#1-bullet)\n",
    "* [2. Нахождение и ликвидация пропусков.](#2-bullet)\n",
    "\n",
    "##### Часть 2. Подготовка данных:\n",
    "* [1. Приведение данных к нужным типам.](#3-bullet)\n",
    "* [2. Нахождение и исправление аномалий и ошибок.](#4-bullet)\n",
    "* [3. Расчет количества сделанных звонков и израсходованных минут разговора по месяцам.](#5-bullet)\n",
    "* [4. Расчет количества отправленных сообщений по месяцам.](#6-bullet)\n",
    "* [5. Расчет объема израсходованного интернет-трафика по месяцам.](#7-bullet)\n",
    "* [6. Расчет помесячной выручки с каждого пользователя.](#8-bullet)\n",
    "\n",
    "##### Часть 3. Анализ данных:\n",
    "* [1. Описание поведения клиентов оператора, исходя из выборки.](#9-bullet)\n",
    "\n",
    "##### Часть 4. Проверка гипотез:\n",
    "* [1. Проверка гипотезы: средняя выручка пользователей тарифов «Ультра» и «Смарт» различается.](#10-bullet)\n",
    "* [2. Проверка гипотезы: средняя выручка пользователей из Москвы отличается от выручки пользователей из других регионов.](#11-bullet)\n",
    "\n",
    "##### Часть 5. Общий вывод:\n",
    "* [1. Общий вывод.](#12-bullet)"
   ]
  },
  {
   "cell_type": "markdown",
   "metadata": {},
   "source": [
    "#### Описание тарифов:\n",
    "\n",
    "#### Тариф «Смарт»:\n",
    "\n",
    "- Ежемесячная плата: 550 рублей\n",
    "- Включено 500 минут разговора, 50 сообщений и 15 Гб интернет-трафика\n",
    "- Стоимость услуг сверх тарифного пакета:\n",
    "- минута разговора: 3 рубля\n",
    "- сообщение: 3 рубля\n",
    "- 1 Гб интернет-трафика: 200 рублей\n",
    "\n",
    "#### Тариф «Ультра»:\n",
    "\n",
    "- Ежемесячная плата: 1950 рублей\n",
    "- Включено 3000 минут разговора, 1000 сообщений и 30 Гб интернет-трафика\n",
    "- Стоимость услуг сверх тарифного пакета:\n",
    "- минута разговора: 1 рубль\n",
    "- сообщение: 1 рубль\n",
    "- 1 Гб интернет-трафика: 150 рублей\n",
    "\n",
    "«Мегалайн» всегда округляет вверх значения минут и мегабайтов. Если пользователь проговорил всего 1 секунду, в тарифе засчитывается целая минута.\n",
    "\n",
    "#### Описание данных\n",
    "\n",
    "#### Таблица calls (информация о звонках):\n",
    "\n",
    "- id — уникальный номер звонка\n",
    "- call_date — дата звонка\n",
    "- duration — длительность звонка в минутах\n",
    "- user_id — идентификатор пользователя, сделавшего звонок\n",
    "\n",
    "#### Таблица internet (информация об интернет-сессиях):\n",
    "\n",
    "- id — уникальный номер сессии\n",
    "- mb_used — объём потраченного за сессию интернет-трафика (в мегабайтах)\n",
    "- session_date — дата интернет-сессии\n",
    "- user_id — идентификатор пользователя\n",
    "\n",
    "#### Таблица messages (информация о сообщениях):\n",
    "\n",
    "- id — уникальный номер сообщения\n",
    "- message_date — дата сообщения\n",
    "- user_id — идентификатор пользователя, отправившего сообщение\n",
    "\n",
    "#### Таблица tariffs (информация о тарифах):\n",
    "\n",
    "- tariff_name — название тарифа\n",
    "- rub_monthly_fee — ежемесячная абонентская плата в рублях\n",
    "- minutes_included — количество минут разговора в месяц, включённых в абонентскую плату\n",
    "- messages_included — количество сообщений в месяц, включённых в абонентскую плату\n",
    "- mb_per_month_included — объём интернет-трафика, включённого в абонентскую плату (в мегабайтах)\n",
    "- rub_per_minute — стоимость минуты разговора сверх тарифного пакета (например, если в тарифе 100 минут разговора в месяц, то со 101 минуты будет взиматься плата)\n",
    "- rub_per_message — стоимость отправки сообщения сверх тарифного пакета\n",
    "- rub_per_gb — стоимость дополнительного гигабайта интернет-трафика сверх тарифного пакета (1 гигабайт = 1024 мегабайта)\n",
    "\n",
    "#### Таблица users (информация о пользователях):\n",
    "\n",
    "- user_id — уникальный идентификатор пользователя\n",
    "- first_name — имя пользователя\n",
    "- last_name — фамилия пользователя\n",
    "- age — возраст пользователя (годы)\n",
    "- reg_date — дата подключения тарифа (день, месяц, год)\n",
    "- churn_date — дата прекращения пользования тарифом (если значение пропущено, то тариф ещё действовал на момент выгрузки данных)\n",
    "- city — город проживания пользователя\n",
    "- tariff — название тарифного плана"
   ]
  },
  {
   "cell_type": "markdown",
   "metadata": {},
   "source": [
    "##### Часть 1. Изучение общей информации:"
   ]
  },
  {
   "cell_type": "markdown",
   "metadata": {},
   "source": [
    "###### 1-bullet\n",
    "\n",
    "1. Изученеие файлов с данными, получение общей информации, загрузка библиотек."
   ]
  },
  {
   "cell_type": "code",
   "execution_count": 1,
   "metadata": {},
   "outputs": [
    {
     "name": "stdout",
     "output_type": "stream",
     "text": [
      "<class 'pandas.core.frame.DataFrame'>\n",
      "RangeIndex: 202607 entries, 0 to 202606\n",
      "Data columns (total 4 columns):\n",
      "id           202607 non-null object\n",
      "call_date    202607 non-null object\n",
      "duration     202607 non-null float64\n",
      "user_id      202607 non-null int64\n",
      "dtypes: float64(1), int64(1), object(2)\n",
      "memory usage: 6.2+ MB\n",
      "<class 'pandas.core.frame.DataFrame'>\n",
      "RangeIndex: 149396 entries, 0 to 149395\n",
      "Data columns (total 5 columns):\n",
      "Unnamed: 0      149396 non-null int64\n",
      "id              149396 non-null object\n",
      "mb_used         149396 non-null float64\n",
      "session_date    149396 non-null object\n",
      "user_id         149396 non-null int64\n",
      "dtypes: float64(1), int64(2), object(2)\n",
      "memory usage: 5.7+ MB\n",
      "<class 'pandas.core.frame.DataFrame'>\n",
      "RangeIndex: 123036 entries, 0 to 123035\n",
      "Data columns (total 3 columns):\n",
      "id              123036 non-null object\n",
      "message_date    123036 non-null object\n",
      "user_id         123036 non-null int64\n",
      "dtypes: int64(1), object(2)\n",
      "memory usage: 2.8+ MB\n",
      "<class 'pandas.core.frame.DataFrame'>\n",
      "RangeIndex: 2 entries, 0 to 1\n",
      "Data columns (total 8 columns):\n",
      "messages_included        2 non-null int64\n",
      "mb_per_month_included    2 non-null int64\n",
      "minutes_included         2 non-null int64\n",
      "rub_monthly_fee          2 non-null int64\n",
      "rub_per_gb               2 non-null int64\n",
      "rub_per_message          2 non-null int64\n",
      "rub_per_minute           2 non-null int64\n",
      "tariff_name              2 non-null object\n",
      "dtypes: int64(7), object(1)\n",
      "memory usage: 256.0+ bytes\n",
      "<class 'pandas.core.frame.DataFrame'>\n",
      "RangeIndex: 500 entries, 0 to 499\n",
      "Data columns (total 8 columns):\n",
      "user_id       500 non-null int64\n",
      "age           500 non-null int64\n",
      "churn_date    38 non-null object\n",
      "city          500 non-null object\n",
      "first_name    500 non-null object\n",
      "last_name     500 non-null object\n",
      "reg_date      500 non-null object\n",
      "tariff        500 non-null object\n",
      "dtypes: int64(2), object(6)\n",
      "memory usage: 31.4+ KB\n"
     ]
    },
    {
     "data": {
      "text/plain": [
       "None"
      ]
     },
     "metadata": {},
     "output_type": "display_data"
    },
    {
     "data": {
      "text/plain": [
       "None"
      ]
     },
     "metadata": {},
     "output_type": "display_data"
    },
    {
     "data": {
      "text/plain": [
       "None"
      ]
     },
     "metadata": {},
     "output_type": "display_data"
    },
    {
     "data": {
      "text/plain": [
       "None"
      ]
     },
     "metadata": {},
     "output_type": "display_data"
    },
    {
     "data": {
      "text/plain": [
       "None"
      ]
     },
     "metadata": {},
     "output_type": "display_data"
    },
    {
     "data": {
      "text/html": [
       "<div>\n",
       "<style scoped>\n",
       "    .dataframe tbody tr th:only-of-type {\n",
       "        vertical-align: middle;\n",
       "    }\n",
       "\n",
       "    .dataframe tbody tr th {\n",
       "        vertical-align: top;\n",
       "    }\n",
       "\n",
       "    .dataframe thead th {\n",
       "        text-align: right;\n",
       "    }\n",
       "</style>\n",
       "<table border=\"1\" class=\"dataframe\">\n",
       "  <thead>\n",
       "    <tr style=\"text-align: right;\">\n",
       "      <th></th>\n",
       "      <th>id</th>\n",
       "      <th>call_date</th>\n",
       "      <th>duration</th>\n",
       "      <th>user_id</th>\n",
       "    </tr>\n",
       "  </thead>\n",
       "  <tbody>\n",
       "    <tr>\n",
       "      <td>0</td>\n",
       "      <td>1000_0</td>\n",
       "      <td>2018-07-25</td>\n",
       "      <td>0.00</td>\n",
       "      <td>1000</td>\n",
       "    </tr>\n",
       "    <tr>\n",
       "      <td>1</td>\n",
       "      <td>1000_1</td>\n",
       "      <td>2018-08-17</td>\n",
       "      <td>0.00</td>\n",
       "      <td>1000</td>\n",
       "    </tr>\n",
       "    <tr>\n",
       "      <td>2</td>\n",
       "      <td>1000_2</td>\n",
       "      <td>2018-06-11</td>\n",
       "      <td>2.85</td>\n",
       "      <td>1000</td>\n",
       "    </tr>\n",
       "    <tr>\n",
       "      <td>3</td>\n",
       "      <td>1000_3</td>\n",
       "      <td>2018-09-21</td>\n",
       "      <td>13.80</td>\n",
       "      <td>1000</td>\n",
       "    </tr>\n",
       "    <tr>\n",
       "      <td>4</td>\n",
       "      <td>1000_4</td>\n",
       "      <td>2018-12-15</td>\n",
       "      <td>5.18</td>\n",
       "      <td>1000</td>\n",
       "    </tr>\n",
       "  </tbody>\n",
       "</table>\n",
       "</div>"
      ],
      "text/plain": [
       "       id   call_date  duration  user_id\n",
       "0  1000_0  2018-07-25      0.00     1000\n",
       "1  1000_1  2018-08-17      0.00     1000\n",
       "2  1000_2  2018-06-11      2.85     1000\n",
       "3  1000_3  2018-09-21     13.80     1000\n",
       "4  1000_4  2018-12-15      5.18     1000"
      ]
     },
     "metadata": {},
     "output_type": "display_data"
    },
    {
     "data": {
      "text/html": [
       "<div>\n",
       "<style scoped>\n",
       "    .dataframe tbody tr th:only-of-type {\n",
       "        vertical-align: middle;\n",
       "    }\n",
       "\n",
       "    .dataframe tbody tr th {\n",
       "        vertical-align: top;\n",
       "    }\n",
       "\n",
       "    .dataframe thead th {\n",
       "        text-align: right;\n",
       "    }\n",
       "</style>\n",
       "<table border=\"1\" class=\"dataframe\">\n",
       "  <thead>\n",
       "    <tr style=\"text-align: right;\">\n",
       "      <th></th>\n",
       "      <th>Unnamed: 0</th>\n",
       "      <th>id</th>\n",
       "      <th>mb_used</th>\n",
       "      <th>session_date</th>\n",
       "      <th>user_id</th>\n",
       "    </tr>\n",
       "  </thead>\n",
       "  <tbody>\n",
       "    <tr>\n",
       "      <td>0</td>\n",
       "      <td>0</td>\n",
       "      <td>1000_0</td>\n",
       "      <td>112.95</td>\n",
       "      <td>2018-11-25</td>\n",
       "      <td>1000</td>\n",
       "    </tr>\n",
       "    <tr>\n",
       "      <td>1</td>\n",
       "      <td>1</td>\n",
       "      <td>1000_1</td>\n",
       "      <td>1052.81</td>\n",
       "      <td>2018-09-07</td>\n",
       "      <td>1000</td>\n",
       "    </tr>\n",
       "    <tr>\n",
       "      <td>2</td>\n",
       "      <td>2</td>\n",
       "      <td>1000_2</td>\n",
       "      <td>1197.26</td>\n",
       "      <td>2018-06-25</td>\n",
       "      <td>1000</td>\n",
       "    </tr>\n",
       "    <tr>\n",
       "      <td>3</td>\n",
       "      <td>3</td>\n",
       "      <td>1000_3</td>\n",
       "      <td>550.27</td>\n",
       "      <td>2018-08-22</td>\n",
       "      <td>1000</td>\n",
       "    </tr>\n",
       "    <tr>\n",
       "      <td>4</td>\n",
       "      <td>4</td>\n",
       "      <td>1000_4</td>\n",
       "      <td>302.56</td>\n",
       "      <td>2018-09-24</td>\n",
       "      <td>1000</td>\n",
       "    </tr>\n",
       "  </tbody>\n",
       "</table>\n",
       "</div>"
      ],
      "text/plain": [
       "   Unnamed: 0      id  mb_used session_date  user_id\n",
       "0           0  1000_0   112.95   2018-11-25     1000\n",
       "1           1  1000_1  1052.81   2018-09-07     1000\n",
       "2           2  1000_2  1197.26   2018-06-25     1000\n",
       "3           3  1000_3   550.27   2018-08-22     1000\n",
       "4           4  1000_4   302.56   2018-09-24     1000"
      ]
     },
     "metadata": {},
     "output_type": "display_data"
    },
    {
     "data": {
      "text/html": [
       "<div>\n",
       "<style scoped>\n",
       "    .dataframe tbody tr th:only-of-type {\n",
       "        vertical-align: middle;\n",
       "    }\n",
       "\n",
       "    .dataframe tbody tr th {\n",
       "        vertical-align: top;\n",
       "    }\n",
       "\n",
       "    .dataframe thead th {\n",
       "        text-align: right;\n",
       "    }\n",
       "</style>\n",
       "<table border=\"1\" class=\"dataframe\">\n",
       "  <thead>\n",
       "    <tr style=\"text-align: right;\">\n",
       "      <th></th>\n",
       "      <th>id</th>\n",
       "      <th>message_date</th>\n",
       "      <th>user_id</th>\n",
       "    </tr>\n",
       "  </thead>\n",
       "  <tbody>\n",
       "    <tr>\n",
       "      <td>0</td>\n",
       "      <td>1000_0</td>\n",
       "      <td>2018-06-27</td>\n",
       "      <td>1000</td>\n",
       "    </tr>\n",
       "    <tr>\n",
       "      <td>1</td>\n",
       "      <td>1000_1</td>\n",
       "      <td>2018-10-08</td>\n",
       "      <td>1000</td>\n",
       "    </tr>\n",
       "    <tr>\n",
       "      <td>2</td>\n",
       "      <td>1000_2</td>\n",
       "      <td>2018-08-04</td>\n",
       "      <td>1000</td>\n",
       "    </tr>\n",
       "    <tr>\n",
       "      <td>3</td>\n",
       "      <td>1000_3</td>\n",
       "      <td>2018-06-16</td>\n",
       "      <td>1000</td>\n",
       "    </tr>\n",
       "    <tr>\n",
       "      <td>4</td>\n",
       "      <td>1000_4</td>\n",
       "      <td>2018-12-05</td>\n",
       "      <td>1000</td>\n",
       "    </tr>\n",
       "  </tbody>\n",
       "</table>\n",
       "</div>"
      ],
      "text/plain": [
       "       id message_date  user_id\n",
       "0  1000_0   2018-06-27     1000\n",
       "1  1000_1   2018-10-08     1000\n",
       "2  1000_2   2018-08-04     1000\n",
       "3  1000_3   2018-06-16     1000\n",
       "4  1000_4   2018-12-05     1000"
      ]
     },
     "metadata": {},
     "output_type": "display_data"
    },
    {
     "data": {
      "text/html": [
       "<div>\n",
       "<style scoped>\n",
       "    .dataframe tbody tr th:only-of-type {\n",
       "        vertical-align: middle;\n",
       "    }\n",
       "\n",
       "    .dataframe tbody tr th {\n",
       "        vertical-align: top;\n",
       "    }\n",
       "\n",
       "    .dataframe thead th {\n",
       "        text-align: right;\n",
       "    }\n",
       "</style>\n",
       "<table border=\"1\" class=\"dataframe\">\n",
       "  <thead>\n",
       "    <tr style=\"text-align: right;\">\n",
       "      <th></th>\n",
       "      <th>messages_included</th>\n",
       "      <th>mb_per_month_included</th>\n",
       "      <th>minutes_included</th>\n",
       "      <th>rub_monthly_fee</th>\n",
       "      <th>rub_per_gb</th>\n",
       "      <th>rub_per_message</th>\n",
       "      <th>rub_per_minute</th>\n",
       "      <th>tariff_name</th>\n",
       "    </tr>\n",
       "  </thead>\n",
       "  <tbody>\n",
       "    <tr>\n",
       "      <td>0</td>\n",
       "      <td>50</td>\n",
       "      <td>15360</td>\n",
       "      <td>500</td>\n",
       "      <td>550</td>\n",
       "      <td>200</td>\n",
       "      <td>3</td>\n",
       "      <td>3</td>\n",
       "      <td>smart</td>\n",
       "    </tr>\n",
       "    <tr>\n",
       "      <td>1</td>\n",
       "      <td>1000</td>\n",
       "      <td>30720</td>\n",
       "      <td>3000</td>\n",
       "      <td>1950</td>\n",
       "      <td>150</td>\n",
       "      <td>1</td>\n",
       "      <td>1</td>\n",
       "      <td>ultra</td>\n",
       "    </tr>\n",
       "  </tbody>\n",
       "</table>\n",
       "</div>"
      ],
      "text/plain": [
       "   messages_included  mb_per_month_included  minutes_included  \\\n",
       "0                 50                  15360               500   \n",
       "1               1000                  30720              3000   \n",
       "\n",
       "   rub_monthly_fee  rub_per_gb  rub_per_message  rub_per_minute tariff_name  \n",
       "0              550         200                3               3       smart  \n",
       "1             1950         150                1               1       ultra  "
      ]
     },
     "metadata": {},
     "output_type": "display_data"
    },
    {
     "data": {
      "text/html": [
       "<div>\n",
       "<style scoped>\n",
       "    .dataframe tbody tr th:only-of-type {\n",
       "        vertical-align: middle;\n",
       "    }\n",
       "\n",
       "    .dataframe tbody tr th {\n",
       "        vertical-align: top;\n",
       "    }\n",
       "\n",
       "    .dataframe thead th {\n",
       "        text-align: right;\n",
       "    }\n",
       "</style>\n",
       "<table border=\"1\" class=\"dataframe\">\n",
       "  <thead>\n",
       "    <tr style=\"text-align: right;\">\n",
       "      <th></th>\n",
       "      <th>user_id</th>\n",
       "      <th>age</th>\n",
       "      <th>churn_date</th>\n",
       "      <th>city</th>\n",
       "      <th>first_name</th>\n",
       "      <th>last_name</th>\n",
       "      <th>reg_date</th>\n",
       "      <th>tariff</th>\n",
       "    </tr>\n",
       "  </thead>\n",
       "  <tbody>\n",
       "    <tr>\n",
       "      <td>0</td>\n",
       "      <td>1000</td>\n",
       "      <td>52</td>\n",
       "      <td>NaN</td>\n",
       "      <td>Краснодар</td>\n",
       "      <td>Рафаил</td>\n",
       "      <td>Верещагин</td>\n",
       "      <td>2018-05-25</td>\n",
       "      <td>ultra</td>\n",
       "    </tr>\n",
       "    <tr>\n",
       "      <td>1</td>\n",
       "      <td>1001</td>\n",
       "      <td>41</td>\n",
       "      <td>NaN</td>\n",
       "      <td>Москва</td>\n",
       "      <td>Иван</td>\n",
       "      <td>Ежов</td>\n",
       "      <td>2018-11-01</td>\n",
       "      <td>smart</td>\n",
       "    </tr>\n",
       "    <tr>\n",
       "      <td>2</td>\n",
       "      <td>1002</td>\n",
       "      <td>59</td>\n",
       "      <td>NaN</td>\n",
       "      <td>Стерлитамак</td>\n",
       "      <td>Евгений</td>\n",
       "      <td>Абрамович</td>\n",
       "      <td>2018-06-17</td>\n",
       "      <td>smart</td>\n",
       "    </tr>\n",
       "    <tr>\n",
       "      <td>3</td>\n",
       "      <td>1003</td>\n",
       "      <td>23</td>\n",
       "      <td>NaN</td>\n",
       "      <td>Москва</td>\n",
       "      <td>Белла</td>\n",
       "      <td>Белякова</td>\n",
       "      <td>2018-08-17</td>\n",
       "      <td>ultra</td>\n",
       "    </tr>\n",
       "    <tr>\n",
       "      <td>4</td>\n",
       "      <td>1004</td>\n",
       "      <td>68</td>\n",
       "      <td>NaN</td>\n",
       "      <td>Новокузнецк</td>\n",
       "      <td>Татьяна</td>\n",
       "      <td>Авдеенко</td>\n",
       "      <td>2018-05-14</td>\n",
       "      <td>ultra</td>\n",
       "    </tr>\n",
       "  </tbody>\n",
       "</table>\n",
       "</div>"
      ],
      "text/plain": [
       "   user_id  age churn_date         city first_name  last_name    reg_date  \\\n",
       "0     1000   52        NaN    Краснодар     Рафаил  Верещагин  2018-05-25   \n",
       "1     1001   41        NaN       Москва       Иван       Ежов  2018-11-01   \n",
       "2     1002   59        NaN  Стерлитамак    Евгений  Абрамович  2018-06-17   \n",
       "3     1003   23        NaN       Москва      Белла   Белякова  2018-08-17   \n",
       "4     1004   68        NaN  Новокузнецк    Татьяна   Авдеенко  2018-05-14   \n",
       "\n",
       "  tariff  \n",
       "0  ultra  \n",
       "1  smart  \n",
       "2  smart  \n",
       "3  ultra  \n",
       "4  ultra  "
      ]
     },
     "metadata": {},
     "output_type": "display_data"
    }
   ],
   "source": [
    "# загружаем все необходимые для данного исследования библиотеки\n",
    "import pandas as pd\n",
    "import numpy as np\n",
    "import math\n",
    "from matplotlib import pyplot as plt\n",
    "from math import factorial\n",
    "from scipy.stats import norm\n",
    "from scipy import stats as st\n",
    "import warnings\n",
    "# открываем файлы формата csv и сохраняем их в переменных\n",
    "calls_data = pd.read_csv('/datasets/calls.csv') \n",
    "internet_data = pd.read_csv('/datasets/internet.csv')\n",
    "messages_data = pd.read_csv('/datasets/messages.csv')\n",
    "tarifs_data = pd.read_csv('/datasets/tariffs.csv')\n",
    "users_data = pd.read_csv('/datasets/users.csv')\n",
    "\n",
    "# выводим на экран общую информацю о таблицах\n",
    "display(calls_data.info(), internet_data.info(), messages_data.info(), tarifs_data.info(), users_data.info()) \n",
    "\n",
    "# выводим на экран первые пять строк каждой таблицы, для зрительного ознакомления\n",
    "display(calls_data.head(), internet_data.head(), messages_data.head(), tarifs_data.head(), users_data.head()) "
   ]
  },
  {
   "cell_type": "markdown",
   "metadata": {},
   "source": [
    "#### Вывод\n",
    "\n",
    "Все таблицы разные.\n",
    "\n",
    "- calls_data имеет 4 колонки, разные типы данных, 202607 строк, пропусков нет.\n",
    "- internet_data имеет 5 колонок, разные типы данных, 149396 строк, пропусков тоже нет.\n",
    "- messages_data имеет 3 колонки, разные типы данных, 123035 строк, пропусков нет.\n",
    "- tarifs_data имеет 8 колонок, один тип данных (кроме наименования), всего 2 строки, пропусков также нет.\n",
    "- users_data имеет 8 колонок, 2 типа данных, всего 500 строк, при этом одна колонка имеет пропуски.\n",
    "\n",
    "При этом все таблицы (кроме tarifs_data) имеют общий столбец - user_id.\n"
   ]
  },
  {
   "cell_type": "markdown",
   "metadata": {},
   "source": [
    "##### Часть 1. Изучение общей информации:"
   ]
  },
  {
   "cell_type": "markdown",
   "metadata": {},
   "source": [
    "###### 2-bullet\n",
    "\n",
    "2. Нахождение и ликвидация пропусков."
   ]
  },
  {
   "cell_type": "code",
   "execution_count": 2,
   "metadata": {},
   "outputs": [
    {
     "data": {
      "text/plain": [
       "user_id       0\n",
       "age           0\n",
       "churn_date    0\n",
       "city          0\n",
       "first_name    0\n",
       "last_name     0\n",
       "reg_date      0\n",
       "tariff        0\n",
       "dtype: int64"
      ]
     },
     "metadata": {},
     "output_type": "display_data"
    }
   ],
   "source": [
    "# заполним пустующие значения столбца churn_date 1 января 2019 года, чтобы потом вычитать из этой даты и проверим пропуски\n",
    "x = pd.datetime(2019, 1, 1)\n",
    "users_data['churn_date'] = users_data['churn_date'].fillna(x)\n",
    "display(users_data.isna().sum())"
   ]
  },
  {
   "cell_type": "markdown",
   "metadata": {},
   "source": [
    "#### Вывод\n",
    "\n",
    "Пустующие значения в стоблце 'churn_date' таблицы users_data означают, что клиент продолжает пользоваться тарифом. С тем, чтобы впоследующем рассчитать количество месяцев пользования тарифом, заполним пустующие значения '1 января 2019 года'. Для этого этому значению зададим формат времени, а затем заполним пропуски и проверим."
   ]
  },
  {
   "cell_type": "markdown",
   "metadata": {},
   "source": [
    "##### Часть 2. Подготовка данных:\n",
    "\n"
   ]
  },
  {
   "cell_type": "markdown",
   "metadata": {},
   "source": [
    "###### 3-bullet\n",
    "\n",
    "1. Приведение данных к нужным типам."
   ]
  },
  {
   "cell_type": "code",
   "execution_count": 3,
   "metadata": {},
   "outputs": [],
   "source": [
    "# приведем дату и время во всех таблицах к общему формату, воспользовавшись методом to_datetime()   \n",
    "calls_data['call_date'] = pd.to_datetime(calls_data['call_date'], format='%Y-%m-%dT%H:%M:%S')\n",
    "internet_data['session_date'] = pd.to_datetime(internet_data['session_date'], format='%Y-%m-%dT%H:%M:%S')\n",
    "messages_data['message_date'] = pd.to_datetime(messages_data['message_date'], format='%Y-%m-%dT%H:%M:%S')\n",
    "users_data['churn_date'] = pd.to_datetime(users_data['churn_date'], format='%Y-%m-%dT%H:%M:%S')\n",
    "users_data['reg_date'] = pd.to_datetime(users_data['reg_date'], format='%Y-%m-%dT%H:%M:%S')\n",
    "\n",
    "#добавим столбец значения месяца в таблицы, где необходимо будет производить помесячные расчеты, воспользовавшись методом DatetimeIndex().month\n",
    "calls_data['month'] = pd.DatetimeIndex(calls_data['call_date']).month \n",
    "internet_data['month'] = pd.DatetimeIndex(internet_data['session_date']).month\n",
    "messages_data['month'] = pd.DatetimeIndex(messages_data['message_date']).month"
   ]
  },
  {
   "cell_type": "markdown",
   "metadata": {},
   "source": [
    "#### Вывод\n",
    "\n",
    "Во всех таблицах, где есть даты, столбцы с датой приведем к общему формату при помощи метода to_datetime(), а также для последующей группировки в таблицах calls_data, internet_data и messages_data создадим столбец со значениями даты разговора, использования интернета или отправки сообщения, округленного до месяца. Так будет потом находить помесячные значения."
   ]
  },
  {
   "cell_type": "markdown",
   "metadata": {},
   "source": [
    "##### Часть 2. Подготовка данных:"
   ]
  },
  {
   "cell_type": "markdown",
   "metadata": {},
   "source": [
    "###### 4-bullet\n",
    "\n",
    "2. Нахождение и исправление аномалий и ошибок."
   ]
  },
  {
   "cell_type": "code",
   "execution_count": 4,
   "metadata": {},
   "outputs": [
    {
     "data": {
      "text/html": [
       "<div>\n",
       "<style scoped>\n",
       "    .dataframe tbody tr th:only-of-type {\n",
       "        vertical-align: middle;\n",
       "    }\n",
       "\n",
       "    .dataframe tbody tr th {\n",
       "        vertical-align: top;\n",
       "    }\n",
       "\n",
       "    .dataframe thead th {\n",
       "        text-align: right;\n",
       "    }\n",
       "</style>\n",
       "<table border=\"1\" class=\"dataframe\">\n",
       "  <thead>\n",
       "    <tr style=\"text-align: right;\">\n",
       "      <th></th>\n",
       "      <th>id</th>\n",
       "      <th>call_date</th>\n",
       "      <th>duration</th>\n",
       "      <th>user_id</th>\n",
       "      <th>month</th>\n",
       "    </tr>\n",
       "  </thead>\n",
       "  <tbody>\n",
       "    <tr>\n",
       "      <td>0</td>\n",
       "      <td>1000_0</td>\n",
       "      <td>2018-07-25</td>\n",
       "      <td>0.0</td>\n",
       "      <td>1000</td>\n",
       "      <td>7</td>\n",
       "    </tr>\n",
       "    <tr>\n",
       "      <td>1</td>\n",
       "      <td>1000_1</td>\n",
       "      <td>2018-08-17</td>\n",
       "      <td>0.0</td>\n",
       "      <td>1000</td>\n",
       "      <td>8</td>\n",
       "    </tr>\n",
       "    <tr>\n",
       "      <td>2</td>\n",
       "      <td>1000_2</td>\n",
       "      <td>2018-06-11</td>\n",
       "      <td>3.0</td>\n",
       "      <td>1000</td>\n",
       "      <td>6</td>\n",
       "    </tr>\n",
       "    <tr>\n",
       "      <td>3</td>\n",
       "      <td>1000_3</td>\n",
       "      <td>2018-09-21</td>\n",
       "      <td>14.0</td>\n",
       "      <td>1000</td>\n",
       "      <td>9</td>\n",
       "    </tr>\n",
       "    <tr>\n",
       "      <td>4</td>\n",
       "      <td>1000_4</td>\n",
       "      <td>2018-12-15</td>\n",
       "      <td>6.0</td>\n",
       "      <td>1000</td>\n",
       "      <td>12</td>\n",
       "    </tr>\n",
       "  </tbody>\n",
       "</table>\n",
       "</div>"
      ],
      "text/plain": [
       "       id  call_date  duration  user_id  month\n",
       "0  1000_0 2018-07-25       0.0     1000      7\n",
       "1  1000_1 2018-08-17       0.0     1000      8\n",
       "2  1000_2 2018-06-11       3.0     1000      6\n",
       "3  1000_3 2018-09-21      14.0     1000      9\n",
       "4  1000_4 2018-12-15       6.0     1000     12"
      ]
     },
     "metadata": {},
     "output_type": "display_data"
    },
    {
     "data": {
      "text/html": [
       "<div>\n",
       "<style scoped>\n",
       "    .dataframe tbody tr th:only-of-type {\n",
       "        vertical-align: middle;\n",
       "    }\n",
       "\n",
       "    .dataframe tbody tr th {\n",
       "        vertical-align: top;\n",
       "    }\n",
       "\n",
       "    .dataframe thead th {\n",
       "        text-align: right;\n",
       "    }\n",
       "</style>\n",
       "<table border=\"1\" class=\"dataframe\">\n",
       "  <thead>\n",
       "    <tr style=\"text-align: right;\">\n",
       "      <th></th>\n",
       "      <th>Unnamed: 0</th>\n",
       "      <th>id</th>\n",
       "      <th>mb_used</th>\n",
       "      <th>session_date</th>\n",
       "      <th>user_id</th>\n",
       "      <th>month</th>\n",
       "      <th>gb_used</th>\n",
       "    </tr>\n",
       "  </thead>\n",
       "  <tbody>\n",
       "    <tr>\n",
       "      <td>0</td>\n",
       "      <td>0</td>\n",
       "      <td>1000_0</td>\n",
       "      <td>112.95</td>\n",
       "      <td>2018-11-25</td>\n",
       "      <td>1000</td>\n",
       "      <td>11</td>\n",
       "      <td>1.0</td>\n",
       "    </tr>\n",
       "    <tr>\n",
       "      <td>1</td>\n",
       "      <td>1</td>\n",
       "      <td>1000_1</td>\n",
       "      <td>1052.81</td>\n",
       "      <td>2018-09-07</td>\n",
       "      <td>1000</td>\n",
       "      <td>9</td>\n",
       "      <td>2.0</td>\n",
       "    </tr>\n",
       "    <tr>\n",
       "      <td>2</td>\n",
       "      <td>2</td>\n",
       "      <td>1000_2</td>\n",
       "      <td>1197.26</td>\n",
       "      <td>2018-06-25</td>\n",
       "      <td>1000</td>\n",
       "      <td>6</td>\n",
       "      <td>2.0</td>\n",
       "    </tr>\n",
       "    <tr>\n",
       "      <td>3</td>\n",
       "      <td>3</td>\n",
       "      <td>1000_3</td>\n",
       "      <td>550.27</td>\n",
       "      <td>2018-08-22</td>\n",
       "      <td>1000</td>\n",
       "      <td>8</td>\n",
       "      <td>1.0</td>\n",
       "    </tr>\n",
       "    <tr>\n",
       "      <td>4</td>\n",
       "      <td>4</td>\n",
       "      <td>1000_4</td>\n",
       "      <td>302.56</td>\n",
       "      <td>2018-09-24</td>\n",
       "      <td>1000</td>\n",
       "      <td>9</td>\n",
       "      <td>1.0</td>\n",
       "    </tr>\n",
       "  </tbody>\n",
       "</table>\n",
       "</div>"
      ],
      "text/plain": [
       "   Unnamed: 0      id  mb_used session_date  user_id  month  gb_used\n",
       "0           0  1000_0   112.95   2018-11-25     1000     11      1.0\n",
       "1           1  1000_1  1052.81   2018-09-07     1000      9      2.0\n",
       "2           2  1000_2  1197.26   2018-06-25     1000      6      2.0\n",
       "3           3  1000_3   550.27   2018-08-22     1000      8      1.0\n",
       "4           4  1000_4   302.56   2018-09-24     1000      9      1.0"
      ]
     },
     "metadata": {},
     "output_type": "display_data"
    }
   ],
   "source": [
    "# округлим значения времени разговоров в таблице calls_data до целых значений в большую сторону\n",
    "# объявим функцию, которая в зависимости от значения длительности разговоров будет округлять в большую сторону\n",
    "# при этом нули трогать не будем\n",
    "def calc_round_duration(duration):\n",
    "    if duration > 0:\n",
    "        return math.ceil(duration)\n",
    "    else:\n",
    "        return duration\n",
    "    \n",
    "# применим функцию к столбцу duration и выведем на экран    \n",
    "calls_data['duration'] = calls_data['duration'].apply(calc_round_duration) \n",
    "display(calls_data.head())\n",
    "\n",
    "# добавим в таблицу internet_data столбец со значениями использованного трафика в гигабайтах\n",
    "internet_data['gb_used'] = internet_data['mb_used'] / 1024\n",
    "\n",
    "# округлим значения количества гигабайт до целых значений в большую сторону\n",
    "# объявим функцию, которая в зависимости от значения количества гигабайт будет округлять в большую сторону\n",
    "# при этом нули трогать не будем\n",
    "def calc_round_gb(gb_used):\n",
    "    if gb_used > 0:\n",
    "        return math.ceil(gb_used)\n",
    "    else:\n",
    "        return gb_used\n",
    "    \n",
    "# применим функцию к столбцу gb_used и выведем на экран      \n",
    "internet_data['gb_used'] = internet_data['gb_used'].apply(calc_round_gb) \n",
    "display(internet_data.head())"
   ]
  },
  {
   "cell_type": "markdown",
   "metadata": {},
   "source": [
    "#### Вывод\n",
    "\n",
    "Округлим значения времени разговоров в таблице calls_data до целых значений в большую сторону. Для этого объявим функцию, которая в зависимости от значения длительности разговоров будет округлять в большую сторону при этом нули трогать не будем.\n",
    "Для округления в большую сторону используем метод ceil() из библиотеки math. Применим функцию к столбцу duration и выведем на экран.\n",
    "\n",
    "Далее добавим в таблицу internet_data столбец со значениями использованного трафика в гигабайтах. Для этого значения столбца mb_used нужно поделить на 1024.\n",
    "\n",
    "Затем аналогично с значениями разговоров округлим значения количества гигабайт до целых значений в большую сторону. Для этого  объявим функцию, которая в зависимости от значения количества гигабайт будет округлять в большую сторону, при этом нули трогать не будем. Применим функцию к столбцу gb_used и выведем на экран.      "
   ]
  },
  {
   "cell_type": "markdown",
   "metadata": {},
   "source": [
    "##### Часть 2. Подготовка данных:"
   ]
  },
  {
   "cell_type": "markdown",
   "metadata": {},
   "source": [
    "##### 5-bullet\n",
    "\n",
    "3. Расчет количества сделанных звонков и израсходованных минут разговора по месяцам."
   ]
  },
  {
   "cell_type": "code",
   "execution_count": 5,
   "metadata": {},
   "outputs": [
    {
     "data": {
      "text/html": [
       "<div>\n",
       "<style scoped>\n",
       "    .dataframe tbody tr th:only-of-type {\n",
       "        vertical-align: middle;\n",
       "    }\n",
       "\n",
       "    .dataframe tbody tr th {\n",
       "        vertical-align: top;\n",
       "    }\n",
       "\n",
       "    .dataframe thead th {\n",
       "        text-align: right;\n",
       "    }\n",
       "</style>\n",
       "<table border=\"1\" class=\"dataframe\">\n",
       "  <thead>\n",
       "    <tr style=\"text-align: right;\">\n",
       "      <th>month</th>\n",
       "      <th>1</th>\n",
       "      <th>2</th>\n",
       "      <th>3</th>\n",
       "      <th>4</th>\n",
       "      <th>5</th>\n",
       "      <th>6</th>\n",
       "      <th>7</th>\n",
       "      <th>8</th>\n",
       "      <th>9</th>\n",
       "      <th>10</th>\n",
       "      <th>11</th>\n",
       "      <th>12</th>\n",
       "    </tr>\n",
       "    <tr>\n",
       "      <th>user_id</th>\n",
       "      <th></th>\n",
       "      <th></th>\n",
       "      <th></th>\n",
       "      <th></th>\n",
       "      <th></th>\n",
       "      <th></th>\n",
       "      <th></th>\n",
       "      <th></th>\n",
       "      <th></th>\n",
       "      <th></th>\n",
       "      <th></th>\n",
       "      <th></th>\n",
       "    </tr>\n",
       "  </thead>\n",
       "  <tbody>\n",
       "    <tr>\n",
       "      <td>1000</td>\n",
       "      <td>0.0</td>\n",
       "      <td>0.0</td>\n",
       "      <td>0.0</td>\n",
       "      <td>0.0</td>\n",
       "      <td>22.0</td>\n",
       "      <td>43.0</td>\n",
       "      <td>47.0</td>\n",
       "      <td>52.0</td>\n",
       "      <td>58.0</td>\n",
       "      <td>57.0</td>\n",
       "      <td>43.0</td>\n",
       "      <td>46.0</td>\n",
       "    </tr>\n",
       "    <tr>\n",
       "      <td>1001</td>\n",
       "      <td>0.0</td>\n",
       "      <td>0.0</td>\n",
       "      <td>0.0</td>\n",
       "      <td>0.0</td>\n",
       "      <td>0.0</td>\n",
       "      <td>0.0</td>\n",
       "      <td>0.0</td>\n",
       "      <td>0.0</td>\n",
       "      <td>0.0</td>\n",
       "      <td>0.0</td>\n",
       "      <td>59.0</td>\n",
       "      <td>63.0</td>\n",
       "    </tr>\n",
       "    <tr>\n",
       "      <td>1002</td>\n",
       "      <td>0.0</td>\n",
       "      <td>0.0</td>\n",
       "      <td>0.0</td>\n",
       "      <td>0.0</td>\n",
       "      <td>0.0</td>\n",
       "      <td>15.0</td>\n",
       "      <td>26.0</td>\n",
       "      <td>42.0</td>\n",
       "      <td>36.0</td>\n",
       "      <td>33.0</td>\n",
       "      <td>32.0</td>\n",
       "      <td>33.0</td>\n",
       "    </tr>\n",
       "    <tr>\n",
       "      <td>1003</td>\n",
       "      <td>0.0</td>\n",
       "      <td>0.0</td>\n",
       "      <td>0.0</td>\n",
       "      <td>0.0</td>\n",
       "      <td>0.0</td>\n",
       "      <td>0.0</td>\n",
       "      <td>0.0</td>\n",
       "      <td>55.0</td>\n",
       "      <td>134.0</td>\n",
       "      <td>108.0</td>\n",
       "      <td>115.0</td>\n",
       "      <td>108.0</td>\n",
       "    </tr>\n",
       "    <tr>\n",
       "      <td>1004</td>\n",
       "      <td>0.0</td>\n",
       "      <td>0.0</td>\n",
       "      <td>0.0</td>\n",
       "      <td>0.0</td>\n",
       "      <td>9.0</td>\n",
       "      <td>31.0</td>\n",
       "      <td>22.0</td>\n",
       "      <td>19.0</td>\n",
       "      <td>26.0</td>\n",
       "      <td>29.0</td>\n",
       "      <td>19.0</td>\n",
       "      <td>21.0</td>\n",
       "    </tr>\n",
       "  </tbody>\n",
       "</table>\n",
       "</div>"
      ],
      "text/plain": [
       "month     1    2    3    4     5     6     7     8      9      10     11  \\\n",
       "user_id                                                                    \n",
       "1000     0.0  0.0  0.0  0.0  22.0  43.0  47.0  52.0   58.0   57.0   43.0   \n",
       "1001     0.0  0.0  0.0  0.0   0.0   0.0   0.0   0.0    0.0    0.0   59.0   \n",
       "1002     0.0  0.0  0.0  0.0   0.0  15.0  26.0  42.0   36.0   33.0   32.0   \n",
       "1003     0.0  0.0  0.0  0.0   0.0   0.0   0.0  55.0  134.0  108.0  115.0   \n",
       "1004     0.0  0.0  0.0  0.0   9.0  31.0  22.0  19.0   26.0   29.0   19.0   \n",
       "\n",
       "month       12  \n",
       "user_id         \n",
       "1000      46.0  \n",
       "1001      63.0  \n",
       "1002      33.0  \n",
       "1003     108.0  \n",
       "1004      21.0  "
      ]
     },
     "metadata": {},
     "output_type": "display_data"
    },
    {
     "data": {
      "text/html": [
       "<div>\n",
       "<style scoped>\n",
       "    .dataframe tbody tr th:only-of-type {\n",
       "        vertical-align: middle;\n",
       "    }\n",
       "\n",
       "    .dataframe tbody tr th {\n",
       "        vertical-align: top;\n",
       "    }\n",
       "\n",
       "    .dataframe thead th {\n",
       "        text-align: right;\n",
       "    }\n",
       "</style>\n",
       "<table border=\"1\" class=\"dataframe\">\n",
       "  <thead>\n",
       "    <tr style=\"text-align: right;\">\n",
       "      <th>month</th>\n",
       "      <th>1</th>\n",
       "      <th>2</th>\n",
       "      <th>3</th>\n",
       "      <th>4</th>\n",
       "      <th>5</th>\n",
       "      <th>6</th>\n",
       "      <th>7</th>\n",
       "      <th>8</th>\n",
       "      <th>9</th>\n",
       "      <th>10</th>\n",
       "      <th>11</th>\n",
       "      <th>12</th>\n",
       "    </tr>\n",
       "    <tr>\n",
       "      <th>user_id</th>\n",
       "      <th></th>\n",
       "      <th></th>\n",
       "      <th></th>\n",
       "      <th></th>\n",
       "      <th></th>\n",
       "      <th></th>\n",
       "      <th></th>\n",
       "      <th></th>\n",
       "      <th></th>\n",
       "      <th></th>\n",
       "      <th></th>\n",
       "      <th></th>\n",
       "    </tr>\n",
       "  </thead>\n",
       "  <tbody>\n",
       "    <tr>\n",
       "      <td>1000</td>\n",
       "      <td>0.0</td>\n",
       "      <td>0.0</td>\n",
       "      <td>0.0</td>\n",
       "      <td>0.0</td>\n",
       "      <td>159.0</td>\n",
       "      <td>172.0</td>\n",
       "      <td>340.0</td>\n",
       "      <td>408.0</td>\n",
       "      <td>466.0</td>\n",
       "      <td>350.0</td>\n",
       "      <td>338.0</td>\n",
       "      <td>333.0</td>\n",
       "    </tr>\n",
       "    <tr>\n",
       "      <td>1001</td>\n",
       "      <td>0.0</td>\n",
       "      <td>0.0</td>\n",
       "      <td>0.0</td>\n",
       "      <td>0.0</td>\n",
       "      <td>0.0</td>\n",
       "      <td>0.0</td>\n",
       "      <td>0.0</td>\n",
       "      <td>0.0</td>\n",
       "      <td>0.0</td>\n",
       "      <td>0.0</td>\n",
       "      <td>430.0</td>\n",
       "      <td>414.0</td>\n",
       "    </tr>\n",
       "    <tr>\n",
       "      <td>1002</td>\n",
       "      <td>0.0</td>\n",
       "      <td>0.0</td>\n",
       "      <td>0.0</td>\n",
       "      <td>0.0</td>\n",
       "      <td>0.0</td>\n",
       "      <td>117.0</td>\n",
       "      <td>214.0</td>\n",
       "      <td>289.0</td>\n",
       "      <td>206.0</td>\n",
       "      <td>212.0</td>\n",
       "      <td>243.0</td>\n",
       "      <td>236.0</td>\n",
       "    </tr>\n",
       "    <tr>\n",
       "      <td>1003</td>\n",
       "      <td>0.0</td>\n",
       "      <td>0.0</td>\n",
       "      <td>0.0</td>\n",
       "      <td>0.0</td>\n",
       "      <td>0.0</td>\n",
       "      <td>0.0</td>\n",
       "      <td>0.0</td>\n",
       "      <td>380.0</td>\n",
       "      <td>961.0</td>\n",
       "      <td>855.0</td>\n",
       "      <td>824.0</td>\n",
       "      <td>802.0</td>\n",
       "    </tr>\n",
       "    <tr>\n",
       "      <td>1004</td>\n",
       "      <td>0.0</td>\n",
       "      <td>0.0</td>\n",
       "      <td>0.0</td>\n",
       "      <td>0.0</td>\n",
       "      <td>35.0</td>\n",
       "      <td>171.0</td>\n",
       "      <td>135.0</td>\n",
       "      <td>137.0</td>\n",
       "      <td>117.0</td>\n",
       "      <td>145.0</td>\n",
       "      <td>117.0</td>\n",
       "      <td>130.0</td>\n",
       "    </tr>\n",
       "  </tbody>\n",
       "</table>\n",
       "</div>"
      ],
      "text/plain": [
       "month     1    2    3    4      5      6      7      8      9      10     11  \\\n",
       "user_id                                                                        \n",
       "1000     0.0  0.0  0.0  0.0  159.0  172.0  340.0  408.0  466.0  350.0  338.0   \n",
       "1001     0.0  0.0  0.0  0.0    0.0    0.0    0.0    0.0    0.0    0.0  430.0   \n",
       "1002     0.0  0.0  0.0  0.0    0.0  117.0  214.0  289.0  206.0  212.0  243.0   \n",
       "1003     0.0  0.0  0.0  0.0    0.0    0.0    0.0  380.0  961.0  855.0  824.0   \n",
       "1004     0.0  0.0  0.0  0.0   35.0  171.0  135.0  137.0  117.0  145.0  117.0   \n",
       "\n",
       "month       12  \n",
       "user_id         \n",
       "1000     333.0  \n",
       "1001     414.0  \n",
       "1002     236.0  \n",
       "1003     802.0  \n",
       "1004     130.0  "
      ]
     },
     "metadata": {},
     "output_type": "display_data"
    }
   ],
   "source": [
    "# создадим сводную таблицу, где в качестве индексов будут user_id, колонками будут месяца, а значениями будет количество звонков \n",
    "calls_count_data = calls_data.pivot_table(index='user_id', columns='month', values='id', aggfunc ='count')\n",
    "calls_count_data = calls_count_data.fillna(0)\n",
    "display(calls_count_data.head())\n",
    "\n",
    "# создадим сводную таблицу, где будут только значения суммы разговоров по месяцам, заполним пропуски нулями и выведем на экран\n",
    "duration_data_month = calls_data.pivot_table(index='user_id', columns = 'month', values='duration', aggfunc ='sum')\n",
    "duration_data_month = duration_data_month.fillna(0)\n",
    "display(duration_data_month.head())"
   ]
  },
  {
   "cell_type": "markdown",
   "metadata": {},
   "source": [
    "#### Вывод\n",
    "\n",
    "Создадим сводную таблицу количества помесячных звонков каждого абонента. Для этого в качестве индекса используем user_id, колонками будут месяца, значениями - id, и применим к значениям функцию count. Пустые значения заполним нулями для последующих расчетов.\n",
    "\n",
    "Аналогично создадим сводную таблицу суммы разговоров каждого абонента, только в качестве значений используем durations, а функцией к значениям будет sum(). Пустующие значения также заполним нулями."
   ]
  },
  {
   "cell_type": "markdown",
   "metadata": {},
   "source": [
    "##### Часть 2. Подготовка данных:"
   ]
  },
  {
   "cell_type": "markdown",
   "metadata": {},
   "source": [
    "###### 6-bullet\n",
    "\n",
    "4. Расчет количества отправленных сообщений по месяцам."
   ]
  },
  {
   "cell_type": "code",
   "execution_count": 6,
   "metadata": {},
   "outputs": [
    {
     "data": {
      "text/html": [
       "<div>\n",
       "<style scoped>\n",
       "    .dataframe tbody tr th:only-of-type {\n",
       "        vertical-align: middle;\n",
       "    }\n",
       "\n",
       "    .dataframe tbody tr th {\n",
       "        vertical-align: top;\n",
       "    }\n",
       "\n",
       "    .dataframe thead th {\n",
       "        text-align: right;\n",
       "    }\n",
       "</style>\n",
       "<table border=\"1\" class=\"dataframe\">\n",
       "  <thead>\n",
       "    <tr style=\"text-align: right;\">\n",
       "      <th>month</th>\n",
       "      <th>1</th>\n",
       "      <th>2</th>\n",
       "      <th>3</th>\n",
       "      <th>4</th>\n",
       "      <th>5</th>\n",
       "      <th>6</th>\n",
       "      <th>7</th>\n",
       "      <th>8</th>\n",
       "      <th>9</th>\n",
       "      <th>10</th>\n",
       "      <th>11</th>\n",
       "      <th>12</th>\n",
       "    </tr>\n",
       "    <tr>\n",
       "      <th>user_id</th>\n",
       "      <th></th>\n",
       "      <th></th>\n",
       "      <th></th>\n",
       "      <th></th>\n",
       "      <th></th>\n",
       "      <th></th>\n",
       "      <th></th>\n",
       "      <th></th>\n",
       "      <th></th>\n",
       "      <th></th>\n",
       "      <th></th>\n",
       "      <th></th>\n",
       "    </tr>\n",
       "  </thead>\n",
       "  <tbody>\n",
       "    <tr>\n",
       "      <td>1000</td>\n",
       "      <td>0.0</td>\n",
       "      <td>0.0</td>\n",
       "      <td>0.0</td>\n",
       "      <td>0.0</td>\n",
       "      <td>22.0</td>\n",
       "      <td>60.0</td>\n",
       "      <td>75.0</td>\n",
       "      <td>81.0</td>\n",
       "      <td>57.0</td>\n",
       "      <td>73.0</td>\n",
       "      <td>58.0</td>\n",
       "      <td>70.0</td>\n",
       "    </tr>\n",
       "    <tr>\n",
       "      <td>1002</td>\n",
       "      <td>0.0</td>\n",
       "      <td>0.0</td>\n",
       "      <td>0.0</td>\n",
       "      <td>0.0</td>\n",
       "      <td>0.0</td>\n",
       "      <td>4.0</td>\n",
       "      <td>11.0</td>\n",
       "      <td>13.0</td>\n",
       "      <td>4.0</td>\n",
       "      <td>10.0</td>\n",
       "      <td>16.0</td>\n",
       "      <td>12.0</td>\n",
       "    </tr>\n",
       "    <tr>\n",
       "      <td>1003</td>\n",
       "      <td>0.0</td>\n",
       "      <td>0.0</td>\n",
       "      <td>0.0</td>\n",
       "      <td>0.0</td>\n",
       "      <td>0.0</td>\n",
       "      <td>0.0</td>\n",
       "      <td>0.0</td>\n",
       "      <td>37.0</td>\n",
       "      <td>91.0</td>\n",
       "      <td>83.0</td>\n",
       "      <td>94.0</td>\n",
       "      <td>75.0</td>\n",
       "    </tr>\n",
       "    <tr>\n",
       "      <td>1004</td>\n",
       "      <td>0.0</td>\n",
       "      <td>0.0</td>\n",
       "      <td>0.0</td>\n",
       "      <td>0.0</td>\n",
       "      <td>95.0</td>\n",
       "      <td>134.0</td>\n",
       "      <td>181.0</td>\n",
       "      <td>151.0</td>\n",
       "      <td>146.0</td>\n",
       "      <td>165.0</td>\n",
       "      <td>158.0</td>\n",
       "      <td>162.0</td>\n",
       "    </tr>\n",
       "    <tr>\n",
       "      <td>1005</td>\n",
       "      <td>7.0</td>\n",
       "      <td>38.0</td>\n",
       "      <td>56.0</td>\n",
       "      <td>41.0</td>\n",
       "      <td>42.0</td>\n",
       "      <td>47.0</td>\n",
       "      <td>56.0</td>\n",
       "      <td>64.0</td>\n",
       "      <td>52.0</td>\n",
       "      <td>44.0</td>\n",
       "      <td>51.0</td>\n",
       "      <td>54.0</td>\n",
       "    </tr>\n",
       "  </tbody>\n",
       "</table>\n",
       "</div>"
      ],
      "text/plain": [
       "month     1     2     3     4     5      6      7      8      9      10  \\\n",
       "user_id                                                                   \n",
       "1000     0.0   0.0   0.0   0.0  22.0   60.0   75.0   81.0   57.0   73.0   \n",
       "1002     0.0   0.0   0.0   0.0   0.0    4.0   11.0   13.0    4.0   10.0   \n",
       "1003     0.0   0.0   0.0   0.0   0.0    0.0    0.0   37.0   91.0   83.0   \n",
       "1004     0.0   0.0   0.0   0.0  95.0  134.0  181.0  151.0  146.0  165.0   \n",
       "1005     7.0  38.0  56.0  41.0  42.0   47.0   56.0   64.0   52.0   44.0   \n",
       "\n",
       "month       11     12  \n",
       "user_id                \n",
       "1000      58.0   70.0  \n",
       "1002      16.0   12.0  \n",
       "1003      94.0   75.0  \n",
       "1004     158.0  162.0  \n",
       "1005      51.0   54.0  "
      ]
     },
     "metadata": {},
     "output_type": "display_data"
    }
   ],
   "source": [
    "# создадим сводную таблицу, где в качестве индексов будут user_id, колонками - месяца, а значениями будет количество отправленных сообщений\n",
    "messages_data_by_month = messages_data.pivot_table(index='user_id', columns = 'month', values='id', aggfunc = 'count' )\n",
    "\n",
    "# заполним пустующие значения нулями и выведем таблицу на экран\n",
    "messages_data_by_month = messages_data_by_month.fillna(0)\n",
    "display(messages_data_by_month.head())"
   ]
  },
  {
   "cell_type": "markdown",
   "metadata": {},
   "source": [
    "#### Вывод\n",
    "\n",
    "Создадим сводную таблицу помесячное количество сообщений  каждого абонента. Для этого в качестве индекса используем user_id, колонками будут месяца, значениями - id, и применим к значениям функцию count. Пустые значения заполним нулями для последующих расчетов."
   ]
  },
  {
   "cell_type": "markdown",
   "metadata": {},
   "source": [
    "##### Часть 2. Подготовка данных:"
   ]
  },
  {
   "cell_type": "markdown",
   "metadata": {},
   "source": [
    "###### 7-bullet\n",
    "\n",
    "5. Расчет объема израсходованного интернет-трафика по месяцам."
   ]
  },
  {
   "cell_type": "code",
   "execution_count": 7,
   "metadata": {},
   "outputs": [
    {
     "data": {
      "text/html": [
       "<div>\n",
       "<style scoped>\n",
       "    .dataframe tbody tr th:only-of-type {\n",
       "        vertical-align: middle;\n",
       "    }\n",
       "\n",
       "    .dataframe tbody tr th {\n",
       "        vertical-align: top;\n",
       "    }\n",
       "\n",
       "    .dataframe thead th {\n",
       "        text-align: right;\n",
       "    }\n",
       "</style>\n",
       "<table border=\"1\" class=\"dataframe\">\n",
       "  <thead>\n",
       "    <tr style=\"text-align: right;\">\n",
       "      <th>month</th>\n",
       "      <th>1</th>\n",
       "      <th>2</th>\n",
       "      <th>3</th>\n",
       "      <th>4</th>\n",
       "      <th>5</th>\n",
       "      <th>6</th>\n",
       "      <th>7</th>\n",
       "      <th>8</th>\n",
       "      <th>9</th>\n",
       "      <th>10</th>\n",
       "      <th>11</th>\n",
       "      <th>12</th>\n",
       "    </tr>\n",
       "    <tr>\n",
       "      <th>user_id</th>\n",
       "      <th></th>\n",
       "      <th></th>\n",
       "      <th></th>\n",
       "      <th></th>\n",
       "      <th></th>\n",
       "      <th></th>\n",
       "      <th></th>\n",
       "      <th></th>\n",
       "      <th></th>\n",
       "      <th></th>\n",
       "      <th></th>\n",
       "      <th></th>\n",
       "    </tr>\n",
       "  </thead>\n",
       "  <tbody>\n",
       "    <tr>\n",
       "      <td>1000</td>\n",
       "      <td>0.0</td>\n",
       "      <td>0.0</td>\n",
       "      <td>0.0</td>\n",
       "      <td>0.0</td>\n",
       "      <td>4.0</td>\n",
       "      <td>49.0</td>\n",
       "      <td>28.0</td>\n",
       "      <td>27.0</td>\n",
       "      <td>26.0</td>\n",
       "      <td>28.0</td>\n",
       "      <td>27.0</td>\n",
       "      <td>19.0</td>\n",
       "    </tr>\n",
       "    <tr>\n",
       "      <td>1001</td>\n",
       "      <td>0.0</td>\n",
       "      <td>0.0</td>\n",
       "      <td>0.0</td>\n",
       "      <td>0.0</td>\n",
       "      <td>0.0</td>\n",
       "      <td>0.0</td>\n",
       "      <td>0.0</td>\n",
       "      <td>0.0</td>\n",
       "      <td>0.0</td>\n",
       "      <td>0.0</td>\n",
       "      <td>47.0</td>\n",
       "      <td>35.0</td>\n",
       "    </tr>\n",
       "    <tr>\n",
       "      <td>1002</td>\n",
       "      <td>0.0</td>\n",
       "      <td>0.0</td>\n",
       "      <td>0.0</td>\n",
       "      <td>0.0</td>\n",
       "      <td>0.0</td>\n",
       "      <td>27.0</td>\n",
       "      <td>45.0</td>\n",
       "      <td>50.0</td>\n",
       "      <td>44.0</td>\n",
       "      <td>36.0</td>\n",
       "      <td>45.0</td>\n",
       "      <td>52.0</td>\n",
       "    </tr>\n",
       "    <tr>\n",
       "      <td>1003</td>\n",
       "      <td>0.0</td>\n",
       "      <td>0.0</td>\n",
       "      <td>0.0</td>\n",
       "      <td>0.0</td>\n",
       "      <td>0.0</td>\n",
       "      <td>0.0</td>\n",
       "      <td>0.0</td>\n",
       "      <td>14.0</td>\n",
       "      <td>23.0</td>\n",
       "      <td>28.0</td>\n",
       "      <td>20.0</td>\n",
       "      <td>21.0</td>\n",
       "    </tr>\n",
       "    <tr>\n",
       "      <td>1004</td>\n",
       "      <td>0.0</td>\n",
       "      <td>0.0</td>\n",
       "      <td>0.0</td>\n",
       "      <td>0.0</td>\n",
       "      <td>26.0</td>\n",
       "      <td>35.0</td>\n",
       "      <td>36.0</td>\n",
       "      <td>53.0</td>\n",
       "      <td>32.0</td>\n",
       "      <td>37.0</td>\n",
       "      <td>34.0</td>\n",
       "      <td>38.0</td>\n",
       "    </tr>\n",
       "  </tbody>\n",
       "</table>\n",
       "</div>"
      ],
      "text/plain": [
       "month     1    2    3    4     5     6     7     8     9     10    11    12\n",
       "user_id                                                                    \n",
       "1000     0.0  0.0  0.0  0.0   4.0  49.0  28.0  27.0  26.0  28.0  27.0  19.0\n",
       "1001     0.0  0.0  0.0  0.0   0.0   0.0   0.0   0.0   0.0   0.0  47.0  35.0\n",
       "1002     0.0  0.0  0.0  0.0   0.0  27.0  45.0  50.0  44.0  36.0  45.0  52.0\n",
       "1003     0.0  0.0  0.0  0.0   0.0   0.0   0.0  14.0  23.0  28.0  20.0  21.0\n",
       "1004     0.0  0.0  0.0  0.0  26.0  35.0  36.0  53.0  32.0  37.0  34.0  38.0"
      ]
     },
     "metadata": {},
     "output_type": "display_data"
    }
   ],
   "source": [
    "# создадим сводную таблицу, где в качестве индексов будут user_id, колонками будут месяца, а значениями будет сумма интернет-трафика в гигабайтах\n",
    "internet_data_by_month = internet_data.pivot_table(index = 'user_id', columns = 'month', values = 'gb_used', aggfunc = 'sum' )\n",
    "# пустые значения заполним нулями и выведем таблицу на экран\n",
    "internet_data_by_month = internet_data_by_month.fillna(0)\n",
    "display(internet_data_by_month.head(5))"
   ]
  },
  {
   "cell_type": "markdown",
   "metadata": {},
   "source": [
    "#### Вывод\n",
    "\n",
    "Создадим сводную таблицу объема ежемесячного интернет-трафика каждого абонента. Для этого в качестве индекса используем user_id, колонками будут месяца, в качестве значений используем gb_used, а функцией к значениям будет sum(). Пустующие значения также заполним нулями."
   ]
  },
  {
   "cell_type": "markdown",
   "metadata": {},
   "source": [
    "##### Часть 2. Подготовка данных:"
   ]
  },
  {
   "cell_type": "markdown",
   "metadata": {},
   "source": [
    "###### 8-bullet\n",
    "\n",
    "6. Расчет помесячной выручки с каждого пользователя."
   ]
  },
  {
   "cell_type": "code",
   "execution_count": 8,
   "metadata": {},
   "outputs": [],
   "source": [
    "# объединим таблицы по столбцу user_id методом join(), создавая промежуточные таблицы(объединяем по две)\n",
    "f1_data = duration_data_month.join(internet_data_by_month, lsuffix='_duration', rsuffix='_internet', on='user_id')\n",
    "f2_data = users_data.join(messages_data_by_month, rsuffix='_messages', on='user_id')\n",
    "finish_data = f2_data.join(f1_data, on='user_id')\n",
    "\n",
    "# заполним образовавшиеся пустые значения нулями \n",
    "finish_data = finish_data.fillna(0)"
   ]
  },
  {
   "cell_type": "markdown",
   "metadata": {},
   "source": [
    "#### Вывод\n",
    "\n",
    "После помесячных расчетов у нас образовались таблицы с одинаковым числом строк и общим столбцом user_id. Теперь объединим их. Будем делать это попарно, т.е. сначала соединим по две таблицы, а потом образовавшиеся соединим. Для объединения таблиц воспользуемся методом join(). \n",
    "\n",
    "Объединим таблицы duration_data_month и internet_data_by_month по столбцу user_id, обозначив приставки к соединенным таблицам.\n",
    "Аналогично объединим таблицы users_data и messages_data_by_month.\n",
    "\n",
    "Далее обединим полученные таблицы в одну и сохраним в переменной finish_data. Теперь в этой таблице содержатся все данные по звонкам, интернету и сообщениям на каждого пользователя помесячно.\n",
    "\n",
    "Пустые значения заполним нулями."
   ]
  },
  {
   "cell_type": "code",
   "execution_count": 9,
   "metadata": {},
   "outputs": [],
   "source": [
    "# отключаем предупреждения\n",
    "warnings.simplefilter(action='ignore', category=FutureWarning)\n",
    "# создадим новый столбец, в котором рассчитаем количество времени, которое пользователь использует тариф, путем \n",
    "# вычитания даты закрытия тарифа и даты регистрации, округлив все это до месяцев\n",
    "finish_data['months_us_tarif'] = pd.DatetimeIndex(finish_data['churn_date'] - finish_data['reg_date']).month\n",
    "\n",
    "# объявим функцию, которая будет возвращать итоговую выручку по абонентской плате с каждого пользователя с учетом его тарифа\n",
    "# и количества месяцев использования тарифа\n",
    "def abon_income(row):\n",
    "    if row['tariff'] == 'smart':\n",
    "        return row['months_us_tarif'] * 550\n",
    "    if row['tariff'] == 'ultra':\n",
    "        return row['months_us_tarif'] * 1950\n",
    "    return\n",
    "\n",
    "# создадим новый столбец, в котором будет итоговая сумма абонентской платы\n",
    "finish_data['abon_income'] = finish_data.apply(abon_income, axis=1) "
   ]
  },
  {
   "cell_type": "markdown",
   "metadata": {},
   "source": [
    "#### Вывод\n",
    "\n",
    "Уберем предупреждения.\n",
    "\n",
    "Создадим новый столбец months_us_tarif, в котором рассчитаем количество времени, которое пользователь использует тариф, путем вычитания даты закрытия тарифа и даты регистрации, округлив все это до месяцев, воспользовавшись методом DatetimeIndex\n",
    "\n",
    "Далее рассчитаем сумму выручки по абонентской плате для каждого пользователя. Для этого объявим функцию, которая будет возвращать итоговую выручку по абонентской плате с каждого пользователя с учетом его тарифа и количества месяцев использования тарифа. Создадим новый столбец с итоговой выручкой по абонентской плате и применим функцию ко всей таблице. "
   ]
  },
  {
   "cell_type": "code",
   "execution_count": 10,
   "metadata": {},
   "outputs": [],
   "source": [
    "# создадим список всех колонок с данными по разговорам за весь год    \n",
    "all_month_durations = ['1_duration', '2_duration', '3_duration', '4_duration', '5_duration', '6_duration', '7_duration', \n",
    "                       '8_duration', '9_duration', '10_duration', '11_duration', '12_duration']\n",
    "    \n",
    "# объявим функцию, которая будет возвращать итоговую сумму дохода в случае превышения лимита разговоров с учетом тарифа для \n",
    "# каждого пользователя за все месяцы использования тарифа\n",
    "def lim_duration(row):\n",
    "    total_lim_duration = 0\n",
    "    for i in all_month_durations:\n",
    "        if row['tariff'] == 'smart' and row[i] > 500:\n",
    "            total_lim_duration += ((row[i]-500)*3)\n",
    "            return total_lim_duration \n",
    "        if row['tariff'] == 'ultra'and row[i] > 3000:\n",
    "            total_lim_duration += (row[i]-3000)\n",
    "            return total_lim_duration  \n",
    "        return 0\n",
    "\n",
    "# добавим столбец с итоговой суммой дохода при превышении лимита по разговорам, применив ранее созданную функцию ко всей таблице \n",
    "finish_data['durations_unlim_income'] = finish_data.apply(lim_duration, axis=1)"
   ]
  },
  {
   "cell_type": "markdown",
   "metadata": {},
   "source": [
    "#### Вывод\n",
    "\n",
    "  \n",
    "Теперь перейдем к расчетам сумм выручки при превышении лимитов тарифов. Для этого создадим список всех колонок с данными по разговорам за весь год. Объявим функцию, которая будет возвращать итоговую сумму дохода в случае превышения лимита разговоров с учетом тарифа для каждого пользователя за все месяцы использования тарифа. Создадим столбец с суммой выручки при превышении лимита разговоров для каждого пользователя, применив функцию ко всей таблице."
   ]
  },
  {
   "cell_type": "code",
   "execution_count": 11,
   "metadata": {},
   "outputs": [],
   "source": [
    "# создадим список всех колонок с данными по объему интернета за весь год \n",
    "all_month_internet = ['1_internet', '2_internet', '3_internet', '4_internet', '5_internet', '6_internet', '7_internet', \n",
    "                       '8_internet', '9_internet', '10_internet', '11_internet', '12_internet']\n",
    "\n",
    "# объявим функцию, которая будет возвращать итоговую сумму дохода в случае превышения лимита объема интернета с учетом тарифа для \n",
    "# каждого пользователя за все месяцы использования тарифа\n",
    "def lim_internet(row):\n",
    "    total_lim_internet = 0\n",
    "    for i in all_month_internet:\n",
    "        if row['tariff'] == 'smart' and row[i] > 15:\n",
    "            total_lim_internet += ((row[i]-15)*200)\n",
    "            return total_lim_internet\n",
    "        if row['tariff'] == 'ultra'and row[i] > 30:\n",
    "            total_lim_internet += ((row[i]-30)*150)\n",
    "            return total_lim_internet \n",
    "        return 0\n",
    "\n",
    "# добавим столбец с итоговой суммой дохода при превышении лимита трафика по интернету, применив ранее созданную функцию ко всей таблице \n",
    "finish_data['internet_unlim_income'] = finish_data.apply(lim_internet, axis=1)"
   ]
  },
  {
   "cell_type": "markdown",
   "metadata": {},
   "source": [
    "#### Вывод\n",
    "\n",
    "Аналогично найдем суммы превышения лимитов по интернету."
   ]
  },
  {
   "cell_type": "code",
   "execution_count": 12,
   "metadata": {},
   "outputs": [],
   "source": [
    "# объявим функцию, которая будет возвращать итоговую сумму дохода в случае превышения лимита сообщений с учетом тарифа для \n",
    "# каждого пользователя за все месяцы использования тарифа\n",
    "all_month_messages = [1, 2, 3, 4, 5, 6, 7, 8, 9, 10, 11, 12]\n",
    "def lim_messages(row):\n",
    "    total_lim_messages = 0\n",
    "    for i in all_month_messages:\n",
    "        if row['tariff'] == 'smart' and row[i] > 50:\n",
    "            total_lim_messages += ((row[i]-50)*3)\n",
    "            return total_lim_messages \n",
    "        if row['tariff'] == 'ultra'and row[i] > 1000:\n",
    "            total_lim_messages += ((row[i]-1000)*1)\n",
    "            return total_lim_messages \n",
    "        return 0\n",
    "\n",
    "# добавим столбец с итоговой суммой дохода при превышении лимита по сообщениям, п"
   ]
  },
  {
   "cell_type": "markdown",
   "metadata": {},
   "source": [
    "#### Вывод\n",
    "\n",
    "Аналогично найдем суммы превышения лимитов по сообщениям для каждого пользователя."
   ]
  },
  {
   "cell_type": "code",
   "execution_count": 13,
   "metadata": {},
   "outputs": [
    {
     "data": {
      "text/html": [
       "<div>\n",
       "<style scoped>\n",
       "    .dataframe tbody tr th:only-of-type {\n",
       "        vertical-align: middle;\n",
       "    }\n",
       "\n",
       "    .dataframe tbody tr th {\n",
       "        vertical-align: top;\n",
       "    }\n",
       "\n",
       "    .dataframe thead th {\n",
       "        text-align: right;\n",
       "    }\n",
       "</style>\n",
       "<table border=\"1\" class=\"dataframe\">\n",
       "  <thead>\n",
       "    <tr style=\"text-align: right;\">\n",
       "      <th></th>\n",
       "      <th>user_id</th>\n",
       "      <th>age</th>\n",
       "      <th>churn_date</th>\n",
       "      <th>city</th>\n",
       "      <th>first_name</th>\n",
       "      <th>last_name</th>\n",
       "      <th>reg_date</th>\n",
       "      <th>tariff</th>\n",
       "      <th>1</th>\n",
       "      <th>2</th>\n",
       "      <th>...</th>\n",
       "      <th>9_internet</th>\n",
       "      <th>10_internet</th>\n",
       "      <th>11_internet</th>\n",
       "      <th>12_internet</th>\n",
       "      <th>months_us_tarif</th>\n",
       "      <th>abon_income</th>\n",
       "      <th>durations_unlim_income</th>\n",
       "      <th>internet_unlim_income</th>\n",
       "      <th>messages_unlim_income</th>\n",
       "      <th>total_income</th>\n",
       "    </tr>\n",
       "  </thead>\n",
       "  <tbody>\n",
       "    <tr>\n",
       "      <td>0</td>\n",
       "      <td>1000</td>\n",
       "      <td>52</td>\n",
       "      <td>2019-01-01</td>\n",
       "      <td>Краснодар</td>\n",
       "      <td>Рафаил</td>\n",
       "      <td>Верещагин</td>\n",
       "      <td>2018-05-25</td>\n",
       "      <td>ultra</td>\n",
       "      <td>0.0</td>\n",
       "      <td>0.0</td>\n",
       "      <td>...</td>\n",
       "      <td>26.0</td>\n",
       "      <td>28.0</td>\n",
       "      <td>27.0</td>\n",
       "      <td>19.0</td>\n",
       "      <td>8</td>\n",
       "      <td>15600</td>\n",
       "      <td>0.0</td>\n",
       "      <td>0.0</td>\n",
       "      <td>0.0</td>\n",
       "      <td>15600.0</td>\n",
       "    </tr>\n",
       "    <tr>\n",
       "      <td>1</td>\n",
       "      <td>1001</td>\n",
       "      <td>41</td>\n",
       "      <td>2019-01-01</td>\n",
       "      <td>Москва</td>\n",
       "      <td>Иван</td>\n",
       "      <td>Ежов</td>\n",
       "      <td>2018-11-01</td>\n",
       "      <td>smart</td>\n",
       "      <td>0.0</td>\n",
       "      <td>0.0</td>\n",
       "      <td>...</td>\n",
       "      <td>0.0</td>\n",
       "      <td>0.0</td>\n",
       "      <td>47.0</td>\n",
       "      <td>35.0</td>\n",
       "      <td>3</td>\n",
       "      <td>1650</td>\n",
       "      <td>0.0</td>\n",
       "      <td>0.0</td>\n",
       "      <td>0.0</td>\n",
       "      <td>1650.0</td>\n",
       "    </tr>\n",
       "    <tr>\n",
       "      <td>2</td>\n",
       "      <td>1002</td>\n",
       "      <td>59</td>\n",
       "      <td>2019-01-01</td>\n",
       "      <td>Стерлитамак</td>\n",
       "      <td>Евгений</td>\n",
       "      <td>Абрамович</td>\n",
       "      <td>2018-06-17</td>\n",
       "      <td>smart</td>\n",
       "      <td>0.0</td>\n",
       "      <td>0.0</td>\n",
       "      <td>...</td>\n",
       "      <td>44.0</td>\n",
       "      <td>36.0</td>\n",
       "      <td>45.0</td>\n",
       "      <td>52.0</td>\n",
       "      <td>7</td>\n",
       "      <td>3850</td>\n",
       "      <td>0.0</td>\n",
       "      <td>0.0</td>\n",
       "      <td>0.0</td>\n",
       "      <td>3850.0</td>\n",
       "    </tr>\n",
       "    <tr>\n",
       "      <td>3</td>\n",
       "      <td>1003</td>\n",
       "      <td>23</td>\n",
       "      <td>2019-01-01</td>\n",
       "      <td>Москва</td>\n",
       "      <td>Белла</td>\n",
       "      <td>Белякова</td>\n",
       "      <td>2018-08-17</td>\n",
       "      <td>ultra</td>\n",
       "      <td>0.0</td>\n",
       "      <td>0.0</td>\n",
       "      <td>...</td>\n",
       "      <td>23.0</td>\n",
       "      <td>28.0</td>\n",
       "      <td>20.0</td>\n",
       "      <td>21.0</td>\n",
       "      <td>5</td>\n",
       "      <td>9750</td>\n",
       "      <td>0.0</td>\n",
       "      <td>0.0</td>\n",
       "      <td>0.0</td>\n",
       "      <td>9750.0</td>\n",
       "    </tr>\n",
       "    <tr>\n",
       "      <td>4</td>\n",
       "      <td>1004</td>\n",
       "      <td>68</td>\n",
       "      <td>2019-01-01</td>\n",
       "      <td>Новокузнецк</td>\n",
       "      <td>Татьяна</td>\n",
       "      <td>Авдеенко</td>\n",
       "      <td>2018-05-14</td>\n",
       "      <td>ultra</td>\n",
       "      <td>0.0</td>\n",
       "      <td>0.0</td>\n",
       "      <td>...</td>\n",
       "      <td>32.0</td>\n",
       "      <td>37.0</td>\n",
       "      <td>34.0</td>\n",
       "      <td>38.0</td>\n",
       "      <td>8</td>\n",
       "      <td>15600</td>\n",
       "      <td>0.0</td>\n",
       "      <td>0.0</td>\n",
       "      <td>0.0</td>\n",
       "      <td>15600.0</td>\n",
       "    </tr>\n",
       "  </tbody>\n",
       "</table>\n",
       "<p>5 rows × 50 columns</p>\n",
       "</div>"
      ],
      "text/plain": [
       "   user_id  age churn_date         city first_name  last_name   reg_date  \\\n",
       "0     1000   52 2019-01-01    Краснодар     Рафаил  Верещагин 2018-05-25   \n",
       "1     1001   41 2019-01-01       Москва       Иван       Ежов 2018-11-01   \n",
       "2     1002   59 2019-01-01  Стерлитамак    Евгений  Абрамович 2018-06-17   \n",
       "3     1003   23 2019-01-01       Москва      Белла   Белякова 2018-08-17   \n",
       "4     1004   68 2019-01-01  Новокузнецк    Татьяна   Авдеенко 2018-05-14   \n",
       "\n",
       "  tariff    1    2  ...  9_internet  10_internet  11_internet  12_internet  \\\n",
       "0  ultra  0.0  0.0  ...        26.0         28.0         27.0         19.0   \n",
       "1  smart  0.0  0.0  ...         0.0          0.0         47.0         35.0   \n",
       "2  smart  0.0  0.0  ...        44.0         36.0         45.0         52.0   \n",
       "3  ultra  0.0  0.0  ...        23.0         28.0         20.0         21.0   \n",
       "4  ultra  0.0  0.0  ...        32.0         37.0         34.0         38.0   \n",
       "\n",
       "   months_us_tarif  abon_income  durations_unlim_income  \\\n",
       "0                8        15600                     0.0   \n",
       "1                3         1650                     0.0   \n",
       "2                7         3850                     0.0   \n",
       "3                5         9750                     0.0   \n",
       "4                8        15600                     0.0   \n",
       "\n",
       "   internet_unlim_income  messages_unlim_income  total_income  \n",
       "0                    0.0                    0.0       15600.0  \n",
       "1                    0.0                    0.0        1650.0  \n",
       "2                    0.0                    0.0        3850.0  \n",
       "3                    0.0                    0.0        9750.0  \n",
       "4                    0.0                    0.0       15600.0  \n",
       "\n",
       "[5 rows x 50 columns]"
      ]
     },
     "metadata": {},
     "output_type": "display_data"
    }
   ],
   "source": [
    "# добавим столбец с итоговой суммой дохода при превышении лимита по сообщениям, применив ранее созданную функцию ко всей таблице \n",
    "finish_data['messages_unlim_income'] = finish_data.apply(lim_messages, axis=1)\n",
    "\n",
    "# добавим столбец с итоговой суммой дохода по абоненской плате и превышениям лимита по разговорам, интернету и сообщениям\n",
    "finish_data['total_income'] = finish_data['abon_income'] + finish_data['durations_unlim_income'] + finish_data['internet_unlim_income'] + finish_data['messages_unlim_income']\n",
    "\n",
    "# выведем на экран общую информацию о таблице и первые пять строк таблицы\n",
    "display(finish_data.head())"
   ]
  },
  {
   "cell_type": "markdown",
   "metadata": {},
   "source": [
    "#### Вывод\n",
    "\n",
    "Чтобы получить итоговую выручку с каждого пользователя, сложим колонки с суммой абонентской платы и суммами превышения лимитов по разговорам, интернету и сообщениям. Выведем первые пять строк таблицы на экран.\n"
   ]
  },
  {
   "cell_type": "markdown",
   "metadata": {},
   "source": [
    "##### Часть 3. Анализ данных:"
   ]
  },
  {
   "cell_type": "markdown",
   "metadata": {},
   "source": [
    "###### 9-bullet\n",
    "\n",
    "1. Описание поведения клиентов оператора, исходя из выборки."
   ]
  },
  {
   "cell_type": "code",
   "execution_count": 14,
   "metadata": {},
   "outputs": [],
   "source": [
    "# добавим столбец, в котором будут значения средней длительности разговора в месяц, путем суммирования всех месяцев разговоров\n",
    "# и деления на количество месяцев\n",
    "finish_data['duration_mean'] = (finish_data['1_duration'] + finish_data['2_duration'] + finish_data['3_duration'] +\n",
    "                               finish_data['4_duration'] + finish_data['5_duration'] + finish_data['6_duration'] +\n",
    "                                finish_data['7_duration'] + finish_data['8_duration'] + finish_data['9_duration'] +\n",
    "                                finish_data['10_duration'] + finish_data['11_duration'] + finish_data['12_duration']) / finish_data['months_us_tarif']\n",
    "\n",
    "# добавим столбец, в котором будут значения среднего количества трафика интернета в месяц, путем суммирования всех месяцев разговоров\n",
    "# и деления на количество месяцев    \n",
    "finish_data['internet_mean'] = (finish_data['1_internet'] + finish_data['2_internet'] + finish_data['3_internet'] +\n",
    "                               finish_data['4_internet'] + finish_data['5_internet'] + finish_data['6_internet'] +\n",
    "                                finish_data['7_internet'] + finish_data['8_internet'] + finish_data['9_internet'] +\n",
    "                                finish_data['10_internet'] + finish_data['11_internet'] + finish_data['12_internet']) / finish_data['months_us_tarif']        \n",
    "\n",
    "\n",
    "# добавим столбец, в котором будут значения среднего количества сообщений в месяц, путем суммирования всех месяцев разговоров\n",
    "# и деления на количество месяцев\n",
    "finish_data['messages_mean'] = (finish_data[1] + finish_data[2] + finish_data[3] +\n",
    "                               finish_data[4] + finish_data[5] + finish_data[6] +\n",
    "                                finish_data[7] + finish_data[8] + finish_data[9] +\n",
    "                                finish_data[10] + finish_data[11] + finish_data[12]) / finish_data['months_us_tarif'] \n",
    "\n",
    "\n",
    "# разобъем таблицу, создав две отдельные, путем получения срезов данных методом query с условием: название тарифного плана\n",
    "smart_tarif_data = finish_data.query('tariff == \"smart\"')\n",
    "ultra_tarif_data = finish_data.query('tariff == \"ultra\"')"
   ]
  },
  {
   "cell_type": "markdown",
   "metadata": {},
   "source": [
    "#### Вывод\n",
    "\n",
    "Рассчитали средние значения разговоров, объема интернет-трафика и сообщений для каждого абонента. Разбили итоговую таблицу на две: исходя из тарифного плана."
   ]
  },
  {
   "cell_type": "code",
   "execution_count": 15,
   "metadata": {},
   "outputs": [
    {
     "data": {
      "text/plain": [
       "'Среднее по разговорам тарифа смарт: 429.87'"
      ]
     },
     "metadata": {},
     "output_type": "display_data"
    },
    {
     "data": {
      "text/plain": [
       "'Дисперсия по разговорам тарифа смарт: 103407.61'"
      ]
     },
     "metadata": {},
     "output_type": "display_data"
    },
    {
     "data": {
      "text/plain": [
       "'Стандартное отклонение по разговорам тарифа смарт: 321.57'"
      ]
     },
     "metadata": {},
     "output_type": "display_data"
    },
    {
     "data": {
      "text/plain": [
       "'Среднее по разговорам тарифа ультра: 583.00'"
      ]
     },
     "metadata": {},
     "output_type": "display_data"
    },
    {
     "data": {
      "text/plain": [
       "'Дисперсия по разговорам тарифа ультра: 712498.11'"
      ]
     },
     "metadata": {},
     "output_type": "display_data"
    },
    {
     "data": {
      "text/plain": [
       "'Стандартное отклонение по разговорам тарифа ультра: 844.10'"
      ]
     },
     "metadata": {},
     "output_type": "display_data"
    },
    {
     "data": {
      "image/png": "[encoded data removed]",
      "text/plain": [
       "<Figure size 432x288 with 1 Axes>"
      ]
     },
     "metadata": {
      "needs_background": "light"
     },
     "output_type": "display_data"
    }
   ],
   "source": [
    "# займемся исследуемыми значениями разговоров для обоих тарифов\n",
    "# вычислим среднее, дисперсию и стандартное отклонение для разговоров для тарифа смарт\n",
    "duration_mean_smart = smart_tarif_data['duration_mean'].mean()\n",
    "duration_var_smart = np.var(smart_tarif_data['duration_mean'], ddof=1) #параметр ddof=1 ввиду того, что выборка, а не вся совокупность\n",
    "duration_std_smart = np.sqrt(duration_var_smart)\n",
    "# выведем на экран среднее, дисперсию и стандартное отклонение для разговоров для тарифа смарт\n",
    "display('Среднее по разговорам тарифа смарт: {:.2f}'.format(duration_mean_smart))                                \n",
    "display('Дисперсия по разговорам тарифа смарт: {:.2f}'.format(duration_var_smart))                                \n",
    "display('Стандартное отклонение по разговорам тарифа смарт: {:.2f}'.format(duration_std_smart))\n",
    "\n",
    "\n",
    "# вычислим среднее, дисперсию и стандартное отклонение для разговоров для тарифа ультар\n",
    "duration_mean_ultra = ultra_tarif_data['duration_mean'].mean()\n",
    "duration_var_ultra = np.var(ultra_tarif_data['duration_mean'], ddof=1) #параметр ddof=1 ввиду того, что выборка, а не вся совокупность\n",
    "duration_std_ultra = np.sqrt(duration_var_ultra)\n",
    "# выведем на экран среднее, дисперсию и стандартное отклонение для разговоров для тарифа ультра\n",
    "display('Среднее по разговорам тарифа ультра: {:.2f}'.format(duration_mean_ultra))                                \n",
    "display('Дисперсия по разговорам тарифа ультра: {:.2f}'.format(duration_var_ultra))                                \n",
    "display('Стандартное отклонение по разговорам тарифа ультра: {:.2f}'.format(duration_std_ultra))\n",
    "\n",
    "# построим гисторграммы распеределений по разговорам для обоих тарифов на одном экране\n",
    "smart_tarif_data['duration_mean'].hist(range=(0,1500), alpha=0.5) #зададим alpha=0.5, чтобы были видны пересечения\n",
    "ultra_tarif_data['duration_mean'].hist(range=(0,1500), alpha=0.5) #зададим alpha=0.5, чтобы были видны пересечения\n",
    "plt.title('гистограмма разговоров по тарифам')\n",
    "plt.show()"
   ]
  },
  {
   "cell_type": "markdown",
   "metadata": {},
   "source": [
    "#### Вывод\n",
    "\n",
    "Исследовали поведение клиентов тарифов по разговорам "
   ]
  },
  {
   "cell_type": "code",
   "execution_count": 16,
   "metadata": {},
   "outputs": [
    {
     "data": {
      "text/plain": [
       "'Среднее по интернет-трафику тарифа смарт: 42.53'"
      ]
     },
     "metadata": {},
     "output_type": "display_data"
    },
    {
     "data": {
      "text/plain": [
       "'Дисперсия по интернет-трафику тарифа смарт: 369.69'"
      ]
     },
     "metadata": {},
     "output_type": "display_data"
    },
    {
     "data": {
      "text/plain": [
       "'Стандартное отклонение по интернет-трафику тарифа смарт: 19.23'"
      ]
     },
     "metadata": {},
     "output_type": "display_data"
    },
    {
     "data": {
      "text/plain": [
       "'Среднее по интернет-трафику тарифа ультра: 39.90'"
      ]
     },
     "metadata": {},
     "output_type": "display_data"
    },
    {
     "data": {
      "text/plain": [
       "'Дисперсия по интернет-трафику тарифа ультра: 1995.25'"
      ]
     },
     "metadata": {},
     "output_type": "display_data"
    },
    {
     "data": {
      "text/plain": [
       "'Стандартное отклонение по интернет-трафику тарифа ультра: 44.67'"
      ]
     },
     "metadata": {},
     "output_type": "display_data"
    },
    {
     "data": {
      "image/png": "[encoded data removed]",
      "text/plain": [
       "<Figure size 432x288 with 1 Axes>"
      ]
     },
     "metadata": {
      "needs_background": "light"
     },
     "output_type": "display_data"
    }
   ],
   "source": [
    "# займемся исследуемыми значениеми интернет-трафика для обоих тарифов\n",
    "# вычислим среднее, дисперсию и стандартное отклонение для трафика для тарифа смарт\n",
    "internet_mean_smart = smart_tarif_data['internet_mean'].mean()\n",
    "internet_var_smart = np.var(smart_tarif_data['internet_mean'], ddof=1) #параметр ddof=1 ввиду того, что выборка, а не вся совокупность \n",
    "internet_std_smart = np.sqrt(internet_var_smart)\n",
    "# выведем на экран среднее, дисперсию и стандартное отклонение для трафика для тарифа смарт\n",
    "display('Среднее по интернет-трафику тарифа смарт: {:.2f}'.format(internet_mean_smart))                                \n",
    "display('Дисперсия по интернет-трафику тарифа смарт: {:.2f}'.format(internet_var_smart))                                \n",
    "display('Стандартное отклонение по интернет-трафику тарифа смарт: {:.2f}'.format(internet_std_smart))\n",
    "\n",
    "# вычислим среднее, дисперсию и стандартное отклонение для трафика для тарифа ультра\n",
    "internet_mean_ultra = ultra_tarif_data['internet_mean'].mean()\n",
    "internet_var_ultra = np.var(ultra_tarif_data['internet_mean'], ddof=1) #параметр ddof=1 ввиду того, что выборка, а не вся совокупность \n",
    "internet_std_ultra = np.sqrt(internet_var_ultra)\n",
    "# выведем на экран среднее, дисперсию и стандартное отклонение для трафика для тарифа ультра\n",
    "display('Среднее по интернет-трафику тарифа ультра: {:.2f}'.format(internet_mean_ultra))                                \n",
    "display('Дисперсия по интернет-трафику тарифа ультра: {:.2f}'.format(internet_var_ultra))                                \n",
    "display('Стандартное отклонение по интернет-трафику тарифа ультра: {:.2f}'.format(internet_std_ultra))\n",
    "\n",
    "# построим гисторграммы распеределений по интернет-трафику для обоих тарифов на одном экране\n",
    "smart_tarif_data['internet_mean'].hist(range=(0,120), alpha=0.5) #зададим alpha=0.5, чтобы были видны пересечения\n",
    "ultra_tarif_data['internet_mean'].hist(range=(0,120), alpha=0.5) #зададим alpha=0.5, чтобы были видны пересечения\n",
    "plt.title('гистограмма интернет-трафика по тарифам')\n",
    "plt.show()"
   ]
  },
  {
   "cell_type": "markdown",
   "metadata": {},
   "source": [
    "#### Вывод\n",
    "\n",
    "Исследовали поведение клиентов тарифов по интернет-трафику"
   ]
  },
  {
   "cell_type": "code",
   "execution_count": 17,
   "metadata": {},
   "outputs": [
    {
     "data": {
      "text/plain": [
       "'Среднее по сообщениям тарифа смарт: 32.64'"
      ]
     },
     "metadata": {},
     "output_type": "display_data"
    },
    {
     "data": {
      "text/plain": [
       "'Дисперсия по сообщениям тарифа смарт: 835.19'"
      ]
     },
     "metadata": {},
     "output_type": "display_data"
    },
    {
     "data": {
      "text/plain": [
       "'Стандартное отклонение по сообщениям тарифа смарт: 19.23'"
      ]
     },
     "metadata": {},
     "output_type": "display_data"
    },
    {
     "data": {
      "text/plain": [
       "'Среднее по сообщениям тарифа ультра: 32.64'"
      ]
     },
     "metadata": {},
     "output_type": "display_data"
    },
    {
     "data": {
      "text/plain": [
       "'Дисперсия по сообщениям тарифа ультра: 835.19'"
      ]
     },
     "metadata": {},
     "output_type": "display_data"
    },
    {
     "data": {
      "text/plain": [
       "'Стандартное отклонение по сообщениям тарифа ультра: 44.67'"
      ]
     },
     "metadata": {},
     "output_type": "display_data"
    },
    {
     "data": {
      "image/png": "[encoded data removed]",
      "text/plain": [
       "<Figure size 432x288 with 1 Axes>"
      ]
     },
     "metadata": {
      "needs_background": "light"
     },
     "output_type": "display_data"
    }
   ],
   "source": [
    "# займемся исследуемыми значениями сообщений для обоих тарифов\n",
    "# вычислим среднее, дисперсию и стандартное отклонение для сообщений тарфиа смарт\n",
    "messages_mean_smart = smart_tarif_data['messages_mean'].mean()\n",
    "messages_var_smart = np.var(smart_tarif_data['messages_mean'], ddof=1) #параметр ddof=1 ввиду того, что выборка, а не вся совокупность\n",
    "messages_std_smart = np.sqrt(internet_var_smart)\n",
    "# выведем на экран среднее, дисперсию и стандартное отклонение для сообщений тарифа смарт\n",
    "display('Среднее по сообщениям тарифа смарт: {:.2f}'.format(messages_mean_smart))                          \n",
    "display('Дисперсия по сообщениям тарифа смарт: {:.2f}'.format(messages_var_smart))                                \n",
    "display('Стандартное отклонение по сообщениям тарифа смарт: {:.2f}'.format(messages_std_smart))\n",
    "\n",
    "# вычислим среднее, дисперсию и стандартное отклонение для сообщений тарфиа ультра\n",
    "messages_mean_ultra = smart_tarif_data['messages_mean'].mean()\n",
    "messages_var_ultra = np.var(smart_tarif_data['messages_mean'], ddof=1) #параметр ddof=1 ввиду того, что выборка, а не вся совокупность\n",
    "messages_std_ultra = np.sqrt(internet_var_ultra)\n",
    "# выведем на экран среднее, дисперсию и стандартное отклонение для сообщений тарифа ультра\n",
    "display('Среднее по сообщениям тарифа ультра: {:.2f}'.format(messages_mean_ultra),\n",
    "       'Дисперсия по сообщениям тарифа ультра: {:.2f}'.format(messages_var_ultra),\n",
    "       'Стандартное отклонение по сообщениям тарифа ультра: {:.2f}'.format(messages_std_ultra))                                \n",
    "\n",
    "# построим гисторграммы распеределений по интернет-трафику для обоих тарифов на одном экране\n",
    "smart_tarif_data['messages_mean'].hist(range=(0,250), alpha=0.5) #зададим alpha=0.5, чтобы были видны пересечения\n",
    "ultra_tarif_data['messages_mean'].hist(range=(0,250), alpha=0.5) #зададим alpha=0.5, чтобы были видны пересечения\n",
    "plt.title('гистограмма сообщений по тарифам')\n",
    "plt.show()\n"
   ]
  },
  {
   "cell_type": "markdown",
   "metadata": {},
   "source": [
    "#### Вывод\n",
    "\n",
    "Исследовали поведение клиентов тарифов по сообщениям"
   ]
  },
  {
   "cell_type": "markdown",
   "metadata": {},
   "source": [
    "#### Вывод\n",
    "\n",
    "- Для того, чтобы описать поведение клиентов, получим средние значения разговоров, интернет-трафика и сообщений. Сделаем это следующим образом: для разговоров - сложим все колонки разговоров(их всего 12), а затем разделим на количество месяцев использования тарифа(чтобы нули не искажали среднее, те чтобы нули не учитывались там, где абонент не пользовался тарифом вообще). Аналогично поступим для интернет-трафика и сообщений. Полученные значения сохраним в новых столбцах.\n",
    "\n",
    "- Далее разделим таблицу исходя из тарифного плана. Обе таблицы сохраним в переменных.\n",
    "\n",
    "- Затем исследуем следующие значения: среднее, дисперсия и стандартное отклонение для разговоров, интернет-трафика и сообщений каждого тарифного плана.\n",
    "\n",
    "- Для каждого тарифа при исследовании значений среднего, дисперсии и стандартого отклонения воспользуемся методами mean(), var(), при этом используем параметр ddof=1, тк это выборка, а не генеральная совокупность, и метод sqrt() для извлечения квадратного корня.\n",
    "\n",
    "- Получив сравнительные данные исследуемых значений для каждого тарифа по , построим гистограммы для каждого тарифа, но выведем на одном графике для сравнения.\n",
    "\n",
    "- Полученные данные говорят о том, что среднее, дисперсия и стандартное отклонение по разговорам у тарифа ультра выше. Гистограммы показывают нормальное распределение и тоже свидетельствуют о том, что основаня масса пользователей тарифа смарт разговаривают 400 мин. в месяц, а основная масса пользвателей тарифа ультра 600 мин. в месяц. при этом разброс в большую и меньшую сторону у тарфиа ультра больше.\n",
    "\n",
    "- По интернет-трафику среднее по тарифу смарт выше, чем среднее по тарифу ультра. Также значительно разнятся дисперсия и стандартное отклонение. Получается, что пользователи тарифа смарт пользуются интернетом практически одинаково и в чуть большем объеме, а среди пользователей тарифа ультра имеются те, что пользуются значительно меньше среднего и значительно больше среднего.\n",
    "\n",
    "- По сообщениям среднее по обоим тарифам совпадает, но как и с интернет-трафиком, пользователи тарифа ультра имеют большее стандартное отклонение, те имеются такие, которые отправлют больше сообщений.\n",
    "\n",
    "- По итогу видно, что пользователи тарифа ультра совершают больше звонков, чем пользователи тарифа смарт. Пользователи тарифа ультар неравномерно пользуются интернетом(кто-то мало, а кто-то много) и в среднем чуть меньше, чем пользователи тарифа смарт, где интернетом пользуются примерно в одних объемах, по сообщениям поведение клиентов обоих тарифов почти схоже."
   ]
  },
  {
   "cell_type": "markdown",
   "metadata": {},
   "source": [
    "##### Часть 4. Проверка гипотез:"
   ]
  },
  {
   "cell_type": "markdown",
   "metadata": {},
   "source": [
    "###### 10-bullet\n",
    "\n",
    "1. Проверка гипотезы: средняя выручка пользователей тарифов «Ультра» и «Смарт» различается."
   ]
  },
  {
   "cell_type": "code",
   "execution_count": 18,
   "metadata": {},
   "outputs": [
    {
     "data": {
      "text/plain": [
       "'Дисперсия по 1 выборке: 5506364.33'"
      ]
     },
     "metadata": {},
     "output_type": "display_data"
    },
    {
     "data": {
      "text/plain": [
       "'Дисперсия по 2 выборке: 41650422.18'"
      ]
     },
     "metadata": {},
     "output_type": "display_data"
    },
    {
     "data": {
      "text/plain": [
       "'p-value:'"
      ]
     },
     "metadata": {},
     "output_type": "display_data"
    },
    {
     "data": {
      "text/plain": [
       "1.2400438960214695e-37"
      ]
     },
     "metadata": {},
     "output_type": "display_data"
    },
    {
     "data": {
      "text/plain": [
       "'отвергаем нулевую гипотезу'"
      ]
     },
     "metadata": {},
     "output_type": "display_data"
    }
   ],
   "source": [
    "# создадим выборки данных об общей выручке для каждого тарифного плана по ранее разбитым таблицам, сохранив их в переменной\n",
    "sample_1 = smart_tarif_data['total_income']\n",
    "sample_2 = ultra_tarif_data['total_income']\n",
    "\n",
    "# проверим дисперсии выборок и выведем их на экран\n",
    "sample_1_var = np.var(sample_1, ddof=1)\n",
    "sample_2_var = np.var(sample_2, ddof=1)\n",
    "display('Дисперсия по 1 выборке: {:.2f}'.format(sample_1_var))\n",
    "display('Дисперсия по 2 выборке: {:.2f}'.format(sample_2_var))\n",
    "\n",
    "# зададим критический уровень статистической значимости. если p-value окажется меньше него - отвергнем гипотезу\n",
    "alpha = .05\n",
    "        \n",
    "# проверим гипотезу о равенстве средних двух выборок    \n",
    "results = st.ttest_ind(\n",
    "    sample_1, \n",
    "    sample_2,\n",
    "    equal_var=False)\n",
    "\n",
    "# выведем на экран значеие p-value, задав условие, которое отвергает или нет нулевую гипотезу в зависимости от \n",
    "# критического уровеня статистической значимости\n",
    "display('p-value:', results.pvalue)\n",
    "if (results.pvalue < alpha):\n",
    "    display('отвергаем нулевую гипотезу')\n",
    "else:\n",
    "    display('не получилось отвергнуть нулевую гипотезу')"
   ]
  },
  {
   "cell_type": "markdown",
   "metadata": {},
   "source": [
    "#### Вывод\n",
    "\n",
    "- Создадим выборки данных по общей сумме выручки по обоим тарифам(ранее уже общую таблицу разбили на таблицы исходя из тарифа) и сохраним их в переменных. Зададим общеиспользуемый уровень статистической значимости alpha = 0.05.\n",
    "\n",
    "- Сформулируем нулевую гипотезу, что средние выручки обоих тарифов равны. Для этого используем ttest для двух выборок. Альтернативная гипотеза будет о том, что средние выручки обоих тарифов не равны.\n",
    "\n",
    "- Поскольку p-value оказался критически низок(очень близкое к нулю значение), нулевая гипотеза о равенстве двух выборок отвергается.\n",
    "\n",
    "- Приходим к выводу, что средние выручки обоих тарифов значительно разнятся.\n",
    "\n",
    "\n"
   ]
  },
  {
   "cell_type": "markdown",
   "metadata": {},
   "source": [
    "##### Часть 4. Проверка гипотез:"
   ]
  },
  {
   "cell_type": "markdown",
   "metadata": {},
   "source": [
    "###### 11-bullet\n",
    "\n",
    "2. Проверка гипотезы: средняя выручка пользователей из Москвы отличается от выручки пользователей из других регионов."
   ]
  },
  {
   "cell_type": "code",
   "execution_count": 19,
   "metadata": {},
   "outputs": [
    {
     "data": {
      "text/plain": [
       "'Дисперсия по 1 выборке: 36917406.20'"
      ]
     },
     "metadata": {},
     "output_type": "display_data"
    },
    {
     "data": {
      "text/plain": [
       "'Дисперсия по 2 выборке: 33039852.81'"
      ]
     },
     "metadata": {},
     "output_type": "display_data"
    },
    {
     "data": {
      "text/plain": [
       "'p-value:'"
      ]
     },
     "metadata": {},
     "output_type": "display_data"
    },
    {
     "data": {
      "text/plain": [
       "0.7238577047074394"
      ]
     },
     "metadata": {},
     "output_type": "display_data"
    },
    {
     "data": {
      "text/plain": [
       "'не получилось отвергнуть нулевую гипотезу'"
      ]
     },
     "metadata": {},
     "output_type": "display_data"
    }
   ],
   "source": [
    "# разобъем таблицу, создав две отдельные, путем получения срезов данных методом query с условием: название города Москва или не Москва\n",
    "moscow_data = finish_data.query('city == \"Москва\"')\n",
    "not_moscow_data = finish_data.query('city != \"Москва\"')\n",
    "\n",
    "# создадим выборки данных об общей выручке для каждой таблицы, сохранив их в переменной\n",
    "new_sample_1 = moscow_data['total_income']\n",
    "new_sample_2 = not_moscow_data['total_income']\n",
    "\n",
    "# проверим дисперсии выборок и выведем их на экран\n",
    "new_sample_1_var = np.var(new_sample_1, ddof=1)\n",
    "new_sample_2_var = np.var(new_sample_2, ddof=1)\n",
    "display('Дисперсия по 1 выборке: {:.2f}'.format(new_sample_1_var))\n",
    "display('Дисперсия по 2 выборке: {:.2f}'.format(new_sample_2_var))\n",
    "\n",
    "\n",
    "\n",
    "# зададим критический уровень статистической значимости. если p-value окажется меньше него - отвергнем гипотезу\n",
    "alpha = .05\n",
    "        \n",
    "# проверим гипотезу о равенстве средних двух выборок    \n",
    "results = st.ttest_ind(\n",
    "    new_sample_1, \n",
    "    new_sample_2,\n",
    "    equal_var=False)\n",
    "\n",
    "# выведем на экран значеие p-value, задав условие, которое отвергает или нет нулевую гипотезу в зависимости от \n",
    "# критического уровеня статистической значимости\n",
    "display('p-value:', results.pvalue)\n",
    "if (results.pvalue < alpha):\n",
    "    display('отвергаем нулевую гипотезу')\n",
    "else:\n",
    "    display('не получилось отвергнуть нулевую гипотезу')    "
   ]
  },
  {
   "cell_type": "markdown",
   "metadata": {},
   "source": [
    "#### Вывод\n",
    "\n",
    "- Разобъем итоговую таблицу по значению столбца city Москва или не Москва и сохраним их в переменных\n",
    "\n",
    "- Создадим выборки данных по общей сумме выручки по образовавшися таблицам и сохраним их в переменных. Зададим общеиспользуемый уровень статистической значимости alpha = 0.05.\n",
    "\n",
    "- Сформулируем нулевую гипотезу, что средние выручки клиентов из Москвы и клиентов не из Москвы равны. Для этого используем ttest для двух выборок. Альтернативная гипотеза будет о том, что средние выручки выборок не равны.\n",
    "\n",
    "- Поскольку p-value оказался высок(72%), нулевую гипотезу о равенстве двух выборок не удалось отвергнуть.\n",
    "\n",
    "- Приходим к выводу, что средние выручки как по Москве, так и по другим городам практически совпадают."
   ]
  },
  {
   "cell_type": "markdown",
   "metadata": {},
   "source": [
    "##### Часть 5. Общий вывод:"
   ]
  },
  {
   "cell_type": "markdown",
   "metadata": {},
   "source": [
    "###### 12-bullet\n",
    "\n",
    "1. Общий вывод.\n",
    "\n",
    "\n",
    "- Представленные таблицы были не совсем пригодны для работы: пришлось заполнять пропуски(для расчета периода использования тарифом), округять время разговоров и количества использованного трафика в большую сторону в соответствии с условиями тарифных планов.\n",
    "\n",
    "- Затем был произведен помесячный расчет количества разговоров, объема использованного интернет-трафика и количества сообщений для каждого абонента.\n",
    "\n",
    "- Далее произведены расчеты выручки с каждого пользователя: по абонентской плате, по превышениям лимитов разговоров, использованного интернет-трафика и сообщений, а также общая выручка. \n",
    "\n",
    "- Проведено исследование поведения клиентов тарифов. Поведение клиентов разных тарифов различается: показатели звонков, использованного интернет-трафика и отправленных сообщений, у клиентов тарифа смарт находятся в узком диапазоне и практически не выбиваются из тарифа (кроме показателей интернет-трафика). Показатели тарифа ультра напротив, значительно разнятся: несмотря на широкие возможности тарифа, не все пользователи используют его по максимуму. \n",
    "\n",
    "- Клиенты тарифа ультра приносят компании больше выручки. При этом на показатели выручки почти не влияет город проживания абонента. \n",
    "\n",
    "- Рекомендация: скорректировать рекламный бюджет в пользу тарифа \"Ультра\"."
   ]
  }
 ],
 "metadata": {
  "kernelspec": {
   "display_name": "Python 3",
   "language": "python",
   "name": "python3"
  },
  "language_info": {
   "codemirror_mode": {
    "name": "ipython",
    "version": 3
   },
   "file_extension": ".py",
   "mimetype": "text/x-python",
   "name": "python",
   "nbconvert_exporter": "python",
   "pygments_lexer": "ipython3",
   "version": "3.7.8"
  },
  "toc": {
   "base_numbering": 1,
   "nav_menu": {},
   "number_sections": false,
   "sideBar": true,
   "skip_h1_title": false,
   "title_cell": "Table of Contents",
   "title_sidebar": "Contents",
   "toc_cell": false,
   "toc_position": {
    "height": "calc(100% - 180px)",
    "left": "10px",
    "top": "150px",
    "width": "255.594px"
   },
   "toc_section_display": true,
   "toc_window_display": false
  }
 },
 "nbformat": 4,
 "nbformat_minor": 2
}
